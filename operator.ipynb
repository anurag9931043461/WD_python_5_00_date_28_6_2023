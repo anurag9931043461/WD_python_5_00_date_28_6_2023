{
 "cells": [
  {
   "cell_type": "markdown",
   "id": "27af706f-cd7d-420b-8317-e591bf1fcce0",
   "metadata": {},
   "source": [
    "# Operators:\n",
    "\n",
    "> Arithmetic operators\n",
    "\n",
    "> Assignment operators\n",
    "\n",
    "> Comparison operators\n",
    "\n",
    "> Logical operators\n",
    "\n",
    "> Identity operators\n",
    "\n",
    "> Membership operators\n",
    "\n",
    "> Bitwise operators"
   ]
  },
  {
   "cell_type": "code",
   "execution_count": 1,
   "id": "3208087a-736f-40d3-b582-2b03d007f4f6",
   "metadata": {},
   "outputs": [],
   "source": [
    "# Arithmetic operators  +,-,/,*,**,//,%"
   ]
  },
  {
   "cell_type": "code",
   "execution_count": 2,
   "id": "e84645dd-43b2-4cf8-80a2-c1eb7f6159ef",
   "metadata": {},
   "outputs": [],
   "source": [
    "a=10"
   ]
  },
  {
   "cell_type": "code",
   "execution_count": 4,
   "id": "a709900c-78f8-4ceb-93e8-5eb9770bab6c",
   "metadata": {},
   "outputs": [],
   "source": [
    "b=20"
   ]
  },
  {
   "cell_type": "code",
   "execution_count": 5,
   "id": "46dc6cc3-5605-4d0d-a915-a62188d25155",
   "metadata": {},
   "outputs": [
    {
     "name": "stdout",
     "output_type": "stream",
     "text": [
      "30\n"
     ]
    }
   ],
   "source": [
    "print(a+b)"
   ]
  },
  {
   "cell_type": "code",
   "execution_count": 6,
   "id": "8573ef35-5661-4a2c-a60b-cd6ffafca3b7",
   "metadata": {},
   "outputs": [
    {
     "name": "stdout",
     "output_type": "stream",
     "text": [
      "-10\n"
     ]
    }
   ],
   "source": [
    "print(a-b)"
   ]
  },
  {
   "cell_type": "code",
   "execution_count": 7,
   "id": "52baba55-fd2c-4ec3-89bf-bed5f0dfc0f6",
   "metadata": {},
   "outputs": [
    {
     "name": "stdout",
     "output_type": "stream",
     "text": [
      "0.5\n"
     ]
    }
   ],
   "source": [
    "print(a/b)"
   ]
  },
  {
   "cell_type": "code",
   "execution_count": 8,
   "id": "2532f1e6-7521-4309-a40d-3b9793fdaa41",
   "metadata": {},
   "outputs": [
    {
     "name": "stdout",
     "output_type": "stream",
     "text": [
      "2.0\n"
     ]
    }
   ],
   "source": [
    "print(b/a)"
   ]
  },
  {
   "cell_type": "code",
   "execution_count": 9,
   "id": "8925f8e2-47dd-4dfb-afee-9eed91ac8ad0",
   "metadata": {},
   "outputs": [
    {
     "name": "stdout",
     "output_type": "stream",
     "text": [
      "2\n"
     ]
    }
   ],
   "source": [
    "print(b//a)"
   ]
  },
  {
   "cell_type": "code",
   "execution_count": 15,
   "id": "a7cf83b9-3a8f-401c-bfda-7d626940b1b7",
   "metadata": {},
   "outputs": [
    {
     "name": "stdout",
     "output_type": "stream",
     "text": [
      "0\n",
      "hello\n"
     ]
    }
   ],
   "source": [
    "print(20%10)\n",
    "print(\"hello\")"
   ]
  },
  {
   "cell_type": "code",
   "execution_count": 13,
   "id": "0e99cca2-4d3a-4f95-939e-d763994e8db1",
   "metadata": {},
   "outputs": [
    {
     "name": "stdout",
     "output_type": "stream",
     "text": [
      "1\n"
     ]
    }
   ],
   "source": [
    "print(10%3)"
   ]
  },
  {
   "cell_type": "code",
   "execution_count": 16,
   "id": "a8497b07-7219-4b37-a131-82b1b7c3001c",
   "metadata": {},
   "outputs": [
    {
     "data": {
      "text/plain": [
       "10000000000"
      ]
     },
     "execution_count": 16,
     "metadata": {},
     "output_type": "execute_result"
    }
   ],
   "source": [
    "10**10"
   ]
  },
  {
   "cell_type": "code",
   "execution_count": 17,
   "id": "dda7c494-1480-45a1-b5f9-3c18b7a3218a",
   "metadata": {},
   "outputs": [
    {
     "data": {
      "text/plain": [
       "1000"
      ]
     },
     "execution_count": 17,
     "metadata": {},
     "output_type": "execute_result"
    }
   ],
   "source": [
    "(10*10)**2"
   ]
  },
  {
   "cell_type": "markdown",
   "id": "dd1104ef-c86a-4342-87cb-5969ce80c07c",
   "metadata": {},
   "source": [
    "# Assignment operators"
   ]
  },
  {
   "cell_type": "code",
   "execution_count": 19,
   "id": "a974f6c6-a6b2-4201-b2e9-4fef96e8dede",
   "metadata": {},
   "outputs": [],
   "source": [
    "a=10"
   ]
  },
  {
   "cell_type": "code",
   "execution_count": 20,
   "id": "7023da4a-1130-48d6-9ffd-e0914ea5fa57",
   "metadata": {},
   "outputs": [
    {
     "name": "stdout",
     "output_type": "stream",
     "text": [
      "10\n"
     ]
    }
   ],
   "source": [
    "print(a)"
   ]
  },
  {
   "cell_type": "code",
   "execution_count": 21,
   "id": "c16c4171-53fa-4e34-bc7c-bfc9d93607e5",
   "metadata": {},
   "outputs": [],
   "source": [
    "# -=,+=,/=,//=,*=,**=,%="
   ]
  },
  {
   "cell_type": "code",
   "execution_count": 22,
   "id": "0ebf7baa-ffcf-4b33-a36e-62dda7a60d1d",
   "metadata": {},
   "outputs": [
    {
     "name": "stdout",
     "output_type": "stream",
     "text": [
      "10\n"
     ]
    }
   ],
   "source": [
    "print(a)"
   ]
  },
  {
   "cell_type": "code",
   "execution_count": 25,
   "id": "09ebd1be-9269-4cd6-b245-c3237bd69f02",
   "metadata": {},
   "outputs": [],
   "source": [
    "a=a+1"
   ]
  },
  {
   "cell_type": "code",
   "execution_count": 26,
   "id": "2d9f900b-f40c-4b07-b3b0-b83be2c0a1d6",
   "metadata": {},
   "outputs": [
    {
     "name": "stdout",
     "output_type": "stream",
     "text": [
      "11\n"
     ]
    }
   ],
   "source": [
    "print(a)"
   ]
  },
  {
   "cell_type": "code",
   "execution_count": 27,
   "id": "16e58744-4ddc-4976-8ed5-6896636dc4eb",
   "metadata": {},
   "outputs": [],
   "source": [
    "a+=1     #a=a+1"
   ]
  },
  {
   "cell_type": "code",
   "execution_count": 28,
   "id": "0011158c-683e-4709-b6b5-c41fd7f67595",
   "metadata": {},
   "outputs": [
    {
     "name": "stdout",
     "output_type": "stream",
     "text": [
      "12\n"
     ]
    }
   ],
   "source": [
    "print(a)"
   ]
  },
  {
   "cell_type": "code",
   "execution_count": 29,
   "id": "0b8f13db-4376-4387-899d-fdce0bbd5322",
   "metadata": {},
   "outputs": [],
   "source": [
    "a-=2      #a=a-2"
   ]
  },
  {
   "cell_type": "code",
   "execution_count": 30,
   "id": "171985b0-23a1-4304-8a85-ecc370dedbbd",
   "metadata": {},
   "outputs": [
    {
     "name": "stdout",
     "output_type": "stream",
     "text": [
      "10\n"
     ]
    }
   ],
   "source": [
    "print(a)"
   ]
  },
  {
   "cell_type": "code",
   "execution_count": 31,
   "id": "a781078c-a394-4f80-bf79-5abf4dc2e2fe",
   "metadata": {},
   "outputs": [],
   "source": [
    "a**=2     #a=a**2"
   ]
  },
  {
   "cell_type": "code",
   "execution_count": 33,
   "id": "6007797b-e1ff-454c-9590-3c3faace664f",
   "metadata": {},
   "outputs": [
    {
     "name": "stdout",
     "output_type": "stream",
     "text": [
      "100\n"
     ]
    }
   ],
   "source": [
    "print(a)"
   ]
  },
  {
   "cell_type": "code",
   "execution_count": 34,
   "id": "b5bfc509-6897-4104-9858-8a398355e276",
   "metadata": {},
   "outputs": [],
   "source": [
    "a/=10     #a=a/10"
   ]
  },
  {
   "cell_type": "code",
   "execution_count": 35,
   "id": "ee93986b-6183-4ca5-8a36-3c2fbf6349e8",
   "metadata": {},
   "outputs": [
    {
     "name": "stdout",
     "output_type": "stream",
     "text": [
      "10.0\n"
     ]
    }
   ],
   "source": [
    "print(a)"
   ]
  },
  {
   "cell_type": "code",
   "execution_count": 36,
   "id": "5ffbfd56-f506-4817-85ca-53470ef0a5cc",
   "metadata": {},
   "outputs": [],
   "source": [
    "a//=3     #a=a//3"
   ]
  },
  {
   "cell_type": "code",
   "execution_count": 37,
   "id": "3b967a47-5468-431a-9aa8-472da9d56ad5",
   "metadata": {},
   "outputs": [
    {
     "name": "stdout",
     "output_type": "stream",
     "text": [
      "3.0\n"
     ]
    }
   ],
   "source": [
    "print(a)"
   ]
  },
  {
   "cell_type": "code",
   "execution_count": 38,
   "id": "847432d8-fdce-4f64-858b-622111ea44f9",
   "metadata": {},
   "outputs": [
    {
     "data": {
      "text/plain": [
       "3"
      ]
     },
     "execution_count": 38,
     "metadata": {},
     "output_type": "execute_result"
    }
   ],
   "source": [
    "10//3"
   ]
  },
  {
   "cell_type": "code",
   "execution_count": 39,
   "id": "e3f34980-620f-435b-981c-b4837b079ccf",
   "metadata": {},
   "outputs": [],
   "source": [
    "a=int(a)"
   ]
  },
  {
   "cell_type": "code",
   "execution_count": 40,
   "id": "147a2320-1ff2-4bbe-9375-9ea0cfcb3b3e",
   "metadata": {},
   "outputs": [
    {
     "name": "stdout",
     "output_type": "stream",
     "text": [
      "3\n"
     ]
    }
   ],
   "source": [
    "print(a)"
   ]
  },
  {
   "cell_type": "code",
   "execution_count": 41,
   "id": "71d067f1-f097-4c2b-87cc-3fcb6f6b1c94",
   "metadata": {},
   "outputs": [],
   "source": [
    "a%=2    #a=a%2"
   ]
  },
  {
   "cell_type": "code",
   "execution_count": 42,
   "id": "2e71838e-fcf7-46fa-b6c1-6ffe838f41a6",
   "metadata": {},
   "outputs": [
    {
     "name": "stdout",
     "output_type": "stream",
     "text": [
      "1\n"
     ]
    }
   ],
   "source": [
    "print(a)"
   ]
  },
  {
   "cell_type": "code",
   "execution_count": 43,
   "id": "46a0972e-d262-4e28-a4da-00cdc43f3507",
   "metadata": {},
   "outputs": [],
   "source": [
    "# Comparison operators\n",
    "# >,<,==,>=,<=,!="
   ]
  },
  {
   "cell_type": "code",
   "execution_count": 44,
   "id": "e2faa8c3-33af-4f49-a18a-1eb7e4722203",
   "metadata": {},
   "outputs": [],
   "source": [
    "a=10"
   ]
  },
  {
   "cell_type": "code",
   "execution_count": 45,
   "id": "ddf5680d-f92a-49f2-913c-4ab3fd95d1bb",
   "metadata": {},
   "outputs": [],
   "source": [
    "b=10"
   ]
  },
  {
   "cell_type": "code",
   "execution_count": 46,
   "id": "612832dc-ede4-422d-b213-26247e10a064",
   "metadata": {},
   "outputs": [
    {
     "data": {
      "text/plain": [
       "True"
      ]
     },
     "execution_count": 46,
     "metadata": {},
     "output_type": "execute_result"
    }
   ],
   "source": [
    "a==b"
   ]
  },
  {
   "cell_type": "code",
   "execution_count": 47,
   "id": "3caf4ca8-c041-4201-baea-044a8982703d",
   "metadata": {},
   "outputs": [],
   "source": [
    "c=20"
   ]
  },
  {
   "cell_type": "code",
   "execution_count": 48,
   "id": "e4c4fe4a-c0e7-4ed6-b2f8-f91904ffe0fd",
   "metadata": {},
   "outputs": [
    {
     "data": {
      "text/plain": [
       "False"
      ]
     },
     "execution_count": 48,
     "metadata": {},
     "output_type": "execute_result"
    }
   ],
   "source": [
    "a==c"
   ]
  },
  {
   "cell_type": "code",
   "execution_count": 49,
   "id": "29cbebe7-26af-414e-bdfa-c1d32289956f",
   "metadata": {},
   "outputs": [
    {
     "data": {
      "text/plain": [
       "True"
      ]
     },
     "execution_count": 49,
     "metadata": {},
     "output_type": "execute_result"
    }
   ],
   "source": [
    "a!=c"
   ]
  },
  {
   "cell_type": "code",
   "execution_count": 50,
   "id": "d60e8ccf-d042-4ee0-a573-211ed0239692",
   "metadata": {},
   "outputs": [
    {
     "data": {
      "text/plain": [
       "True"
      ]
     },
     "execution_count": 50,
     "metadata": {},
     "output_type": "execute_result"
    }
   ],
   "source": [
    "a<c"
   ]
  },
  {
   "cell_type": "code",
   "execution_count": 51,
   "id": "cb3f49f5-4829-4575-a943-073335faf4cf",
   "metadata": {},
   "outputs": [
    {
     "data": {
      "text/plain": [
       "False"
      ]
     },
     "execution_count": 51,
     "metadata": {},
     "output_type": "execute_result"
    }
   ],
   "source": [
    "a>c"
   ]
  },
  {
   "cell_type": "code",
   "execution_count": 52,
   "id": "6a5b295f-2fdd-4508-a6c8-f3bd255b775f",
   "metadata": {},
   "outputs": [],
   "source": [
    "a=10"
   ]
  },
  {
   "cell_type": "code",
   "execution_count": 53,
   "id": "5af0891f-d9b0-46e3-b60c-6e214e1adbec",
   "metadata": {},
   "outputs": [],
   "source": [
    "b=10"
   ]
  },
  {
   "cell_type": "code",
   "execution_count": 54,
   "id": "1e31d454-8c9c-4f8e-890e-4cb7c83fc6e3",
   "metadata": {},
   "outputs": [
    {
     "data": {
      "text/plain": [
       "True"
      ]
     },
     "execution_count": 54,
     "metadata": {},
     "output_type": "execute_result"
    }
   ],
   "source": [
    "a==b"
   ]
  },
  {
   "cell_type": "code",
   "execution_count": 55,
   "id": "e7bcbe2a-0277-492a-9d9d-229ee5c06cab",
   "metadata": {},
   "outputs": [
    {
     "data": {
      "text/plain": [
       "True"
      ]
     },
     "execution_count": 55,
     "metadata": {},
     "output_type": "execute_result"
    }
   ],
   "source": [
    "a>=b"
   ]
  },
  {
   "cell_type": "code",
   "execution_count": 56,
   "id": "e873e958-828c-4fc7-8513-4ef6511d019f",
   "metadata": {},
   "outputs": [
    {
     "data": {
      "text/plain": [
       "True"
      ]
     },
     "execution_count": 56,
     "metadata": {},
     "output_type": "execute_result"
    }
   ],
   "source": [
    "a<=b"
   ]
  },
  {
   "cell_type": "markdown",
   "id": "92bfda14-bd02-4cd5-ba25-d1530748590f",
   "metadata": {},
   "source": [
    "# Logical operators\n",
    "\n",
    "and or not"
   ]
  },
  {
   "cell_type": "code",
   "execution_count": 58,
   "id": "b9443126-b1ea-4e71-925c-b7d2610350d8",
   "metadata": {},
   "outputs": [
    {
     "data": {
      "text/plain": [
       "True"
      ]
     },
     "execution_count": 58,
     "metadata": {},
     "output_type": "execute_result"
    }
   ],
   "source": [
    "10==10 and 20==20 and 2==2"
   ]
  },
  {
   "cell_type": "code",
   "execution_count": 59,
   "id": "3f5a922e-5b98-4f07-aaa7-e2c67ab31ed3",
   "metadata": {},
   "outputs": [
    {
     "data": {
      "text/plain": [
       "False"
      ]
     },
     "execution_count": 59,
     "metadata": {},
     "output_type": "execute_result"
    }
   ],
   "source": [
    "10==10 and 20==20 and 2!=2"
   ]
  },
  {
   "cell_type": "code",
   "execution_count": 62,
   "id": "6813edf7-e4d6-439d-a172-df296e8cb1f5",
   "metadata": {},
   "outputs": [
    {
     "data": {
      "text/plain": [
       "False"
      ]
     },
     "execution_count": 62,
     "metadata": {},
     "output_type": "execute_result"
    }
   ],
   "source": [
    "10!=10 or 20!=20 or 2!=2"
   ]
  },
  {
   "cell_type": "code",
   "execution_count": 63,
   "id": "5344cbce-b6dd-4c68-8feb-9a6bfdb9085d",
   "metadata": {},
   "outputs": [
    {
     "data": {
      "text/plain": [
       "True"
      ]
     },
     "execution_count": 63,
     "metadata": {},
     "output_type": "execute_result"
    }
   ],
   "source": [
    "10==10 and 20==20 or 20!=20"
   ]
  },
  {
   "cell_type": "code",
   "execution_count": 64,
   "id": "edac2713-c3a3-4712-adfe-17638161d71e",
   "metadata": {},
   "outputs": [
    {
     "data": {
      "text/plain": [
       "False"
      ]
     },
     "execution_count": 64,
     "metadata": {},
     "output_type": "execute_result"
    }
   ],
   "source": [
    "not(10==10 and 20==20 or 20!=20)"
   ]
  },
  {
   "cell_type": "code",
   "execution_count": 66,
   "id": "7bf4150b-73f6-4d39-9f56-1acb328984a4",
   "metadata": {},
   "outputs": [
    {
     "data": {
      "text/plain": [
       "False"
      ]
     },
     "execution_count": 66,
     "metadata": {},
     "output_type": "execute_result"
    }
   ],
   "source": [
    "not 10==10"
   ]
  },
  {
   "cell_type": "code",
   "execution_count": 67,
   "id": "0887fabf-deba-4081-840b-cdb8dd4de933",
   "metadata": {},
   "outputs": [
    {
     "data": {
      "text/plain": [
       "False"
      ]
     },
     "execution_count": 67,
     "metadata": {},
     "output_type": "execute_result"
    }
   ],
   "source": [
    "10==10 and 20==20 and 20!=20"
   ]
  },
  {
   "cell_type": "code",
   "execution_count": 68,
   "id": "11fd3848-cd82-4180-926c-41b1fb629808",
   "metadata": {},
   "outputs": [
    {
     "data": {
      "text/plain": [
       "True"
      ]
     },
     "execution_count": 68,
     "metadata": {},
     "output_type": "execute_result"
    }
   ],
   "source": [
    "10==10 and 20==20 and not 20!=20"
   ]
  },
  {
   "cell_type": "markdown",
   "id": "d60a6663-dff6-49f5-b676-33935a8e5db0",
   "metadata": {},
   "source": [
    "# Identity operators\n",
    "\n",
    "is, is not"
   ]
  },
  {
   "cell_type": "code",
   "execution_count": 1,
   "id": "e4f78ef8-e0a6-4afc-a82a-8bcf5866c645",
   "metadata": {},
   "outputs": [
    {
     "name": "stderr",
     "output_type": "stream",
     "text": [
      "<>:1: SyntaxWarning: \"is\" with a literal. Did you mean \"==\"?\n",
      "<>:1: SyntaxWarning: \"is\" with a literal. Did you mean \"==\"?\n",
      "C:\\Users\\Ducat\\AppData\\Local\\Temp\\ipykernel_12360\\3585426024.py:1: SyntaxWarning: \"is\" with a literal. Did you mean \"==\"?\n",
      "  \"python\" is \"python\"\n"
     ]
    },
    {
     "data": {
      "text/plain": [
       "True"
      ]
     },
     "execution_count": 1,
     "metadata": {},
     "output_type": "execute_result"
    }
   ],
   "source": [
    "\"python\" is \"python\""
   ]
  },
  {
   "cell_type": "code",
   "execution_count": 2,
   "id": "ce658431-4d30-4735-b744-32bdcffb35f4",
   "metadata": {},
   "outputs": [
    {
     "data": {
      "text/plain": [
       "True"
      ]
     },
     "execution_count": 2,
     "metadata": {},
     "output_type": "execute_result"
    }
   ],
   "source": [
    "\"python\"==\"python\""
   ]
  },
  {
   "cell_type": "code",
   "execution_count": 3,
   "id": "e8f674a0-41b7-427a-a521-d66ed8865ff5",
   "metadata": {},
   "outputs": [
    {
     "name": "stderr",
     "output_type": "stream",
     "text": [
      "<>:1: SyntaxWarning: \"is\" with a literal. Did you mean \"==\"?\n",
      "<>:1: SyntaxWarning: \"is\" with a literal. Did you mean \"==\"?\n",
      "C:\\Users\\Ducat\\AppData\\Local\\Temp\\ipykernel_12360\\3938569512.py:1: SyntaxWarning: \"is\" with a literal. Did you mean \"==\"?\n",
      "  10 is 10\n"
     ]
    },
    {
     "data": {
      "text/plain": [
       "True"
      ]
     },
     "execution_count": 3,
     "metadata": {},
     "output_type": "execute_result"
    }
   ],
   "source": [
    "10 is 10"
   ]
  },
  {
   "cell_type": "code",
   "execution_count": 4,
   "id": "93971e6c-b283-4d23-9439-151451051aa4",
   "metadata": {},
   "outputs": [
    {
     "name": "stderr",
     "output_type": "stream",
     "text": [
      "<>:1: SyntaxWarning: \"is not\" with a literal. Did you mean \"!=\"?\n",
      "<>:1: SyntaxWarning: \"is not\" with a literal. Did you mean \"!=\"?\n",
      "C:\\Users\\Ducat\\AppData\\Local\\Temp\\ipykernel_12360\\1568040755.py:1: SyntaxWarning: \"is not\" with a literal. Did you mean \"!=\"?\n",
      "  10 is not 11\n"
     ]
    },
    {
     "data": {
      "text/plain": [
       "True"
      ]
     },
     "execution_count": 4,
     "metadata": {},
     "output_type": "execute_result"
    }
   ],
   "source": [
    "10 is not 11"
   ]
  },
  {
   "cell_type": "code",
   "execution_count": 5,
   "id": "5979b26d-95b0-4bb0-8a55-352baaffe172",
   "metadata": {},
   "outputs": [
    {
     "data": {
      "text/plain": [
       "False"
      ]
     },
     "execution_count": 5,
     "metadata": {},
     "output_type": "execute_result"
    }
   ],
   "source": [
    "10 !=10"
   ]
  },
  {
   "cell_type": "markdown",
   "id": "2c739a8e-30f7-4f63-ba1d-5e928135cc5c",
   "metadata": {},
   "source": [
    "# Membership operators\n",
    "\n",
    "in , not in "
   ]
  },
  {
   "cell_type": "code",
   "execution_count": 8,
   "id": "1a71bde1-781e-4f89-8252-914b888076b1",
   "metadata": {},
   "outputs": [
    {
     "data": {
      "text/plain": [
       "False"
      ]
     },
     "execution_count": 8,
     "metadata": {},
     "output_type": "execute_result"
    }
   ],
   "source": [
    "\"Python\" in \"python is funny language\""
   ]
  },
  {
   "cell_type": "code",
   "execution_count": 9,
   "id": "d1992c5d-be2c-40a7-b4a4-e809125fd52b",
   "metadata": {},
   "outputs": [
    {
     "data": {
      "text/plain": [
       "True"
      ]
     },
     "execution_count": 9,
     "metadata": {},
     "output_type": "execute_result"
    }
   ],
   "source": [
    "1 in [1,2,3,4,5,6]"
   ]
  },
  {
   "cell_type": "code",
   "execution_count": 10,
   "id": "19d0b73c-5be7-4546-9fc7-d48cc3537713",
   "metadata": {},
   "outputs": [
    {
     "data": {
      "text/plain": [
       "False"
      ]
     },
     "execution_count": 10,
     "metadata": {},
     "output_type": "execute_result"
    }
   ],
   "source": [
    "1 in [\"1\",2,3,4,5,6]"
   ]
  },
  {
   "cell_type": "code",
   "execution_count": 11,
   "id": "3f660068-07d8-4805-bfea-2f81c4fad4a6",
   "metadata": {},
   "outputs": [
    {
     "data": {
      "text/plain": [
       "True"
      ]
     },
     "execution_count": 11,
     "metadata": {},
     "output_type": "execute_result"
    }
   ],
   "source": [
    "\"krishna\" in (\"krishna\",\"Mohan\",\"sohan\")"
   ]
  },
  {
   "cell_type": "code",
   "execution_count": 12,
   "id": "53940926-ba9e-404b-a9df-f000288c60bc",
   "metadata": {},
   "outputs": [
    {
     "data": {
      "text/plain": [
       "False"
      ]
     },
     "execution_count": 12,
     "metadata": {},
     "output_type": "execute_result"
    }
   ],
   "source": [
    "\"Krishna\" in (\"krishna\",\"Mohan\",\"sohan\")"
   ]
  },
  {
   "cell_type": "code",
   "execution_count": 13,
   "id": "3aab0a61-176d-4db5-b2b5-91d4e7e5c686",
   "metadata": {},
   "outputs": [
    {
     "data": {
      "text/plain": [
       "True"
      ]
     },
     "execution_count": 13,
     "metadata": {},
     "output_type": "execute_result"
    }
   ],
   "source": [
    "\"Krishna\" not in (\"krishna\",\"Mohan\",\"sohan\")"
   ]
  },
  {
   "cell_type": "markdown",
   "id": "8029bf28-05bf-409f-be0b-0525392cfb81",
   "metadata": {},
   "source": [
    "# Bitwise operators\n",
    "\n",
    "~,&,|,>>,<<"
   ]
  },
  {
   "cell_type": "code",
   "execution_count": 15,
   "id": "e34334d7-68c1-4e7c-8db1-8ddee159d8fd",
   "metadata": {},
   "outputs": [
    {
     "data": {
      "text/plain": [
       "'0b1010'"
      ]
     },
     "execution_count": 15,
     "metadata": {},
     "output_type": "execute_result"
    }
   ],
   "source": [
    "bin(10)"
   ]
  },
  {
   "cell_type": "code",
   "execution_count": 16,
   "id": "dbb55ee2-634b-4776-b259-2ccaa4228a61",
   "metadata": {},
   "outputs": [
    {
     "data": {
      "text/plain": [
       "'0b1011'"
      ]
     },
     "execution_count": 16,
     "metadata": {},
     "output_type": "execute_result"
    }
   ],
   "source": [
    "bin(11)"
   ]
  },
  {
   "cell_type": "code",
   "execution_count": 17,
   "id": "3a0271a9-3bf5-45ac-af00-fe70dfd9c49f",
   "metadata": {},
   "outputs": [
    {
     "data": {
      "text/plain": [
       "-13"
      ]
     },
     "execution_count": 17,
     "metadata": {},
     "output_type": "execute_result"
    }
   ],
   "source": [
    "~12"
   ]
  },
  {
   "cell_type": "code",
   "execution_count": 18,
   "id": "bc4053e0-13f6-4949-8474-c56ee0e5dd59",
   "metadata": {},
   "outputs": [
    {
     "data": {
      "text/plain": [
       "'0b1100'"
      ]
     },
     "execution_count": 18,
     "metadata": {},
     "output_type": "execute_result"
    }
   ],
   "source": [
    "bin(12)"
   ]
  },
  {
   "cell_type": "code",
   "execution_count": 19,
   "id": "d301fd60-e6ff-4437-a984-9d35dc4a200c",
   "metadata": {},
   "outputs": [
    {
     "data": {
      "text/plain": [
       "10"
      ]
     },
     "execution_count": 19,
     "metadata": {},
     "output_type": "execute_result"
    }
   ],
   "source": [
    "10&11"
   ]
  },
  {
   "cell_type": "code",
   "execution_count": 20,
   "id": "0471c9a9-6c8d-4c48-a13e-92b2c9c85b0e",
   "metadata": {},
   "outputs": [
    {
     "data": {
      "text/plain": [
       "11"
      ]
     },
     "execution_count": 20,
     "metadata": {},
     "output_type": "execute_result"
    }
   ],
   "source": [
    "10|11"
   ]
  },
  {
   "cell_type": "code",
   "execution_count": 21,
   "id": "73076b11-a803-4c6e-95b7-9fa549830aa1",
   "metadata": {},
   "outputs": [
    {
     "data": {
      "text/plain": [
       "2"
      ]
     },
     "execution_count": 21,
     "metadata": {},
     "output_type": "execute_result"
    }
   ],
   "source": [
    "10>>2"
   ]
  },
  {
   "cell_type": "code",
   "execution_count": 22,
   "id": "9c156c30-9d89-42ff-ad90-a5bbd3c3463e",
   "metadata": {},
   "outputs": [
    {
     "data": {
      "text/plain": [
       "'0b1010'"
      ]
     },
     "execution_count": 22,
     "metadata": {},
     "output_type": "execute_result"
    }
   ],
   "source": [
    "bin(10)"
   ]
  },
  {
   "cell_type": "code",
   "execution_count": 23,
   "id": "06230d60-9c24-480f-a9c6-5a599952f15f",
   "metadata": {},
   "outputs": [
    {
     "data": {
      "text/plain": [
       "40"
      ]
     },
     "execution_count": 23,
     "metadata": {},
     "output_type": "execute_result"
    }
   ],
   "source": [
    "10<<2"
   ]
  },
  {
   "cell_type": "code",
   "execution_count": null,
   "id": "a1b3b91e-e598-444e-a99f-af8443f24e6d",
   "metadata": {},
   "outputs": [],
   "source": []
  }
 ],
 "metadata": {
  "kernelspec": {
   "display_name": "Python 3 (ipykernel)",
   "language": "python",
   "name": "python3"
  },
  "language_info": {
   "codemirror_mode": {
    "name": "ipython",
    "version": 3
   },
   "file_extension": ".py",
   "mimetype": "text/x-python",
   "name": "python",
   "nbconvert_exporter": "python",
   "pygments_lexer": "ipython3",
   "version": "3.11.4"
  }
 },
 "nbformat": 4,
 "nbformat_minor": 5
}
