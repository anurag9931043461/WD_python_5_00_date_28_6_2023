{
 "cells": [
  {
   "cell_type": "code",
   "execution_count": null,
   "metadata": {},
   "outputs": [],
   "source": []
  },
  {
   "cell_type": "markdown",
   "metadata": {},
   "source": [
    "# encapsulation: \n",
    "\n",
    "> data hiding(Private)"
   ]
  },
  {
   "cell_type": "code",
   "execution_count": 21,
   "metadata": {},
   "outputs": [],
   "source": [
    "class ATM:\n",
    "    def __init__(self):     #constructor \n",
    "        self.__pin=1111       #instance variable\n",
    "        self.__balance=1000   #instance variable\n",
    "\n",
    "    def withdrawal(self):\n",
    "        print(\"Welcome to withdrawal section\")\n",
    "    \n",
    "    def change_pin(self):\n",
    "        self.__pin=input(\"Kindly enter your new pin:\")\n",
    "        print(\"Pin change successfully\")\n",
    "    \n",
    "    def show_pin(self):\n",
    "        print(\"your pin is {}\".format(self.__pin))"
   ]
  },
  {
   "cell_type": "code",
   "execution_count": 10,
   "metadata": {},
   "outputs": [],
   "source": [
    "krishna=ATM()"
   ]
  },
  {
   "cell_type": "code",
   "execution_count": 11,
   "metadata": {},
   "outputs": [
    {
     "ename": "AttributeError",
     "evalue": "'ATM' object has no attribute '__pin'",
     "output_type": "error",
     "traceback": [
      "\u001b[1;31m---------------------------------------------------------------------------\u001b[0m",
      "\u001b[1;31mAttributeError\u001b[0m                            Traceback (most recent call last)",
      "Cell \u001b[1;32mIn[11], line 1\u001b[0m\n\u001b[1;32m----> 1\u001b[0m krishna\u001b[39m.\u001b[39;49m__pin\n",
      "\u001b[1;31mAttributeError\u001b[0m: 'ATM' object has no attribute '__pin'"
     ]
    }
   ],
   "source": [
    "krishna.__pin"
   ]
  },
  {
   "cell_type": "code",
   "execution_count": 12,
   "metadata": {},
   "outputs": [
    {
     "name": "stdout",
     "output_type": "stream",
     "text": [
      "your pin is 1111\n"
     ]
    }
   ],
   "source": [
    "krishna.show_pin()"
   ]
  },
  {
   "cell_type": "code",
   "execution_count": 13,
   "metadata": {},
   "outputs": [
    {
     "ename": "AttributeError",
     "evalue": "'ATM' object has no attribute '__pin'",
     "output_type": "error",
     "traceback": [
      "\u001b[1;31m---------------------------------------------------------------------------\u001b[0m",
      "\u001b[1;31mAttributeError\u001b[0m                            Traceback (most recent call last)",
      "Cell \u001b[1;32mIn[13], line 1\u001b[0m\n\u001b[1;32m----> 1\u001b[0m krishna\u001b[39m.\u001b[39;49m__pin\n",
      "\u001b[1;31mAttributeError\u001b[0m: 'ATM' object has no attribute '__pin'"
     ]
    }
   ],
   "source": [
    "krishna.__pin"
   ]
  },
  {
   "cell_type": "code",
   "execution_count": 14,
   "metadata": {},
   "outputs": [],
   "source": [
    "krishna.__pin=1000"
   ]
  },
  {
   "cell_type": "code",
   "execution_count": 15,
   "metadata": {},
   "outputs": [
    {
     "data": {
      "text/plain": [
       "1000"
      ]
     },
     "execution_count": 15,
     "metadata": {},
     "output_type": "execute_result"
    }
   ],
   "source": [
    "krishna.__pin"
   ]
  },
  {
   "cell_type": "code",
   "execution_count": 16,
   "metadata": {},
   "outputs": [
    {
     "name": "stdout",
     "output_type": "stream",
     "text": [
      "your pin is 1111\n"
     ]
    }
   ],
   "source": [
    "krishna.show_pin()"
   ]
  },
  {
   "cell_type": "code",
   "execution_count": 17,
   "metadata": {},
   "outputs": [
    {
     "data": {
      "text/plain": [
       "1000"
      ]
     },
     "execution_count": 17,
     "metadata": {},
     "output_type": "execute_result"
    }
   ],
   "source": [
    "krishna.__pin"
   ]
  },
  {
   "cell_type": "code",
   "execution_count": 18,
   "metadata": {},
   "outputs": [
    {
     "data": {
      "text/plain": [
       "1111"
      ]
     },
     "execution_count": 18,
     "metadata": {},
     "output_type": "execute_result"
    }
   ],
   "source": [
    "krishna._ATM__pin"
   ]
  },
  {
   "cell_type": "code",
   "execution_count": 19,
   "metadata": {},
   "outputs": [],
   "source": [
    "krishna._ATM__pin=1000"
   ]
  },
  {
   "cell_type": "code",
   "execution_count": 20,
   "metadata": {},
   "outputs": [
    {
     "name": "stdout",
     "output_type": "stream",
     "text": [
      "your pin is 1000\n"
     ]
    }
   ],
   "source": [
    "krishna.show_pin()"
   ]
  },
  {
   "cell_type": "code",
   "execution_count": 22,
   "metadata": {},
   "outputs": [],
   "source": [
    "class ATM:\n",
    "    def __init__(self):     #constructor \n",
    "        self.__pin=1111       #instance variable\n",
    "        self.__balance=1000   #instance variable\n",
    "\n",
    "    def withdrawal(self):\n",
    "        print(\"Welcome to withdrawal section\")\n",
    "    \n",
    "    def change_pin(self):\n",
    "        self.__pin=input(\"Kindly enter your new pin:\")\n",
    "        print(\"Pin change successfully\")\n",
    "    \n",
    "    def __show_pin(self):\n",
    "        print(\"your pin is {}\".format(self.__pin))"
   ]
  },
  {
   "cell_type": "code",
   "execution_count": 23,
   "metadata": {},
   "outputs": [],
   "source": [
    "krishna=ATM()"
   ]
  },
  {
   "cell_type": "code",
   "execution_count": 24,
   "metadata": {},
   "outputs": [
    {
     "ename": "AttributeError",
     "evalue": "'ATM' object has no attribute '__show_pin'",
     "output_type": "error",
     "traceback": [
      "\u001b[1;31m---------------------------------------------------------------------------\u001b[0m",
      "\u001b[1;31mAttributeError\u001b[0m                            Traceback (most recent call last)",
      "Cell \u001b[1;32mIn[24], line 1\u001b[0m\n\u001b[1;32m----> 1\u001b[0m krishna\u001b[39m.\u001b[39;49m__show_pin()\n",
      "\u001b[1;31mAttributeError\u001b[0m: 'ATM' object has no attribute '__show_pin'"
     ]
    }
   ],
   "source": [
    "krishna.__show_pin()"
   ]
  },
  {
   "cell_type": "code",
   "execution_count": 25,
   "metadata": {},
   "outputs": [
    {
     "name": "stdout",
     "output_type": "stream",
     "text": [
      "your pin is 1111\n"
     ]
    }
   ],
   "source": [
    "krishna._ATM__show_pin()"
   ]
  },
  {
   "cell_type": "code",
   "execution_count": null,
   "metadata": {},
   "outputs": [],
   "source": []
  }
 ],
 "metadata": {
  "kernelspec": {
   "display_name": "Python 3",
   "language": "python",
   "name": "python3"
  },
  "language_info": {
   "codemirror_mode": {
    "name": "ipython",
    "version": 3
   },
   "file_extension": ".py",
   "mimetype": "text/x-python",
   "name": "python",
   "nbconvert_exporter": "python",
   "pygments_lexer": "ipython3",
   "version": "3.11.5"
  },
  "orig_nbformat": 4
 },
 "nbformat": 4,
 "nbformat_minor": 2
}
