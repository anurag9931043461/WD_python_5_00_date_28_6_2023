{
 "cells": [
  {
   "cell_type": "markdown",
   "id": "d84e52b0-11e2-476f-9cb6-ef2d0199e438",
   "metadata": {},
   "source": [
    "# Abstraction class is called blueprint of a project."
   ]
  },
  {
   "cell_type": "raw",
   "id": "4fa5634d-c373-4725-8afc-756ed1a26827",
   "metadata": {},
   "source": [
    "Two type of class:\n",
    "\n",
    "Concrete class:\n",
    "    > A class whose object creation or instanciation is possible.\n",
    "\n",
    "Abstract class:\n",
    "    > A class whose object creation or instanciation is not possible.\n",
    "\n",
    "How to create a abstract class:\n",
    "\n",
    "Rule1: from module abc import ABC class and @abstractmethod decorator \n",
    "\n",
    "Rule2: inherite ABC as parent class inside a child class, for example: class Xyz(ABC)\n",
    "\n",
    "Rule3: At least one method must be abstract method."
   ]
  },
  {
   "cell_type": "code",
   "execution_count": 6,
   "id": "360849ed-4819-4b31-a465-21855d43f07e",
   "metadata": {},
   "outputs": [],
   "source": [
    "from abc import ABC,abstractmethod\n",
    "class Xyz(ABC):\n",
    "    @abstractmethod\n",
    "    def register(self):    #krishna\n",
    "        pass\n",
    "    @abstractmethod     \n",
    "    def login(self):       # Rohan\n",
    "        pass"
   ]
  },
  {
   "cell_type": "code",
   "execution_count": 7,
   "id": "d1e2232d-b2f3-4492-b95f-4744f147ce55",
   "metadata": {},
   "outputs": [
    {
     "ename": "TypeError",
     "evalue": "Can't instantiate abstract class Xyz with abstract methods login, register",
     "output_type": "error",
     "traceback": [
      "\u001b[1;31m---------------------------------------------------------------------------\u001b[0m",
      "\u001b[1;31mTypeError\u001b[0m                                 Traceback (most recent call last)",
      "Cell \u001b[1;32mIn[7], line 1\u001b[0m\n\u001b[1;32m----> 1\u001b[0m krishna\u001b[38;5;241m=\u001b[39m\u001b[43mXyz\u001b[49m\u001b[43m(\u001b[49m\u001b[43m)\u001b[49m\n",
      "\u001b[1;31mTypeError\u001b[0m: Can't instantiate abstract class Xyz with abstract methods login, register"
     ]
    }
   ],
   "source": [
    "krishna=Xyz()"
   ]
  },
  {
   "cell_type": "code",
   "execution_count": 8,
   "id": "6830ed55-2563-4bb8-9fa4-f52aa91bb7b4",
   "metadata": {},
   "outputs": [],
   "source": [
    "from abc import ABC,abstractmethod\n",
    "class Xyz(ABC):\n",
    "    @abstractmethod\n",
    "    def register(self):    #krishna\n",
    "        pass\n",
    "    @abstractmethod     \n",
    "    def login(self):       # Rohan\n",
    "        pass"
   ]
  },
  {
   "cell_type": "code",
   "execution_count": 11,
   "id": "71bc2ab0-bb65-41f6-a074-a84edd4a9993",
   "metadata": {},
   "outputs": [],
   "source": [
    "class Xyz_krishna(Xyz):\n",
    "    def register(self):\n",
    "        name=input(\"Enter your name:\")\n",
    "        age=input(\"Enter your age:\")\n",
    "        print(\"You are successfully registerd\")\n",
    "    def login(self):\n",
    "        pass"
   ]
  },
  {
   "cell_type": "code",
   "execution_count": 12,
   "id": "45690562-9ba1-405f-8c56-0d3e1c6eba0d",
   "metadata": {},
   "outputs": [],
   "source": [
    "krishna=Xyz_krishna()"
   ]
  },
  {
   "cell_type": "code",
   "execution_count": 13,
   "id": "3516a814-4198-4ae4-8406-9063fd9be005",
   "metadata": {},
   "outputs": [
    {
     "name": "stdin",
     "output_type": "stream",
     "text": [
      "Enter your name: krishna\n",
      "Enter your age: 27\n"
     ]
    },
    {
     "name": "stdout",
     "output_type": "stream",
     "text": [
      "You are successfully registerd\n"
     ]
    }
   ],
   "source": [
    "krishna.register()"
   ]
  },
  {
   "cell_type": "code",
   "execution_count": 17,
   "id": "d33977ac-6ebf-4302-b40f-a7337795ac37",
   "metadata": {},
   "outputs": [],
   "source": [
    "class Xyz_rohan(Xyz):\n",
    "    def register(self):\n",
    "        pass\n",
    "    def login(self):\n",
    "        user=input(\"enter your name:\")\n",
    "        password=input(\"Enter your password:\")\n",
    "        print(\"logged in\")"
   ]
  },
  {
   "cell_type": "code",
   "execution_count": 18,
   "id": "6dda6a21-3927-4c27-96ae-d9dc5da61207",
   "metadata": {},
   "outputs": [],
   "source": [
    "Rohan=Xyz_rohan()"
   ]
  },
  {
   "cell_type": "code",
   "execution_count": 19,
   "id": "a0aa8926-2445-476c-9ecb-4daafe4f53d0",
   "metadata": {},
   "outputs": [
    {
     "name": "stdin",
     "output_type": "stream",
     "text": [
      "enter your name: Krishna Kumar\n",
      "Enter your password: 27\n"
     ]
    },
    {
     "name": "stdout",
     "output_type": "stream",
     "text": [
      "logged in\n"
     ]
    }
   ],
   "source": [
    "Rohan.login()"
   ]
  },
  {
   "cell_type": "markdown",
   "id": "123d0c24-f690-4d98-9f10-e1b8bdc6c446",
   "metadata": {},
   "source": [
    "# after project completion"
   ]
  },
  {
   "cell_type": "code",
   "execution_count": 20,
   "id": "c3455704-75b2-4f79-9aee-a33f72289cb6",
   "metadata": {},
   "outputs": [],
   "source": [
    "class Xyz(ABC):    \n",
    "    def register(self):    #krishna\n",
    "        name=input(\"Enter your name:\")\n",
    "        age=input(\"Enter your age:\")\n",
    "        print(\"You are successfully registerd\")\n",
    "    @abstractmethod     \n",
    "    def login(self):       # Rohan\n",
    "        user=input(\"enter your name:\")\n",
    "        password=input(\"Enter your password:\")\n",
    "        print(\"logged in\")"
   ]
  },
  {
   "cell_type": "code",
   "execution_count": 21,
   "id": "afdafe24-c182-4162-93bf-5eefb64debb7",
   "metadata": {},
   "outputs": [],
   "source": [
    "class Xyz_krishna(Xyz):\n",
    "    def register(self):\n",
    "        name=input(\"Enter your name:\")\n",
    "        age=input(\"Enter your age:\")\n",
    "        print(\"You are successfully registerd\")\n",
    "    def login(self):\n",
    "        pass"
   ]
  },
  {
   "cell_type": "code",
   "execution_count": 22,
   "id": "af5bdb7e-7d2a-4300-a317-4e05fe674c7e",
   "metadata": {},
   "outputs": [],
   "source": [
    "class Xyz_rohan(Xyz):\n",
    "    def register(self):\n",
    "        pass\n",
    "    def login(self):\n",
    "        user=input(\"enter your name:\")\n",
    "        password=input(\"Enter your password:\")\n",
    "        print(\"logged in\")"
   ]
  },
  {
   "cell_type": "code",
   "execution_count": null,
   "id": "494e33b1-8b4b-4798-bb47-51e70e606b92",
   "metadata": {},
   "outputs": [],
   "source": []
  },
  {
   "cell_type": "code",
   "execution_count": null,
   "id": "0fd3afc1-98d7-4681-99b0-3b55551ec860",
   "metadata": {},
   "outputs": [],
   "source": []
  },
  {
   "cell_type": "code",
   "execution_count": 28,
   "id": "9ca82be3-c415-42a6-b4bf-4b236d100351",
   "metadata": {},
   "outputs": [],
   "source": [
    "class Xyz:    \n",
    "    def register(self):    #krishna\n",
    "        name=input(\"Enter your name:\")\n",
    "        age=input(\"Enter your age:\")\n",
    "        print(\"You are successfully registerd\")   \n",
    "    def login(self):       # Rohan\n",
    "        user=input(\"enter your name:\")\n",
    "        password=input(\"Enter your password:\")\n",
    "        print(\"logged in\")"
   ]
  },
  {
   "cell_type": "code",
   "execution_count": 29,
   "id": "557570d4-ef39-4e35-bdbb-13798b33ff0a",
   "metadata": {},
   "outputs": [],
   "source": [
    "zomato=Xyz()"
   ]
  },
  {
   "cell_type": "code",
   "execution_count": 30,
   "id": "98987f3d-7839-44ff-a4a7-92730a31fe53",
   "metadata": {},
   "outputs": [
    {
     "name": "stdin",
     "output_type": "stream",
     "text": [
      "enter your name: Krishna Kumar\n",
      "Enter your password: kumar\n"
     ]
    },
    {
     "name": "stdout",
     "output_type": "stream",
     "text": [
      "logged in\n"
     ]
    }
   ],
   "source": [
    "zomato.login()"
   ]
  },
  {
   "cell_type": "code",
   "execution_count": 31,
   "id": "d5294a1c-c3b8-44f3-b442-b39de7899dcd",
   "metadata": {},
   "outputs": [
    {
     "name": "stdin",
     "output_type": "stream",
     "text": [
      "Enter your name: Krishna Kumar\n",
      "Enter your age: 28\n"
     ]
    },
    {
     "name": "stdout",
     "output_type": "stream",
     "text": [
      "You are successfully registerd\n"
     ]
    }
   ],
   "source": [
    "zomato.register()"
   ]
  },
  {
   "cell_type": "code",
   "execution_count": null,
   "id": "0d7ad7b4-45dd-4445-b3e6-2fb06a9cc446",
   "metadata": {},
   "outputs": [],
   "source": []
  }
 ],
 "metadata": {
  "kernelspec": {
   "display_name": "Python 3 (ipykernel)",
   "language": "python",
   "name": "python3"
  },
  "language_info": {
   "codemirror_mode": {
    "name": "ipython",
    "version": 3
   },
   "file_extension": ".py",
   "mimetype": "text/x-python",
   "name": "python",
   "nbconvert_exporter": "python",
   "pygments_lexer": "ipython3",
   "version": "3.11.5"
  }
 },
 "nbformat": 4,
 "nbformat_minor": 5
}
