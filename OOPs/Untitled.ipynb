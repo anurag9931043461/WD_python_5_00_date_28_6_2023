{
 "cells": [
  {
   "cell_type": "code",
   "execution_count": 3,
   "id": "08cf075b-174f-4f9d-99e5-5b0544d37063",
   "metadata": {},
   "outputs": [],
   "source": [
    "#concrete class--> object creation is possible, instanciation is possible\n",
    "class zomato:\n",
    "    def register(self):    #Krishna kumar\n",
    "        pass\n",
    "    def login(self):     #Rohan\n",
    "        pass"
   ]
  },
  {
   "cell_type": "code",
   "execution_count": 2,
   "id": "b7195a79-8724-424b-95b2-9b0c824660be",
   "metadata": {},
   "outputs": [],
   "source": [
    "krishna=zomato()   #instanciation"
   ]
  },
  {
   "cell_type": "code",
   "execution_count": null,
   "id": "77495b02-8a28-4937-a469-5de64947a4ab",
   "metadata": {},
   "outputs": [],
   "source": []
  },
  {
   "cell_type": "code",
   "execution_count": null,
   "id": "3a85aa21-76b7-4d6f-8d06-a275acee4c51",
   "metadata": {},
   "outputs": [],
   "source": [
    "# Abstract class\n",
    "\n",
    "> child class inherite ABC class as Parent class\n",
    "\n",
    "> In child class at least on method must be a abstract methods"
   ]
  },
  {
   "cell_type": "code",
   "execution_count": 4,
   "id": "540bbcbb-e84a-4b48-96aa-6e7174c557ca",
   "metadata": {},
   "outputs": [],
   "source": [
    "from abc import ABC, abstractmethod\n",
    "class zomato(ABC):\n",
    "    @abstractmethod\n",
    "    def register(self):    #Krishna kumar\n",
    "        pass\n",
    "    def login(self):     #Rohan\n",
    "        pass"
   ]
  },
  {
   "cell_type": "code",
   "execution_count": 5,
   "id": "b8c18c05-8c34-41db-b242-a2a2216d71c5",
   "metadata": {},
   "outputs": [
    {
     "ename": "TypeError",
     "evalue": "Can't instantiate abstract class zomato with abstract method register",
     "output_type": "error",
     "traceback": [
      "\u001b[1;31m---------------------------------------------------------------------------\u001b[0m",
      "\u001b[1;31mTypeError\u001b[0m                                 Traceback (most recent call last)",
      "Cell \u001b[1;32mIn[5], line 1\u001b[0m\n\u001b[1;32m----> 1\u001b[0m krishna\u001b[38;5;241m=\u001b[39m\u001b[43mzomato\u001b[49m\u001b[43m(\u001b[49m\u001b[43m)\u001b[49m\n",
      "\u001b[1;31mTypeError\u001b[0m: Can't instantiate abstract class zomato with abstract method register"
     ]
    }
   ],
   "source": [
    "krishna=zomato()"
   ]
  },
  {
   "cell_type": "code",
   "execution_count": null,
   "id": "e099decd-c205-4d14-9af9-0fdfc1b284b7",
   "metadata": {},
   "outputs": [],
   "source": []
  }
 ],
 "metadata": {
  "kernelspec": {
   "display_name": "Python 3 (ipykernel)",
   "language": "python",
   "name": "python3"
  },
  "language_info": {
   "codemirror_mode": {
    "name": "ipython",
    "version": 3
   },
   "file_extension": ".py",
   "mimetype": "text/x-python",
   "name": "python",
   "nbconvert_exporter": "python",
   "pygments_lexer": "ipython3",
   "version": "3.11.5"
  }
 },
 "nbformat": 4,
 "nbformat_minor": 5
}
