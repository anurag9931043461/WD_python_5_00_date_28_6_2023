{
 "cells": [
  {
   "cell_type": "markdown",
   "id": "4fceea65-0907-433e-8caa-383845c131db",
   "metadata": {},
   "source": [
    "# single level inheritance"
   ]
  },
  {
   "cell_type": "code",
   "execution_count": null,
   "id": "a47f1f80-819c-4343-b554-9748284f854f",
   "metadata": {},
   "outputs": [],
   "source": [
    "class Cover:\n",
    "    def wrap(self):\n",
    "        print(\"I will wrap your phone\")"
   ]
  },
  {
   "cell_type": "code",
   "execution_count": 18,
   "id": "11d05b66-c016-49a0-a52e-7835f7236e7a",
   "metadata": {},
   "outputs": [],
   "source": [
    "class Mobile(Cover):\n",
    "    def __init__(self):\n",
    "        self.ram=4\n",
    "        self.rom=32\n",
    "        self.color=\"black\"\n",
    "    def texting(self):\n",
    "        print(\"I can text\")\n",
    "    def calling(self):\n",
    "        print(\"I can call\")\n",
    "    def browsing(self):\n",
    "        print(\"I can use internet\")"
   ]
  },
  {
   "cell_type": "code",
   "execution_count": 13,
   "id": "1de1f886-9433-4031-bfef-662d905e6c86",
   "metadata": {},
   "outputs": [],
   "source": [
    "nokia=Mobile()"
   ]
  },
  {
   "cell_type": "code",
   "execution_count": 14,
   "id": "d063c1bb-9800-424a-8228-0dfcafc16e27",
   "metadata": {},
   "outputs": [
    {
     "ename": "AttributeError",
     "evalue": "'Mobile' object has no attribute 'wrap'",
     "output_type": "error",
     "traceback": [
      "\u001b[1;31m---------------------------------------------------------------------------\u001b[0m",
      "\u001b[1;31mAttributeError\u001b[0m                            Traceback (most recent call last)",
      "Cell \u001b[1;32mIn[14], line 1\u001b[0m\n\u001b[1;32m----> 1\u001b[0m \u001b[43mnokia\u001b[49m\u001b[38;5;241;43m.\u001b[39;49m\u001b[43mwrap\u001b[49m()\n",
      "\u001b[1;31mAttributeError\u001b[0m: 'Mobile' object has no attribute 'wrap'"
     ]
    }
   ],
   "source": [
    "nokia.wrap()"
   ]
  },
  {
   "cell_type": "code",
   "execution_count": null,
   "id": "870820c3-a0cc-4299-9de4-3282156b4433",
   "metadata": {},
   "outputs": [],
   "source": [
    "oneplus=Cover()"
   ]
  },
  {
   "cell_type": "code",
   "execution_count": null,
   "id": "ca4a5644-d6f9-4018-9ff1-6a3ef3dd7574",
   "metadata": {},
   "outputs": [],
   "source": [
    "oneplus.wrap()"
   ]
  },
  {
   "cell_type": "code",
   "execution_count": 21,
   "id": "55f21cbe-430a-4630-a6d2-79c8b967b3cf",
   "metadata": {},
   "outputs": [],
   "source": [
    "oneplus=Mobile()"
   ]
  },
  {
   "cell_type": "code",
   "execution_count": null,
   "id": "1e4a8c68-ac79-43b0-a949-775bdecf8675",
   "metadata": {},
   "outputs": [],
   "source": [
    "oneplus."
   ]
  },
  {
   "cell_type": "markdown",
   "id": "39fae1e9-127e-49d6-a12e-d4e4b0c31bdf",
   "metadata": {},
   "source": [
    "# Multi level Inheritance"
   ]
  },
  {
   "cell_type": "code",
   "execution_count": 26,
   "id": "be00ff63-b2b1-4f03-9cff-abcd62fd7d9d",
   "metadata": {},
   "outputs": [],
   "source": [
    "class Headphone:\n",
    "    def earphone(self):\n",
    "        print(\"earphone can be supported\")"
   ]
  },
  {
   "cell_type": "code",
   "execution_count": 27,
   "id": "ca5b0f69-cf8c-446a-aa2f-7a1bd2a18254",
   "metadata": {},
   "outputs": [],
   "source": [
    "class Cover(Headphone):\n",
    "    def wrap(self):\n",
    "        print(\"I will wrap your phone\")"
   ]
  },
  {
   "cell_type": "code",
   "execution_count": 28,
   "id": "9ab5b0af-0f17-4600-89d6-7b7dbf49ee04",
   "metadata": {},
   "outputs": [],
   "source": [
    "class Mobile(Cover):\n",
    "    def __init__(self):\n",
    "        self.ram=4\n",
    "        self.rom=32\n",
    "        self.color=\"black\"\n",
    "    def texting(self):\n",
    "        print(\"I can text\")\n",
    "    def calling(self):\n",
    "        print(\"I can call\")\n",
    "    def browsing(self):\n",
    "        print(\"I can use internet\")"
   ]
  },
  {
   "cell_type": "code",
   "execution_count": 29,
   "id": "784c570e-afc8-4fb4-860f-e54db03592a9",
   "metadata": {},
   "outputs": [],
   "source": [
    "oneplus=Mobile()"
   ]
  },
  {
   "cell_type": "markdown",
   "id": "f23b776d-96c9-474c-ab17-bf5e3f53410d",
   "metadata": {},
   "source": [
    "# hirarchichal inheritance"
   ]
  },
  {
   "cell_type": "code",
   "execution_count": 30,
   "id": "5d124d93-dadc-4f80-8b5b-f9888f18e368",
   "metadata": {},
   "outputs": [],
   "source": [
    "class Mobile:\n",
    "    def __init__(self):\n",
    "        self.ram=4\n",
    "        self.rom=32\n",
    "        self.color=\"black\"\n",
    "    def texting(self):\n",
    "        print(\"I can text\")\n",
    "    def calling(self):\n",
    "        print(\"I can call\")\n",
    "    def browsing(self):\n",
    "        print(\"I can use internet\")"
   ]
  },
  {
   "cell_type": "code",
   "execution_count": 35,
   "id": "28e5c72c-2c99-472d-bcff-daa679ed2c27",
   "metadata": {},
   "outputs": [],
   "source": [
    "class Headphone(Mobile):\n",
    "    def earphone(self):\n",
    "        print(\"I can built ear phone\")"
   ]
  },
  {
   "cell_type": "code",
   "execution_count": 38,
   "id": "e927c422-b0c1-40ac-8199-c1678b9bfefd",
   "metadata": {},
   "outputs": [],
   "source": [
    "class Datacable(Mobile):\n",
    "    def datacard(self):\n",
    "        print(\"I can built data card\")"
   ]
  },
  {
   "cell_type": "code",
   "execution_count": 43,
   "id": "0b00dd49-a344-444e-888e-24c96b5c7d17",
   "metadata": {},
   "outputs": [],
   "source": [
    "class Charger(Mobile):\n",
    "    def adapter(self):\n",
    "        print(\"I can built adapter\")"
   ]
  },
  {
   "cell_type": "code",
   "execution_count": 36,
   "id": "2b55eaaa-f498-4824-adde-0ef44f3f0731",
   "metadata": {},
   "outputs": [],
   "source": [
    "boat=Headphone()"
   ]
  },
  {
   "cell_type": "code",
   "execution_count": 39,
   "id": "d1703e08-82dc-46cc-b82e-b73eb3a664ff",
   "metadata": {},
   "outputs": [],
   "source": [
    "mi=Datacable()"
   ]
  },
  {
   "cell_type": "code",
   "execution_count": 44,
   "id": "62dc3711-83fb-4580-a9d5-b4efc511863b",
   "metadata": {},
   "outputs": [],
   "source": [
    "opp=Charger()"
   ]
  },
  {
   "cell_type": "markdown",
   "id": "3cce5ac4-48a9-460f-a7a0-88c39f1f17ec",
   "metadata": {},
   "source": [
    "# Multiple Inheritance"
   ]
  },
  {
   "cell_type": "code",
   "execution_count": 51,
   "id": "ce3fd2c3-2ad2-4ce0-8d35-429081f1fa05",
   "metadata": {},
   "outputs": [],
   "source": [
    "class Headphone:\n",
    "    def earphone(self):\n",
    "        print(\"I can built ear phone\")\n",
    "class Datacable:\n",
    "    def datacard(self):\n",
    "        print(\"I can built data card\")\n",
    "class Charger:\n",
    "    def adapter(self):\n",
    "        print(\"I can built adapter\")\n",
    "\n",
    "class Mobile(Charger,Datacable,Headphone):\n",
    "    def __init__(self):\n",
    "        self.ram=4\n",
    "        self.rom=32\n",
    "        self.color=\"black\"\n",
    "    def texting(self):\n",
    "        print(\"I can text\")\n",
    "    def calling(self):\n",
    "        print(\"I can call\")\n",
    "    def browsing(self):\n",
    "        print(\"I can use internet\")"
   ]
  },
  {
   "cell_type": "code",
   "execution_count": 52,
   "id": "f2f71107-4e04-497b-ab4a-6d2011cf3ac1",
   "metadata": {},
   "outputs": [],
   "source": [
    "oneplus=Mobile()"
   ]
  },
  {
   "cell_type": "markdown",
   "id": "6fe64574-00ad-4569-a999-c987136db24d",
   "metadata": {},
   "source": [
    "# hybrid inheritance"
   ]
  },
  {
   "cell_type": "code",
   "execution_count": 54,
   "id": "306d252d-d557-459f-bafb-0c23331de4a4",
   "metadata": {},
   "outputs": [],
   "source": [
    "class Grandfather:\n",
    "    def landlord(self):\n",
    "        print(\"Grandfather has a lot of land pieces\")\n",
    "\n",
    "class Father(Grandfather):\n",
    "    def house(self):\n",
    "        print(\"I have house\")\n",
    "\n",
    "class Mother:\n",
    "    def jwellery(self):\n",
    "        print(\"Mom has a lot of gold\")\n",
    "class Child(Father,Mother):\n",
    "    pass"
   ]
  },
  {
   "cell_type": "code",
   "execution_count": 55,
   "id": "b261fa2f-e597-41e8-bd1d-f4b51b6ca4e7",
   "metadata": {},
   "outputs": [],
   "source": [
    "krishna=Child()"
   ]
  },
  {
   "cell_type": "code",
   "execution_count": null,
   "id": "a234ac29-7302-4e95-9a2b-8eea6e4112b4",
   "metadata": {},
   "outputs": [],
   "source": [
    "krishna."
   ]
  }
 ],
 "metadata": {
  "kernelspec": {
   "display_name": "Python 3 (ipykernel)",
   "language": "python",
   "name": "python3"
  },
  "language_info": {
   "codemirror_mode": {
    "name": "ipython",
    "version": 3
   },
   "file_extension": ".py",
   "mimetype": "text/x-python",
   "name": "python",
   "nbconvert_exporter": "python",
   "pygments_lexer": "ipython3",
   "version": "3.11.5"
  }
 },
 "nbformat": 4,
 "nbformat_minor": 5
}
