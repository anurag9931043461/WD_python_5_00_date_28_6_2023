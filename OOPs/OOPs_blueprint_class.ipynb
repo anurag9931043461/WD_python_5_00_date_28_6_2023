{
 "cells": [
  {
   "cell_type": "raw",
   "id": "0b999418-d980-4716-a81f-beeb5cb5feff",
   "metadata": {},
   "source": [
    " > class \n",
    "        > class variable\n",
    "        > instance variable\n",
    "        > self keyword\n",
    "        > static methods\n",
    "        > class methods\n",
    "    > object\n",
    "    > encasulation\n",
    "    > abstraction\n",
    "    > polymorphism\n",
    "    > inheritance\n"
   ]
  },
  {
   "cell_type": "code",
   "execution_count": 8,
   "id": "a49ca14c-0a90-485c-b645-270bd23239ee",
   "metadata": {},
   "outputs": [],
   "source": [
    "class ATM:\n",
    "    def __init__(self):     #constructor \n",
    "        self.pin=1111       #instance variable\n",
    "        self.balance=1000   #instance variable\n",
    "        print(\"this is constructor\")\n",
    "    "
   ]
  },
  {
   "cell_type": "code",
   "execution_count": 14,
   "id": "82cdd23f-8760-4b1f-9e9d-78ff75875389",
   "metadata": {},
   "outputs": [
    {
     "name": "stdout",
     "output_type": "stream",
     "text": [
      "this is constructor\n"
     ]
    }
   ],
   "source": [
    "vipin=ATM()"
   ]
  },
  {
   "cell_type": "code",
   "execution_count": 16,
   "id": "58a2e2f3-69ed-4d0b-a6f1-8fe551e14ba9",
   "metadata": {},
   "outputs": [],
   "source": [
    "vipin.pin=2222"
   ]
  },
  {
   "cell_type": "code",
   "execution_count": 17,
   "id": "24fed288-db67-4320-a4b8-1ef11683023f",
   "metadata": {},
   "outputs": [],
   "source": [
    "vipin.balance=2000"
   ]
  },
  {
   "cell_type": "code",
   "execution_count": 18,
   "id": "2cd5f4fd-b00e-4d4e-a530-329777f817e9",
   "metadata": {},
   "outputs": [
    {
     "name": "stdout",
     "output_type": "stream",
     "text": [
      "this is constructor\n"
     ]
    }
   ],
   "source": [
    "inder=ATM()"
   ]
  },
  {
   "cell_type": "code",
   "execution_count": 21,
   "id": "3c71cc79-a343-4c1a-9629-66bdc3517ea2",
   "metadata": {},
   "outputs": [],
   "source": [
    "inder.pin=1234"
   ]
  },
  {
   "cell_type": "code",
   "execution_count": 22,
   "id": "3f042a5f-a10d-4c93-928c-e892d68b2034",
   "metadata": {},
   "outputs": [],
   "source": [
    "inder.balance=2323"
   ]
  },
  {
   "cell_type": "code",
   "execution_count": 23,
   "id": "c6cfdc40-8ff5-4e56-80ce-af4d4eccf917",
   "metadata": {},
   "outputs": [
    {
     "name": "stdout",
     "output_type": "stream",
     "text": [
      "this is constructor\n"
     ]
    }
   ],
   "source": [
    "jyoti=ATM()"
   ]
  },
  {
   "cell_type": "code",
   "execution_count": 26,
   "id": "2b1baab3-581a-4be2-a28b-2a5c7085df91",
   "metadata": {},
   "outputs": [],
   "source": [
    "jyoti.balance=3000"
   ]
  },
  {
   "cell_type": "code",
   "execution_count": 27,
   "id": "b0c394b1-d72f-4200-ba1f-402069dfd0ce",
   "metadata": {},
   "outputs": [],
   "source": [
    "jyoti.pin=1254"
   ]
  },
  {
   "cell_type": "code",
   "execution_count": 28,
   "id": "bd138ae5-ace1-48a2-a022-20cb23fd04da",
   "metadata": {},
   "outputs": [
    {
     "data": {
      "text/plain": [
       "2323"
      ]
     },
     "execution_count": 28,
     "metadata": {},
     "output_type": "execute_result"
    }
   ],
   "source": [
    "inder.balance"
   ]
  },
  {
   "cell_type": "code",
   "execution_count": 29,
   "id": "09b02885-5a8a-4dbc-9563-15868e78bbaa",
   "metadata": {},
   "outputs": [
    {
     "data": {
      "text/plain": [
       "1234"
      ]
     },
     "execution_count": 29,
     "metadata": {},
     "output_type": "execute_result"
    }
   ],
   "source": [
    "inder.pin"
   ]
  },
  {
   "cell_type": "code",
   "execution_count": 30,
   "id": "aed0b158-f9f0-47b7-a799-36ab4d40c301",
   "metadata": {},
   "outputs": [
    {
     "data": {
      "text/plain": [
       "2000"
      ]
     },
     "execution_count": 30,
     "metadata": {},
     "output_type": "execute_result"
    }
   ],
   "source": [
    "vipin.balance"
   ]
  },
  {
   "cell_type": "code",
   "execution_count": 31,
   "id": "a5556664-cd0c-44b3-9dee-9b4b48e0aa72",
   "metadata": {},
   "outputs": [
    {
     "data": {
      "text/plain": [
       "2222"
      ]
     },
     "execution_count": 31,
     "metadata": {},
     "output_type": "execute_result"
    }
   ],
   "source": [
    "vipin.pin"
   ]
  },
  {
   "cell_type": "code",
   "execution_count": 32,
   "id": "9cbff8ec-a867-4518-bf86-0f875cec7a51",
   "metadata": {},
   "outputs": [
    {
     "data": {
      "text/plain": [
       "3000"
      ]
     },
     "execution_count": 32,
     "metadata": {},
     "output_type": "execute_result"
    }
   ],
   "source": [
    "jyoti.balance"
   ]
  },
  {
   "cell_type": "code",
   "execution_count": 33,
   "id": "e153f130-c87b-4ec6-b50f-eeb048bd1874",
   "metadata": {},
   "outputs": [
    {
     "data": {
      "text/plain": [
       "1254"
      ]
     },
     "execution_count": 33,
     "metadata": {},
     "output_type": "execute_result"
    }
   ],
   "source": [
    "jyoti.pin"
   ]
  },
  {
   "cell_type": "code",
   "execution_count": 41,
   "id": "ef8eb7be-d5ab-4b92-8c52-16537897e351",
   "metadata": {},
   "outputs": [],
   "source": [
    "class ATM:\n",
    "    def __init__(self):     #constructor \n",
    "        self.pin=1111       #instance variable\n",
    "        self.balance=1000   #instance variable\n",
    "        print(\"id of self\",id(self))"
   ]
  },
  {
   "cell_type": "code",
   "execution_count": 42,
   "id": "2e6559a1-abc5-4dc9-bebe-8eb399c7ad85",
   "metadata": {},
   "outputs": [
    {
     "name": "stdout",
     "output_type": "stream",
     "text": [
      "id of self 2083107027664\n"
     ]
    }
   ],
   "source": [
    "krishna=ATM()\n"
   ]
  },
  {
   "cell_type": "code",
   "execution_count": 43,
   "id": "0d8b3959-8152-494a-9fbe-7cbb40b80b82",
   "metadata": {},
   "outputs": [
    {
     "name": "stdout",
     "output_type": "stream",
     "text": [
      "2083107027664\n"
     ]
    }
   ],
   "source": [
    "print(id(krishna))"
   ]
  },
  {
   "cell_type": "code",
   "execution_count": 39,
   "id": "cbbbad57-4828-40bb-be4f-68c468d019a7",
   "metadata": {},
   "outputs": [
    {
     "data": {
      "text/plain": [
       "1000"
      ]
     },
     "execution_count": 39,
     "metadata": {},
     "output_type": "execute_result"
    }
   ],
   "source": [
    "krishna.balance"
   ]
  },
  {
   "cell_type": "code",
   "execution_count": 40,
   "id": "f27c47a5-df4c-4ff0-9a0f-88c39b6c95f4",
   "metadata": {},
   "outputs": [
    {
     "name": "stdout",
     "output_type": "stream",
     "text": [
      "this is constructor\n"
     ]
    }
   ],
   "source": [
    "rohan=ATM()"
   ]
  },
  {
   "cell_type": "code",
   "execution_count": 55,
   "id": "afae1e96-f057-4512-bf07-dd6d391ea186",
   "metadata": {},
   "outputs": [],
   "source": [
    "class ATM:\n",
    "    a=0                 #class variable\n",
    "    def __init__(self):     #constructor \n",
    "        self.pin=1111       #instance variable\n",
    "        self.balance=1000   #instance variable\n",
    "        print(\"id of self\",id(self))\n",
    "    def withdrawal(self):\n",
    "        print(\"Welcome to withdrawal section\")"
   ]
  },
  {
   "cell_type": "code",
   "execution_count": 56,
   "id": "e761d2aa-70ff-4d36-a413-682a2c2b69b4",
   "metadata": {},
   "outputs": [
    {
     "name": "stdout",
     "output_type": "stream",
     "text": [
      "id of self 2083111396816\n"
     ]
    }
   ],
   "source": [
    "krishna=ATM()"
   ]
  },
  {
   "cell_type": "code",
   "execution_count": 57,
   "id": "14c39fb5-f420-4e6c-bc55-a33a7f68295e",
   "metadata": {},
   "outputs": [
    {
     "data": {
      "text/plain": [
       "0"
      ]
     },
     "execution_count": 57,
     "metadata": {},
     "output_type": "execute_result"
    }
   ],
   "source": [
    "krishna.a"
   ]
  },
  {
   "cell_type": "code",
   "execution_count": 58,
   "id": "6fd151e5-eada-417d-aeb2-8df1052ad344",
   "metadata": {},
   "outputs": [
    {
     "name": "stdout",
     "output_type": "stream",
     "text": [
      "Welcome to withdrawal section\n"
     ]
    }
   ],
   "source": [
    "krishna.withdrawal()"
   ]
  },
  {
   "cell_type": "code",
   "execution_count": 82,
   "id": "379ade0e-4355-4907-abc7-c125decd8867",
   "metadata": {},
   "outputs": [],
   "source": [
    "class ATM:\n",
    "    a=0                 #class variable\n",
    "    def __init__(self):     #constructor \n",
    "        self.pin=1111       #instance variable\n",
    "        self.balance=1000   #instance variable\n",
    "        print(\"id of self\",id(self))\n",
    "    def withdrawal(self):\n",
    "        print(\"Welcome to withdrawal section\")\n",
    "    def change_pin(self):\n",
    "        self.pin=input(\"Kindly enter your new pin:\")\n",
    "        print(\"Pin change successfully\")\n",
    "    def show_pin(self):\n",
    "        print(\"your pin is {}\".format(self.pin))"
   ]
  },
  {
   "cell_type": "code",
   "execution_count": 83,
   "id": "db45cecf-3bd1-47e5-82bd-901984251ddc",
   "metadata": {},
   "outputs": [
    {
     "name": "stdout",
     "output_type": "stream",
     "text": [
      "id of self 2083111199632\n"
     ]
    }
   ],
   "source": [
    "krishna=ATM()"
   ]
  },
  {
   "cell_type": "code",
   "execution_count": 84,
   "id": "c9f67b30-8e18-4ff5-a83c-c0bdb0cb3122",
   "metadata": {},
   "outputs": [
    {
     "name": "stdout",
     "output_type": "stream",
     "text": [
      "Kindly enter your new pin: 9807\n"
     ]
    },
    {
     "name": "stdout",
     "output_type": "stream",
     "text": [
      "Pin change successfully\n"
     ]
    }
   ],
   "source": [
    "krishna.change_pin()"
   ]
  },
  {
   "cell_type": "code",
   "execution_count": 85,
   "id": "26bbf072-4ef6-449f-b0d9-859a38613d9d",
   "metadata": {},
   "outputs": [
    {
     "name": "stdout",
     "output_type": "stream",
     "text": [
      "your pin is 9807\n"
     ]
    }
   ],
   "source": [
    "krishna.show_pin()"
   ]
  },
  {
   "cell_type": "code",
   "execution_count": 1,
   "id": "0437b713-84be-48f3-aa96-ae2df6b019ff",
   "metadata": {},
   "outputs": [],
   "source": [
    "class ATM:\n",
    "    a=0                 #class variable\n",
    "    def __init__(self):     #constructor \n",
    "        self.pin=1111       #instance variable\n",
    "        self.balance=1000   #instance variable\n",
    "        print(\"id of self\",id(self))\n",
    "    def withdrawal(self):\n",
    "        print(\"Welcome to withdrawal section\")\n",
    "    def change_pin(self):\n",
    "        self.pin=input(\"Kindly enter your new pin:\")\n",
    "        print(\"Pin change successfully\")\n",
    "    def show_pin(self):\n",
    "        print(\"your pin is {}\".format(self.pin))"
   ]
  },
  {
   "cell_type": "code",
   "execution_count": 2,
   "id": "6efe2ac0",
   "metadata": {},
   "outputs": [
    {
     "name": "stdout",
     "output_type": "stream",
     "text": [
      "id of self 2231434998096\n"
     ]
    }
   ],
   "source": [
    "krishna=ATM()"
   ]
  },
  {
   "cell_type": "code",
   "execution_count": 3,
   "id": "697419ac",
   "metadata": {},
   "outputs": [],
   "source": [
    "class ATM:\n",
    "    a=0                 #class variable\n",
    "    def __init__(self,pin,balance):     #constructor \n",
    "        self.pin=pin       #instance variable\n",
    "        self.balance=balance   #instance variable\n",
    "        print(\"id of self\",id(self))\n",
    "    def withdrawal(self):\n",
    "        print(\"Welcome to withdrawal section\")\n",
    "    def change_pin(self):\n",
    "        self.pin=input(\"Kindly enter your new pin:\")\n",
    "        print(\"Pin change successfully\")\n",
    "    def show_pin(self):\n",
    "        print(\"your pin is {}\".format(self.pin))"
   ]
  },
  {
   "cell_type": "code",
   "execution_count": 8,
   "id": "f05a0bd5",
   "metadata": {},
   "outputs": [
    {
     "name": "stdout",
     "output_type": "stream",
     "text": [
      "id of self 2231440963792\n"
     ]
    }
   ],
   "source": [
    "krishna=ATM(1211,10000)"
   ]
  },
  {
   "cell_type": "code",
   "execution_count": 9,
   "id": "8af9c835",
   "metadata": {},
   "outputs": [
    {
     "data": {
      "text/plain": [
       "1211"
      ]
     },
     "execution_count": 9,
     "metadata": {},
     "output_type": "execute_result"
    }
   ],
   "source": [
    "krishna.pin"
   ]
  },
  {
   "cell_type": "code",
   "execution_count": 10,
   "id": "9e5b4130",
   "metadata": {},
   "outputs": [
    {
     "data": {
      "text/plain": [
       "10000"
      ]
     },
     "execution_count": 10,
     "metadata": {},
     "output_type": "execute_result"
    }
   ],
   "source": [
    "krishna.balance"
   ]
  },
  {
   "cell_type": "code",
   "execution_count": 11,
   "id": "bcdb7505",
   "metadata": {},
   "outputs": [],
   "source": [
    "class ATM:\n",
    "    a=0                 #class variable\n",
    "    def __init__(self,a,b):     #constructor \n",
    "        self.pin=a       #instance variable\n",
    "        self.balance=b   #instance variable\n",
    "        print(\"id of self\",id(self))\n",
    "    def withdrawal(self):\n",
    "        print(\"Welcome to withdrawal section\")\n",
    "    def change_pin(self):\n",
    "        self.pin=input(\"Kindly enter your new pin:\")\n",
    "        print(\"Pin change successfully\")\n",
    "    def show_pin(self):\n",
    "        print(\"your pin is {}\".format(self.pin))"
   ]
  },
  {
   "cell_type": "code",
   "execution_count": 13,
   "id": "f41e3ebf",
   "metadata": {},
   "outputs": [
    {
     "name": "stdout",
     "output_type": "stream",
     "text": [
      "id of self 2231412687760\n"
     ]
    }
   ],
   "source": [
    "rohan=ATM(9807,20000)"
   ]
  },
  {
   "cell_type": "code",
   "execution_count": 19,
   "id": "bf998e10",
   "metadata": {},
   "outputs": [],
   "source": [
    "class ATM:\n",
    "    def __init__(self):     #constructor \n",
    "        pass\n",
    "    def withdrawal(self):\n",
    "        print(\"Welcome to withdrawal section\")\n",
    "    def change_pin(self):\n",
    "        print(\"Pin change successfully\")\n",
    "    def show_pin(self):\n",
    "        print(\"your pin is xxxx\")"
   ]
  },
  {
   "cell_type": "code",
   "execution_count": 20,
   "id": "faa44725",
   "metadata": {},
   "outputs": [],
   "source": [
    "krishna=ATM()"
   ]
  },
  {
   "cell_type": "code",
   "execution_count": 22,
   "id": "fee1c528",
   "metadata": {},
   "outputs": [
    {
     "name": "stdout",
     "output_type": "stream",
     "text": [
      "Pin change successfully\n"
     ]
    }
   ],
   "source": [
    "krishna.change_pin()"
   ]
  },
  {
   "cell_type": "code",
   "execution_count": 23,
   "id": "a76c3d64",
   "metadata": {},
   "outputs": [],
   "source": [
    "class ATM:\n",
    "    def withdrawal(self):\n",
    "        print(\"Welcome to withdrawal section\")\n",
    "    def change_pin(self):\n",
    "        print(\"Pin change successfully\")\n",
    "    def show_pin(self):\n",
    "        print(\"your pin is xxxx\")"
   ]
  },
  {
   "cell_type": "code",
   "execution_count": 24,
   "id": "14f75c1b",
   "metadata": {},
   "outputs": [],
   "source": [
    "krishna=ATM()"
   ]
  },
  {
   "cell_type": "code",
   "execution_count": 25,
   "id": "e41100a1",
   "metadata": {},
   "outputs": [
    {
     "name": "stdout",
     "output_type": "stream",
     "text": [
      "Pin change successfully\n"
     ]
    }
   ],
   "source": [
    "krishna.change_pin()"
   ]
  },
  {
   "cell_type": "code",
   "execution_count": 26,
   "id": "25fd7ec1",
   "metadata": {},
   "outputs": [],
   "source": []
  },
  {
   "cell_type": "code",
   "execution_count": null,
   "id": "be4bbd64",
   "metadata": {},
   "outputs": [],
   "source": []
  }
 ],
 "metadata": {
  "kernelspec": {
   "display_name": "Python 3 (ipykernel)",
   "language": "python",
   "name": "python3"
  },
  "language_info": {
   "codemirror_mode": {
    "name": "ipython",
    "version": 3
   },
   "file_extension": ".py",
   "mimetype": "text/x-python",
   "name": "python",
   "nbconvert_exporter": "python",
   "pygments_lexer": "ipython3",
   "version": "3.11.5"
  }
 },
 "nbformat": 4,
 "nbformat_minor": 5
}
