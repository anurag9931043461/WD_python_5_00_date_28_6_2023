{
 "cells": [
  {
   "cell_type": "code",
   "execution_count": 23,
   "id": "2579b0aa-1546-4def-a842-b115b3798b73",
   "metadata": {},
   "outputs": [],
   "source": [
    "import time\n",
    "class ATM:\n",
    "    def __init__(self):\n",
    "        print(\"Welcome to Kotak Mahindra Bank\")\n",
    "        self.pin=\"1111\"\n",
    "        self.balance=10000.00\n",
    "        time.sleep(4)\n",
    "        self.Intro()\n",
    "    def Intro(self):\n",
    "        user=input(\"\"\"Kindly choose one option :\n",
    "        1. Balance enquiry\n",
    "        2. Fund transfer\n",
    "        3. Change pin\n",
    "        4. Withdrawal\n",
    "        5. Exit\n",
    "        \n",
    "        \"\"\")\n",
    "        if user==\"1\":\n",
    "            self.balance_enquiry()\n",
    "        elif user==\"2\":\n",
    "            self.fund_transfer()\n",
    "        elif user==\"3\":\n",
    "            self.change_pin()\n",
    "        elif user==\"4\":\n",
    "            self.withdrawal()\n",
    "        elif user==\"5\":\n",
    "            self.exit()\n",
    "        else:\n",
    "            print(\"Go to hell\")\n",
    "    def balance_enquiry(self):\n",
    "        print(\"You account balance is {}\".format(self.balance))\n",
    "        time.sleep(2)\n",
    "        self.Intro()\n",
    "    def fund_transfer(self):\n",
    "        print(\"Welcome to Fund transfer\")\n",
    "        time.sleep(2)\n",
    "        self.Intro()\n",
    "    def change_pin(self):\n",
    "        print(\"Welcome to change pin\")\n",
    "        time.sleep(2)\n",
    "        self.Intro()\n",
    "    def withdrawal(self):\n",
    "        user=eval(input(\"Enter your balance which you want to withdraw:\"))\n",
    "        try:\n",
    "            if self.balance<user:\n",
    "                raise Exception(\"You have insufficient fund\")\n",
    "            self.balance=self.balance-user\n",
    "        except Exception as e:\n",
    "            print(e)\n",
    "        finally:\n",
    "            time.sleep(2)\n",
    "            self.Intro()\n",
    "    def exit(self):\n",
    "        print(\"Thankyou to banking with us\")\n",
    "        "
   ]
  },
  {
   "cell_type": "code",
   "execution_count": 24,
   "id": "e97a1afb-3fe9-4a5d-aedb-4df8d2bd615e",
   "metadata": {},
   "outputs": [
    {
     "name": "stdout",
     "output_type": "stream",
     "text": [
      "Welcome to Kotak Mahindra Bank\n"
     ]
    },
    {
     "name": "stdin",
     "output_type": "stream",
     "text": [
      "Kindly choose one option :\n",
      "        1. Balance enquiry\n",
      "        2. Fund transfer\n",
      "        3. Change pin\n",
      "        4. Withdrawal\n",
      "        5. Exit\n",
      "        \n",
      "         4\n",
      "Enter your balance which you want to withdraw: 20000\n"
     ]
    },
    {
     "name": "stdout",
     "output_type": "stream",
     "text": [
      "You have insufficient fund\n"
     ]
    },
    {
     "name": "stdin",
     "output_type": "stream",
     "text": [
      "Kindly choose one option :\n",
      "        1. Balance enquiry\n",
      "        2. Fund transfer\n",
      "        3. Change pin\n",
      "        4. Withdrawal\n",
      "        5. Exit\n",
      "        \n",
      "         4\n",
      "Enter your balance which you want to withdraw: 9000\n",
      "Kindly choose one option :\n",
      "        1. Balance enquiry\n",
      "        2. Fund transfer\n",
      "        3. Change pin\n",
      "        4. Withdrawal\n",
      "        5. Exit\n",
      "        \n",
      "         1\n"
     ]
    },
    {
     "name": "stdout",
     "output_type": "stream",
     "text": [
      "You account balance is 1000.0\n"
     ]
    },
    {
     "name": "stdin",
     "output_type": "stream",
     "text": [
      "Kindly choose one option :\n",
      "        1. Balance enquiry\n",
      "        2. Fund transfer\n",
      "        3. Change pin\n",
      "        4. Withdrawal\n",
      "        5. Exit\n",
      "        \n",
      "         5\n"
     ]
    },
    {
     "name": "stdout",
     "output_type": "stream",
     "text": [
      "Thankyou to banking with us\n"
     ]
    }
   ],
   "source": [
    "krishna=ATM()"
   ]
  },
  {
   "cell_type": "code",
   "execution_count": 28,
   "id": "c3e5944c-f50f-4fd9-a151-09b929afe707",
   "metadata": {},
   "outputs": [],
   "source": [
    "import time\n",
    "class ATM:\n",
    "    def __init__(self):\n",
    "        print(\"Welcome to Kotak Mahindra Bank\")\n",
    "        self.pin=\"1111\"\n",
    "        self.balance=10000.00\n",
    "        time.sleep(4)\n",
    "        self.Intro()\n",
    "    def Intro(self):\n",
    "        user=input(\"\"\"Kindly choose one option :\n",
    "        1. Balance enquiry\n",
    "        2. Fund transfer\n",
    "        3. Change pin\n",
    "        4. Withdrawal\n",
    "        5. Exit\n",
    "        \n",
    "        \"\"\")\n",
    "        if user==\"1\":\n",
    "            self.balance_enquiry()\n",
    "        elif user==\"2\":\n",
    "            self.fund_transfer()\n",
    "        elif user==\"3\":\n",
    "            self.change_pin()\n",
    "        elif user==\"4\":\n",
    "            self.withdrawal()\n",
    "        elif user==\"5\":\n",
    "            self.exit()\n",
    "        else:\n",
    "            print(\"Go to hell\")\n",
    "    def balance_enquiry(self):\n",
    "        print(\"You account balance is {}\".format(self.balance))\n",
    "        time.sleep(2)\n",
    "        self.Intro()\n",
    "    def fund_transfer(self):\n",
    "        print(\"Welcome to Fund transfer\")\n",
    "        time.sleep(2)\n",
    "        self.Intro()\n",
    "    def change_pin(self):\n",
    "        print(\"Welcome to change pin\")\n",
    "        time.sleep(2)\n",
    "        self.Intro()\n",
    "    def withdrawal(self):\n",
    "        user=eval(input(\"Enter your balance which you want to withdraw:\"))\n",
    "        if self.balance<=user:\n",
    "            print(\"You have insufficient fund\")\n",
    "            time.sleep(2)\n",
    "            self.Intro()\n",
    "        else:\n",
    "            self.balance=self.balance-user\n",
    "            print(\"kindly collect your cash: {}\".format(user))\n",
    "            time.sleep(2)\n",
    "            self.Intro()\n",
    "    def exit(self):\n",
    "        print(\"Thankyou to banking with us\")\n",
    "        "
   ]
  },
  {
   "cell_type": "code",
   "execution_count": 29,
   "id": "89d01ba2-6a86-4c0f-b032-eca9f0171b7e",
   "metadata": {},
   "outputs": [
    {
     "name": "stdout",
     "output_type": "stream",
     "text": [
      "Welcome to Kotak Mahindra Bank\n"
     ]
    },
    {
     "name": "stdin",
     "output_type": "stream",
     "text": [
      "Kindly choose one option :\n",
      "        1. Balance enquiry\n",
      "        2. Fund transfer\n",
      "        3. Change pin\n",
      "        4. Withdrawal\n",
      "        5. Exit\n",
      "        \n",
      "         1\n"
     ]
    },
    {
     "name": "stdout",
     "output_type": "stream",
     "text": [
      "You account balance is 10000.0\n"
     ]
    },
    {
     "name": "stdin",
     "output_type": "stream",
     "text": [
      "Kindly choose one option :\n",
      "        1. Balance enquiry\n",
      "        2. Fund transfer\n",
      "        3. Change pin\n",
      "        4. Withdrawal\n",
      "        5. Exit\n",
      "        \n",
      "         4\n",
      "Enter your balance which you want to withdraw: 20000\n"
     ]
    },
    {
     "name": "stdout",
     "output_type": "stream",
     "text": [
      "You have insufficient fund\n"
     ]
    },
    {
     "name": "stdin",
     "output_type": "stream",
     "text": [
      "Kindly choose one option :\n",
      "        1. Balance enquiry\n",
      "        2. Fund transfer\n",
      "        3. Change pin\n",
      "        4. Withdrawal\n",
      "        5. Exit\n",
      "        \n",
      "         4\n",
      "Enter your balance which you want to withdraw: 2999.99\n"
     ]
    },
    {
     "name": "stdout",
     "output_type": "stream",
     "text": [
      "kindly collect your cash: 2999.99\n"
     ]
    },
    {
     "name": "stdin",
     "output_type": "stream",
     "text": [
      "Kindly choose one option :\n",
      "        1. Balance enquiry\n",
      "        2. Fund transfer\n",
      "        3. Change pin\n",
      "        4. Withdrawal\n",
      "        5. Exit\n",
      "        \n",
      "         1\n"
     ]
    },
    {
     "name": "stdout",
     "output_type": "stream",
     "text": [
      "You account balance is 7000.01\n"
     ]
    },
    {
     "name": "stdin",
     "output_type": "stream",
     "text": [
      "Kindly choose one option :\n",
      "        1. Balance enquiry\n",
      "        2. Fund transfer\n",
      "        3. Change pin\n",
      "        4. Withdrawal\n",
      "        5. Exit\n",
      "        \n",
      "         5\n"
     ]
    },
    {
     "name": "stdout",
     "output_type": "stream",
     "text": [
      "Thankyou to banking with us\n"
     ]
    }
   ],
   "source": [
    "krishna=ATM()"
   ]
  },
  {
   "cell_type": "code",
   "execution_count": null,
   "id": "3a789373-e253-4b46-83e6-c3c4ae4aee67",
   "metadata": {},
   "outputs": [],
   "source": []
  }
 ],
 "metadata": {
  "kernelspec": {
   "display_name": "Python 3 (ipykernel)",
   "language": "python",
   "name": "python3"
  },
  "language_info": {
   "codemirror_mode": {
    "name": "ipython",
    "version": 3
   },
   "file_extension": ".py",
   "mimetype": "text/x-python",
   "name": "python",
   "nbconvert_exporter": "python",
   "pygments_lexer": "ipython3",
   "version": "3.11.5"
  }
 },
 "nbformat": 4,
 "nbformat_minor": 5
}
