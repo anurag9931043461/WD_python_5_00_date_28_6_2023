{
 "cells": [
  {
   "cell_type": "markdown",
   "id": "aca2b63a-9460-46f4-af4a-c5e91e49b3fb",
   "metadata": {},
   "source": [
    "# boolean\n",
    "\n",
    "> boolean constructor is bool()\n",
    "\n",
    "> literal of boolean is False"
   ]
  },
  {
   "cell_type": "code",
   "execution_count": 1,
   "id": "61a89a46-fa1a-4a32-8e60-485c724f6e41",
   "metadata": {},
   "outputs": [],
   "source": [
    "a=\"krishna\""
   ]
  },
  {
   "cell_type": "code",
   "execution_count": 2,
   "id": "239975f4-9e76-4bbb-80c8-a3f0a933fe81",
   "metadata": {},
   "outputs": [
    {
     "data": {
      "text/plain": [
       "True"
      ]
     },
     "execution_count": 2,
     "metadata": {},
     "output_type": "execute_result"
    }
   ],
   "source": [
    "bool(a)"
   ]
  },
  {
   "cell_type": "code",
   "execution_count": 3,
   "id": "02110bd5-6b49-4f6b-ad1b-e450cbefdfc1",
   "metadata": {},
   "outputs": [],
   "source": [
    "b=\"\""
   ]
  },
  {
   "cell_type": "code",
   "execution_count": 4,
   "id": "04812c6b-1765-4633-9592-570c2c866e21",
   "metadata": {},
   "outputs": [
    {
     "data": {
      "text/plain": [
       "False"
      ]
     },
     "execution_count": 4,
     "metadata": {},
     "output_type": "execute_result"
    }
   ],
   "source": [
    "bool(b)"
   ]
  },
  {
   "cell_type": "code",
   "execution_count": 5,
   "id": "7b2eaacb-9362-45e6-9801-bc63955b80c0",
   "metadata": {},
   "outputs": [],
   "source": [
    "c=str()"
   ]
  },
  {
   "cell_type": "code",
   "execution_count": 6,
   "id": "263361b9-5d81-4491-9178-384cf5c64e96",
   "metadata": {},
   "outputs": [
    {
     "data": {
      "text/plain": [
       "False"
      ]
     },
     "execution_count": 6,
     "metadata": {},
     "output_type": "execute_result"
    }
   ],
   "source": [
    "bool(c)"
   ]
  },
  {
   "cell_type": "code",
   "execution_count": 7,
   "id": "76e42a44-64c5-4518-b36f-c86b20d82e6b",
   "metadata": {},
   "outputs": [],
   "source": [
    "d=list()"
   ]
  },
  {
   "cell_type": "code",
   "execution_count": 8,
   "id": "db6d40d2-1510-4d5d-9af6-c8e10750c857",
   "metadata": {},
   "outputs": [
    {
     "data": {
      "text/plain": [
       "False"
      ]
     },
     "execution_count": 8,
     "metadata": {},
     "output_type": "execute_result"
    }
   ],
   "source": [
    "bool(d)"
   ]
  },
  {
   "cell_type": "code",
   "execution_count": 9,
   "id": "a8a2b666-01c2-42f2-8190-e06a6cf23fe6",
   "metadata": {},
   "outputs": [
    {
     "name": "stdout",
     "output_type": "stream",
     "text": [
      "0\n"
     ]
    }
   ],
   "source": [
    "e=int()\n",
    "print(e)"
   ]
  },
  {
   "cell_type": "code",
   "execution_count": 10,
   "id": "ead0af85-f0d3-41b1-af42-cc9923f23ff6",
   "metadata": {},
   "outputs": [
    {
     "data": {
      "text/plain": [
       "False"
      ]
     },
     "execution_count": 10,
     "metadata": {},
     "output_type": "execute_result"
    }
   ],
   "source": [
    "bool(e)"
   ]
  },
  {
   "cell_type": "code",
   "execution_count": 11,
   "id": "5fa7eb12-ff8d-44d7-ae7f-7387281df7fc",
   "metadata": {},
   "outputs": [
    {
     "name": "stdout",
     "output_type": "stream",
     "text": [
      "False\n"
     ]
    }
   ],
   "source": [
    "f=float()\n",
    "print(bool(f))"
   ]
  },
  {
   "cell_type": "code",
   "execution_count": 12,
   "id": "95df7756-3886-4d0b-a29c-88da71db6804",
   "metadata": {},
   "outputs": [
    {
     "name": "stdout",
     "output_type": "stream",
     "text": [
      "()\n"
     ]
    }
   ],
   "source": [
    "g=tuple()\n",
    "print(g)"
   ]
  },
  {
   "cell_type": "code",
   "execution_count": 13,
   "id": "ef88b03b-fa0d-4ba5-91f4-6c9300cc3d89",
   "metadata": {},
   "outputs": [
    {
     "data": {
      "text/plain": [
       "False"
      ]
     },
     "execution_count": 13,
     "metadata": {},
     "output_type": "execute_result"
    }
   ],
   "source": [
    "bool(g)"
   ]
  },
  {
   "cell_type": "code",
   "execution_count": 14,
   "id": "d0c015ff-e691-49a1-8df5-6cada9239fe9",
   "metadata": {},
   "outputs": [
    {
     "name": "stdout",
     "output_type": "stream",
     "text": [
      "{}\n"
     ]
    }
   ],
   "source": [
    "h=dict()\n",
    "print(h)"
   ]
  },
  {
   "cell_type": "code",
   "execution_count": 15,
   "id": "a7f3688d-6079-4522-8106-c135f1bc3772",
   "metadata": {},
   "outputs": [
    {
     "data": {
      "text/plain": [
       "False"
      ]
     },
     "execution_count": 15,
     "metadata": {},
     "output_type": "execute_result"
    }
   ],
   "source": [
    "bool(h)"
   ]
  },
  {
   "cell_type": "code",
   "execution_count": 17,
   "id": "3010c749-49e6-4316-a46e-95bbb861b8ed",
   "metadata": {},
   "outputs": [
    {
     "name": "stdout",
     "output_type": "stream",
     "text": [
      "set()\n"
     ]
    }
   ],
   "source": [
    "i=set()\n",
    "print(i)"
   ]
  },
  {
   "cell_type": "code",
   "execution_count": 18,
   "id": "c268371e-1ea3-4cb4-b85e-022867bbfdd3",
   "metadata": {},
   "outputs": [
    {
     "data": {
      "text/plain": [
       "False"
      ]
     },
     "execution_count": 18,
     "metadata": {},
     "output_type": "execute_result"
    }
   ],
   "source": [
    "bool(i)"
   ]
  },
  {
   "cell_type": "code",
   "execution_count": 19,
   "id": "c225e29a-863a-4ec3-889e-4a04d11442f0",
   "metadata": {},
   "outputs": [
    {
     "name": "stdout",
     "output_type": "stream",
     "text": [
      "0j\n"
     ]
    }
   ],
   "source": [
    "j=complex()\n",
    "print(j)"
   ]
  },
  {
   "cell_type": "code",
   "execution_count": 20,
   "id": "f8c29b1b-535c-4547-a9ca-dd045ff08039",
   "metadata": {},
   "outputs": [
    {
     "data": {
      "text/plain": [
       "False"
      ]
     },
     "execution_count": 20,
     "metadata": {},
     "output_type": "execute_result"
    }
   ],
   "source": [
    "bool(j)"
   ]
  },
  {
   "cell_type": "code",
   "execution_count": 21,
   "id": "1dda9706-2052-4487-bbb7-f3bc3c48e96b",
   "metadata": {},
   "outputs": [
    {
     "name": "stdout",
     "output_type": "stream",
     "text": [
      "False\n"
     ]
    }
   ],
   "source": [
    "k=bool()\n",
    "print(k)"
   ]
  },
  {
   "cell_type": "code",
   "execution_count": 22,
   "id": "083f8509-fd10-4054-ab5f-4a1e7b5fa548",
   "metadata": {},
   "outputs": [
    {
     "data": {
      "text/plain": [
       "False"
      ]
     },
     "execution_count": 22,
     "metadata": {},
     "output_type": "execute_result"
    }
   ],
   "source": [
    "bool(k)"
   ]
  },
  {
   "cell_type": "code",
   "execution_count": 23,
   "id": "62e7c821-19ef-4bae-a464-edbf8e8d984d",
   "metadata": {},
   "outputs": [
    {
     "data": {
      "text/plain": [
       "False"
      ]
     },
     "execution_count": 23,
     "metadata": {},
     "output_type": "execute_result"
    }
   ],
   "source": [
    "bool(0)"
   ]
  },
  {
   "cell_type": "code",
   "execution_count": 24,
   "id": "3cc715ce-4612-4ee6-9599-dd251c7d55ec",
   "metadata": {},
   "outputs": [
    {
     "data": {
      "text/plain": [
       "False"
      ]
     },
     "execution_count": 24,
     "metadata": {},
     "output_type": "execute_result"
    }
   ],
   "source": [
    "bool(0.0)"
   ]
  },
  {
   "cell_type": "code",
   "execution_count": 25,
   "id": "f2fc8568-3a32-472f-b83d-38887d3df10d",
   "metadata": {},
   "outputs": [
    {
     "data": {
      "text/plain": [
       "False"
      ]
     },
     "execution_count": 25,
     "metadata": {},
     "output_type": "execute_result"
    }
   ],
   "source": [
    "bool('')"
   ]
  },
  {
   "cell_type": "code",
   "execution_count": 26,
   "id": "18d03a71-4161-45ed-bfad-f96782e0dc41",
   "metadata": {},
   "outputs": [
    {
     "data": {
      "text/plain": [
       "False"
      ]
     },
     "execution_count": 26,
     "metadata": {},
     "output_type": "execute_result"
    }
   ],
   "source": [
    "bool(\"\")"
   ]
  },
  {
   "cell_type": "code",
   "execution_count": 29,
   "id": "114a1097-41cb-4b29-88f9-754bb31a359e",
   "metadata": {},
   "outputs": [
    {
     "data": {
      "text/plain": [
       "False"
      ]
     },
     "execution_count": 29,
     "metadata": {},
     "output_type": "execute_result"
    }
   ],
   "source": [
    "bool(\"\"\"\"\"\")"
   ]
  },
  {
   "cell_type": "code",
   "execution_count": 30,
   "id": "c1d66966-e032-43da-ad56-2c98622a19f9",
   "metadata": {},
   "outputs": [
    {
     "data": {
      "text/plain": [
       "False"
      ]
     },
     "execution_count": 30,
     "metadata": {},
     "output_type": "execute_result"
    }
   ],
   "source": [
    "bool('''''')"
   ]
  },
  {
   "cell_type": "code",
   "execution_count": 31,
   "id": "09b8b6b6-b464-4faa-b2c4-3c70fadd61eb",
   "metadata": {},
   "outputs": [
    {
     "data": {
      "text/plain": [
       "False"
      ]
     },
     "execution_count": 31,
     "metadata": {},
     "output_type": "execute_result"
    }
   ],
   "source": [
    "bool([])\n"
   ]
  },
  {
   "cell_type": "code",
   "execution_count": 32,
   "id": "db7e093e-b329-4ccf-92ae-164fdd360973",
   "metadata": {},
   "outputs": [
    {
     "data": {
      "text/plain": [
       "False"
      ]
     },
     "execution_count": 32,
     "metadata": {},
     "output_type": "execute_result"
    }
   ],
   "source": [
    "bool(())"
   ]
  },
  {
   "cell_type": "code",
   "execution_count": 33,
   "id": "15cfbaec-5818-4cfa-b3e0-fe0ebd2aa577",
   "metadata": {},
   "outputs": [
    {
     "data": {
      "text/plain": [
       "False"
      ]
     },
     "execution_count": 33,
     "metadata": {},
     "output_type": "execute_result"
    }
   ],
   "source": [
    "bool({})"
   ]
  },
  {
   "cell_type": "code",
   "execution_count": 34,
   "id": "39fafe00-df8b-41c7-9054-01e474fb7183",
   "metadata": {},
   "outputs": [
    {
     "data": {
      "text/plain": [
       "False"
      ]
     },
     "execution_count": 34,
     "metadata": {},
     "output_type": "execute_result"
    }
   ],
   "source": [
    "bool(0j)"
   ]
  },
  {
   "cell_type": "code",
   "execution_count": 35,
   "id": "57ff3dae-5e1f-4f22-ab8e-1b53d7b49e41",
   "metadata": {},
   "outputs": [
    {
     "data": {
      "text/plain": [
       "False"
      ]
     },
     "execution_count": 35,
     "metadata": {},
     "output_type": "execute_result"
    }
   ],
   "source": [
    "bool(False)"
   ]
  },
  {
   "cell_type": "code",
   "execution_count": 36,
   "id": "f931fef7-7b0e-4d80-b213-75a29aacaa04",
   "metadata": {},
   "outputs": [
    {
     "data": {
      "text/plain": [
       "True"
      ]
     },
     "execution_count": 36,
     "metadata": {},
     "output_type": "execute_result"
    }
   ],
   "source": [
    "bool([{}])"
   ]
  },
  {
   "cell_type": "code",
   "execution_count": 37,
   "id": "c0463ac4-7048-4101-99e1-5d961e38c5d5",
   "metadata": {},
   "outputs": [],
   "source": [
    "a=[{}]"
   ]
  },
  {
   "cell_type": "code",
   "execution_count": 38,
   "id": "c30217aa-195d-47c8-8e49-b9f6a9de930d",
   "metadata": {},
   "outputs": [
    {
     "data": {
      "text/plain": [
       "{}"
      ]
     },
     "execution_count": 38,
     "metadata": {},
     "output_type": "execute_result"
    }
   ],
   "source": [
    "a[0]"
   ]
  },
  {
   "cell_type": "code",
   "execution_count": 40,
   "id": "dbf4c18d-f07a-462b-908c-2c9936939dce",
   "metadata": {},
   "outputs": [
    {
     "ename": "TypeError",
     "evalue": "unhashable type: 'dict'",
     "output_type": "error",
     "traceback": [
      "\u001b[1;31m---------------------------------------------------------------------------\u001b[0m",
      "\u001b[1;31mTypeError\u001b[0m                                 Traceback (most recent call last)",
      "Cell \u001b[1;32mIn[40], line 1\u001b[0m\n\u001b[1;32m----> 1\u001b[0m a\u001b[38;5;241m=\u001b[39m{{}}\n",
      "\u001b[1;31mTypeError\u001b[0m: unhashable type: 'dict'"
     ]
    }
   ],
   "source": [
    "a={{}}"
   ]
  },
  {
   "cell_type": "code",
   "execution_count": null,
   "id": "5857db94-b6a0-45e4-87f8-b4925687de53",
   "metadata": {},
   "outputs": [],
   "source": []
  },
  {
   "cell_type": "code",
   "execution_count": 41,
   "id": "cf3c483f-a6c6-42b3-8cea-b3304ada7cae",
   "metadata": {},
   "outputs": [
    {
     "ename": "TypeError",
     "evalue": "unhashable type: 'list'",
     "output_type": "error",
     "traceback": [
      "\u001b[1;31m---------------------------------------------------------------------------\u001b[0m",
      "\u001b[1;31mTypeError\u001b[0m                                 Traceback (most recent call last)",
      "Cell \u001b[1;32mIn[41], line 1\u001b[0m\n\u001b[1;32m----> 1\u001b[0m [{[]}]\n",
      "\u001b[1;31mTypeError\u001b[0m: unhashable type: 'list'"
     ]
    }
   ],
   "source": [
    "[{[]}]"
   ]
  },
  {
   "cell_type": "code",
   "execution_count": 42,
   "id": "0fae6f8b-ea21-481e-b07f-80e131275d59",
   "metadata": {},
   "outputs": [
    {
     "data": {
      "text/plain": [
       "{'', ()}"
      ]
     },
     "execution_count": 42,
     "metadata": {},
     "output_type": "execute_result"
    }
   ],
   "source": [
    "{(),''}"
   ]
  },
  {
   "cell_type": "code",
   "execution_count": 44,
   "id": "3498bfd6-2c55-4ebe-a65a-c72db7c99cac",
   "metadata": {},
   "outputs": [
    {
     "data": {
      "text/plain": [
       "dict"
      ]
     },
     "execution_count": 44,
     "metadata": {},
     "output_type": "execute_result"
    }
   ],
   "source": [
    "a={1:\"krishna\"}\n",
    "type(a)"
   ]
  },
  {
   "cell_type": "code",
   "execution_count": 45,
   "id": "f767fb86-81bb-4c15-b48f-162574c89c2e",
   "metadata": {},
   "outputs": [
    {
     "data": {
      "text/plain": [
       "set"
      ]
     },
     "execution_count": 45,
     "metadata": {},
     "output_type": "execute_result"
    }
   ],
   "source": [
    "a={'1:\"krishna\"'}\n",
    "type(a)"
   ]
  },
  {
   "cell_type": "code",
   "execution_count": null,
   "id": "c326a0f2-d922-4a95-b40b-f7234e854a27",
   "metadata": {},
   "outputs": [],
   "source": []
  }
 ],
 "metadata": {
  "kernelspec": {
   "display_name": "Python 3 (ipykernel)",
   "language": "python",
   "name": "python3"
  },
  "language_info": {
   "codemirror_mode": {
    "name": "ipython",
    "version": 3
   },
   "file_extension": ".py",
   "mimetype": "text/x-python",
   "name": "python",
   "nbconvert_exporter": "python",
   "pygments_lexer": "ipython3",
   "version": "3.11.4"
  }
 },
 "nbformat": 4,
 "nbformat_minor": 5
}
