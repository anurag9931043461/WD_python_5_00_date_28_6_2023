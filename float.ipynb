{
 "cells": [
  {
   "cell_type": "markdown",
   "id": "820eb719-1cc3-487f-b0d1-24aa4c4026f2",
   "metadata": {},
   "source": [
    "# float\n",
    "\n",
    "> float constructor is float()\n",
    "\n",
    "> float literal is 0.0"
   ]
  },
  {
   "cell_type": "code",
   "execution_count": 2,
   "id": "51312129-e632-438d-a395-288ea52580b0",
   "metadata": {},
   "outputs": [],
   "source": [
    "a=10.0"
   ]
  },
  {
   "cell_type": "code",
   "execution_count": 3,
   "id": "0558696b-53cb-428c-8890-b84f3c7d300d",
   "metadata": {},
   "outputs": [
    {
     "name": "stdout",
     "output_type": "stream",
     "text": [
      "10.0\n"
     ]
    }
   ],
   "source": [
    "print(a)"
   ]
  },
  {
   "cell_type": "code",
   "execution_count": 4,
   "id": "70a85120-4841-4400-bc03-e92f2ac8033c",
   "metadata": {},
   "outputs": [
    {
     "name": "stdout",
     "output_type": "stream",
     "text": [
      "<class 'float'>\n"
     ]
    }
   ],
   "source": [
    "print(type(a))"
   ]
  },
  {
   "cell_type": "code",
   "execution_count": 5,
   "id": "c29ad3ed-ac7a-4ad0-bd7b-270e1eae7136",
   "metadata": {},
   "outputs": [
    {
     "name": "stdout",
     "output_type": "stream",
     "text": [
      "2168749162992\n"
     ]
    }
   ],
   "source": [
    "print(id(a))"
   ]
  },
  {
   "cell_type": "code",
   "execution_count": 11,
   "id": "717a8a74-ea42-4088-96af-03cc0d064f7d",
   "metadata": {},
   "outputs": [
    {
     "ename": "SyntaxError",
     "evalue": "unterminated string literal (detected at line 1) (1698801531.py, line 1)",
     "output_type": "error",
     "traceback": [
      "\u001b[1;36m  Cell \u001b[1;32mIn[11], line 1\u001b[1;36m\u001b[0m\n\u001b[1;33m    b=10.0\"\u001b[0m\n\u001b[1;37m          ^\u001b[0m\n\u001b[1;31mSyntaxError\u001b[0m\u001b[1;31m:\u001b[0m unterminated string literal (detected at line 1)\n"
     ]
    }
   ],
   "source": [
    "b=10.0\""
   ]
  },
  {
   "cell_type": "code",
   "execution_count": 10,
   "id": "237f7ade-cbe3-411b-8219-86e0bc4487db",
   "metadata": {},
   "outputs": [
    {
     "name": "stdout",
     "output_type": "stream",
     "text": [
      "2168749163088\n"
     ]
    }
   ],
   "source": [
    "print(id(b))"
   ]
  },
  {
   "cell_type": "markdown",
   "id": "1f95c7b7-a5d6-4eea-a5eb-dc44a75507d5",
   "metadata": {},
   "source": [
    "# Implementation of interpreter\n",
    "\n",
    "> java jython\n",
    "\n",
    "> rod python\n",
    "\n",
    "> cpython(default)\n",
    "\n",
    "> ipython"
   ]
  },
  {
   "cell_type": "code",
   "execution_count": 13,
   "id": "856b0cb7-4030-4acd-827e-30ff233015d0",
   "metadata": {},
   "outputs": [
    {
     "name": "stdout",
     "output_type": "stream",
     "text": [
      "0.0\n",
      "<class 'float'>\n"
     ]
    }
   ],
   "source": [
    "a=float()\n",
    "print(a)\n",
    "print(type(a))"
   ]
  },
  {
   "cell_type": "code",
   "execution_count": 14,
   "id": "f08ddf39-cc16-49ff-b17d-1b7cc689c6c8",
   "metadata": {},
   "outputs": [
    {
     "name": "stdout",
     "output_type": "stream",
     "text": [
      "0.0\n"
     ]
    }
   ],
   "source": [
    "b=0.0\n",
    "print(b)"
   ]
  },
  {
   "cell_type": "code",
   "execution_count": 15,
   "id": "d90b463e-b7b5-4d63-843a-7cbcfad94303",
   "metadata": {},
   "outputs": [],
   "source": [
    "c=000000000000000.00000000020"
   ]
  },
  {
   "cell_type": "code",
   "execution_count": 16,
   "id": "98349e72-ad58-457b-b250-632ac07123c2",
   "metadata": {},
   "outputs": [
    {
     "name": "stdout",
     "output_type": "stream",
     "text": [
      "2e-10\n"
     ]
    }
   ],
   "source": [
    "print(c)"
   ]
  },
  {
   "cell_type": "code",
   "execution_count": 17,
   "id": "329f0495-4bc2-4098-9f08-4e458dad03aa",
   "metadata": {},
   "outputs": [],
   "source": [
    "d=2e10"
   ]
  },
  {
   "cell_type": "code",
   "execution_count": 18,
   "id": "0535224d-62a5-47fc-a74f-be1ca1ad7bc5",
   "metadata": {},
   "outputs": [
    {
     "name": "stdout",
     "output_type": "stream",
     "text": [
      "20000000000.0\n"
     ]
    }
   ],
   "source": [
    "print(d)"
   ]
  },
  {
   "cell_type": "code",
   "execution_count": 19,
   "id": "20bf6846-a95b-423c-b2bc-dc441717a421",
   "metadata": {},
   "outputs": [
    {
     "data": {
      "text/plain": [
       "20000000000.0"
      ]
     },
     "execution_count": 19,
     "metadata": {},
     "output_type": "execute_result"
    }
   ],
   "source": [
    "2*10.0**10"
   ]
  },
  {
   "cell_type": "code",
   "execution_count": null,
   "id": "d008c6fc-645e-4077-bc2d-d8cb44125553",
   "metadata": {},
   "outputs": [],
   "source": []
  }
 ],
 "metadata": {
  "kernelspec": {
   "display_name": "Python 3 (ipykernel)",
   "language": "python",
   "name": "python3"
  },
  "language_info": {
   "codemirror_mode": {
    "name": "ipython",
    "version": 3
   },
   "file_extension": ".py",
   "mimetype": "text/x-python",
   "name": "python",
   "nbconvert_exporter": "python",
   "pygments_lexer": "ipython3",
   "version": "3.11.4"
  }
 },
 "nbformat": 4,
 "nbformat_minor": 5
}
