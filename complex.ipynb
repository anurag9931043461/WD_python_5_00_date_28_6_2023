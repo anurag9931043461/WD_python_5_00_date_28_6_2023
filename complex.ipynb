{
 "cells": [
  {
   "cell_type": "code",
   "execution_count": 2,
   "id": "25be6d13-62a2-47b2-8d51-ea5ce6ba2708",
   "metadata": {},
   "outputs": [],
   "source": [
    "import math"
   ]
  },
  {
   "cell_type": "code",
   "execution_count": 4,
   "id": "4ebc4627-6e46-4dec-a18c-8fcfd04d4514",
   "metadata": {},
   "outputs": [
    {
     "data": {
      "text/plain": [
       "1.4142135623730951"
      ]
     },
     "execution_count": 4,
     "metadata": {},
     "output_type": "execute_result"
    }
   ],
   "source": [
    "math.sqrt(2)"
   ]
  },
  {
   "cell_type": "code",
   "execution_count": 5,
   "id": "013a72bd-3c0e-47ef-9984-b58c39ed12d7",
   "metadata": {},
   "outputs": [
    {
     "ename": "ValueError",
     "evalue": "math domain error",
     "output_type": "error",
     "traceback": [
      "\u001b[1;31m---------------------------------------------------------------------------\u001b[0m",
      "\u001b[1;31mValueError\u001b[0m                                Traceback (most recent call last)",
      "Cell \u001b[1;32mIn[5], line 1\u001b[0m\n\u001b[1;32m----> 1\u001b[0m \u001b[43mmath\u001b[49m\u001b[38;5;241;43m.\u001b[39;49m\u001b[43msqrt\u001b[49m\u001b[43m(\u001b[49m\u001b[38;5;241;43m-\u001b[39;49m\u001b[38;5;241;43m2\u001b[39;49m\u001b[43m)\u001b[49m\n",
      "\u001b[1;31mValueError\u001b[0m: math domain error"
     ]
    }
   ],
   "source": [
    "math.sqrt(-2)"
   ]
  },
  {
   "cell_type": "code",
   "execution_count": 8,
   "id": "48d2169b-9c9c-4b1d-9c8a-4dd6f7893e13",
   "metadata": {},
   "outputs": [],
   "source": [
    "j=1"
   ]
  },
  {
   "cell_type": "code",
   "execution_count": 10,
   "id": "513e9c71-f576-4145-852f-89bb11559022",
   "metadata": {},
   "outputs": [
    {
     "data": {
      "text/plain": [
       "2j"
      ]
     },
     "execution_count": 10,
     "metadata": {},
     "output_type": "execute_result"
    }
   ],
   "source": [
    "2j"
   ]
  },
  {
   "cell_type": "code",
   "execution_count": 11,
   "id": "37884d28-1f3b-4e54-b75c-84bd7773111a",
   "metadata": {},
   "outputs": [],
   "source": [
    "a=1j"
   ]
  },
  {
   "cell_type": "code",
   "execution_count": 12,
   "id": "937dfd37-aa0f-420c-8439-b68edb34f69c",
   "metadata": {},
   "outputs": [
    {
     "name": "stdout",
     "output_type": "stream",
     "text": [
      "<class 'complex'>\n"
     ]
    }
   ],
   "source": [
    "print(type(a))"
   ]
  },
  {
   "cell_type": "code",
   "execution_count": 13,
   "id": "b0502154-de3b-4ed8-b2dd-ee8c6e8b263f",
   "metadata": {},
   "outputs": [],
   "source": [
    "b=2+3j"
   ]
  },
  {
   "cell_type": "code",
   "execution_count": 14,
   "id": "8b47c2b9-d07d-4823-bf3b-b46fbfa33e07",
   "metadata": {},
   "outputs": [
    {
     "name": "stdout",
     "output_type": "stream",
     "text": [
      "(2+3j)\n"
     ]
    }
   ],
   "source": [
    "print(b)"
   ]
  },
  {
   "cell_type": "code",
   "execution_count": 15,
   "id": "93244740-0e86-43cf-a86a-fffe15169618",
   "metadata": {},
   "outputs": [],
   "source": [
    "c=3+3j"
   ]
  },
  {
   "cell_type": "code",
   "execution_count": 16,
   "id": "2989d469-c00e-43fb-83b0-0e5968e26bfc",
   "metadata": {},
   "outputs": [
    {
     "data": {
      "text/plain": [
       "(5+6j)"
      ]
     },
     "execution_count": 16,
     "metadata": {},
     "output_type": "execute_result"
    }
   ],
   "source": [
    "b+c"
   ]
  },
  {
   "cell_type": "code",
   "execution_count": 17,
   "id": "ec741185-4554-48d6-9f7c-fe8963393572",
   "metadata": {},
   "outputs": [
    {
     "data": {
      "text/plain": [
       "(-3+15j)"
      ]
     },
     "execution_count": 17,
     "metadata": {},
     "output_type": "execute_result"
    }
   ],
   "source": [
    "b*c"
   ]
  },
  {
   "cell_type": "code",
   "execution_count": 18,
   "id": "07d69d8d-61e2-4e30-a8ed-4783d43288d4",
   "metadata": {},
   "outputs": [
    {
     "data": {
      "text/plain": [
       "(0.8333333333333334+0.16666666666666666j)"
      ]
     },
     "execution_count": 18,
     "metadata": {},
     "output_type": "execute_result"
    }
   ],
   "source": [
    "b/c"
   ]
  },
  {
   "cell_type": "code",
   "execution_count": 1,
   "id": "73373f5c-f80c-4695-b787-4aded0c5db74",
   "metadata": {},
   "outputs": [],
   "source": [
    "a=complex()"
   ]
  },
  {
   "cell_type": "code",
   "execution_count": 2,
   "id": "d6a1c418-39fa-4a70-8cdf-7a7083bcb6e5",
   "metadata": {},
   "outputs": [
    {
     "name": "stdout",
     "output_type": "stream",
     "text": [
      "0j\n"
     ]
    }
   ],
   "source": [
    "print(a)"
   ]
  },
  {
   "cell_type": "code",
   "execution_count": null,
   "id": "642958b2-bd63-43b5-b166-924458fc0f18",
   "metadata": {},
   "outputs": [],
   "source": []
  }
 ],
 "metadata": {
  "kernelspec": {
   "display_name": "Python 3 (ipykernel)",
   "language": "python",
   "name": "python3"
  },
  "language_info": {
   "codemirror_mode": {
    "name": "ipython",
    "version": 3
   },
   "file_extension": ".py",
   "mimetype": "text/x-python",
   "name": "python",
   "nbconvert_exporter": "python",
   "pygments_lexer": "ipython3",
   "version": "3.11.5"
  }
 },
 "nbformat": 4,
 "nbformat_minor": 5
}
