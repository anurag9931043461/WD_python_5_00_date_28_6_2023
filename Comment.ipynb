{
 "cells": [
  {
   "cell_type": "code",
   "execution_count": 2,
   "id": "36a1c076-fa6f-4509-a67a-fd251101a057",
   "metadata": {},
   "outputs": [],
   "source": [
    "# comment:\n",
    "# > to understand our code.\n",
    "# > to test our code."
   ]
  },
  {
   "cell_type": "code",
   "execution_count": 5,
   "id": "99b54ece-7cd4-4390-99ea-e0cb10986854",
   "metadata": {},
   "outputs": [
    {
     "name": "stdout",
     "output_type": "stream",
     "text": [
      "hello world\n"
     ]
    }
   ],
   "source": [
    "print(\"hello world\")    #print() is used to echo something  sadfasdfasfasdfasdf"
   ]
  },
  {
   "cell_type": "code",
   "execution_count": 7,
   "id": "bdd34441-4969-42ed-bd83-5134aa8f17d6",
   "metadata": {},
   "outputs": [],
   "source": [
    "#ord(\"k\")"
   ]
  },
  {
   "cell_type": "code",
   "execution_count": 16,
   "id": "0bcd4232-543f-403d-b126-3383db2d4bae",
   "metadata": {},
   "outputs": [
    {
     "name": "stdout",
     "output_type": "stream",
     "text": [
      "hello world\n",
      "hello world\n",
      "hello world\n",
      "hello world\n",
      "hello world\n"
     ]
    }
   ],
   "source": [
    "print(\"hello world\")\n",
    "print(\"hello world\")\n",
    "print(\"hello world\")\n",
    "print(\"hello world\")\n",
    "print(\"hello world\")"
   ]
  },
  {
   "cell_type": "code",
   "execution_count": 19,
   "id": "85e28631-f2cb-468b-8996-88aa57842369",
   "metadata": {},
   "outputs": [
    {
     "ename": "SyntaxError",
     "evalue": "invalid syntax (693588083.py, line 2)",
     "output_type": "error",
     "traceback": [
      "\u001b[1;36m  Cell \u001b[1;32mIn[19], line 2\u001b[1;36m\u001b[0m\n\u001b[1;33m    \"#\"dfadfjaksjhfkjadshfkjashd,\u001b[0m\n\u001b[1;37m       ^\u001b[0m\n\u001b[1;31mSyntaxError\u001b[0m\u001b[1;31m:\u001b[0m invalid syntax\n"
     ]
    }
   ],
   "source": [
    "#dkfashfhsfhalksfdjlkajslkfjalsjflkajslkfjaksjflkasjdflkjaslkfj\n",
    "\"#\"dfadfjaksjhfkjadshfkjashd,"
   ]
  },
  {
   "cell_type": "code",
   "execution_count": 20,
   "id": "c6cc27ca-ae14-4735-9c46-c450fd7c9692",
   "metadata": {},
   "outputs": [],
   "source": [
    "#dkfashfhsfhalksfdjlkajslkfjalsjflkajslkfjaksjflkasjdflkjaslkfj\n",
    "#dfadfjaksjhfkjadshfkjashd,"
   ]
  },
  {
   "cell_type": "code",
   "execution_count": null,
   "id": "64b8a5ea-edea-4557-b9ee-4bb59446fb7d",
   "metadata": {},
   "outputs": [],
   "source": []
  }
 ],
 "metadata": {
  "kernelspec": {
   "display_name": "Python 3 (ipykernel)",
   "language": "python",
   "name": "python3"
  },
  "language_info": {
   "codemirror_mode": {
    "name": "ipython",
    "version": 3
   },
   "file_extension": ".py",
   "mimetype": "text/x-python",
   "name": "python",
   "nbconvert_exporter": "python",
   "pygments_lexer": "ipython3",
   "version": "3.11.4"
  }
 },
 "nbformat": 4,
 "nbformat_minor": 5
}
