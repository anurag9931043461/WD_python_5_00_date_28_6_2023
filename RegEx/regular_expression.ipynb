{
 "cells": [
  {
   "cell_type": "markdown",
   "id": "3362ee5b-e688-4547-8267-28d2e2741d4e",
   "metadata": {},
   "source": [
    "# Regular Expression:\n",
    "\n",
    "> it is used to filter a string/document\n",
    "\n",
    "> Regular expression or RegEx is a concept.\n",
    "\n",
    "> module of RegEx is re\n",
    "\n",
    "> four major operation.\n",
    "\n",
    "    > sub()\n",
    "\n",
    "    > split()\n",
    "\n",
    "    > search()\n",
    "\n",
    "    > findall()"
   ]
  },
  {
   "cell_type": "code",
   "execution_count": 6,
   "id": "d3a5c831-5a0c-4433-9054-cf76e551b321",
   "metadata": {},
   "outputs": [],
   "source": [
    "import re"
   ]
  },
  {
   "cell_type": "code",
   "execution_count": 7,
   "id": "b1aeeb30-7e09-4fbf-b7c9-7edc2e38643b",
   "metadata": {},
   "outputs": [],
   "source": [
    "a=\"THE foo#%@#d was n3423@$#@%ot tasty\""
   ]
  },
  {
   "cell_type": "code",
   "execution_count": 8,
   "id": "db8fd112-578a-41d8-b47f-86e15cdc5a82",
   "metadata": {},
   "outputs": [
    {
     "data": {
      "text/plain": [
       "'THE food was not tasty'"
      ]
     },
     "execution_count": 8,
     "metadata": {},
     "output_type": "execute_result"
    }
   ],
   "source": [
    "re.sub(\"[^A-z ]\",\"\",a)"
   ]
  },
  {
   "cell_type": "code",
   "execution_count": 9,
   "id": "75c95a36-09c0-4e8b-9166-489287f7c36c",
   "metadata": {},
   "outputs": [
    {
     "name": "stdout",
     "output_type": "stream",
     "text": [
      "foodwasnottasty\n"
     ]
    }
   ],
   "source": [
    "a=\"THE foo#%@#d was n3423@$#@%ot tasty\"\n",
    "n=\"\"\n",
    "for i in a:\n",
    "    if i in \"abcdefghijklmnopqrstuvwxyz\":\n",
    "        n+=i\n",
    "print(n)"
   ]
  },
  {
   "cell_type": "code",
   "execution_count": 10,
   "id": "d8f61254-581e-4fb3-80b6-2082b68bbc74",
   "metadata": {},
   "outputs": [
    {
     "name": "stdout",
     "output_type": "stream",
     "text": [
      "the food was not tasty\n"
     ]
    }
   ],
   "source": [
    "a=\"THE foo#%@#d was n3423@$#@%ot tasty\".casefold()\n",
    "n=\"\"\n",
    "for i in a:\n",
    "    if i in \" abcdefghijklmnopqrstuvwxyz\":\n",
    "        n+=i\n",
    "print(n)"
   ]
  },
  {
   "cell_type": "code",
   "execution_count": 11,
   "id": "30c0ba58-8094-47b3-a0d8-760fad78d1f6",
   "metadata": {},
   "outputs": [],
   "source": [
    "def substitute(arg):\n",
    "    n=\"\"\n",
    "    for i in arg:\n",
    "        if i not in \"1234567890!\\\"#$%&\\'()*+,-./:;<=>?@[\\\\]^_`{|}~\":\n",
    "            n+=i\n",
    "    print(n)"
   ]
  },
  {
   "cell_type": "code",
   "execution_count": 12,
   "id": "08fccb3d-2733-4983-91c1-5a678d08b2d7",
   "metadata": {},
   "outputs": [
    {
     "name": "stdout",
     "output_type": "stream",
     "text": [
      "I am krishna mohs\n"
     ]
    }
   ],
   "source": [
    "substitute(\"I am32432 krishna mohs4234234\")"
   ]
  },
  {
   "cell_type": "code",
   "execution_count": 13,
   "id": "bf6f0fca-7e43-4a97-9e0e-ecf0dff0b780",
   "metadata": {},
   "outputs": [],
   "source": [
    "def substitute(Pattern,arg):\n",
    "    n=\"\"\n",
    "    for i in arg:\n",
    "        if i not in Pattern:\n",
    "            n+=i\n",
    "    print(n)"
   ]
  },
  {
   "cell_type": "code",
   "execution_count": 14,
   "id": "d08347d8-01d5-4a6d-a39c-81ffaa05699e",
   "metadata": {},
   "outputs": [],
   "source": [
    "def substitute(Pattern,replace,arg):\n",
    "    n=\"\"\n",
    "    for i in arg:\n",
    "        if i not in Pattern:\n",
    "            n+=i\n",
    "        else:\n",
    "            n+=replace\n",
    "    print(n)"
   ]
  },
  {
   "cell_type": "code",
   "execution_count": 15,
   "id": "5cd8b76a-a68a-4c98-80e7-b42e5b21a7a0",
   "metadata": {},
   "outputs": [
    {
     "name": "stdout",
     "output_type": "stream",
     "text": [
      "I am krishna mohs\n"
     ]
    }
   ],
   "source": [
    "substitute(\"234\",\"\",\"I am32432 krishna mohs4234234\")"
   ]
  },
  {
   "cell_type": "code",
   "execution_count": 16,
   "id": "c12ead8b-ef48-4b9d-8c2c-8e65a31807e4",
   "metadata": {},
   "outputs": [],
   "source": [
    "import string"
   ]
  },
  {
   "cell_type": "code",
   "execution_count": 17,
   "id": "1fcff025-5905-4d7c-be9a-0823ff2e2932",
   "metadata": {},
   "outputs": [
    {
     "data": {
      "text/plain": [
       "'!\"#$%&\\'()*+,-./:;<=>?@[\\\\]^_`{|}~'"
      ]
     },
     "execution_count": 17,
     "metadata": {},
     "output_type": "execute_result"
    }
   ],
   "source": [
    "string.punctuation"
   ]
  },
  {
   "cell_type": "code",
   "execution_count": 28,
   "id": "d0d77545-2436-4ba8-b91c-85725b16f093",
   "metadata": {},
   "outputs": [],
   "source": [
    "import krishna_re"
   ]
  },
  {
   "cell_type": "code",
   "execution_count": 29,
   "id": "0bd4e25f-cf1a-4cf9-92de-8fe23b95557a",
   "metadata": {},
   "outputs": [
    {
     "name": "stdout",
     "output_type": "stream",
     "text": [
      "this is krishna\n"
     ]
    }
   ],
   "source": [
    "krishna_re.substitute(\"#$@#$\",\"\",\"this@# is kris$#hna\")"
   ]
  },
  {
   "cell_type": "code",
   "execution_count": 30,
   "id": "7a68f8ee-d252-42ca-962b-4dfdc2e6d365",
   "metadata": {},
   "outputs": [
    {
     "data": {
      "text/plain": [
       "['this', 'is', 'krishna', 'kumar']"
      ]
     },
     "execution_count": 30,
     "metadata": {},
     "output_type": "execute_result"
    }
   ],
   "source": [
    "re.split(\" \",\"this is krishna kumar\")"
   ]
  },
  {
   "cell_type": "code",
   "execution_count": null,
   "id": "0eb5929b-9b86-4df1-9da8-24fa723a04a8",
   "metadata": {},
   "outputs": [],
   "source": []
  },
  {
   "cell_type": "code",
   "execution_count": 31,
   "id": "ae13297f-edcc-493b-a232-8b69e0388886",
   "metadata": {},
   "outputs": [
    {
     "name": "stdout",
     "output_type": "stream",
     "text": [
      "['Python is ', 'unny langa']\n"
     ]
    }
   ],
   "source": [
    "split_krishna(\"funny\", \"Python is funny language\")"
   ]
  },
  {
   "cell_type": "code",
   "execution_count": null,
   "id": "a09b9ca7-b9c7-4cfc-882b-d3bbe8bd9996",
   "metadata": {},
   "outputs": [],
   "source": [
    "im"
   ]
  },
  {
   "cell_type": "code",
   "execution_count": 1,
   "id": "d2dbe712-c6d7-484f-b6c3-9e2865bea894",
   "metadata": {},
   "outputs": [],
   "source": [
    "import krishna_re"
   ]
  },
  {
   "cell_type": "code",
   "execution_count": 2,
   "id": "6732c8f1-ab8b-445a-a144-0f8a458001a3",
   "metadata": {},
   "outputs": [
    {
     "name": "stdout",
     "output_type": "stream",
     "text": [
      "['Hi, ', 'rishna is AI trainer ', 'rishna is doig']\n"
     ]
    }
   ],
   "source": [
    "krishna_re.split_krishna(\"krishna\",\"Hi, krishna is AI trainer krishna is doing MCA\")"
   ]
  },
  {
   "cell_type": "code",
   "execution_count": 12,
   "id": "ef1c2060-7bfd-443c-94b7-ed2e649de379",
   "metadata": {},
   "outputs": [],
   "source": [
    "def split(pattern,string1):\n",
    "    cont=[]\n",
    "    cont_demo=[]\n",
    "    string=\"\"\n",
    "    split_char=\"set\"\n",
    "    lenth=len(pattern)\n",
    "    for i in string1:\n",
    "        for j in string1:\n",
    "            if len(string)==len(pattern):\n",
    "                cont_demo.append(string)\n",
    "                string=\"\"\n",
    "                break\n",
    "            else:\n",
    "                string=string+j\n",
    "        string1 = string1[len(pattern) - (len(pattern) - 1):]\n",
    "    str2=\"\"\n",
    "    for i in cont_demo:\n",
    "        if i !=pattern:\n",
    "            str2=str2+i[0]\n",
    "        else:\n",
    "            cont.append(str2)\n",
    "            str2=\"\"\n",
    "    else:\n",
    "        cont.append(str2)\n",
    "    print(cont_demo)\n",
    "    print(cont)"
   ]
  },
  {
   "cell_type": "code",
   "execution_count": 13,
   "id": "11e6fb7e-5c6d-49c6-b1e7-bad5f10b2838",
   "metadata": {},
   "outputs": [
    {
     "name": "stdout",
     "output_type": "stream",
     "text": [
      "['Hi, kri', 'i, kris', ', krish', ' krishn', 'krishna', 'rishna ', 'ishna i', 'shna is', 'hna is ', 'na is A', 'a is AI', ' is AI ', 'is AI t', 's AI tr', ' AI tra', 'AI trai', 'I train', ' traine', 'trainer', 'rainer ', 'ainer k', 'iner kr', 'ner kri', 'er kris', 'r krish', ' krishn', 'krishna', 'rishna ', 'ishna i', 'shna is', 'hna is ', 'na is d', 'a is do', ' is doi', 'is doin', 's doing', ' doing ', 'doing M', 'oing MC', 'ing MCA', 'g MCA M']\n",
      "['Hi, ', 'rishna is AI trainer ', 'rishna is doig']\n"
     ]
    }
   ],
   "source": [
    "split(\"krishna\",\"Hi, krishna is AI trainer krishna is doing MCA\")"
   ]
  },
  {
   "cell_type": "code",
   "execution_count": null,
   "id": "f597f70e-d834-476a-b61c-c05671ebad40",
   "metadata": {},
   "outputs": [],
   "source": []
  },
  {
   "cell_type": "code",
   "execution_count": 1,
   "id": "29b114a4-4222-4aeb-8bbd-b2faad15c470",
   "metadata": {},
   "outputs": [],
   "source": [
    "import re"
   ]
  },
  {
   "cell_type": "code",
   "execution_count": 4,
   "id": "de4d4e1b-3ed5-4f45-845d-dcc4f293628d",
   "metadata": {},
   "outputs": [
    {
     "data": {
      "text/plain": [
       "['Python is ', 'asy to l', 'arn']"
      ]
     },
     "execution_count": 4,
     "metadata": {},
     "output_type": "execute_result"
    }
   ],
   "source": [
    "re.split(\"e\",\"Python is easy to learn\")"
   ]
  },
  {
   "cell_type": "code",
   "execution_count": 6,
   "id": "3423be1b-d262-4ac3-8bdc-8ffec93aba98",
   "metadata": {},
   "outputs": [
    {
     "data": {
      "text/plain": [
       "['Python is e', 'y to le', 'rn']"
      ]
     },
     "execution_count": 6,
     "metadata": {},
     "output_type": "execute_result"
    }
   ],
   "source": [
    "re.split(\"as\",\"Python is easy to leasrn\")"
   ]
  },
  {
   "cell_type": "code",
   "execution_count": 10,
   "id": "92c84e66-e1ee-4c7d-9d18-598d1e2756e8",
   "metadata": {},
   "outputs": [
    {
     "name": "stdout",
     "output_type": "stream",
     "text": [
      "[]\n"
     ]
    }
   ],
   "source": [
    "a=\"Python is easy to leasrn\"  # [Py,yt,th,....]\n",
    "split_point=\"as\"\n",
    "\n",
    "demo_list=[]\n",
    "demo_str=\"\"\n",
    "for i in a:\n",
    "    if i==len(split_point):\n",
    "        demo_list.append(demo_str)\n",
    "        demo_list=\"\"\n",
    "    else:\n",
    "        demo_str=demo_str+i\n",
    "print(demo_list)    "
   ]
  },
  {
   "cell_type": "code",
   "execution_count": 8,
   "id": "6a29a3bc-df8e-47f0-8f76-83ca2bc30e8b",
   "metadata": {},
   "outputs": [
    {
     "data": {
      "text/plain": [
       "24"
      ]
     },
     "execution_count": 8,
     "metadata": {},
     "output_type": "execute_result"
    }
   ],
   "source": [
    "a=\"Python is easy to leasrn\"\n"
   ]
  },
  {
   "cell_type": "code",
   "execution_count": 9,
   "id": "aa5bff6a-b65f-4135-aba3-d176de55f8c0",
   "metadata": {},
   "outputs": [
    {
     "data": {
      "text/plain": [
       "range(0, 24)"
      ]
     },
     "execution_count": 9,
     "metadata": {},
     "output_type": "execute_result"
    }
   ],
   "source": [
    "range(len(a))"
   ]
  },
  {
   "cell_type": "code",
   "execution_count": 11,
   "id": "d6b66d20-4ae0-43eb-bc69-fe7af05ae36a",
   "metadata": {},
   "outputs": [],
   "source": [
    "def my_split():\n",
    "    cont=[]\n",
    "    pattern=\" \"\n",
    "    text=\"this is krishna\"\n",
    "    str1=\"\"\n",
    "    k=0\n",
    "    for i in text:\n",
    "        if i==pattern:\n",
    "            cont.append(str1)\n",
    "            str1=\"\"\n",
    "            continue\n",
    "        str1+=i\n",
    "        k+=1\n",
    "    else:\n",
    "        cont.append(str1.strip())\n",
    "    return cont\n"
   ]
  },
  {
   "cell_type": "code",
   "execution_count": 12,
   "id": "69ed2afd-342b-4e5b-b956-c3d643122664",
   "metadata": {},
   "outputs": [
    {
     "data": {
      "text/plain": [
       "['this', 'is', 'krishna']"
      ]
     },
     "execution_count": 12,
     "metadata": {},
     "output_type": "execute_result"
    }
   ],
   "source": [
    "my_split()"
   ]
  },
  {
   "cell_type": "code",
   "execution_count": 1,
   "id": "5c260e8e-1bca-49e4-8f17-afe5d45b3a9c",
   "metadata": {},
   "outputs": [],
   "source": [
    "import re "
   ]
  },
  {
   "cell_type": "code",
   "execution_count": 3,
   "id": "a6adc71d-1fc6-4cef-9ccf-754aae016b32",
   "metadata": {},
   "outputs": [
    {
     "data": {
      "text/plain": [
       "0"
      ]
     },
     "execution_count": 3,
     "metadata": {},
     "output_type": "execute_result"
    }
   ],
   "source": [
    "a=re.search(\"Python\",\"Python is a funny language and Python is very friendly\")\n",
    "a.start()"
   ]
  },
  {
   "cell_type": "code",
   "execution_count": 4,
   "id": "9a6eed54-cd71-4463-bbab-a8e964d06afd",
   "metadata": {},
   "outputs": [
    {
     "data": {
      "text/plain": [
       "True"
      ]
     },
     "execution_count": 4,
     "metadata": {},
     "output_type": "execute_result"
    }
   ],
   "source": [
    "\"Python\"in\"Python is a funny language and Python is very friendly\""
   ]
  },
  {
   "cell_type": "code",
   "execution_count": 6,
   "id": "191f5902-4c27-4f27-bd6d-961f6b113e18",
   "metadata": {},
   "outputs": [
    {
     "data": {
      "text/plain": [
       "['Python', 'Python']"
      ]
     },
     "execution_count": 6,
     "metadata": {},
     "output_type": "execute_result"
    }
   ],
   "source": [
    "re.findall(\"Python\",\"Python is a funny language and Python is very friendly\")\n"
   ]
  },
  {
   "cell_type": "code",
   "execution_count": 7,
   "id": "c8b3431b-d31c-4b47-85ae-177719c0cff8",
   "metadata": {},
   "outputs": [
    {
     "data": {
      "text/plain": [
       "['u', 'u']"
      ]
     },
     "execution_count": 7,
     "metadata": {},
     "output_type": "execute_result"
    }
   ],
   "source": [
    "re.findall(\"u\",\"Python is a funny language and Python is very friendly\")\n"
   ]
  },
  {
   "cell_type": "code",
   "execution_count": null,
   "id": "8b6e80f5-f66d-4130-902f-e0200fa4e7ae",
   "metadata": {},
   "outputs": [],
   "source": []
  }
 ],
 "metadata": {
  "kernelspec": {
   "display_name": "Python 3 (ipykernel)",
   "language": "python",
   "name": "python3"
  },
  "language_info": {
   "codemirror_mode": {
    "name": "ipython",
    "version": 3
   },
   "file_extension": ".py",
   "mimetype": "text/x-python",
   "name": "python",
   "nbconvert_exporter": "python",
   "pygments_lexer": "ipython3",
   "version": "3.11.5"
  }
 },
 "nbformat": 4,
 "nbformat_minor": 5
}
