{
 "cells": [
  {
   "cell_type": "markdown",
   "id": "37c660b5-3e0d-4dc2-977c-a32eae4dd631",
   "metadata": {},
   "source": [
    "# frozenset\n",
    "\n",
    "> frozenset constructor is frozenset()\n",
    "\n",
    "> frozenset literal is not available\n",
    "\n",
    "> frozenset is immutable\n",
    "\n",
    "> frozenset doesnot support indexing and slicing beacuse it is unordered sequence\n",
    "of elments\n",
    "\n",
    "> frozenset support nesting \n",
    "\n",
    "> frozenset methods."
   ]
  },
  {
   "cell_type": "code",
   "execution_count": 1,
   "id": "cf536a64-6cfd-4212-a1a2-42961c9f7e3c",
   "metadata": {},
   "outputs": [],
   "source": [
    "a=frozenset([1,2,3,4,5,6,6,6,6,6,7,7])\n"
   ]
  },
  {
   "cell_type": "code",
   "execution_count": 2,
   "id": "49382ecd-7daa-4468-a074-60cfd72c6d3c",
   "metadata": {},
   "outputs": [
    {
     "name": "stdout",
     "output_type": "stream",
     "text": [
      "frozenset({1, 2, 3, 4, 5, 6, 7})\n"
     ]
    }
   ],
   "source": [
    "print(a)"
   ]
  },
  {
   "cell_type": "code",
   "execution_count": 3,
   "id": "3c48793e-5d9b-4cc8-9fa7-44091b3b1090",
   "metadata": {},
   "outputs": [],
   "source": [
    "b=frozenset({1,2,3,4,5,6,6,6,6,6,7,7})\n"
   ]
  },
  {
   "cell_type": "code",
   "execution_count": 4,
   "id": "db7f5e7b-fd05-4483-a3ca-5f4b1f5a5ea4",
   "metadata": {},
   "outputs": [
    {
     "name": "stdout",
     "output_type": "stream",
     "text": [
      "frozenset({1, 2, 3, 4, 5, 6, 7})\n"
     ]
    }
   ],
   "source": [
    "print(b)"
   ]
  },
  {
   "cell_type": "code",
   "execution_count": 5,
   "id": "08871ff1-4ac1-4925-86f8-a0c53aa87c39",
   "metadata": {},
   "outputs": [],
   "source": [
    "c=frozenset((1,2,3,4,5,6,6,6,6,6,7,7))\n"
   ]
  },
  {
   "cell_type": "code",
   "execution_count": 6,
   "id": "b87963d5-a90d-4c22-8f87-21f92538077e",
   "metadata": {},
   "outputs": [
    {
     "name": "stdout",
     "output_type": "stream",
     "text": [
      "frozenset({1, 2, 3, 4, 5, 6, 7})\n"
     ]
    }
   ],
   "source": [
    "print(c)"
   ]
  },
  {
   "cell_type": "code",
   "execution_count": 8,
   "id": "042bb81a-1f41-4457-add1-6a307fa75515",
   "metadata": {},
   "outputs": [
    {
     "data": {
      "text/plain": [
       "frozenset({'J', 'a', 'i', 'l', 'n', 's'})"
      ]
     },
     "execution_count": 8,
     "metadata": {},
     "output_type": "execute_result"
    }
   ],
   "source": [
    "frozenset(\"Jaslin\")"
   ]
  },
  {
   "cell_type": "code",
   "execution_count": 9,
   "id": "5fbd59fd-b28a-4c64-b7ff-70436df9d334",
   "metadata": {},
   "outputs": [
    {
     "ename": "TypeError",
     "evalue": "'int' object is not iterable",
     "output_type": "error",
     "traceback": [
      "\u001b[1;31m---------------------------------------------------------------------------\u001b[0m",
      "\u001b[1;31mTypeError\u001b[0m                                 Traceback (most recent call last)",
      "Cell \u001b[1;32mIn[9], line 1\u001b[0m\n\u001b[1;32m----> 1\u001b[0m \u001b[38;5;28;43mfrozenset\u001b[39;49m\u001b[43m(\u001b[49m\u001b[38;5;241;43m10\u001b[39;49m\u001b[43m)\u001b[49m\n",
      "\u001b[1;31mTypeError\u001b[0m: 'int' object is not iterable"
     ]
    }
   ],
   "source": [
    "frozenset(10)"
   ]
  },
  {
   "cell_type": "code",
   "execution_count": 10,
   "id": "c1e724a5-66e4-453c-9d82-5670bb91b937",
   "metadata": {},
   "outputs": [],
   "source": [
    "# nested frozenset"
   ]
  },
  {
   "cell_type": "code",
   "execution_count": 11,
   "id": "a3cffca5-eaeb-4044-bc84-6f6946dedbb9",
   "metadata": {},
   "outputs": [
    {
     "data": {
      "text/plain": [
       "frozenset({1, 2, 3, 4, 5, frozenset({1, 4, 5, 23})})"
      ]
     },
     "execution_count": 11,
     "metadata": {},
     "output_type": "execute_result"
    }
   ],
   "source": [
    "frozenset({1,2,3,4,5,frozenset({1,23,4,4,4,4,5,5})})"
   ]
  },
  {
   "cell_type": "code",
   "execution_count": 12,
   "id": "794bd8dd-99ee-4ff3-b194-bad9cff3c028",
   "metadata": {},
   "outputs": [
    {
     "data": {
      "text/plain": [
       "frozenset({1, 2, 3, 4, 5, frozenset({1, 4, 5, 23})})"
      ]
     },
     "execution_count": 12,
     "metadata": {},
     "output_type": "execute_result"
    }
   ],
   "source": [
    "frozenset({1,2,3,4,5,frozenset([1,23,4,4,4,4,5,5])})"
   ]
  },
  {
   "cell_type": "code",
   "execution_count": 13,
   "id": "703db888-d654-4899-93cd-e3447a1bb677",
   "metadata": {},
   "outputs": [],
   "source": [
    "a=frozenset([1,2,3,4,5,6])"
   ]
  },
  {
   "cell_type": "code",
   "execution_count": 14,
   "id": "b0abf910-196f-45c7-87a4-2a0f9409d9ee",
   "metadata": {},
   "outputs": [],
   "source": [
    "b=frozenset([4,5,6,7,8,9])"
   ]
  },
  {
   "cell_type": "code",
   "execution_count": 15,
   "id": "c10bd347-4bd2-4b3d-9488-5b7a9af04c68",
   "metadata": {},
   "outputs": [
    {
     "data": {
      "text/plain": [
       "frozenset({1, 2, 3, 4, 5, 6})"
      ]
     },
     "execution_count": 15,
     "metadata": {},
     "output_type": "execute_result"
    }
   ],
   "source": [
    "a"
   ]
  },
  {
   "cell_type": "code",
   "execution_count": 16,
   "id": "4096ee3c-7d1a-40c5-9a7c-2604124a2884",
   "metadata": {},
   "outputs": [
    {
     "data": {
      "text/plain": [
       "frozenset({4, 5, 6, 7, 8, 9})"
      ]
     },
     "execution_count": 16,
     "metadata": {},
     "output_type": "execute_result"
    }
   ],
   "source": [
    "b"
   ]
  },
  {
   "cell_type": "code",
   "execution_count": 17,
   "id": "418f6431-c422-4c02-b4c5-9c0911a2a01f",
   "metadata": {},
   "outputs": [
    {
     "data": {
      "text/plain": [
       "frozenset({1, 2, 3})"
      ]
     },
     "execution_count": 17,
     "metadata": {},
     "output_type": "execute_result"
    }
   ],
   "source": [
    "a-b"
   ]
  },
  {
   "cell_type": "code",
   "execution_count": 18,
   "id": "ca7fde34-bd6a-44d3-ad3a-4e078536d263",
   "metadata": {},
   "outputs": [
    {
     "data": {
      "text/plain": [
       "frozenset({1, 2, 3})"
      ]
     },
     "execution_count": 18,
     "metadata": {},
     "output_type": "execute_result"
    }
   ],
   "source": [
    "a.difference(b)"
   ]
  },
  {
   "cell_type": "code",
   "execution_count": 19,
   "id": "c55fffd2-96f7-41f5-bec8-d8637b83910e",
   "metadata": {},
   "outputs": [
    {
     "data": {
      "text/plain": [
       "frozenset({4, 5, 6})"
      ]
     },
     "execution_count": 19,
     "metadata": {},
     "output_type": "execute_result"
    }
   ],
   "source": [
    "a.intersection(b)"
   ]
  },
  {
   "cell_type": "code",
   "execution_count": 20,
   "id": "f92307d6-593a-4820-ba04-fd4dbe3f39b8",
   "metadata": {},
   "outputs": [
    {
     "data": {
      "text/plain": [
       "False"
      ]
     },
     "execution_count": 20,
     "metadata": {},
     "output_type": "execute_result"
    }
   ],
   "source": [
    "a.isdisjoint(b)"
   ]
  },
  {
   "cell_type": "code",
   "execution_count": 21,
   "id": "a866fb65-eb25-401c-b832-672079109288",
   "metadata": {},
   "outputs": [
    {
     "data": {
      "text/plain": [
       "frozenset({1, 2, 3, 7, 8, 9})"
      ]
     },
     "execution_count": 21,
     "metadata": {},
     "output_type": "execute_result"
    }
   ],
   "source": [
    "a.symmetric_difference(b)"
   ]
  },
  {
   "cell_type": "code",
   "execution_count": 22,
   "id": "e9afbc37-b7ba-4b83-9529-bce7a209cbff",
   "metadata": {},
   "outputs": [
    {
     "data": {
      "text/plain": [
       "False"
      ]
     },
     "execution_count": 22,
     "metadata": {},
     "output_type": "execute_result"
    }
   ],
   "source": [
    "a.issubset(b)"
   ]
  },
  {
   "cell_type": "code",
   "execution_count": 23,
   "id": "117be7be-d6a9-4587-8f07-26d891fd4f7f",
   "metadata": {},
   "outputs": [
    {
     "data": {
      "text/plain": [
       "False"
      ]
     },
     "execution_count": 23,
     "metadata": {},
     "output_type": "execute_result"
    }
   ],
   "source": [
    "a.issuperset(b)"
   ]
  },
  {
   "cell_type": "code",
   "execution_count": 24,
   "id": "7372665b-68ee-4d1b-b750-d7182006f65b",
   "metadata": {},
   "outputs": [
    {
     "data": {
      "text/plain": [
       "frozenset({1, 2, 3, 4, 5, 6, 7, 8, 9})"
      ]
     },
     "execution_count": 24,
     "metadata": {},
     "output_type": "execute_result"
    }
   ],
   "source": [
    "a.union(b)"
   ]
  },
  {
   "cell_type": "code",
   "execution_count": 25,
   "id": "745c7e6d-bbb1-45ba-8b6e-5bab388d165d",
   "metadata": {},
   "outputs": [],
   "source": [
    "a=[1,2,3,4,5]"
   ]
  },
  {
   "cell_type": "code",
   "execution_count": 26,
   "id": "967ad319-9b94-4144-9a35-cf7949ab5084",
   "metadata": {},
   "outputs": [],
   "source": [
    "a.remove(3)"
   ]
  },
  {
   "cell_type": "code",
   "execution_count": null,
   "id": "730cbae3-0446-4663-ab82-8fcacf572469",
   "metadata": {},
   "outputs": [],
   "source": []
  }
 ],
 "metadata": {
  "kernelspec": {
   "display_name": "Python 3 (ipykernel)",
   "language": "python",
   "name": "python3"
  },
  "language_info": {
   "codemirror_mode": {
    "name": "ipython",
    "version": 3
   },
   "file_extension": ".py",
   "mimetype": "text/x-python",
   "name": "python",
   "nbconvert_exporter": "python",
   "pygments_lexer": "ipython3",
   "version": "3.10.9"
  }
 },
 "nbformat": 4,
 "nbformat_minor": 5
}
