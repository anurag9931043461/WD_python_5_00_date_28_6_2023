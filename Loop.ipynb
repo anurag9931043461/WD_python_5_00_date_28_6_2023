{
 "cells": [
  {
   "cell_type": "raw",
   "id": "a6f04b02-925f-4c61-96cb-249d56c11658",
   "metadata": {},
   "source": [
    "#> Loop\n",
    "    > for loop\n",
    "        > nested for loop\n",
    "        > single for loop with pattern\n",
    "        > nested for loop with pattern\n",
    "        > list comprehension\n",
    "        > set comprehension\n",
    "        > dictionary comprehension\n",
    "        > tuple comprehension(generator)\n",
    "        > frozenset comprehension\n",
    "        > break\n",
    "        > continue\n",
    "        > pass\n",
    "    > while loop\n",
    "        > single while loop\n",
    "        > nested while loop \n",
    "        > pattern using simple while loop\n",
    "        > pattern using nested while loop\n",
    "        > break\n",
    "        > continue\n",
    "        > pass"
   ]
  },
  {
   "cell_type": "code",
   "execution_count": 2,
   "id": "4f2aa033-0db9-41bb-ba60-f0914abe3142",
   "metadata": {},
   "outputs": [
    {
     "name": "stdout",
     "output_type": "stream",
     "text": [
      "hello world\n",
      "hello world\n",
      "hello world\n",
      "hello world\n",
      "hello world\n"
     ]
    }
   ],
   "source": [
    "print(\"hello world\")\n",
    "print(\"hello world\")\n",
    "print(\"hello world\")\n",
    "print(\"hello world\")\n",
    "print(\"hello world\")"
   ]
  },
  {
   "cell_type": "code",
   "execution_count": 3,
   "id": "bab50ee8-d7ab-49b9-ba02-d6bb31d95c4c",
   "metadata": {},
   "outputs": [],
   "source": [
    "# for loop"
   ]
  },
  {
   "cell_type": "code",
   "execution_count": 5,
   "id": "7022d935-daba-4f1c-bd22-d2534d80ec04",
   "metadata": {},
   "outputs": [
    {
     "name": "stdout",
     "output_type": "stream",
     "text": [
      "2 hello world\n",
      "3 hello world\n",
      "2 hello world\n",
      "4 hello world\n",
      "5 hello world\n",
      "6 hello world\n",
      "8 hello world\n"
     ]
    }
   ],
   "source": [
    "for i in [2,3,2,4,5,6,8]:\n",
    "    print(i,\"hello world\")"
   ]
  },
  {
   "cell_type": "code",
   "execution_count": 6,
   "id": "c522f19a-4950-4d96-9283-82a3802b4386",
   "metadata": {},
   "outputs": [
    {
     "name": "stdout",
     "output_type": "stream",
     "text": [
      "K\n",
      "r\n",
      "i\n",
      "s\n",
      "h\n",
      "n\n",
      "a\n"
     ]
    }
   ],
   "source": [
    "for i in \"Krishna\":\n",
    "    print(i)"
   ]
  },
  {
   "cell_type": "code",
   "execution_count": 7,
   "id": "849534aa-f521-441f-984d-e51ad4e0d7ae",
   "metadata": {},
   "outputs": [
    {
     "name": "stdout",
     "output_type": "stream",
     "text": [
      "1\n",
      "2\n",
      "3\n",
      "4\n",
      "5\n",
      "6\n"
     ]
    }
   ],
   "source": [
    "for i in {1,2,3,4,5,6}:\n",
    "    print(i)"
   ]
  },
  {
   "cell_type": "code",
   "execution_count": 8,
   "id": "8137e094-c82c-4093-80e7-b415370e9c28",
   "metadata": {},
   "outputs": [
    {
     "name": "stdout",
     "output_type": "stream",
     "text": [
      "1\n",
      "2\n",
      "3\n",
      "4\n",
      "5\n"
     ]
    }
   ],
   "source": [
    "for i in (1,2,3,4,5):\n",
    "    print(i)"
   ]
  },
  {
   "cell_type": "code",
   "execution_count": 9,
   "id": "9731d2c0-bd5c-4746-9de2-dcc68d51c89b",
   "metadata": {},
   "outputs": [
    {
     "name": "stdout",
     "output_type": "stream",
     "text": [
      "1\n",
      "2\n",
      "3\n",
      "4\n",
      "5\n",
      "6\n"
     ]
    }
   ],
   "source": [
    "for i in frozenset({1,2,3,4,5,6}):\n",
    "    print(i)"
   ]
  },
  {
   "cell_type": "code",
   "execution_count": 12,
   "id": "40918c68-8dab-4b36-b40a-9a1f5ad16841",
   "metadata": {},
   "outputs": [
    {
     "name": "stdout",
     "output_type": "stream",
     "text": [
      "krishna\n",
      "Mohan\n",
      "Sohan\n"
     ]
    }
   ],
   "source": [
    "for i in {1:\"krishna\",2:\"Mohan\",3:\"Sohan\"}.values():\n",
    "    print(i)"
   ]
  },
  {
   "cell_type": "code",
   "execution_count": 13,
   "id": "8bf1d3ad-1c43-4dde-a5fb-e949b8e76407",
   "metadata": {},
   "outputs": [
    {
     "name": "stdout",
     "output_type": "stream",
     "text": [
      "(1, 'krishna')\n",
      "(2, 'Mohan')\n",
      "(3, 'Sohan')\n"
     ]
    }
   ],
   "source": [
    "for i in {1:\"krishna\",2:\"Mohan\",3:\"Sohan\"}.items():\n",
    "    print(i)"
   ]
  },
  {
   "cell_type": "code",
   "execution_count": 15,
   "id": "36085afb-8f18-47be-973f-912e38b49d93",
   "metadata": {},
   "outputs": [
    {
     "data": {
      "text/plain": [
       "(1, 2, 3, 4, 5, 6, 7)"
      ]
     },
     "execution_count": 15,
     "metadata": {},
     "output_type": "execute_result"
    }
   ],
   "source": [
    "1,2,3,4,5,6,7"
   ]
  },
  {
   "cell_type": "code",
   "execution_count": 19,
   "id": "08e52035-5776-436e-ae14-86c0e5ba07e9",
   "metadata": {},
   "outputs": [
    {
     "data": {
      "text/plain": [
       "'1,'"
      ]
     },
     "execution_count": 19,
     "metadata": {},
     "output_type": "execute_result"
    }
   ],
   "source": [
    "\"1\"+\",\""
   ]
  },
  {
   "cell_type": "code",
   "execution_count": 35,
   "id": "44dd5055-1c58-473a-8487-aac25597c0b3",
   "metadata": {},
   "outputs": [
    {
     "name": "stdout",
     "output_type": "stream",
     "text": [
      "*\n",
      "**\n",
      "***\n",
      "****\n",
      "*****\n"
     ]
    }
   ],
   "source": [
    "for i in range(0,5):\n",
    "    print(\"*\"*(i+1))"
   ]
  },
  {
   "cell_type": "code",
   "execution_count": 32,
   "id": "fcdc2f39-63b3-40f6-aadd-b4bcc9d78357",
   "metadata": {},
   "outputs": [
    {
     "name": "stdout",
     "output_type": "stream",
     "text": [
      "*\n",
      "**\n",
      "***\n",
      "****\n",
      "*****\n"
     ]
    }
   ],
   "source": [
    "print(\"*\"*1)\n",
    "print(\"*\"*2)\n",
    "print(\"*\"*3)\n",
    "print(\"*\"*4)\n",
    "print(\"*\"*5)"
   ]
  },
  {
   "cell_type": "code",
   "execution_count": 31,
   "id": "33580b9b-8073-47bf-af82-f704b6a19d52",
   "metadata": {},
   "outputs": [
    {
     "data": {
      "text/plain": [
       "''"
      ]
     },
     "execution_count": 31,
     "metadata": {},
     "output_type": "execute_result"
    }
   ],
   "source": [
    "\"*\"*0"
   ]
  },
  {
   "cell_type": "code",
   "execution_count": 36,
   "id": "b9b7ee72-fe67-4845-be17-08423f6b49a6",
   "metadata": {},
   "outputs": [
    {
     "name": "stdout",
     "output_type": "stream",
     "text": [
      "*****\n",
      "****\n",
      "***\n",
      "**\n",
      "*\n"
     ]
    }
   ],
   "source": [
    "for i in range(0,5):\n",
    "    print(\"*\"*(5-i))"
   ]
  },
  {
   "cell_type": "code",
   "execution_count": 37,
   "id": "4dcc394c-53f7-4c8f-91e4-af5cb010a8d6",
   "metadata": {},
   "outputs": [
    {
     "name": "stdout",
     "output_type": "stream",
     "text": [
      "*****\n",
      "****\n",
      "***\n",
      "**\n",
      "*\n"
     ]
    }
   ],
   "source": [
    "for i in range(0,5):\n",
    "    print((5-i)*\"*\")"
   ]
  },
  {
   "cell_type": "code",
   "execution_count": 40,
   "id": "76e7467d-78fd-4c59-b0c8-82ade1f1e26a",
   "metadata": {},
   "outputs": [
    {
     "name": "stdout",
     "output_type": "stream",
     "text": [
      "*****\n",
      " ****\n",
      "  ***\n",
      "   **\n",
      "    *\n"
     ]
    }
   ],
   "source": [
    "print(\" \"*0+\"*\"*5)\n",
    "print(\" \"*1+\"*\"*4)\n",
    "print(\" \"*2+\"*\"*3)\n",
    "print(\" \"*3+\"*\"*2)\n",
    "print(\" \"*4+\"*\"*1)\n"
   ]
  },
  {
   "cell_type": "code",
   "execution_count": 45,
   "id": "da619772-dd4c-40f7-b7f8-46276535cd7a",
   "metadata": {},
   "outputs": [
    {
     "name": "stdout",
     "output_type": "stream",
     "text": [
      "* * * * * \n",
      " * * * * \n",
      "  * * * \n",
      "   * * \n",
      "    * \n"
     ]
    }
   ],
   "source": [
    "for i in range(0,5):\n",
    "    print(\" \"*i+\"* \"*(5-i))"
   ]
  },
  {
   "cell_type": "code",
   "execution_count": 57,
   "id": "3cccfde3-bdbf-451a-b6b3-9a23eba3dc52",
   "metadata": {},
   "outputs": [
    {
     "name": "stdout",
     "output_type": "stream",
     "text": [
      "    * \n",
      "   * * \n",
      "  * * * \n",
      " * * * * \n",
      "* * * * * \n"
     ]
    }
   ],
   "source": [
    "for i in range(0,5):\n",
    "    print(\" \"*(4-i)+\"* \"*(i+1))"
   ]
  },
  {
   "cell_type": "code",
   "execution_count": 59,
   "id": "2696a0ff-011f-48be-8679-128567fa379d",
   "metadata": {},
   "outputs": [
    {
     "name": "stdout",
     "output_type": "stream",
     "text": [
      "* * * * * \n",
      " * * * * \n",
      "  * * * \n",
      "   * * \n",
      "    * \n",
      "    * \n",
      "   * * \n",
      "  * * * \n",
      " * * * * \n",
      "* * * * * \n"
     ]
    }
   ],
   "source": [
    "for i in range(0,5):\n",
    "    print(\" \"*i+\"* \"*(5-i))\n",
    "for i in range(0,5):\n",
    "    print(\" \"*(4-i)+\"* \"*(i+1))"
   ]
  },
  {
   "cell_type": "code",
   "execution_count": 3,
   "id": "e019304d-b528-40ae-8ec0-a51fbec1cfca",
   "metadata": {},
   "outputs": [
    {
     "name": "stdout",
     "output_type": "stream",
     "text": [
      "* * * * * \n",
      " * * * * \n",
      "  * * * \n",
      "   * * \n",
      "    * \n",
      "   * * \n",
      "  * * * \n",
      " * * * * \n",
      "* * * * * \n"
     ]
    }
   ],
   "source": [
    "j=1\n",
    "for i in range(0,9):\n",
    "    if i<5:\n",
    "        print(\" \"*i+\"* \"*(5-i))\n",
    "    else:\n",
    "        print(\" \"*(8-i)+\"* \"*(i-3))"
   ]
  },
  {
   "cell_type": "markdown",
   "id": "9159252a-8155-45da-8b04-c98fbb03c514",
   "metadata": {},
   "source": [
    "# pattern using nested for loop"
   ]
  },
  {
   "cell_type": "code",
   "execution_count": 4,
   "id": "afbe43a3-64df-4a87-b885-6b5745d9266f",
   "metadata": {},
   "outputs": [
    {
     "name": "stdout",
     "output_type": "stream",
     "text": [
      "*****\n",
      "*****\n",
      "*****\n",
      "*****\n",
      "*****\n"
     ]
    }
   ],
   "source": [
    "for i in range(5):\n",
    "    for j in range(5):\n",
    "        print(\"*\",end=\"\")\n",
    "    print()"
   ]
  },
  {
   "cell_type": "code",
   "execution_count": 5,
   "id": "f2443130-878a-42cd-b012-20e004059259",
   "metadata": {},
   "outputs": [
    {
     "name": "stdout",
     "output_type": "stream",
     "text": [
      "*\n",
      "*\n",
      "*\n",
      "*\n",
      "*\n"
     ]
    }
   ],
   "source": [
    "for i in range(5):\n",
    "    print(\"*\")"
   ]
  },
  {
   "cell_type": "code",
   "execution_count": 13,
   "id": "4113a501-7afb-47c4-bad5-055cf82aae1e",
   "metadata": {},
   "outputs": [
    {
     "name": "stdout",
     "output_type": "stream",
     "text": [
      "*\n",
      "**\n",
      "***\n",
      "****\n",
      "*****\n"
     ]
    }
   ],
   "source": [
    "for i in range(1):\n",
    "    print(\"*\",end=\"\")\n",
    "print()\n",
    "for i in range(2):\n",
    "    print(\"*\",end=\"\")\n",
    "print()\n",
    "for i in range(3):\n",
    "    print(\"*\",end=\"\")\n",
    "print()\n",
    "for i in range(4):\n",
    "    print(\"*\",end=\"\")\n",
    "print()\n",
    "for i in range(5):\n",
    "    print(\"*\",end=\"\")\n",
    "print()"
   ]
  },
  {
   "cell_type": "code",
   "execution_count": 15,
   "id": "d0d40146-5d9b-44e3-947e-1521b6cf155e",
   "metadata": {},
   "outputs": [
    {
     "name": "stdout",
     "output_type": "stream",
     "text": [
      "*\n",
      "**\n",
      "***\n",
      "****\n",
      "*****\n"
     ]
    }
   ],
   "source": [
    "for i in range(5):\n",
    "    for j in range(i+1):\n",
    "        print(\"*\",end=\"\")\n",
    "    print()"
   ]
  },
  {
   "cell_type": "markdown",
   "id": "5f2000ea-061a-4917-858b-c08c775c62be",
   "metadata": {},
   "source": [
    "# list comprehension"
   ]
  },
  {
   "cell_type": "code",
   "execution_count": 16,
   "id": "d3b0eaaf-fd1f-4efa-ad43-6e1336a23f92",
   "metadata": {},
   "outputs": [
    {
     "data": {
      "text/plain": [
       "range(0, 10)"
      ]
     },
     "execution_count": 16,
     "metadata": {},
     "output_type": "execute_result"
    }
   ],
   "source": [
    "range(10)"
   ]
  },
  {
   "cell_type": "code",
   "execution_count": 19,
   "id": "c65a81b4-d7e0-4e23-b4ce-c5481c335239",
   "metadata": {},
   "outputs": [
    {
     "name": "stdout",
     "output_type": "stream",
     "text": [
      "0\n",
      "1\n",
      "2\n",
      "3\n",
      "4\n",
      "5\n",
      "6\n",
      "7\n",
      "8\n",
      "9\n"
     ]
    }
   ],
   "source": [
    "for i in range(10):\n",
    "    print(i)"
   ]
  },
  {
   "cell_type": "code",
   "execution_count": 21,
   "id": "bc7dfdaf-74d4-4526-9b11-b6477f26d295",
   "metadata": {},
   "outputs": [
    {
     "name": "stdout",
     "output_type": "stream",
     "text": [
      "[0, 1, 2, 3, 4, 5, 6, 7, 8, 9]\n"
     ]
    }
   ],
   "source": [
    "a=[]\n",
    "for i in range(10):\n",
    "    a.append(i)\n",
    "print(a)"
   ]
  },
  {
   "cell_type": "code",
   "execution_count": 22,
   "id": "a525417f-e6c6-42e8-8241-afc447e6345c",
   "metadata": {},
   "outputs": [
    {
     "name": "stdout",
     "output_type": "stream",
     "text": [
      "[0, 1, 2, 3, 4, 5, 6, 7, 8, 9]\n"
     ]
    }
   ],
   "source": [
    "b=[i for i in range(10)]\n",
    "print(b)"
   ]
  },
  {
   "cell_type": "markdown",
   "id": "a501a4f9-42bf-4fc9-b664-ae4a4c9bdee8",
   "metadata": {},
   "source": [
    "# set comprehension"
   ]
  },
  {
   "cell_type": "code",
   "execution_count": 25,
   "id": "945847ad-6edb-4567-a855-4a3ca09a4150",
   "metadata": {},
   "outputs": [
    {
     "name": "stdout",
     "output_type": "stream",
     "text": [
      "{0, 1, 2, 3, 4, 5, 6, 7, 8, 9}\n"
     ]
    }
   ],
   "source": [
    "a=set()\n",
    "for i in range(10):\n",
    "    a.add(i)\n",
    "print(a)"
   ]
  },
  {
   "cell_type": "code",
   "execution_count": 26,
   "id": "2f703f05-270e-4a82-a242-385be90f777f",
   "metadata": {},
   "outputs": [
    {
     "name": "stdout",
     "output_type": "stream",
     "text": [
      "<class 'dict'>\n"
     ]
    }
   ],
   "source": [
    "b={}\n",
    "print(type(b))"
   ]
  },
  {
   "cell_type": "code",
   "execution_count": 27,
   "id": "0ef04d66-2176-4321-b17f-753b7ef6c536",
   "metadata": {},
   "outputs": [
    {
     "name": "stdout",
     "output_type": "stream",
     "text": [
      "<class 'set'>\n"
     ]
    }
   ],
   "source": [
    "b={1}\n",
    "print(type(b))"
   ]
  },
  {
   "cell_type": "code",
   "execution_count": 28,
   "id": "6c7f5b0c-02d6-4ca4-b6df-9c1659980dec",
   "metadata": {},
   "outputs": [],
   "source": [
    "c={i for i in range(10)}"
   ]
  },
  {
   "cell_type": "code",
   "execution_count": 29,
   "id": "c3418cbf-d3f1-4441-9a16-f1c5bc078a2f",
   "metadata": {},
   "outputs": [
    {
     "name": "stdout",
     "output_type": "stream",
     "text": [
      "{0, 1, 2, 3, 4, 5, 6, 7, 8, 9}\n"
     ]
    }
   ],
   "source": [
    "print(c)"
   ]
  },
  {
   "cell_type": "code",
   "execution_count": 33,
   "id": "0cddc277-3d9e-42eb-8144-8f7e57022ffe",
   "metadata": {},
   "outputs": [
    {
     "name": "stdout",
     "output_type": "stream",
     "text": [
      "[1, 2, 3, 4, 5]\n",
      "['krishna', 'Mohan', 'Sohan', 'Shyam', 'Vishnu']\n"
     ]
    }
   ],
   "source": [
    "a=[1,2,3,4,5]\n",
    "b=[\"krishna\",\"Mohan\",\"Sohan\",\"Shyam\",\"Vishnu\"]\n",
    "for i in a,b:\n",
    "    print(i)"
   ]
  },
  {
   "cell_type": "code",
   "execution_count": 34,
   "id": "62e7a6aa-1fca-484d-9343-8602710af757",
   "metadata": {},
   "outputs": [
    {
     "ename": "ValueError",
     "evalue": "too many values to unpack (expected 2)",
     "output_type": "error",
     "traceback": [
      "\u001b[1;31m---------------------------------------------------------------------------\u001b[0m",
      "\u001b[1;31mValueError\u001b[0m                                Traceback (most recent call last)",
      "Cell \u001b[1;32mIn[34], line 3\u001b[0m\n\u001b[0;32m      1\u001b[0m a\u001b[38;5;241m=\u001b[39m[\u001b[38;5;241m1\u001b[39m,\u001b[38;5;241m2\u001b[39m,\u001b[38;5;241m3\u001b[39m,\u001b[38;5;241m4\u001b[39m,\u001b[38;5;241m5\u001b[39m]\n\u001b[0;32m      2\u001b[0m b\u001b[38;5;241m=\u001b[39m[\u001b[38;5;124m\"\u001b[39m\u001b[38;5;124mkrishna\u001b[39m\u001b[38;5;124m\"\u001b[39m,\u001b[38;5;124m\"\u001b[39m\u001b[38;5;124mMohan\u001b[39m\u001b[38;5;124m\"\u001b[39m,\u001b[38;5;124m\"\u001b[39m\u001b[38;5;124mSohan\u001b[39m\u001b[38;5;124m\"\u001b[39m,\u001b[38;5;124m\"\u001b[39m\u001b[38;5;124mShyam\u001b[39m\u001b[38;5;124m\"\u001b[39m,\u001b[38;5;124m\"\u001b[39m\u001b[38;5;124mVishnu\u001b[39m\u001b[38;5;124m\"\u001b[39m]\n\u001b[1;32m----> 3\u001b[0m \u001b[38;5;28;01mfor\u001b[39;00m i,j \u001b[38;5;129;01min\u001b[39;00m a,b:\n\u001b[0;32m      4\u001b[0m     \u001b[38;5;28mprint\u001b[39m(i,j)\n",
      "\u001b[1;31mValueError\u001b[0m: too many values to unpack (expected 2)"
     ]
    }
   ],
   "source": [
    "a=[1,2,3,4,5]\n",
    "b=[\"krishna\",\"Mohan\",\"Sohan\",\"Shyam\",\"Vishnu\"]\n",
    "for i,j in a,b:\n",
    "    print(i,j)"
   ]
  },
  {
   "cell_type": "code",
   "execution_count": 35,
   "id": "404f170f-1725-496b-8d69-5d2b0c752586",
   "metadata": {},
   "outputs": [
    {
     "name": "stdout",
     "output_type": "stream",
     "text": [
      "1 krishna\n",
      "2 Mohan\n",
      "3 Sohan\n",
      "4 Shyam\n",
      "5 Vishnu\n"
     ]
    }
   ],
   "source": [
    "a=[1,2,3,4,5]\n",
    "b=[\"krishna\",\"Mohan\",\"Sohan\",\"Shyam\",\"Vishnu\"]\n",
    "for i,j in zip(a,b):\n",
    "    print(i,j)"
   ]
  },
  {
   "cell_type": "code",
   "execution_count": 36,
   "id": "b72f079d-b3a1-4e50-8d95-f008c9e80055",
   "metadata": {},
   "outputs": [],
   "source": [
    "d={}\n",
    "a=[1,2,3,4,5]\n",
    "b=[\"krishna\",\"Mohan\",\"Sohan\",\"Shyam\",\"Vishnu\"]\n",
    "for i,j in zip(a,b):\n",
    "    d.update({i:j})"
   ]
  },
  {
   "cell_type": "code",
   "execution_count": 37,
   "id": "255151d6-c9ae-4917-8755-78326d813201",
   "metadata": {},
   "outputs": [
    {
     "name": "stdout",
     "output_type": "stream",
     "text": [
      "{1: 'krishna', 2: 'Mohan', 3: 'Sohan', 4: 'Shyam', 5: 'Vishnu'}\n"
     ]
    }
   ],
   "source": [
    "print(d)"
   ]
  },
  {
   "cell_type": "markdown",
   "id": "afa9aae4-cae7-464e-8a15-7ced4c1991da",
   "metadata": {},
   "source": [
    "# dictionary comprehension "
   ]
  },
  {
   "cell_type": "code",
   "execution_count": 40,
   "id": "fba2f9e9-2b0b-4b9a-b576-ff6ca1619523",
   "metadata": {},
   "outputs": [],
   "source": [
    "e={i:j for i,j in zip(a,b)}"
   ]
  },
  {
   "cell_type": "code",
   "execution_count": 41,
   "id": "5f715875-cd6c-4088-91f9-be47e3badef0",
   "metadata": {},
   "outputs": [
    {
     "name": "stdout",
     "output_type": "stream",
     "text": [
      "{1: 'krishna', 2: 'Mohan', 3: 'Sohan', 4: 'Shyam', 5: 'Vishnu'}\n"
     ]
    }
   ],
   "source": [
    "print(e)"
   ]
  },
  {
   "cell_type": "code",
   "execution_count": 43,
   "id": "852a7f67-0089-4a52-9b38-5d165c859f64",
   "metadata": {},
   "outputs": [],
   "source": [
    "f={i:j for i,j in zip([1,2,3,4,5],[\"krishna\",\"Mohan\",\"Sohan\",\"Shyam\",\"Vishnu\"])}"
   ]
  },
  {
   "cell_type": "code",
   "execution_count": 44,
   "id": "600d8992-c4d3-4932-b653-328549b8a408",
   "metadata": {},
   "outputs": [
    {
     "name": "stdout",
     "output_type": "stream",
     "text": [
      "{1: 'krishna', 2: 'Mohan', 3: 'Sohan', 4: 'Shyam', 5: 'Vishnu'}\n"
     ]
    }
   ],
   "source": [
    "print(f)"
   ]
  },
  {
   "cell_type": "code",
   "execution_count": 51,
   "id": "810824bb-ce19-45e7-a8f9-6be97aabd055",
   "metadata": {},
   "outputs": [
    {
     "name": "stdout",
     "output_type": "stream",
     "text": [
      "(0, 1, 2, 3, 4, 5, 6, 7, 8, 9)\n"
     ]
    }
   ],
   "source": [
    "a=()\n",
    "for i in range(10):\n",
    "    a=a+(i,)\n",
    "print(a)"
   ]
  },
  {
   "cell_type": "code",
   "execution_count": 45,
   "id": "53a03c13-0ad3-4a6a-aeef-56281b03ecaf",
   "metadata": {},
   "outputs": [],
   "source": [
    "b=(1,2,3)"
   ]
  },
  {
   "cell_type": "code",
   "execution_count": 46,
   "id": "782bbff2-eed7-48d5-88f8-9bf34309000f",
   "metadata": {},
   "outputs": [],
   "source": [
    "b=b+(1,2,3,5)"
   ]
  },
  {
   "cell_type": "code",
   "execution_count": 47,
   "id": "b53c8d4f-620b-492e-a40a-9adfad755bb2",
   "metadata": {},
   "outputs": [
    {
     "name": "stdout",
     "output_type": "stream",
     "text": [
      "(1, 2, 3, 1, 2, 3, 5)\n"
     ]
    }
   ],
   "source": [
    "print(b)"
   ]
  },
  {
   "cell_type": "code",
   "execution_count": 64,
   "id": "c427ec46-cdc6-4ad0-a89a-d022d59eaa35",
   "metadata": {},
   "outputs": [
    {
     "name": "stdout",
     "output_type": "stream",
     "text": [
      "<generator object <genexpr> at 0x0000027A3B70A400>\n"
     ]
    }
   ],
   "source": [
    "v=(i for i in range(10))\n",
    "print(v)"
   ]
  },
  {
   "cell_type": "code",
   "execution_count": 65,
   "id": "161511b3-742d-4426-bce5-2613320365d3",
   "metadata": {},
   "outputs": [
    {
     "data": {
      "text/plain": [
       "0"
      ]
     },
     "execution_count": 65,
     "metadata": {},
     "output_type": "execute_result"
    }
   ],
   "source": [
    "next(v)"
   ]
  },
  {
   "cell_type": "code",
   "execution_count": 75,
   "id": "e8759119-3df2-46ac-aca0-498f1a9d4167",
   "metadata": {},
   "outputs": [
    {
     "ename": "StopIteration",
     "evalue": "",
     "output_type": "error",
     "traceback": [
      "\u001b[1;31m---------------------------------------------------------------------------\u001b[0m",
      "\u001b[1;31mStopIteration\u001b[0m                             Traceback (most recent call last)",
      "Cell \u001b[1;32mIn[75], line 1\u001b[0m\n\u001b[1;32m----> 1\u001b[0m \u001b[43mv\u001b[49m\u001b[38;5;241;43m.\u001b[39;49m\u001b[38;5;21;43m__next__\u001b[39;49m\u001b[43m(\u001b[49m\u001b[43m)\u001b[49m\n",
      "\u001b[1;31mStopIteration\u001b[0m: "
     ]
    }
   ],
   "source": [
    "v.__next__()"
   ]
  },
  {
   "cell_type": "markdown",
   "id": "66a2b43a-0f07-48bd-a3f8-3dc7d9b02198",
   "metadata": {},
   "source": [
    "> frozenset comprehension\n",
    "\n",
    "> break\n",
    "\n",
    "> continue\n",
    "\n",
    "> pass"
   ]
  },
  {
   "cell_type": "code",
   "execution_count": 1,
   "id": "40cc85fb-c64f-4bfb-986c-e5092c73e114",
   "metadata": {},
   "outputs": [],
   "source": [
    "# frozenset comprehension"
   ]
  },
  {
   "cell_type": "code",
   "execution_count": 2,
   "id": "21f88a7e-77eb-403b-8470-52ac505391f6",
   "metadata": {},
   "outputs": [
    {
     "ename": "TypeError",
     "evalue": "unsupported operand type(s) for +: 'frozenset' and 'frozenset'",
     "output_type": "error",
     "traceback": [
      "\u001b[1;31m---------------------------------------------------------------------------\u001b[0m",
      "\u001b[1;31mTypeError\u001b[0m                                 Traceback (most recent call last)",
      "Cell \u001b[1;32mIn[2], line 3\u001b[0m\n\u001b[0;32m      1\u001b[0m a\u001b[38;5;241m=\u001b[39m\u001b[38;5;28mfrozenset\u001b[39m()\n\u001b[0;32m      2\u001b[0m \u001b[38;5;28;01mfor\u001b[39;00m i \u001b[38;5;129;01min\u001b[39;00m \u001b[38;5;28mrange\u001b[39m(\u001b[38;5;241m10\u001b[39m):\n\u001b[1;32m----> 3\u001b[0m     a\u001b[38;5;241m=\u001b[39m\u001b[43ma\u001b[49m\u001b[38;5;241;43m+\u001b[39;49m\u001b[38;5;28;43mfrozenset\u001b[39;49m\u001b[43m(\u001b[49m\u001b[43m{\u001b[49m\u001b[43mi\u001b[49m\u001b[43m}\u001b[49m\u001b[43m)\u001b[49m\n",
      "\u001b[1;31mTypeError\u001b[0m: unsupported operand type(s) for +: 'frozenset' and 'frozenset'"
     ]
    }
   ],
   "source": [
    "a=frozenset()\n",
    "for i in range(10):\n",
    "    a=a+frozenset({i})"
   ]
  },
  {
   "cell_type": "code",
   "execution_count": 6,
   "id": "fdc9a52c-fcfb-42ff-8f90-07724d020d4e",
   "metadata": {},
   "outputs": [
    {
     "name": "stdout",
     "output_type": "stream",
     "text": [
      "frozenset({0})\n",
      "frozenset({0, 1})\n",
      "frozenset({0, 1, 2})\n",
      "frozenset({0, 1, 2, 3})\n",
      "frozenset({0, 1, 2, 3, 4})\n",
      "frozenset({0, 1, 2, 3, 4, 5})\n",
      "frozenset({0, 1, 2, 3, 4, 5, 6})\n",
      "frozenset({0, 1, 2, 3, 4, 5, 6, 7})\n",
      "frozenset({0, 1, 2, 3, 4, 5, 6, 7, 8})\n",
      "frozenset({0, 1, 2, 3, 4, 5, 6, 7, 8, 9})\n"
     ]
    }
   ],
   "source": [
    "a=frozenset()\n",
    "for i in range(10):\n",
    "    a=a.union({i})\n",
    "    print(a)"
   ]
  },
  {
   "cell_type": "code",
   "execution_count": 9,
   "id": "d654f1e2-d683-4a58-89d4-8470ffcedc0b",
   "metadata": {},
   "outputs": [],
   "source": [
    "a=frozenset()\n",
    "a=a.union({1})"
   ]
  },
  {
   "cell_type": "code",
   "execution_count": 10,
   "id": "be19fb3c-c7e8-4588-a3f4-a39705211ef2",
   "metadata": {},
   "outputs": [
    {
     "name": "stdout",
     "output_type": "stream",
     "text": [
      "frozenset({1})\n"
     ]
    }
   ],
   "source": [
    "print(a)"
   ]
  },
  {
   "cell_type": "code",
   "execution_count": 11,
   "id": "fcebe4ef-1485-45f2-a2ce-d270827ba39b",
   "metadata": {},
   "outputs": [
    {
     "name": "stdout",
     "output_type": "stream",
     "text": [
      "frozenset({0, 1, 2, 3, 4, 5, 6, 7, 8, 9})\n"
     ]
    }
   ],
   "source": [
    "a=frozenset()\n",
    "for i in range(10):\n",
    "    a=a.union({i})\n",
    "print(a)"
   ]
  },
  {
   "cell_type": "code",
   "execution_count": 12,
   "id": "648f3b45-2cf7-456e-8ba8-5403158f8fb9",
   "metadata": {},
   "outputs": [
    {
     "data": {
      "text/plain": [
       "frozenset({0, 1, 2, 3, 4, 5, 6, 7, 8, 9})"
      ]
     },
     "execution_count": 12,
     "metadata": {},
     "output_type": "execute_result"
    }
   ],
   "source": [
    "frozenset({i for i in range(10)})"
   ]
  },
  {
   "cell_type": "markdown",
   "id": "07892ce2-16d0-49f1-875d-d82eeffa0c56",
   "metadata": {},
   "source": [
    "> continue\n",
    "\n",
    "> break\n",
    "\n",
    "> pass"
   ]
  },
  {
   "cell_type": "markdown",
   "id": "1ab1487b-0b24-4806-abe3-cd03c644ad18",
   "metadata": {},
   "source": [
    "# continue\n",
    "\n",
    "always use inside a loop"
   ]
  },
  {
   "cell_type": "code",
   "execution_count": 16,
   "id": "82465599-d856-4faf-922e-e3b79a8c8c0e",
   "metadata": {},
   "outputs": [
    {
     "name": "stdout",
     "output_type": "stream",
     "text": [
      "0 hello world\n",
      "1 hello world\n",
      "2 hello world\n",
      "3 hello world\n",
      "4 hello world\n"
     ]
    }
   ],
   "source": [
    "for i in range(5):\n",
    "    print(i,\"hello world\")\n",
    "    "
   ]
  },
  {
   "cell_type": "code",
   "execution_count": 17,
   "id": "a6b4e907-b623-4a8d-88df-6d0df8c8073f",
   "metadata": {},
   "outputs": [
    {
     "name": "stdout",
     "output_type": "stream",
     "text": [
      "0 hello world\n",
      "1 hello world\n",
      "3 hello world\n",
      "4 hello world\n"
     ]
    }
   ],
   "source": [
    "for i in range(5):\n",
    "    if i==2:\n",
    "        continue\n",
    "    print(i,\"hello world\")"
   ]
  },
  {
   "cell_type": "code",
   "execution_count": 18,
   "id": "ebef6e21-c036-44d2-b707-ff76053a8c75",
   "metadata": {},
   "outputs": [
    {
     "name": "stdout",
     "output_type": "stream",
     "text": [
      "0 hello world\n",
      "1 hello world\n",
      "2 hello world\n",
      "3 hello world\n",
      "4 hello world\n"
     ]
    }
   ],
   "source": [
    "for i in range(5):\n",
    "    print(i,\"hello world\")\n",
    "    if i==2:\n",
    "        continue\n",
    "    "
   ]
  },
  {
   "cell_type": "code",
   "execution_count": 19,
   "id": "dab5c0ba-1b84-41de-b4cd-65e53bf97dd1",
   "metadata": {},
   "outputs": [
    {
     "data": {
      "text/plain": [
       "False"
      ]
     },
     "execution_count": 19,
     "metadata": {},
     "output_type": "execute_result"
    }
   ],
   "source": [
    "i=2\n",
    "i==2 and i==3"
   ]
  },
  {
   "cell_type": "code",
   "execution_count": 20,
   "id": "23cd1088-e8fe-4ced-808b-b233e2fa480f",
   "metadata": {},
   "outputs": [
    {
     "name": "stdout",
     "output_type": "stream",
     "text": [
      "0 hello world\n",
      "1 hello world\n",
      "4 hello world\n"
     ]
    }
   ],
   "source": [
    "for i in range(5):\n",
    "    if i==2 or i==3:\n",
    "        continue\n",
    "    print(i, \"hello world\")"
   ]
  },
  {
   "cell_type": "code",
   "execution_count": 21,
   "id": "866092b4-3bb8-457c-acb1-9cf829b8e993",
   "metadata": {},
   "outputs": [
    {
     "name": "stdout",
     "output_type": "stream",
     "text": [
      "0 hello world\n",
      "1 hello world\n",
      "4 hello world\n",
      "6 hello world\n",
      "8 hello world\n",
      "9 hello world\n"
     ]
    }
   ],
   "source": [
    "for i in range(10):\n",
    "    if i==2 or i==3 or i==5 or i==7:\n",
    "        continue\n",
    "    print(i, \"hello world\")"
   ]
  },
  {
   "cell_type": "code",
   "execution_count": 22,
   "id": "cc775db8-7377-45cd-92a9-5a70cf00d1eb",
   "metadata": {},
   "outputs": [
    {
     "name": "stdout",
     "output_type": "stream",
     "text": [
      "0 hello world\n",
      "1 hello world\n",
      "4 hello world\n",
      "6 hello world\n",
      "8 hello world\n",
      "9 hello world\n"
     ]
    }
   ],
   "source": [
    "for i in range(10):\n",
    "    if i in [2,3,5,7]:\n",
    "        continue\n",
    "    print(i, \"hello world\")"
   ]
  },
  {
   "cell_type": "code",
   "execution_count": 23,
   "id": "68921333-b6d3-4480-b97a-d255fc87719b",
   "metadata": {},
   "outputs": [
    {
     "name": "stdout",
     "output_type": "stream",
     "text": [
      "0 Hello world\n",
      "1 Hello world\n",
      "4 Namskar hello world\n",
      "6 Namskar hello world\n",
      "8 Hello world\n",
      "9 Hello world\n"
     ]
    }
   ],
   "source": [
    "for i in range(10):\n",
    "    if i in [2,3,5,7]:\n",
    "        continue\n",
    "    elif i in [4,6]:\n",
    "        print(i,\"Namskar hello world\")\n",
    "    else:\n",
    "        print(i,\"Hello world\")"
   ]
  },
  {
   "cell_type": "markdown",
   "id": "6f182e03-c6a3-4d32-85fd-f2870e1bd37d",
   "metadata": {},
   "source": [
    "# break\n",
    "\n",
    "use inside loop only"
   ]
  },
  {
   "cell_type": "code",
   "execution_count": 27,
   "id": "df53d1da-8008-4b13-a0aa-b8e54ed37af5",
   "metadata": {},
   "outputs": [
    {
     "name": "stdout",
     "output_type": "stream",
     "text": [
      "0 hello world\n",
      "1 hello world\n"
     ]
    }
   ],
   "source": [
    "for i in range(10):\n",
    "    if i==2:\n",
    "        break\n",
    "    print(i, \"hello world\")"
   ]
  },
  {
   "cell_type": "code",
   "execution_count": 30,
   "id": "6203e032-819e-491c-b502-4aeacb9a1154",
   "metadata": {},
   "outputs": [
    {
     "name": "stdin",
     "output_type": "stream",
     "text": [
      "Enter a number : 11\n"
     ]
    },
    {
     "name": "stdout",
     "output_type": "stream",
     "text": [
      "odd number\n",
      "Hello world\n"
     ]
    }
   ],
   "source": [
    "num1=int(input(\"Enter a number :\"))\n",
    "if num1%2==0:\n",
    "    print(\"even number\")\n",
    "else:\n",
    "    print(\"odd number\")\n",
    "\n",
    "print(\"Hello world\")"
   ]
  },
  {
   "cell_type": "code",
   "execution_count": 34,
   "id": "ffcda41d-5082-4f3c-8e17-a86c462b45b4",
   "metadata": {},
   "outputs": [
    {
     "name": "stdin",
     "output_type": "stream",
     "text": [
      "Enter a number : 10\n"
     ]
    },
    {
     "name": "stdout",
     "output_type": "stream",
     "text": [
      "Hello world\n"
     ]
    }
   ],
   "source": [
    "num1=int(input(\"Enter a number :\"))\n",
    "if num1%2==0:\n",
    "    pass\n",
    "else:\n",
    "    print(\"odd number\")\n",
    "\n",
    "print(\"Hello world\")"
   ]
  },
  {
   "cell_type": "code",
   "execution_count": 35,
   "id": "d5d3a490-56e9-4bff-a12a-2d62230d8c8f",
   "metadata": {},
   "outputs": [
    {
     "name": "stdin",
     "output_type": "stream",
     "text": [
      "Enter a number : 10\n"
     ]
    },
    {
     "name": "stdout",
     "output_type": "stream",
     "text": [
      "this is even number\n",
      "Hello world\n"
     ]
    }
   ],
   "source": [
    "num1=int(input(\"Enter a number :\"))\n",
    "if num1%2==0:\n",
    "    print(\"this is even number\")\n",
    "else:\n",
    "    print(\"odd number\")\n",
    "\n",
    "print(\"Hello world\")"
   ]
  },
  {
   "cell_type": "code",
   "execution_count": 36,
   "id": "ff794875-2b23-4bd2-bf32-56cf46a3a6f0",
   "metadata": {},
   "outputs": [
    {
     "name": "stdin",
     "output_type": "stream",
     "text": [
      "Enter a number : 11\n"
     ]
    },
    {
     "name": "stdout",
     "output_type": "stream",
     "text": [
      "Hello world\n"
     ]
    }
   ],
   "source": [
    "num1=int(input(\"Enter a number :\"))\n",
    "if num1%2==0:\n",
    "    print(\"this is even number\")\n",
    "else:\n",
    "    pass\n",
    "print(\"Hello world\")"
   ]
  },
  {
   "cell_type": "code",
   "execution_count": 40,
   "id": "cb990098-6e02-4069-8eaa-000e46482f8a",
   "metadata": {},
   "outputs": [
    {
     "name": "stdout",
     "output_type": "stream",
     "text": [
      "hello world,a\n",
      "hello world,a\n",
      "hello world,a\n",
      "hello world,a\n",
      "hello world,a\n",
      "this is krishna\n"
     ]
    }
   ],
   "source": [
    "for i in range(5):\n",
    "    print(\"hello world\",\"a\",sep=\",\")\n",
    "print(\"this is krishna\")"
   ]
  },
  {
   "cell_type": "code",
   "execution_count": 39,
   "id": "f42c407c-4db1-4d8f-b039-54aa36f7bff1",
   "metadata": {},
   "outputs": [
    {
     "name": "stdout",
     "output_type": "stream",
     "text": [
      "this is krishna\n"
     ]
    }
   ],
   "source": [
    "for i in range(5):\n",
    "    pass\n",
    "print(\"this is krishna\")"
   ]
  },
  {
   "cell_type": "raw",
   "id": "4ed8595d-2136-4f48-a770-7cf6c588894b",
   "metadata": {},
   "source": [
    "# while loop\n",
    "\n",
    "        > single while loop\n",
    "        > nested while loop \n",
    "        > pattern using simple while loop\n",
    "        > pattern using nested while loop\n",
    "        > break\n",
    "        > continue\n",
    "        > pass"
   ]
  },
  {
   "cell_type": "raw",
   "id": "65537a9e-319c-4436-b640-6fb81c42e93e",
   "metadata": {},
   "source": [
    "initializer\n",
    "while condition:\n",
    "    statement(s)\n",
    "    increment/decrement"
   ]
  },
  {
   "cell_type": "code",
   "execution_count": 1,
   "id": "6c31b53e-9c7d-4d35-8685-09661f01a26f",
   "metadata": {},
   "outputs": [
    {
     "name": "stdout",
     "output_type": "stream",
     "text": [
      "hello world\n",
      "hello world\n",
      "hello world\n",
      "hello world\n",
      "hello world\n"
     ]
    }
   ],
   "source": [
    "i=1\n",
    "while i<=5:\n",
    "    print(\"hello world\")\n",
    "    i=i+1"
   ]
  },
  {
   "cell_type": "code",
   "execution_count": 6,
   "id": "e7ae6f04-b86c-4e4a-b044-35fab9ddf22f",
   "metadata": {},
   "outputs": [
    {
     "name": "stdout",
     "output_type": "stream",
     "text": [
      "krishna\n",
      "Mohan\n",
      "shayam\n",
      "Radhey\n",
      "Murli\n"
     ]
    }
   ],
   "source": [
    "a=[\"krishna\",\"Mohan\",\"shayam\",\"Radhey\",\"Murli\"]\n",
    "i=0\n",
    "while i<5:\n",
    "    print(a[i])\n",
    "    i=i+1   # i+=1"
   ]
  },
  {
   "cell_type": "code",
   "execution_count": 7,
   "id": "90f82986-dba2-48ae-9dc0-95dae1d3db3c",
   "metadata": {},
   "outputs": [
    {
     "name": "stdout",
     "output_type": "stream",
     "text": [
      "krishna\n",
      "Mohan\n",
      "shayam\n",
      "Radhey\n",
      "Murli\n"
     ]
    }
   ],
   "source": [
    "a=[\"krishna\",\"Mohan\",\"shayam\",\"Radhey\",\"Murli\"]\n",
    "for i in a:\n",
    "    print(i)"
   ]
  },
  {
   "cell_type": "code",
   "execution_count": 9,
   "id": "7682dce9-eec7-4cdd-be60-bcde5e30e8ac",
   "metadata": {},
   "outputs": [
    {
     "name": "stdout",
     "output_type": "stream",
     "text": [
      "krishna\n",
      "Mohan\n",
      "shayam\n",
      "Radhey\n",
      "Murli\n"
     ]
    }
   ],
   "source": [
    "a=[\"krishna\",\"Mohan\",\"shayam\",\"Radhey\",\"Murli\"]\n",
    "i=0\n",
    "while i<len(a):\n",
    "    print(a[i])\n",
    "    i=i+1   # i+=1"
   ]
  },
  {
   "cell_type": "code",
   "execution_count": 8,
   "id": "1059be54-7f6d-4e01-aab1-a51b1fd33079",
   "metadata": {},
   "outputs": [
    {
     "data": {
      "text/plain": [
       "5"
      ]
     },
     "execution_count": 8,
     "metadata": {},
     "output_type": "execute_result"
    }
   ],
   "source": [
    "len(a)"
   ]
  },
  {
   "cell_type": "code",
   "execution_count": 3,
   "id": "2472fb50-f62a-4c91-867a-050333e1d54f",
   "metadata": {},
   "outputs": [
    {
     "name": "stdout",
     "output_type": "stream",
     "text": [
      "Murli\n",
      "Radhey\n",
      "shayam\n",
      "Mohan\n",
      "krishna\n"
     ]
    }
   ],
   "source": [
    "a=[\"krishna\",\"Mohan\",\"shayam\",\"Radhey\",\"Murli\"]\n",
    "i=0\n",
    "while i<len(a):\n",
    "    print(a[4-i])\n",
    "    i=i+1"
   ]
  },
  {
   "cell_type": "code",
   "execution_count": 4,
   "id": "78dfc8da-812f-4209-9622-c1961b0b2d0f",
   "metadata": {},
   "outputs": [
    {
     "name": "stdout",
     "output_type": "stream",
     "text": [
      "Murli\n",
      "Radhey\n",
      "shayam\n",
      "Mohan\n",
      "krishna\n"
     ]
    }
   ],
   "source": [
    "a=[\"krishna\",\"Mohan\",\"shayam\",\"Radhey\",\"Murli\"]\n",
    "i=0\n",
    "while i<len(a):\n",
    "    print(a[-(i+1)])\n",
    "    i=i+1"
   ]
  },
  {
   "cell_type": "code",
   "execution_count": 6,
   "id": "1f00c0e9-913f-45e7-9626-e6f48cc7b630",
   "metadata": {},
   "outputs": [
    {
     "name": "stdout",
     "output_type": "stream",
     "text": [
      "1=Murli\n",
      "2=Radhey\n",
      "3=shayam\n",
      "4=Mohan\n",
      "5=krishna\n"
     ]
    }
   ],
   "source": [
    "a=[\"krishna\",\"Mohan\",\"shayam\",\"Radhey\",\"Murli\"]\n",
    "i=0\n",
    "while i<len(a):\n",
    "    print(i+1,a[-(i+1)],sep=\"=\")\n",
    "    i=i+1"
   ]
  },
  {
   "cell_type": "code",
   "execution_count": 8,
   "id": "b037e4e8-1930-4c9a-8dd8-423a0aaaaf13",
   "metadata": {},
   "outputs": [
    {
     "name": "stdout",
     "output_type": "stream",
     "text": [
      "1=Murli\n",
      "2=Radhey\n",
      "3=shayam\n",
      "4=Mohan\n",
      "5=krishna\n"
     ]
    }
   ],
   "source": [
    "a=[\"krishna\",\"Mohan\",\"shayam\",\"Radhey\",\"Murli\"]\n",
    "i=0\n",
    "while i<len(a):\n",
    "    print(i+1,\"=\",a[-(i+1)],sep=\"\")\n",
    "    i=i+1"
   ]
  },
  {
   "cell_type": "code",
   "execution_count": 9,
   "id": "85c7b643-e7d9-4aff-82be-41307262180d",
   "metadata": {},
   "outputs": [
    {
     "name": "stdout",
     "output_type": "stream",
     "text": [
      "['krishna', 'Mohan', 'shayam', 'Radhey', 'Murli']\n"
     ]
    }
   ],
   "source": [
    "print(a)"
   ]
  },
  {
   "cell_type": "code",
   "execution_count": 10,
   "id": "6b0198c7-d577-4b1a-ba14-e6a3c1e6f2de",
   "metadata": {},
   "outputs": [],
   "source": [
    "a.reverse()"
   ]
  },
  {
   "cell_type": "code",
   "execution_count": 11,
   "id": "5c199d7f-84bf-4e76-8098-b4382c88fde9",
   "metadata": {},
   "outputs": [
    {
     "name": "stdout",
     "output_type": "stream",
     "text": [
      "['Murli', 'Radhey', 'shayam', 'Mohan', 'krishna']\n"
     ]
    }
   ],
   "source": [
    "print(a)"
   ]
  },
  {
   "cell_type": "code",
   "execution_count": 28,
   "id": "1f86dfe1-2269-40c7-8292-39ceab39e947",
   "metadata": {},
   "outputs": [],
   "source": [
    "a=[\"krishna\",\"Mohan\",\"shayam\",\"Radhey\",\"Murli\"]\n",
    "new=[]\n",
    "i=0\n",
    "while i<len(a):\n",
    "    c=a[-(i+1)]\n",
    "    d=c[-1::-1]\n",
    "    new.append(d)\n",
    "    i=i+1"
   ]
  },
  {
   "cell_type": "code",
   "execution_count": 29,
   "id": "1f5c37d8-14b0-4dab-b6c9-f1ce560f3436",
   "metadata": {},
   "outputs": [
    {
     "name": "stdout",
     "output_type": "stream",
     "text": [
      "['ilruM', 'yehdaR', 'mayahs', 'nahoM', 'anhsirk']\n"
     ]
    }
   ],
   "source": [
    "print(new)"
   ]
  },
  {
   "cell_type": "code",
   "execution_count": 19,
   "id": "95dbd73f-8cea-4973-9a0c-e8255a7a1583",
   "metadata": {},
   "outputs": [],
   "source": [
    "b=\"Krishna\""
   ]
  },
  {
   "cell_type": "code",
   "execution_count": 20,
   "id": "eeb15090-1251-4961-8dd0-f5a5aae64a65",
   "metadata": {},
   "outputs": [
    {
     "data": {
      "text/plain": [
       "'anhsirK'"
      ]
     },
     "execution_count": 20,
     "metadata": {},
     "output_type": "execute_result"
    }
   ],
   "source": [
    "b[-1::-1]"
   ]
  },
  {
   "cell_type": "code",
   "execution_count": 22,
   "id": "2aa6e1d1-d138-4845-b60a-9907b87992d6",
   "metadata": {},
   "outputs": [
    {
     "name": "stdout",
     "output_type": "stream",
     "text": [
      "Murli\n"
     ]
    }
   ],
   "source": [
    "c=a[-1]\n",
    "print(c)"
   ]
  },
  {
   "cell_type": "code",
   "execution_count": 23,
   "id": "e453b879-f422-48cd-b171-fc65f87f9739",
   "metadata": {},
   "outputs": [
    {
     "data": {
      "text/plain": [
       "'ilruM'"
      ]
     },
     "execution_count": 23,
     "metadata": {},
     "output_type": "execute_result"
    }
   ],
   "source": [
    "c[-1::-1]"
   ]
  },
  {
   "cell_type": "code",
   "execution_count": 34,
   "id": "90d14fa5-e4de-4e75-9495-cb8d1d700704",
   "metadata": {},
   "outputs": [
    {
     "name": "stdout",
     "output_type": "stream",
     "text": [
      "['ilruM', 'yehdaR', 'mayahs', 'nahoM', 'anhsirk']\n"
     ]
    }
   ],
   "source": [
    "a=[\"krishna\",\"Mohan\",\"shayam\",\"Radhey\",\"Murli\"]\n",
    "new=[]\n",
    "i=0\n",
    "while i<len(a):\n",
    "    c=a[-(i+1)]\n",
    "    d=c[-1::-1]\n",
    "    new.append(d)\n",
    "    i=i+1\n",
    "print(new)"
   ]
  },
  {
   "cell_type": "code",
   "execution_count": 35,
   "id": "39e4754d-629b-44b3-90bb-c64ea9648b70",
   "metadata": {},
   "outputs": [],
   "source": [
    "a=[\"krishna\",\"Mohan\",\"shayam\",\"Radhey\",\"Murli\"]\n",
    "new=[]\n",
    "i=0\n",
    "while i<len(a):\n",
    "    new.append(a[-(i+1)][-1::-1])\n",
    "    i=i+1"
   ]
  },
  {
   "cell_type": "code",
   "execution_count": 37,
   "id": "459bbc7f-b22f-4150-8e8b-86f9b387db00",
   "metadata": {},
   "outputs": [
    {
     "name": "stdout",
     "output_type": "stream",
     "text": [
      "['ilruM', 'yehdaR', 'mayahs', 'nahoM', 'anhsirk']\n"
     ]
    }
   ],
   "source": [
    "print(new)"
   ]
  },
  {
   "cell_type": "markdown",
   "id": "21f321d4-caca-4e6e-a16e-a0d3ad816fa3",
   "metadata": {},
   "source": [
    "# pattern using simple while loop\n"
   ]
  },
  {
   "cell_type": "code",
   "execution_count": 1,
   "id": "5aae0985-e908-4391-bac2-126819ee7da1",
   "metadata": {},
   "outputs": [
    {
     "name": "stdout",
     "output_type": "stream",
     "text": [
      "*\n",
      "**\n",
      "***\n",
      "****\n",
      "*****\n"
     ]
    }
   ],
   "source": [
    "print(\"*\")\n",
    "print(\"**\")\n",
    "print(\"***\")\n",
    "print(\"****\")\n",
    "print(\"*****\")"
   ]
  },
  {
   "cell_type": "code",
   "execution_count": 2,
   "id": "c504bb61-6de1-462a-817b-7be4ede1d572",
   "metadata": {},
   "outputs": [
    {
     "name": "stdout",
     "output_type": "stream",
     "text": [
      "*\n",
      "**\n",
      "***\n",
      "****\n",
      "*****\n"
     ]
    }
   ],
   "source": [
    "print(\"*\"*1)\n",
    "print(\"*\"*2)\n",
    "print(\"*\"*3)\n",
    "print(\"*\"*4)\n",
    "print(\"*\"*5)"
   ]
  },
  {
   "cell_type": "code",
   "execution_count": 3,
   "id": "839a60fc-e86f-4ea8-b57d-509e9a62dd2c",
   "metadata": {},
   "outputs": [
    {
     "name": "stdout",
     "output_type": "stream",
     "text": [
      "*\n",
      "**\n",
      "***\n",
      "****\n",
      "*****\n"
     ]
    }
   ],
   "source": [
    "i=1\n",
    "while i<=5:\n",
    "    print(\"*\"*i)\n",
    "    i=i+1"
   ]
  },
  {
   "cell_type": "code",
   "execution_count": 6,
   "id": "f577eb63-7bc7-48aa-8b18-5e3d248180e2",
   "metadata": {},
   "outputs": [
    {
     "name": "stdout",
     "output_type": "stream",
     "text": [
      "*\n",
      "**\n",
      "***\n",
      "****\n",
      "*****\n"
     ]
    }
   ],
   "source": [
    "for i in range(5):\n",
    "    print(\"*\"*(i+1))\n",
    "    "
   ]
  },
  {
   "cell_type": "code",
   "execution_count": null,
   "id": "6c37fa66-d5a2-4184-b3fa-30a611aca2af",
   "metadata": {},
   "outputs": [],
   "source": [
    "i=1\n",
    "while i<=5:\n",
    "    print(\"*\"*i)\n",
    "    i=i+1"
   ]
  },
  {
   "cell_type": "code",
   "execution_count": 7,
   "id": "c2e6f8fd-26a4-4b8b-8de3-584f3d47fce0",
   "metadata": {},
   "outputs": [
    {
     "name": "stdout",
     "output_type": "stream",
     "text": [
      "    *\n",
      "   **\n",
      "  ***\n",
      " ****\n",
      "*****\n"
     ]
    }
   ],
   "source": [
    "print(\"    \"+\"*\")\n",
    "print(\"   \"+\"**\")\n",
    "print(\"  \"+\"***\")\n",
    "print(\" \"+\"****\")\n",
    "print(\"\"+\"*****\")"
   ]
  },
  {
   "cell_type": "code",
   "execution_count": 8,
   "id": "5485a6d2-6c97-4541-9ff8-359674771624",
   "metadata": {},
   "outputs": [
    {
     "name": "stdout",
     "output_type": "stream",
     "text": [
      "    *\n",
      "   **\n",
      "  ***\n",
      " ****\n",
      "*****\n"
     ]
    }
   ],
   "source": [
    "print(\" \"*4+\"*\")\n",
    "print(\" \"*3+\"**\")\n",
    "print(\" \"*2+\"***\")\n",
    "print(\" \"*1+\"****\")\n",
    "print(\" \"*0+\"*****\")"
   ]
  },
  {
   "cell_type": "code",
   "execution_count": 9,
   "id": "485edffc-9d12-4023-a5a7-62e53fe5baa7",
   "metadata": {},
   "outputs": [
    {
     "name": "stdout",
     "output_type": "stream",
     "text": [
      "    *\n",
      "   **\n",
      "  ***\n",
      " ****\n",
      "*****\n"
     ]
    }
   ],
   "source": [
    "print(\" \"*4+\"*\"*1)\n",
    "print(\" \"*3+\"*\"*2)\n",
    "print(\" \"*2+\"*\"*3)\n",
    "print(\" \"*1+\"*\"*4)\n",
    "print(\" \"*0+\"*\"*5)"
   ]
  },
  {
   "cell_type": "code",
   "execution_count": 2,
   "id": "4aac8689-f007-49e0-a0a7-7fee89f306a7",
   "metadata": {},
   "outputs": [
    {
     "name": "stdout",
     "output_type": "stream",
     "text": [
      "    *\n",
      "   **\n",
      "  ***\n",
      " ****\n",
      "*****\n"
     ]
    }
   ],
   "source": [
    "i=1\n",
    "while i<=5:\n",
    "    print(\" \"*(5-i)+\"*\"*i)\n",
    "    i=i+1"
   ]
  },
  {
   "cell_type": "code",
   "execution_count": 4,
   "id": "7b4ff090-dc2a-4bf9-9058-aaae17fd9b20",
   "metadata": {},
   "outputs": [
    {
     "name": "stdout",
     "output_type": "stream",
     "text": [
      "* * * * *\n",
      "*       *\n",
      "*       *\n",
      "*       *\n",
      "* * * * *\n"
     ]
    }
   ],
   "source": [
    "print(\"* * * * *\")\n",
    "print(\"*       *\")\n",
    "print(\"*       *\")\n",
    "print(\"*       *\")\n",
    "print(\"* * * * *\")"
   ]
  },
  {
   "cell_type": "code",
   "execution_count": 8,
   "id": "55c71976-a886-4893-af64-d3808111f259",
   "metadata": {},
   "outputs": [
    {
     "name": "stdout",
     "output_type": "stream",
     "text": [
      "* * * * * \n",
      "*       *\n",
      "*       *\n",
      "*       *\n",
      "* * * * * \n"
     ]
    }
   ],
   "source": [
    "i=1\n",
    "while i<=5:\n",
    "    if i==1 or i==5:\n",
    "        print(\"* \"*5)\n",
    "    else:\n",
    "        print(\"*\"+\" \"*7+\"*\")\n",
    "    i=i+1"
   ]
  },
  {
   "cell_type": "code",
   "execution_count": 9,
   "id": "d5267a0f-3e13-4ecc-b27f-cc0f6cea762e",
   "metadata": {},
   "outputs": [
    {
     "name": "stdout",
     "output_type": "stream",
     "text": [
      "* * * * * \n",
      "*       *\n",
      "*       *\n",
      "*       *\n",
      "* * * * * \n",
      "*       *\n",
      "*       *\n",
      "*       *\n",
      "* * * * * \n"
     ]
    }
   ],
   "source": [
    "i=1\n",
    "while i<=9:\n",
    "    if i==1 or i==5 or i==9:\n",
    "        print(\"* \"*5)\n",
    "    else:\n",
    "        print(\"*\"+\" \"*7+\"*\")\n",
    "    i=i+1"
   ]
  },
  {
   "cell_type": "code",
   "execution_count": 15,
   "id": "190ecc85-832d-4959-8205-1404b6aaa1c3",
   "metadata": {},
   "outputs": [
    {
     "name": "stdout",
     "output_type": "stream",
     "text": [
      "* * * * * \n",
      "* *     *\n",
      "*   *   *\n",
      "*     * *\n",
      "* * * * * \n",
      "*       *\n",
      "*       *\n",
      "*       *\n",
      "* * * * * \n"
     ]
    }
   ],
   "source": [
    "i=1\n",
    "k=1\n",
    "while i<=9:\n",
    "    if i==1 or i==5 or i==9:\n",
    "        print(\"* \"*5)\n",
    "    elif i in [2,3,4]:\n",
    "        print(\"*\"+\" \"*k+\"*\"+\" \"*(6-k)+\"*\")\n",
    "        k=k+2\n",
    "    else:\n",
    "        print(\"*\"+\" \"*7+\"*\")\n",
    "    i=i+1\n",
    "    "
   ]
  },
  {
   "cell_type": "markdown",
   "id": "eb55e079-bee1-4e45-853d-672d3bbddc6b",
   "metadata": {},
   "source": [
    "> pattern using nested while loop\n",
    "\n",
    "> break\n",
    "\n",
    "> continue\n",
    "\n",
    "> pass"
   ]
  },
  {
   "cell_type": "code",
   "execution_count": 10,
   "id": "b80760f7-6882-4a36-bfe4-d4eda7236898",
   "metadata": {},
   "outputs": [
    {
     "name": "stdout",
     "output_type": "stream",
     "text": [
      "*\n",
      "**\n",
      "***\n",
      "****\n",
      "*****\n"
     ]
    }
   ],
   "source": [
    "i=1\n",
    "while i<=5:\n",
    "    j=1\n",
    "    while j<=i:\n",
    "        print(\"*\",end=\"\")\n",
    "        j=j+1\n",
    "    print() \n",
    "    i=i+1"
   ]
  },
  {
   "cell_type": "code",
   "execution_count": 9,
   "id": "444f6e1a-7b65-4810-927c-28e7f33f3269",
   "metadata": {},
   "outputs": [
    {
     "name": "stdout",
     "output_type": "stream",
     "text": [
      "*\n",
      "**\n",
      "***\n"
     ]
    }
   ],
   "source": [
    "j=1\n",
    "while j<=1:\n",
    "    print(\"*\",end=\"\")\n",
    "    j=j+1\n",
    "print()    \n",
    "j=1\n",
    "while j<=2:\n",
    "    print(\"*\",end=\"\")\n",
    "    j=j+1\n",
    "print()    \n",
    "j=1\n",
    "while j<=3:\n",
    "    print(\"*\",end=\"\")\n",
    "    j=j+1\n",
    "print()    "
   ]
  },
  {
   "cell_type": "code",
   "execution_count": 13,
   "id": "d0c95a65-7bd0-408e-aaed-d52146db0911",
   "metadata": {},
   "outputs": [
    {
     "name": "stdout",
     "output_type": "stream",
     "text": [
      "    *\n",
      "   **\n",
      "  ***\n",
      " ****\n",
      "*****\n"
     ]
    }
   ],
   "source": [
    "i=1\n",
    "while i<=5:\n",
    "    j=1\n",
    "    while j<=5:\n",
    "        if j<=(5-i):\n",
    "            print(\" \",end=\"\")\n",
    "        else:\n",
    "            print(\"*\",end=\"\")\n",
    "        j=j+1\n",
    "    print() \n",
    "    i=i+1"
   ]
  },
  {
   "cell_type": "code",
   "execution_count": 14,
   "id": "ab30af20-0745-49b9-8cfc-4312abdd0875",
   "metadata": {},
   "outputs": [
    {
     "name": "stdout",
     "output_type": "stream",
     "text": [
      "1 hello world\n",
      "2 hello world\n",
      "3 hello world\n",
      "4 hello world\n",
      "5 hello world\n"
     ]
    }
   ],
   "source": [
    "i=1\n",
    "while i<=5:\n",
    "    if i==4:\n",
    "        i=i+1\n",
    "        continue\n",
    "    print(i,\"hello world\")\n",
    "    i=i+1"
   ]
  },
  {
   "cell_type": "code",
   "execution_count": 16,
   "id": "60229b11-de17-4d30-a657-618923f98a34",
   "metadata": {},
   "outputs": [
    {
     "name": "stdout",
     "output_type": "stream",
     "text": [
      "1 hello world\n",
      "2 hello world\n",
      "3 hello world\n"
     ]
    }
   ],
   "source": [
    "i=1\n",
    "while i<=5:\n",
    "    if i==4:\n",
    "        break\n",
    "    print(i,\"hello world\")\n",
    "    i=i+1"
   ]
  },
  {
   "cell_type": "code",
   "execution_count": 22,
   "id": "7fcf8c6f-b4fc-43e5-bbe5-b2266adf46a3",
   "metadata": {},
   "outputs": [
    {
     "name": "stdout",
     "output_type": "stream",
     "text": [
      "hello world\n"
     ]
    }
   ],
   "source": [
    "i=10\n",
    "while i==10:\n",
    "    pass\n",
    "    i=i+1\n",
    "print(\"hello world\")"
   ]
  },
  {
   "cell_type": "code",
   "execution_count": null,
   "id": "8dde3b93-5dd7-49b1-bf7a-3990b49d6f11",
   "metadata": {},
   "outputs": [],
   "source": []
  }
 ],
 "metadata": {
  "kernelspec": {
   "display_name": "Python 3 (ipykernel)",
   "language": "python",
   "name": "python3"
  },
  "language_info": {
   "codemirror_mode": {
    "name": "ipython",
    "version": 3
   },
   "file_extension": ".py",
   "mimetype": "text/x-python",
   "name": "python",
   "nbconvert_exporter": "python",
   "pygments_lexer": "ipython3",
   "version": "3.11.4"
  }
 },
 "nbformat": 4,
 "nbformat_minor": 5
}
