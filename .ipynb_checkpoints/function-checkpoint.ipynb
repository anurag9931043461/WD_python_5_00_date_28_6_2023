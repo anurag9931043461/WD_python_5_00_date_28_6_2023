{
 "cells": [
  {
   "cell_type": "raw",
   "id": "eee030a3-3293-46e9-9d20-9d71ab3f240d",
   "metadata": {},
   "source": [
    "> def \n",
    "    > local variable\n",
    "    > global variable\n",
    "    > local scope \n",
    "    > global scope\n",
    "    > arguments:\n",
    "        > default arguments\n",
    "        > positional arguments\n",
    "        > keyword arguments.\n",
    "        > arbitrary positional arguments.\n",
    "        > arbitrary keyword arguments.\n",
    "    > return \n",
    "> lambda(anonymous function , fat function =>)\n",
    "> nested function\n",
    "> decorator \n",
    "> generator (yeild)\n",
    "         "
   ]
  },
  {
   "cell_type": "code",
   "execution_count": 1,
   "id": "d17c60c2-ac03-4e13-8bc1-c176f492c20a",
   "metadata": {},
   "outputs": [
    {
     "name": "stdout",
     "output_type": "stream",
     "text": [
      "Hello world\n",
      "Hello world\n",
      "Hello world\n",
      "Hello world\n",
      "Hello world\n"
     ]
    }
   ],
   "source": [
    "print(\"Hello world\")\n",
    "print(\"Hello world\")\n",
    "print(\"Hello world\")\n",
    "print(\"Hello world\")\n",
    "print(\"Hello world\")"
   ]
  },
  {
   "cell_type": "code",
   "execution_count": 3,
   "id": "d16252f3-fe50-458a-9545-d968b9fb725c",
   "metadata": {},
   "outputs": [
    {
     "name": "stdout",
     "output_type": "stream",
     "text": [
      "Hello world\n",
      "Hello world\n",
      "Hello world\n",
      "Hello world\n",
      "Hello world\n"
     ]
    }
   ],
   "source": [
    "for i in range(5):\n",
    "    print(\"Hello world\")"
   ]
  },
  {
   "cell_type": "code",
   "execution_count": 4,
   "id": "64f42014-2027-41af-80c5-e6cfc670a8b7",
   "metadata": {},
   "outputs": [
    {
     "name": "stdout",
     "output_type": "stream",
     "text": [
      "I am krishna\n"
     ]
    }
   ],
   "source": [
    "print(\"I am krishna\")"
   ]
  },
  {
   "cell_type": "code",
   "execution_count": 5,
   "id": "0d2a51a4-f649-4362-83a1-b15883bc186d",
   "metadata": {},
   "outputs": [
    {
     "name": "stdout",
     "output_type": "stream",
     "text": [
      "Hello world\n",
      "Hello world\n",
      "Hello world\n",
      "Hello world\n",
      "Hello world\n"
     ]
    }
   ],
   "source": [
    "for i in range(5):\n",
    "    print(\"Hello world\")"
   ]
  },
  {
   "cell_type": "code",
   "execution_count": 6,
   "id": "df140bcb-c6be-48ff-8175-140b5783a429",
   "metadata": {},
   "outputs": [],
   "source": [
    "def hello():\n",
    "    for i in range(5):\n",
    "        print(\"Hello world\")"
   ]
  },
  {
   "cell_type": "code",
   "execution_count": 7,
   "id": "63b41cde-05e2-4d41-8440-502d9e31db52",
   "metadata": {},
   "outputs": [
    {
     "name": "stdout",
     "output_type": "stream",
     "text": [
      "Hello world\n",
      "Hello world\n",
      "Hello world\n",
      "Hello world\n",
      "Hello world\n"
     ]
    }
   ],
   "source": [
    "hello()"
   ]
  },
  {
   "cell_type": "code",
   "execution_count": 8,
   "id": "be8559ec-c618-4fae-997c-c77385d879ef",
   "metadata": {},
   "outputs": [
    {
     "name": "stdout",
     "output_type": "stream",
     "text": [
      "I am krishna\n"
     ]
    }
   ],
   "source": [
    "print(\"I am krishna\")"
   ]
  },
  {
   "cell_type": "code",
   "execution_count": 9,
   "id": "c237f9ff-2e2b-429f-bce2-ba51f34527fd",
   "metadata": {},
   "outputs": [
    {
     "name": "stdout",
     "output_type": "stream",
     "text": [
      "Hello world\n",
      "Hello world\n",
      "Hello world\n",
      "Hello world\n",
      "Hello world\n"
     ]
    }
   ],
   "source": [
    "hello()"
   ]
  },
  {
   "cell_type": "code",
   "execution_count": 10,
   "id": "68a98dbf-1f7c-4625-ba3b-f1e9d7a56de9",
   "metadata": {},
   "outputs": [],
   "source": [
    "def hello1(n):\n",
    "    for i in range(n):\n",
    "        print(\"Hello world\")"
   ]
  },
  {
   "cell_type": "code",
   "execution_count": 11,
   "id": "a4a94b2a-ab91-442f-b626-663d03c6fb52",
   "metadata": {},
   "outputs": [
    {
     "ename": "TypeError",
     "evalue": "hello1() missing 1 required positional argument: 'n'",
     "output_type": "error",
     "traceback": [
      "\u001b[1;31m---------------------------------------------------------------------------\u001b[0m",
      "\u001b[1;31mTypeError\u001b[0m                                 Traceback (most recent call last)",
      "Cell \u001b[1;32mIn[11], line 1\u001b[0m\n\u001b[1;32m----> 1\u001b[0m \u001b[43mhello1\u001b[49m\u001b[43m(\u001b[49m\u001b[43m)\u001b[49m\n",
      "\u001b[1;31mTypeError\u001b[0m: hello1() missing 1 required positional argument: 'n'"
     ]
    }
   ],
   "source": [
    "hello1()"
   ]
  },
  {
   "cell_type": "code",
   "execution_count": 12,
   "id": "017f0bb3-5eaa-4715-8e1c-40297f6a483e",
   "metadata": {},
   "outputs": [
    {
     "name": "stdout",
     "output_type": "stream",
     "text": [
      "Hello world\n",
      "Hello world\n",
      "Hello world\n",
      "Hello world\n",
      "Hello world\n"
     ]
    }
   ],
   "source": [
    "hello1(5)"
   ]
  },
  {
   "cell_type": "code",
   "execution_count": 13,
   "id": "c32d7d8d-4f6f-4c1f-b830-04305469c377",
   "metadata": {},
   "outputs": [
    {
     "name": "stdout",
     "output_type": "stream",
     "text": [
      "Hello world\n",
      "Hello world\n"
     ]
    }
   ],
   "source": [
    "hello1(2)"
   ]
  },
  {
   "cell_type": "code",
   "execution_count": 14,
   "id": "97965019-d6cd-4ec9-af54-1a43f632ef8a",
   "metadata": {},
   "outputs": [
    {
     "name": "stdout",
     "output_type": "stream",
     "text": [
      "this is python class\n"
     ]
    }
   ],
   "source": [
    "print(\"this is python class\")"
   ]
  },
  {
   "cell_type": "code",
   "execution_count": 15,
   "id": "0de42194-1cda-48c7-a453-a840f155504b",
   "metadata": {},
   "outputs": [
    {
     "name": "stdout",
     "output_type": "stream",
     "text": [
      "Hello world\n",
      "Hello world\n"
     ]
    }
   ],
   "source": [
    "for i in range(2):\n",
    "    print(\"Hello world\")"
   ]
  },
  {
   "cell_type": "code",
   "execution_count": 16,
   "id": "5a529d8b-4ab5-48b5-8611-18bdd6faf0dd",
   "metadata": {},
   "outputs": [
    {
     "name": "stdout",
     "output_type": "stream",
     "text": [
      "Hello world\n",
      "Hello world\n",
      "Hello world\n",
      "Hello world\n",
      "Hello world\n",
      "Hello world\n",
      "Hello world\n",
      "Hello world\n",
      "Hello world\n",
      "Hello world\n"
     ]
    }
   ],
   "source": [
    "hello1(10)"
   ]
  },
  {
   "cell_type": "code",
   "execution_count": 17,
   "id": "70479a3a-da62-4107-897c-d952ba6a9df0",
   "metadata": {},
   "outputs": [],
   "source": [
    "def name(a):\n",
    "    print(\"I am {}\".format(a))"
   ]
  },
  {
   "cell_type": "code",
   "execution_count": 18,
   "id": "0295d05f-6e82-45f5-a906-d9e3e5329fd9",
   "metadata": {},
   "outputs": [
    {
     "name": "stdout",
     "output_type": "stream",
     "text": [
      "I am krishna\n"
     ]
    }
   ],
   "source": [
    "name(\"krishna\")"
   ]
  },
  {
   "cell_type": "code",
   "execution_count": 21,
   "id": "b856dac5-32a7-4e01-89b4-26b416c33826",
   "metadata": {},
   "outputs": [],
   "source": [
    "def add(a,b):\n",
    "    print(\"a :\",a)\n",
    "    print(\"b :\",b)\n",
    "    print(a+b)"
   ]
  },
  {
   "cell_type": "code",
   "execution_count": 22,
   "id": "56590198-4540-4d43-b44a-80c40b6a0178",
   "metadata": {},
   "outputs": [
    {
     "name": "stdout",
     "output_type": "stream",
     "text": [
      "a : 10\n",
      "b : 20\n",
      "30\n"
     ]
    }
   ],
   "source": [
    "add(10,20)"
   ]
  },
  {
   "cell_type": "code",
   "execution_count": 23,
   "id": "975986f8-c1c3-4af7-bff1-db130c61542e",
   "metadata": {},
   "outputs": [],
   "source": [
    "def add1(b,a):\n",
    "    print(\"a :\",a)\n",
    "    print(\"b :\",b)\n",
    "    print(a+b)"
   ]
  },
  {
   "cell_type": "code",
   "execution_count": 24,
   "id": "a9f897b7-564a-4029-a4d2-e4cc3c8f2e01",
   "metadata": {},
   "outputs": [
    {
     "name": "stdout",
     "output_type": "stream",
     "text": [
      "a : 20\n",
      "b : 10\n",
      "30\n"
     ]
    }
   ],
   "source": [
    "add1(10,20)"
   ]
  },
  {
   "cell_type": "code",
   "execution_count": 25,
   "id": "28e1fe1a-afd3-4155-9135-6f79f670f499",
   "metadata": {},
   "outputs": [],
   "source": [
    "def rate_of_interest(principle,rate,time):\n",
    "    result=(principle*rate*time)/100\n",
    "    print(result)"
   ]
  },
  {
   "cell_type": "code",
   "execution_count": 26,
   "id": "ec6a1a76-d3fd-4f88-9429-f608dd58f836",
   "metadata": {},
   "outputs": [
    {
     "name": "stdout",
     "output_type": "stream",
     "text": [
      "2000.0\n"
     ]
    }
   ],
   "source": [
    "rate_of_interest(10000,10,2)"
   ]
  },
  {
   "cell_type": "code",
   "execution_count": 27,
   "id": "784a3d13-6386-4fca-9621-65a6aef0c18b",
   "metadata": {},
   "outputs": [],
   "source": [
    "a= [1,2,3,3,2,23,34,4,555,64,323]"
   ]
  },
  {
   "cell_type": "code",
   "execution_count": 32,
   "id": "f2244ddf-544b-42d4-acf5-4600e7026bac",
   "metadata": {},
   "outputs": [],
   "source": [
    "def sort1(arg):\n",
    "    arg.sort()\n",
    "    print(arg)"
   ]
  },
  {
   "cell_type": "code",
   "execution_count": 33,
   "id": "3262a182-79c4-4c93-8361-50af477df0cd",
   "metadata": {},
   "outputs": [
    {
     "name": "stdout",
     "output_type": "stream",
     "text": [
      "[1, 2, 2, 3, 3, 4, 23, 34, 64, 323, 555]\n"
     ]
    }
   ],
   "source": [
    "sort1(a)"
   ]
  },
  {
   "cell_type": "code",
   "execution_count": 34,
   "id": "5d1d1a49-cc55-4671-a668-2fdde93a3b78",
   "metadata": {},
   "outputs": [
    {
     "data": {
      "text/plain": [
       "[1, 2, 2, 3, 3, 4, 23, 34, 64, 323, 555]"
      ]
     },
     "execution_count": 34,
     "metadata": {},
     "output_type": "execute_result"
    }
   ],
   "source": [
    "a"
   ]
  },
  {
   "cell_type": "code",
   "execution_count": 38,
   "id": "0402b29a-cb2e-42a6-bc35-41952ae89929",
   "metadata": {},
   "outputs": [
    {
     "name": "stdout",
     "output_type": "stream",
     "text": [
      "odd list:  [1, 3, 3, 23, 323, 555]\n",
      "even list : [2, 2, 4, 34, 64]\n"
     ]
    }
   ],
   "source": [
    "odd=[]\n",
    "even=[]\n",
    "for i in a:\n",
    "    if i%2==0:\n",
    "       even.append(i)\n",
    "    else:\n",
    "        odd.append(i)\n",
    "print(\"odd list: \",odd)\n",
    "print(\"even list :\", even)"
   ]
  },
  {
   "cell_type": "code",
   "execution_count": 39,
   "id": "d83e181b-5360-4c37-b26d-f1da532ddb5a",
   "metadata": {},
   "outputs": [],
   "source": [
    "def odd_even(a):\n",
    "    odd=[]\n",
    "    even=[]\n",
    "    for i in a:\n",
    "        if i%2==0:\n",
    "           even.append(i)\n",
    "        else:\n",
    "            odd.append(i)\n",
    "    print(\"odd list: \",odd)\n",
    "    print(\"even list :\", even)"
   ]
  },
  {
   "cell_type": "code",
   "execution_count": 40,
   "id": "28bf2cae-d6bf-4f53-a7e5-d64053152cf4",
   "metadata": {},
   "outputs": [
    {
     "name": "stdout",
     "output_type": "stream",
     "text": [
      "odd list:  [43, 7657, 4523, 543, 423423]\n",
      "even list : [54, 324, 54, 32, 5464576, 7686]\n"
     ]
    }
   ],
   "source": [
    "odd_even([43,54,324,54,7657,4523,32,5464576,7686,543,423423])"
   ]
  },
  {
   "cell_type": "code",
   "execution_count": 41,
   "id": "6b1dd05c-2b61-4b4f-9715-5b2d3b4a32ba",
   "metadata": {},
   "outputs": [],
   "source": [
    "a=10"
   ]
  },
  {
   "cell_type": "code",
   "execution_count": 42,
   "id": "56a68983-57ac-496f-a3e5-6ace2f9269d7",
   "metadata": {},
   "outputs": [],
   "source": [
    "def a():\n",
    "    print(\"hello world\")"
   ]
  },
  {
   "cell_type": "code",
   "execution_count": 43,
   "id": "61e68dac-b4f8-4dec-88d2-49ef6ed13455",
   "metadata": {},
   "outputs": [],
   "source": [
    "a=10"
   ]
  },
  {
   "cell_type": "code",
   "execution_count": 44,
   "id": "6dff3bf0-b6b7-496a-b744-74a9208be1ae",
   "metadata": {},
   "outputs": [],
   "source": [
    "def a():\n",
    "    print(\"hello world\")"
   ]
  },
  {
   "cell_type": "code",
   "execution_count": 45,
   "id": "e50d2acc-e8e2-4fab-8c10-15e135c2b43b",
   "metadata": {},
   "outputs": [
    {
     "name": "stdout",
     "output_type": "stream",
     "text": [
      "hello world\n"
     ]
    }
   ],
   "source": [
    "a()"
   ]
  },
  {
   "cell_type": "code",
   "execution_count": 46,
   "id": "d00733dc-0789-4fc9-81ab-0198f64623d2",
   "metadata": {},
   "outputs": [],
   "source": [
    "a=10"
   ]
  },
  {
   "cell_type": "code",
   "execution_count": 49,
   "id": "8a40a7b8-db68-4557-986c-939ac005c86c",
   "metadata": {},
   "outputs": [],
   "source": [
    "a=10"
   ]
  },
  {
   "cell_type": "code",
   "execution_count": 50,
   "id": "18feb36b-a048-44f5-96e3-7eff0db4a62e",
   "metadata": {},
   "outputs": [
    {
     "name": "stdout",
     "output_type": "stream",
     "text": [
      "10\n"
     ]
    }
   ],
   "source": [
    "print(a)"
   ]
  },
  {
   "cell_type": "markdown",
   "id": "02d317ea-225f-4f2e-906d-5461f5bc8de6",
   "metadata": {},
   "source": [
    "> Local variable \n",
    "\n",
    "> global variable"
   ]
  },
  {
   "cell_type": "code",
   "execution_count": 1,
   "id": "b4fedcd9-69a0-43aa-bed5-5af90bec1bf1",
   "metadata": {},
   "outputs": [],
   "source": [
    "def add():\n",
    "    a=10\n",
    "    b=20\n",
    "    print(a+b)"
   ]
  },
  {
   "cell_type": "code",
   "execution_count": 2,
   "id": "4fa82191-573f-4174-a227-332f92d72842",
   "metadata": {},
   "outputs": [
    {
     "name": "stdout",
     "output_type": "stream",
     "text": [
      "30\n"
     ]
    }
   ],
   "source": [
    "add()"
   ]
  },
  {
   "cell_type": "code",
   "execution_count": 11,
   "id": "69834be4-0838-43e1-92a8-f4f514973c49",
   "metadata": {},
   "outputs": [
    {
     "name": "stdout",
     "output_type": "stream",
     "text": [
      "100\n"
     ]
    }
   ],
   "source": [
    "print(a)"
   ]
  },
  {
   "cell_type": "code",
   "execution_count": 12,
   "id": "3fc53c0e-6bfb-40f3-b526-6abe675dda81",
   "metadata": {},
   "outputs": [
    {
     "name": "stdout",
     "output_type": "stream",
     "text": [
      "200\n"
     ]
    }
   ],
   "source": [
    "print(b)"
   ]
  },
  {
   "cell_type": "code",
   "execution_count": 7,
   "id": "de70f3ad-cf73-49fa-9876-5adec6488640",
   "metadata": {},
   "outputs": [],
   "source": [
    "a=100"
   ]
  },
  {
   "cell_type": "code",
   "execution_count": 8,
   "id": "24fad679-a97f-4b18-b84b-a2e4af777491",
   "metadata": {},
   "outputs": [],
   "source": [
    "b=200"
   ]
  },
  {
   "cell_type": "code",
   "execution_count": null,
   "id": "66311809-eb4f-4620-b4c0-3ec8f24e5bd9",
   "metadata": {},
   "outputs": [],
   "source": []
  },
  {
   "cell_type": "code",
   "execution_count": null,
   "id": "3fcfb222-cd34-4931-abc5-cae301315b96",
   "metadata": {},
   "outputs": [],
   "source": []
  },
  {
   "cell_type": "code",
   "execution_count": null,
   "id": "9e1cee25-1ec6-49cf-9556-c915e17c7252",
   "metadata": {},
   "outputs": [],
   "source": []
  },
  {
   "cell_type": "code",
   "execution_count": null,
   "id": "bb1b7718-4884-44e5-9cb7-0f2672762b22",
   "metadata": {},
   "outputs": [],
   "source": []
  },
  {
   "cell_type": "code",
   "execution_count": 9,
   "id": "72a689f8-22e7-4567-9e74-0673e1535e25",
   "metadata": {},
   "outputs": [],
   "source": [
    "def add2():\n",
    "    print(a+b)"
   ]
  },
  {
   "cell_type": "code",
   "execution_count": 10,
   "id": "4f47599c-5f55-45a1-9ced-0b61eec9645a",
   "metadata": {},
   "outputs": [
    {
     "name": "stdout",
     "output_type": "stream",
     "text": [
      "300\n"
     ]
    }
   ],
   "source": [
    "add2()"
   ]
  },
  {
   "cell_type": "code",
   "execution_count": 13,
   "id": "5bd06f4f-039c-46e1-984c-bfa25fc02e66",
   "metadata": {},
   "outputs": [],
   "source": [
    "x=300\n",
    "y=400"
   ]
  },
  {
   "cell_type": "code",
   "execution_count": 14,
   "id": "f2ff4893-81af-4723-a03a-5aa93ce9cbe2",
   "metadata": {},
   "outputs": [],
   "source": [
    "def add4():\n",
    "    print(x+y)"
   ]
  },
  {
   "cell_type": "code",
   "execution_count": 15,
   "id": "9b2f81cf-7b1a-4e34-b8e9-0f3c269f0acf",
   "metadata": {},
   "outputs": [
    {
     "name": "stdout",
     "output_type": "stream",
     "text": [
      "700\n"
     ]
    }
   ],
   "source": [
    "add4()"
   ]
  },
  {
   "cell_type": "code",
   "execution_count": 20,
   "id": "34ce1ac8-6146-4cff-9857-7a633727d749",
   "metadata": {},
   "outputs": [],
   "source": [
    "def add5():\n",
    "    global l,m\n",
    "    l=200\n",
    "    m=400\n",
    "    print(l*m)"
   ]
  },
  {
   "cell_type": "code",
   "execution_count": 21,
   "id": "34565107-1404-4bfc-a637-096b84ce1062",
   "metadata": {},
   "outputs": [
    {
     "name": "stdout",
     "output_type": "stream",
     "text": [
      "80000\n"
     ]
    }
   ],
   "source": [
    "add5()"
   ]
  },
  {
   "cell_type": "code",
   "execution_count": 22,
   "id": "5fcb4859-4f67-4c8c-85d7-2aa389a6d7d9",
   "metadata": {},
   "outputs": [
    {
     "name": "stdout",
     "output_type": "stream",
     "text": [
      "200\n"
     ]
    }
   ],
   "source": [
    "print(l)"
   ]
  },
  {
   "cell_type": "code",
   "execution_count": 23,
   "id": "511c81a0-2427-4794-9a5e-ed470771df79",
   "metadata": {},
   "outputs": [
    {
     "name": "stdout",
     "output_type": "stream",
     "text": [
      "400\n"
     ]
    }
   ],
   "source": [
    "print(m)"
   ]
  },
  {
   "cell_type": "code",
   "execution_count": 28,
   "id": "c5d7ec81-11d2-4267-85a5-8fc1faa64a3f",
   "metadata": {},
   "outputs": [],
   "source": [
    "def add10():\n",
    "    global s,t\n",
    "    s=10\n",
    "    t=20"
   ]
  },
  {
   "cell_type": "code",
   "execution_count": 30,
   "id": "dcc7bdfb-35bc-40ad-aed1-5ad7ed77641b",
   "metadata": {},
   "outputs": [],
   "source": [
    "add10()"
   ]
  },
  {
   "cell_type": "code",
   "execution_count": 31,
   "id": "c7b76529-6d54-4701-9fb9-025c65825a18",
   "metadata": {},
   "outputs": [
    {
     "name": "stdout",
     "output_type": "stream",
     "text": [
      "30\n"
     ]
    }
   ],
   "source": [
    "print(s+t)"
   ]
  },
  {
   "cell_type": "code",
   "execution_count": 32,
   "id": "9a56c7b2-d1c4-4ec7-98af-52ac469271fd",
   "metadata": {},
   "outputs": [],
   "source": [
    "p=10\n",
    "q=20"
   ]
  },
  {
   "cell_type": "code",
   "execution_count": 33,
   "id": "163bfa96-e968-4b23-b0b3-74f4aa24198e",
   "metadata": {},
   "outputs": [],
   "source": [
    "def add11():\n",
    "    print(p+q)"
   ]
  },
  {
   "cell_type": "code",
   "execution_count": 34,
   "id": "afd0ac28-eaaa-46b4-9b5e-9969a045be9b",
   "metadata": {},
   "outputs": [
    {
     "name": "stdout",
     "output_type": "stream",
     "text": [
      "30\n"
     ]
    }
   ],
   "source": [
    "add11()"
   ]
  },
  {
   "cell_type": "markdown",
   "id": "137e616d-ca9e-4ada-9daa-db1581ddf239",
   "metadata": {},
   "source": [
    "> default arguments\n",
    " \n",
    "> keyword arguments    \n",
    " \n",
    "> positional arguments\n",
    "\n",
    "> arbitrary positional arguments\n",
    "\n",
    "> arbitrary keyword arguments\n",
    " "
   ]
  },
  {
   "cell_type": "markdown",
   "id": "c8b05793-ff64-47a0-8df1-db445f7c6c36",
   "metadata": {},
   "source": [
    "# default argument"
   ]
  },
  {
   "cell_type": "code",
   "execution_count": 35,
   "id": "6711d051-456a-47d8-bdc5-da7f10b27a99",
   "metadata": {},
   "outputs": [],
   "source": [
    "def sum(a=10,b=20):\n",
    "    print(a+b)"
   ]
  },
  {
   "cell_type": "code",
   "execution_count": 36,
   "id": "8b57aeae-5b5d-4897-9518-20d6f169e4d5",
   "metadata": {},
   "outputs": [
    {
     "name": "stdout",
     "output_type": "stream",
     "text": [
      "30\n"
     ]
    }
   ],
   "source": [
    "sum()"
   ]
  },
  {
   "cell_type": "code",
   "execution_count": 37,
   "id": "dfcf4331-b889-4d22-9b10-ffe08df9015f",
   "metadata": {},
   "outputs": [
    {
     "name": "stdout",
     "output_type": "stream",
     "text": [
      "300\n"
     ]
    }
   ],
   "source": [
    "sum(100,200)"
   ]
  },
  {
   "cell_type": "markdown",
   "id": "eb5bc35d-191e-4bfc-b19e-96242d08a148",
   "metadata": {},
   "source": [
    "# keyword argument"
   ]
  },
  {
   "cell_type": "code",
   "execution_count": 38,
   "id": "4a674481-590e-421b-9566-c74f7cfb3c1d",
   "metadata": {},
   "outputs": [],
   "source": [
    "def sum2(a=10,b=20):\n",
    "    print(a+b)"
   ]
  },
  {
   "cell_type": "code",
   "execution_count": 39,
   "id": "66e95674-100b-4bec-b348-6a284d9db591",
   "metadata": {},
   "outputs": [
    {
     "name": "stdout",
     "output_type": "stream",
     "text": [
      "3999\n"
     ]
    }
   ],
   "source": [
    "sum2(b=2000,a=1999)"
   ]
  },
  {
   "cell_type": "markdown",
   "id": "a2b91a65-d90e-40e8-bfbd-a2cad279826f",
   "metadata": {},
   "source": [
    "# positional argument"
   ]
  },
  {
   "cell_type": "code",
   "execution_count": 40,
   "id": "b119804d-81f1-458e-b033-432d14727b9b",
   "metadata": {},
   "outputs": [],
   "source": [
    "def sum3(a,b):\n",
    "    print(a+b)"
   ]
  },
  {
   "cell_type": "code",
   "execution_count": 41,
   "id": "57ca32c6-0e12-47c1-bc7e-35b84cf776e6",
   "metadata": {},
   "outputs": [
    {
     "name": "stdout",
     "output_type": "stream",
     "text": [
      "30\n"
     ]
    }
   ],
   "source": [
    "sum3(10,20)"
   ]
  },
  {
   "cell_type": "code",
   "execution_count": 42,
   "id": "25add6b9-fe8d-448d-8d03-14ea09b54879",
   "metadata": {},
   "outputs": [],
   "source": [
    "def sum4(a,b):\n",
    "    print(a+b)"
   ]
  },
  {
   "cell_type": "code",
   "execution_count": 43,
   "id": "da540ee1-d918-472c-a0c2-d816f074a4d4",
   "metadata": {},
   "outputs": [
    {
     "name": "stdout",
     "output_type": "stream",
     "text": [
      "300\n"
     ]
    }
   ],
   "source": [
    "sum4(b=200,a=100)"
   ]
  },
  {
   "cell_type": "markdown",
   "id": "97e05cba-cbe8-43c6-b5d1-1cba31429a33",
   "metadata": {},
   "source": [
    "# arbitrary positional arguments"
   ]
  },
  {
   "cell_type": "code",
   "execution_count": 44,
   "id": "d1906277-854e-488a-831b-6fb0c7ff8390",
   "metadata": {},
   "outputs": [],
   "source": [
    "a=10,20,30,40"
   ]
  },
  {
   "cell_type": "code",
   "execution_count": 45,
   "id": "c5f78479-832e-4f7d-930b-a8bb3f9134a3",
   "metadata": {},
   "outputs": [
    {
     "name": "stdout",
     "output_type": "stream",
     "text": [
      "(10, 20, 30, 40)\n"
     ]
    }
   ],
   "source": [
    "print(a)"
   ]
  },
  {
   "cell_type": "code",
   "execution_count": 48,
   "id": "caeaa3a5-1be1-4153-a89d-72d092ff6d49",
   "metadata": {},
   "outputs": [],
   "source": [
    "def add5(*n):\n",
    "    print(n)\n",
    "    k=0\n",
    "    for i in n:\n",
    "       k=k+i \n",
    "    print(k)"
   ]
  },
  {
   "cell_type": "code",
   "execution_count": 49,
   "id": "ea48a3be-edec-4bb5-a098-0960be868b59",
   "metadata": {},
   "outputs": [
    {
     "name": "stdout",
     "output_type": "stream",
     "text": [
      "(1, 2, 3, 4, 5, 63, 2, 2, 3, 4, 5)\n",
      "94\n"
     ]
    }
   ],
   "source": [
    "add5(1,2,3,4,5,63,2,2,3,4,5)"
   ]
  },
  {
   "cell_type": "markdown",
   "id": "5d292b44-c094-421a-b1f4-9c7fd8593c49",
   "metadata": {},
   "source": [
    "# arbitrary keyword arguments"
   ]
  },
  {
   "cell_type": "code",
   "execution_count": 50,
   "id": "6c3116a0-bd53-41e4-b9a2-5bca61f8a080",
   "metadata": {},
   "outputs": [],
   "source": [
    "def add6(**n):\n",
    "    print(n)"
   ]
  },
  {
   "cell_type": "code",
   "execution_count": 51,
   "id": "52eb63f4-f10b-4233-9880-4a53375ea14c",
   "metadata": {},
   "outputs": [
    {
     "name": "stdout",
     "output_type": "stream",
     "text": [
      "{'name': 'krishna', 'age': 27, 'weight': 72}\n"
     ]
    }
   ],
   "source": [
    "add6(name=\"krishna\",age=27,weight=72)"
   ]
  },
  {
   "cell_type": "code",
   "execution_count": null,
   "id": "396ca86e-3b1e-480a-8a9b-12490185fe75",
   "metadata": {},
   "outputs": [],
   "source": [
    "print()"
   ]
  },
  {
   "cell_type": "code",
   "execution_count": null,
   "id": "c8a2cac7-1c90-4f66-aa03-5ff6f11e1e54",
   "metadata": {},
   "outputs": [],
   "source": []
  },
  {
   "cell_type": "code",
   "execution_count": null,
   "id": "03cbc783-e8a7-4947-bc44-b41d383f7ec2",
   "metadata": {},
   "outputs": [],
   "source": []
  },
  {
   "cell_type": "markdown",
   "id": "304d79db-69d9-4b76-879d-bc0d7cd0798c",
   "metadata": {},
   "source": [
    "# return"
   ]
  },
  {
   "cell_type": "code",
   "execution_count": 1,
   "id": "1f0ce99e-7d0d-4864-be96-cf382727367a",
   "metadata": {},
   "outputs": [],
   "source": [
    "def sum(a,b):\n",
    "    print(a+b)"
   ]
  },
  {
   "cell_type": "code",
   "execution_count": 4,
   "id": "bfda8e47-e27d-4dfa-b0bf-f7fd5f0fb73a",
   "metadata": {},
   "outputs": [
    {
     "name": "stdout",
     "output_type": "stream",
     "text": [
      "30\n",
      "hello world\n"
     ]
    }
   ],
   "source": [
    "z=sum(10,20)\n",
    "print(\"hello world\")"
   ]
  },
  {
   "cell_type": "code",
   "execution_count": 5,
   "id": "35a9549f-8976-4aae-846b-94081f657f52",
   "metadata": {},
   "outputs": [
    {
     "name": "stdout",
     "output_type": "stream",
     "text": [
      "None\n"
     ]
    }
   ],
   "source": [
    "print(z)"
   ]
  },
  {
   "cell_type": "code",
   "execution_count": 7,
   "id": "8b8ebb70-f71d-4b07-9e5a-09af9828fe0f",
   "metadata": {},
   "outputs": [
    {
     "name": "stdout",
     "output_type": "stream",
     "text": [
      "hello world\n",
      "None\n"
     ]
    }
   ],
   "source": [
    "print(print(\"hello world\"))"
   ]
  },
  {
   "cell_type": "code",
   "execution_count": 32,
   "id": "a5231192-598b-4661-bd30-769fa22e90b8",
   "metadata": {},
   "outputs": [],
   "source": [
    "def sum(a,b):\n",
    "    print(a+b)"
   ]
  },
  {
   "cell_type": "code",
   "execution_count": 33,
   "id": "04286c1c-26c8-4b5d-988c-823113b9d2a2",
   "metadata": {},
   "outputs": [
    {
     "name": "stdout",
     "output_type": "stream",
     "text": [
      "30\n",
      "None\n",
      "Hello world\n"
     ]
    }
   ],
   "source": [
    "z=sum(10,20)\n",
    "print(z)\n",
    "print(\"Hello world\")"
   ]
  },
  {
   "cell_type": "code",
   "execution_count": 15,
   "id": "56e1b7e7-cebc-4db6-a58d-d8d9fecf9ea1",
   "metadata": {},
   "outputs": [
    {
     "data": {
      "text/plain": [
       "50"
      ]
     },
     "execution_count": 15,
     "metadata": {},
     "output_type": "execute_result"
    }
   ],
   "source": [
    "z+20"
   ]
  },
  {
   "cell_type": "code",
   "execution_count": 16,
   "id": "0e64b464-0990-49d9-bc02-25ea6a6b9e83",
   "metadata": {},
   "outputs": [],
   "source": [
    "def number(a,b):\n",
    "    return a\n",
    "    return b"
   ]
  },
  {
   "cell_type": "code",
   "execution_count": 17,
   "id": "0a3880a0-1ae2-44a9-90e6-795f022e382c",
   "metadata": {},
   "outputs": [
    {
     "data": {
      "text/plain": [
       "10"
      ]
     },
     "execution_count": 17,
     "metadata": {},
     "output_type": "execute_result"
    }
   ],
   "source": [
    "number(10,20)"
   ]
  },
  {
   "cell_type": "code",
   "execution_count": 19,
   "id": "516a5100-150a-4bbe-9a3c-2d38f7513388",
   "metadata": {},
   "outputs": [
    {
     "name": "stdin",
     "output_type": "stream",
     "text": [
      "Enter 1st number: 10\n",
      "Enter 2nd number: 20\n",
      "choose a valid operation out of +,-,/,*: +\n"
     ]
    },
    {
     "name": "stdout",
     "output_type": "stream",
     "text": [
      "30\n"
     ]
    }
   ],
   "source": [
    "num1=eval(input(\"Enter 1st number:\"))\n",
    "num2=eval(input(\"Enter 2nd number:\"))\n",
    "option=input(\"choose a valid operation out of +,-,/,*:\")\n",
    "if option==\"+\":\n",
    "    print(num1+num2)\n",
    "elif option ==\"-\":\n",
    "    print(num1-num2)\n",
    "elif option==\"*\":\n",
    "    print(num1*num2)\n",
    "elif option==\"/\":\n",
    "    print(num1/num2)\n",
    "else:\n",
    "    print(\"kindly choose a valid operation\")"
   ]
  },
  {
   "cell_type": "code",
   "execution_count": 20,
   "id": "b1f64acd-c09b-459e-b0ef-2aba340cb1cb",
   "metadata": {},
   "outputs": [],
   "source": [
    "def calculator():\n",
    "    num1=eval(input(\"Enter 1st number:\"))\n",
    "    num2=eval(input(\"Enter 2nd number:\"))\n",
    "    option=input(\"choose a valid operation out of +,-,/,*:\")\n",
    "    if option==\"+\":\n",
    "        print(num1+num2)\n",
    "    elif option ==\"-\":\n",
    "        print(num1-num2)\n",
    "    elif option==\"*\":\n",
    "        print(num1*num2)\n",
    "    elif option==\"/\":\n",
    "        print(num1/num2)\n",
    "    else:\n",
    "        print(\"kindly choose a valid operation\")"
   ]
  },
  {
   "cell_type": "code",
   "execution_count": 21,
   "id": "4d65274b-f684-418b-99f2-d63d9e2dfc6b",
   "metadata": {},
   "outputs": [
    {
     "name": "stdin",
     "output_type": "stream",
     "text": [
      "Enter 1st number: 10\n",
      "Enter 2nd number: 20\n",
      "choose a valid operation out of +,-,/,*: +\n"
     ]
    },
    {
     "name": "stdout",
     "output_type": "stream",
     "text": [
      "30\n"
     ]
    }
   ],
   "source": [
    "calculator()"
   ]
  },
  {
   "cell_type": "code",
   "execution_count": null,
   "id": "ad99d566-d707-4ccc-9e73-6e3e6f617750",
   "metadata": {},
   "outputs": [],
   "source": []
  },
  {
   "cell_type": "code",
   "execution_count": 22,
   "id": "19914a07-ea56-4680-9bd5-557e0e6a411d",
   "metadata": {},
   "outputs": [
    {
     "name": "stdin",
     "output_type": "stream",
     "text": [
      "Enter 1st number: 10\n",
      "Enter 2nd number: 20\n",
      "choose a valid operation out of +,-,/,*: +\n"
     ]
    },
    {
     "name": "stdout",
     "output_type": "stream",
     "text": [
      "30\n"
     ]
    }
   ],
   "source": [
    "calculator()"
   ]
  },
  {
   "cell_type": "code",
   "execution_count": 23,
   "id": "382cfd3e-b621-4f86-a576-1d07ea6b0137",
   "metadata": {},
   "outputs": [
    {
     "name": "stdin",
     "output_type": "stream",
     "text": [
      "Enter 1st number: 100\n",
      "Enter 2nd number: 200\n",
      "choose a valid operation out of +,-,/,*: *\n"
     ]
    },
    {
     "name": "stdout",
     "output_type": "stream",
     "text": [
      "20000\n"
     ]
    }
   ],
   "source": [
    "calculator()"
   ]
  },
  {
   "cell_type": "code",
   "execution_count": 24,
   "id": "60b15727-d21e-4933-af94-c86bb00385b6",
   "metadata": {},
   "outputs": [
    {
     "data": {
      "text/plain": [
       "-19970"
      ]
     },
     "execution_count": 24,
     "metadata": {},
     "output_type": "execute_result"
    }
   ],
   "source": [
    "30-20000"
   ]
  },
  {
   "cell_type": "code",
   "execution_count": 25,
   "id": "1dd1753d-44c0-4064-af6d-99a77fdf7278",
   "metadata": {},
   "outputs": [],
   "source": [
    "def calculator():\n",
    "    num1=eval(input(\"Enter 1st number:\"))\n",
    "    num2=eval(input(\"Enter 2nd number:\"))\n",
    "    option=input(\"choose a valid operation out of +,-,/,*:\")\n",
    "    if option==\"+\":\n",
    "        result=(num1+num2)\n",
    "    elif option ==\"-\":\n",
    "        result=(num1-num2)\n",
    "    elif option==\"*\":\n",
    "        result=(num1*num2)\n",
    "    elif option==\"/\":\n",
    "        result=(num1/num2)\n",
    "    else:\n",
    "        result=(\"kindly choose a valid operation\")\n",
    "    return result"
   ]
  },
  {
   "cell_type": "code",
   "execution_count": 27,
   "id": "95a22c2e-6902-4164-82d6-8e865f4189ee",
   "metadata": {},
   "outputs": [
    {
     "name": "stdin",
     "output_type": "stream",
     "text": [
      "Enter 1st number: 10\n",
      "Enter 2nd number: 20\n",
      "choose a valid operation out of +,-,/,*: +\n"
     ]
    }
   ],
   "source": [
    "x=calculator()"
   ]
  },
  {
   "cell_type": "code",
   "execution_count": 28,
   "id": "b69ce455-8b19-4340-aa3b-39128b3ca101",
   "metadata": {},
   "outputs": [
    {
     "data": {
      "text/plain": [
       "30"
      ]
     },
     "execution_count": 28,
     "metadata": {},
     "output_type": "execute_result"
    }
   ],
   "source": [
    "x"
   ]
  },
  {
   "cell_type": "code",
   "execution_count": 29,
   "id": "f0fea290-f589-46bf-9e67-19b57d0f7e28",
   "metadata": {},
   "outputs": [
    {
     "name": "stdin",
     "output_type": "stream",
     "text": [
      "Enter 1st number: 100\n",
      "Enter 2nd number: 200\n",
      "choose a valid operation out of +,-,/,*: *\n"
     ]
    }
   ],
   "source": [
    "y=calculator()"
   ]
  },
  {
   "cell_type": "code",
   "execution_count": 30,
   "id": "aa22c3d9-eff7-40de-bf8a-0ba951d10e76",
   "metadata": {},
   "outputs": [
    {
     "data": {
      "text/plain": [
       "20000"
      ]
     },
     "execution_count": 30,
     "metadata": {},
     "output_type": "execute_result"
    }
   ],
   "source": [
    "y"
   ]
  },
  {
   "cell_type": "code",
   "execution_count": 31,
   "id": "65a58d7c-c7de-4378-8300-628f3aa47d6b",
   "metadata": {},
   "outputs": [
    {
     "data": {
      "text/plain": [
       "-19970"
      ]
     },
     "execution_count": 31,
     "metadata": {},
     "output_type": "execute_result"
    }
   ],
   "source": [
    "x-y"
   ]
  },
  {
   "cell_type": "code",
   "execution_count": 34,
   "id": "101967cf-9c51-48c3-9a59-cbb523eaf6e6",
   "metadata": {},
   "outputs": [
    {
     "name": "stdin",
     "output_type": "stream",
     "text": [
      "Enter 1st number: 10\n",
      "Enter 2nd number: 20\n",
      "choose a valid operation out of +,-,/,*: +\n",
      "Enter 1st number: 100\n",
      "Enter 2nd number: 200\n",
      "choose a valid operation out of +,-,/,*: *\n"
     ]
    },
    {
     "data": {
      "text/plain": [
       "-19970"
      ]
     },
     "execution_count": 34,
     "metadata": {},
     "output_type": "execute_result"
    }
   ],
   "source": [
    "calculator()-calculator()"
   ]
  },
  {
   "cell_type": "code",
   "execution_count": 35,
   "id": "6df9c434-2e3e-4c04-9dcf-851755cfd4ab",
   "metadata": {},
   "outputs": [],
   "source": [
    "def travel():\n",
    "    print(\"I am going to delhi\")"
   ]
  },
  {
   "cell_type": "code",
   "execution_count": 36,
   "id": "c7c367e0-9d86-4880-ac23-3093409724b5",
   "metadata": {},
   "outputs": [
    {
     "name": "stdout",
     "output_type": "stream",
     "text": [
      "I will go by car\n",
      "I am going to delhi\n"
     ]
    }
   ],
   "source": [
    "print(\"I will go by car\")\n",
    "travel()"
   ]
  },
  {
   "cell_type": "code",
   "execution_count": 37,
   "id": "f7431924-63fd-499f-8012-7af2b875a15d",
   "metadata": {},
   "outputs": [],
   "source": [
    "def car(arg):\n",
    "    def inner():\n",
    "        print(\"I will go by car\")\n",
    "        arg()\n",
    "    return inner"
   ]
  },
  {
   "cell_type": "code",
   "execution_count": 39,
   "id": "daae8e87-f23f-40ab-aeea-2dbb86e3cbe8",
   "metadata": {},
   "outputs": [],
   "source": [
    "val=car(travel)"
   ]
  },
  {
   "cell_type": "code",
   "execution_count": 42,
   "id": "54f311a6-df9b-4e89-8eab-c2677c18d419",
   "metadata": {},
   "outputs": [
    {
     "name": "stdout",
     "output_type": "stream",
     "text": [
      "I will go by car\n",
      "I am going to delhi\n"
     ]
    }
   ],
   "source": [
    "val()"
   ]
  },
  {
   "cell_type": "markdown",
   "id": "7341a1ce-2004-4c05-bc17-151d19583165",
   "metadata": {},
   "source": [
    "# decorator"
   ]
  },
  {
   "cell_type": "code",
   "execution_count": 44,
   "id": "4e36bf4f-c859-4ade-b9ba-b654252748ad",
   "metadata": {},
   "outputs": [],
   "source": [
    "def krishna(arg):\n",
    "    def inner():\n",
    "        print(\"I am sorry Rohan\")\n",
    "        arg()\n",
    "    return inner()"
   ]
  },
  {
   "cell_type": "code",
   "execution_count": 45,
   "id": "7c030dad-f26c-4e26-a8c5-2cc875748f89",
   "metadata": {},
   "outputs": [
    {
     "name": "stdout",
     "output_type": "stream",
     "text": [
      "I am sorry Rohan\n",
      "Rohan will not talk with krishna\n"
     ]
    }
   ],
   "source": [
    "@krishna\n",
    "def rohan():\n",
    "    print(\"Rohan will not talk with krishna\")"
   ]
  },
  {
   "cell_type": "markdown",
   "id": "b37399e2-5f35-44de-b119-e99c73b35c0f",
   "metadata": {},
   "source": [
    "# generator"
   ]
  },
  {
   "cell_type": "code",
   "execution_count": 1,
   "id": "3baa11d2-cd2c-4c5c-a3bb-0f0d2111db75",
   "metadata": {},
   "outputs": [],
   "source": [
    "def counter():\n",
    "    yield 1\n",
    "    yield 2\n",
    "    yield 3\n",
    "    yield 4"
   ]
  },
  {
   "cell_type": "code",
   "execution_count": 2,
   "id": "4fe574a2-71a1-4eae-a4c6-63b5d5084f3c",
   "metadata": {},
   "outputs": [],
   "source": [
    "a=counter()"
   ]
  },
  {
   "cell_type": "code",
   "execution_count": 3,
   "id": "91bf3047-7d8e-46d8-9912-474246bc905e",
   "metadata": {},
   "outputs": [
    {
     "data": {
      "text/plain": [
       "1"
      ]
     },
     "execution_count": 3,
     "metadata": {},
     "output_type": "execute_result"
    }
   ],
   "source": [
    "next(a)"
   ]
  },
  {
   "cell_type": "code",
   "execution_count": 4,
   "id": "407da4f7-b22a-47af-b57e-15aae8fd8c13",
   "metadata": {},
   "outputs": [
    {
     "data": {
      "text/plain": [
       "2"
      ]
     },
     "execution_count": 4,
     "metadata": {},
     "output_type": "execute_result"
    }
   ],
   "source": [
    "next(a)"
   ]
  },
  {
   "cell_type": "code",
   "execution_count": 5,
   "id": "b4d00000-e956-4ded-b960-5fb4e45ba4ff",
   "metadata": {},
   "outputs": [
    {
     "data": {
      "text/plain": [
       "3"
      ]
     },
     "execution_count": 5,
     "metadata": {},
     "output_type": "execute_result"
    }
   ],
   "source": [
    "next(a)"
   ]
  },
  {
   "cell_type": "code",
   "execution_count": 6,
   "id": "ea50d435-0d46-4b04-a7df-28ce0ef89666",
   "metadata": {},
   "outputs": [
    {
     "data": {
      "text/plain": [
       "4"
      ]
     },
     "execution_count": 6,
     "metadata": {},
     "output_type": "execute_result"
    }
   ],
   "source": [
    "next(a)"
   ]
  },
  {
   "cell_type": "code",
   "execution_count": 7,
   "id": "8178c81b-38ca-46fa-af3c-7717bbc68767",
   "metadata": {},
   "outputs": [
    {
     "ename": "StopIteration",
     "evalue": "",
     "output_type": "error",
     "traceback": [
      "\u001b[1;31m---------------------------------------------------------------------------\u001b[0m",
      "\u001b[1;31mStopIteration\u001b[0m                             Traceback (most recent call last)",
      "Cell \u001b[1;32mIn[7], line 1\u001b[0m\n\u001b[1;32m----> 1\u001b[0m \u001b[38;5;28;43mnext\u001b[39;49m\u001b[43m(\u001b[49m\u001b[43ma\u001b[49m\u001b[43m)\u001b[49m\n",
      "\u001b[1;31mStopIteration\u001b[0m: "
     ]
    }
   ],
   "source": [
    "next(a)"
   ]
  },
  {
   "cell_type": "code",
   "execution_count": null,
   "id": "e8004d26-4c98-4045-bbe8-0e061664fcab",
   "metadata": {},
   "outputs": [],
   "source": []
  }
 ],
 "metadata": {
  "kernelspec": {
   "display_name": "Python 3 (ipykernel)",
   "language": "python",
   "name": "python3"
  },
  "language_info": {
   "codemirror_mode": {
    "name": "ipython",
    "version": 3
   },
   "file_extension": ".py",
   "mimetype": "text/x-python",
   "name": "python",
   "nbconvert_exporter": "python",
   "pygments_lexer": "ipython3",
   "version": "3.11.4"
  }
 },
 "nbformat": 4,
 "nbformat_minor": 5
}
