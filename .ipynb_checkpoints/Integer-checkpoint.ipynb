{
 "cells": [
  {
   "cell_type": "markdown",
   "id": "7314de6d-2104-4cdb-958d-187af70c181c",
   "metadata": {},
   "source": [
    "# integer\n",
    "> integer constructure is int()\n",
    "\n",
    "> integer is immutable datatype\n",
    "\n",
    "> integer literal is 0\n",
    "\n",
    "> integer contain 0,1,2,3,4,5,6,7,8,9; base of integer is 10\n"
   ]
  },
  {
   "cell_type": "code",
   "execution_count": 1,
   "id": "f4584f25-8aac-45eb-a7a1-95e4810bbfbf",
   "metadata": {},
   "outputs": [],
   "source": [
    "a=10"
   ]
  },
  {
   "cell_type": "code",
   "execution_count": 2,
   "id": "5347ad8b-9d63-472f-bf69-39c782340336",
   "metadata": {},
   "outputs": [
    {
     "name": "stdout",
     "output_type": "stream",
     "text": [
      "<class 'int'>\n"
     ]
    }
   ],
   "source": [
    "print(type(a))"
   ]
  },
  {
   "cell_type": "code",
   "execution_count": 3,
   "id": "2e05d5c7-6f5c-4c0d-9e36-cb4903fa8720",
   "metadata": {},
   "outputs": [
    {
     "name": "stdout",
     "output_type": "stream",
     "text": [
      "10\n"
     ]
    }
   ],
   "source": [
    "print(a)"
   ]
  },
  {
   "cell_type": "code",
   "execution_count": 4,
   "id": "35087f29-632a-43cc-a559-24803c218420",
   "metadata": {},
   "outputs": [
    {
     "name": "stdout",
     "output_type": "stream",
     "text": [
      "140717451568200\n"
     ]
    }
   ],
   "source": [
    "print(id(a))"
   ]
  },
  {
   "cell_type": "code",
   "execution_count": 5,
   "id": "b5081b7e-9807-4d73-a33a-29a366a2e39b",
   "metadata": {},
   "outputs": [],
   "source": [
    "c=int()"
   ]
  },
  {
   "cell_type": "code",
   "execution_count": 6,
   "id": "76e320db-d2b6-4f10-86af-dad9cb601f07",
   "metadata": {},
   "outputs": [
    {
     "name": "stdout",
     "output_type": "stream",
     "text": [
      "0\n"
     ]
    }
   ],
   "source": [
    "print(c)"
   ]
  },
  {
   "cell_type": "code",
   "execution_count": 7,
   "id": "d9cbb70d-525f-4605-bd6c-1642e6d4cf04",
   "metadata": {},
   "outputs": [
    {
     "name": "stdout",
     "output_type": "stream",
     "text": [
      "<class 'int'>\n"
     ]
    }
   ],
   "source": [
    "print(type(c))"
   ]
  },
  {
   "cell_type": "code",
   "execution_count": 11,
   "id": "15db39ac-96a8-41cb-bb93-afeb04ed7230",
   "metadata": {},
   "outputs": [],
   "source": [
    "d=0"
   ]
  },
  {
   "cell_type": "code",
   "execution_count": 12,
   "id": "075d8758-c92b-41a7-8142-6b5d1ad5efcd",
   "metadata": {},
   "outputs": [
    {
     "name": "stdout",
     "output_type": "stream",
     "text": [
      "0\n"
     ]
    }
   ],
   "source": [
    "print(d)"
   ]
  },
  {
   "cell_type": "code",
   "execution_count": 13,
   "id": "b1454cd1-1061-478b-aa75-3fed7c2efc21",
   "metadata": {},
   "outputs": [
    {
     "name": "stdout",
     "output_type": "stream",
     "text": [
      "<class 'int'>\n"
     ]
    }
   ],
   "source": [
    "print(type(d))"
   ]
  },
  {
   "cell_type": "code",
   "execution_count": 14,
   "id": "f9a20c4f-d98c-427c-81c8-6b3bbdbb7c97",
   "metadata": {},
   "outputs": [],
   "source": [
    "# ANSI ascii--> 128 character encode with number 0,127"
   ]
  },
  {
   "cell_type": "code",
   "execution_count": 15,
   "id": "0c6d281c-e36a-4835-b3ba-a749bffbc215",
   "metadata": {},
   "outputs": [],
   "source": [
    "e=\"k\""
   ]
  },
  {
   "cell_type": "code",
   "execution_count": 16,
   "id": "4e8dfec2-4ae0-46a7-b59f-c506bcaa4f79",
   "metadata": {},
   "outputs": [
    {
     "name": "stdout",
     "output_type": "stream",
     "text": [
      "107\n"
     ]
    }
   ],
   "source": [
    "print(ord(e))"
   ]
  },
  {
   "cell_type": "code",
   "execution_count": 17,
   "id": "5957f5c7-04fd-4f95-ac3e-54747462b770",
   "metadata": {},
   "outputs": [
    {
     "data": {
      "text/plain": [
       "'0b1101011'"
      ]
     },
     "execution_count": 17,
     "metadata": {},
     "output_type": "execute_result"
    }
   ],
   "source": [
    "bin(107)"
   ]
  },
  {
   "cell_type": "markdown",
   "id": "fa1f4355-1a0c-4dbe-b31b-6fdd9e002bed",
   "metadata": {},
   "source": [
    "# Computer number system and their conversion\n",
    "\n",
    "> Binary number system(0,1) base 2\n",
    "\n",
    "> Decimal number system(0,1,2,3,4,5,6,7,8,9) base 10\n",
    "\n",
    "> Octal number system (0,1,2,3,4,5,6,7) base 8\n",
    "\n",
    "> Hexadecimal number system(0,1,2,3,4,5,6,7,8,9,a,b,c,d,e,f) base 16"
   ]
  },
  {
   "cell_type": "code",
   "execution_count": 19,
   "id": "185dc50d-0df9-4d71-bfe1-3f89342b8b76",
   "metadata": {},
   "outputs": [],
   "source": [
    "a=1000"
   ]
  },
  {
   "cell_type": "code",
   "execution_count": 20,
   "id": "ff48015e-11b3-4cb1-b72a-829b9334fd3c",
   "metadata": {},
   "outputs": [
    {
     "name": "stdout",
     "output_type": "stream",
     "text": [
      "0b1111101000\n"
     ]
    }
   ],
   "source": [
    "print(bin(a))"
   ]
  },
  {
   "cell_type": "code",
   "execution_count": 21,
   "id": "41c78eea-b076-4984-8401-95a811f7faba",
   "metadata": {},
   "outputs": [
    {
     "name": "stdout",
     "output_type": "stream",
     "text": [
      "0o1750\n"
     ]
    }
   ],
   "source": [
    "print(oct(a))"
   ]
  },
  {
   "cell_type": "code",
   "execution_count": 22,
   "id": "f95f4b8d-97ed-414b-8341-0069242e5937",
   "metadata": {},
   "outputs": [
    {
     "name": "stdout",
     "output_type": "stream",
     "text": [
      "0x3e8\n"
     ]
    }
   ],
   "source": [
    "print(hex(a))"
   ]
  },
  {
   "cell_type": "code",
   "execution_count": 23,
   "id": "3722be93-c308-47c5-affc-406f9fa18366",
   "metadata": {},
   "outputs": [
    {
     "ename": "SyntaxError",
     "evalue": "leading zeros in decimal integer literals are not permitted; use an 0o prefix for octal integers (3872423688.py, line 1)",
     "output_type": "error",
     "traceback": [
      "\u001b[1;36m  Cell \u001b[1;32mIn[23], line 1\u001b[1;36m\u001b[0m\n\u001b[1;33m    a=0010\u001b[0m\n\u001b[1;37m      ^\u001b[0m\n\u001b[1;31mSyntaxError\u001b[0m\u001b[1;31m:\u001b[0m leading zeros in decimal integer literals are not permitted; use an 0o prefix for octal integers\n"
     ]
    }
   ],
   "source": [
    "a=0010"
   ]
  },
  {
   "cell_type": "code",
   "execution_count": null,
   "id": "5aadf070-7149-43df-8b3a-c24940de94a6",
   "metadata": {},
   "outputs": [],
   "source": []
  }
 ],
 "metadata": {
  "kernelspec": {
   "display_name": "Python 3 (ipykernel)",
   "language": "python",
   "name": "python3"
  },
  "language_info": {
   "codemirror_mode": {
    "name": "ipython",
    "version": 3
   },
   "file_extension": ".py",
   "mimetype": "text/x-python",
   "name": "python",
   "nbconvert_exporter": "python",
   "pygments_lexer": "ipython3",
   "version": "3.11.4"
  }
 },
 "nbformat": 4,
 "nbformat_minor": 5
}
