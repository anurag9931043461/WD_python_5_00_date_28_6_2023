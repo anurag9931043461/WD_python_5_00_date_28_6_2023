{
 "cells": [
  {
   "cell_type": "code",
   "execution_count": 1,
   "id": "67136163-d62b-43da-8fd5-9f96bcbcc39d",
   "metadata": {},
   "outputs": [
    {
     "name": "stdout",
     "output_type": "stream",
     "text": [
      "I am krishna\n",
      "Hello world\n"
     ]
    },
    {
     "name": "stderr",
     "output_type": "stream",
     "text": [
      "Exception in thread division:\n",
      "Traceback (most recent call last):\n",
      "  File \"C:\\Users\\Ducat\\AppData\\Local\\Programs\\Python\\Python311\\Lib\\threading.py\", line 1038, in _bootstrap_inner\n",
      "    self.run()\n",
      "  File \"C:\\Users\\Ducat\\AppData\\Local\\Programs\\Python\\Python311\\Lib\\threading.py\", line 975, in run\n",
      "    self._target(*self._args, **self._kwargs)\n",
      "  File \"C:\\Users\\Ducat\\AppData\\Local\\Temp\\ipykernel_7660\\2260793855.py\", line 7, in division\n",
      "ZeroDivisionError: division by zero\n"
     ]
    }
   ],
   "source": [
    "from threading import Thread\n",
    "\n",
    "def intro():\n",
    "    print(\"I am krishna\")\n",
    "\n",
    "def division():\n",
    "    print(2/0)\n",
    "\n",
    "def hello():\n",
    "    print(\"Hello world\")\n",
    "\n",
    "t1=Thread(target=intro,name=\"intro\")\n",
    "t2=Thread(target=division,name=\"division\")\n",
    "t3=Thread(target=hello,name=\"hello\")\n",
    "\n",
    "t1.start()\n",
    "t2.start()\n",
    "t3.start()\n"
   ]
  },
  {
   "cell_type": "code",
   "execution_count": null,
   "id": "d20a34af-a855-432f-8056-3bcb3d2842ad",
   "metadata": {},
   "outputs": [],
   "source": []
  }
 ],
 "metadata": {
  "kernelspec": {
   "display_name": "Python 3 (ipykernel)",
   "language": "python",
   "name": "python3"
  },
  "language_info": {
   "codemirror_mode": {
    "name": "ipython",
    "version": 3
   },
   "file_extension": ".py",
   "mimetype": "text/x-python",
   "name": "python",
   "nbconvert_exporter": "python",
   "pygments_lexer": "ipython3",
   "version": "3.11.4"
  }
 },
 "nbformat": 4,
 "nbformat_minor": 5
}
