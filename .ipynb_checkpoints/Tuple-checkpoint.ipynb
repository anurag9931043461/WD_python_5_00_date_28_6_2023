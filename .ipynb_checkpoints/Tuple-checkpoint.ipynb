{
 "cells": [
  {
   "cell_type": "markdown",
   "id": "d13966b8-6cf6-4087-bce6-cd6368edbb32",
   "metadata": {},
   "source": [
    "# tuple \n",
    "\n",
    "> Tuple constructor is tuple()\n",
    "\n",
    "> Tuple literal is ()\n",
    "\n",
    "> Tuple is set of sequence of elements.\n",
    "\n",
    "> Tuple is immutable(hashable)\n",
    "\n",
    "> Tuple support indexing \n",
    "\n",
    "> Tuple support slicing \n",
    "\n",
    "> Tuple support concationation\n",
    "\n",
    "> Tuple support nested tuple\n",
    "\n",
    "> Tuple methods: index , count"
   ]
  },
  {
   "cell_type": "code",
   "execution_count": 11,
   "id": "5d941317-4f2f-4ab2-aa44-0de5aa4d3513",
   "metadata": {},
   "outputs": [],
   "source": [
    "a=(10,10.0,'10',[10],{10},(10,))"
   ]
  },
  {
   "cell_type": "code",
   "execution_count": 14,
   "id": "57f38d59-60a0-44d2-b823-017475514c42",
   "metadata": {},
   "outputs": [
    {
     "name": "stdout",
     "output_type": "stream",
     "text": [
      "(10, 10.0, '10', [10], {10}, (10,))\n"
     ]
    }
   ],
   "source": [
    "print(a)"
   ]
  },
  {
   "cell_type": "code",
   "execution_count": 13,
   "id": "da0285bc-04e6-4d01-90df-da81a7412eb6",
   "metadata": {},
   "outputs": [
    {
     "name": "stdout",
     "output_type": "stream",
     "text": [
      "<class 'tuple'>\n"
     ]
    }
   ],
   "source": [
    "print(type(a))"
   ]
  },
  {
   "cell_type": "code",
   "execution_count": 15,
   "id": "5444f746-fbfb-4cad-90ea-982a1ea3d43b",
   "metadata": {},
   "outputs": [
    {
     "name": "stdout",
     "output_type": "stream",
     "text": [
      "()\n",
      "<class 'tuple'>\n"
     ]
    }
   ],
   "source": [
    "b=tuple()\n",
    "print(b)\n",
    "print(type(b))"
   ]
  },
  {
   "cell_type": "code",
   "execution_count": 17,
   "id": "031a221d-1162-45e9-b902-3838cb10cabc",
   "metadata": {},
   "outputs": [
    {
     "name": "stdout",
     "output_type": "stream",
     "text": [
      "()\n",
      "<class 'tuple'>\n"
     ]
    }
   ],
   "source": [
    "c=()\n",
    "print(c)\n",
    "print(type(c))"
   ]
  },
  {
   "cell_type": "code",
   "execution_count": 18,
   "id": "649d682d-0492-4d06-b0d8-7d376bd83220",
   "metadata": {},
   "outputs": [],
   "source": [
    "a=(10,10.0,'10',[10],{10},(10,))"
   ]
  },
  {
   "cell_type": "code",
   "execution_count": 19,
   "id": "e08c62a1-bfcd-451a-981b-2b3dd60ebd3a",
   "metadata": {},
   "outputs": [
    {
     "data": {
      "text/plain": [
       "[10]"
      ]
     },
     "execution_count": 19,
     "metadata": {},
     "output_type": "execute_result"
    }
   ],
   "source": [
    "a[3]"
   ]
  },
  {
   "cell_type": "code",
   "execution_count": 20,
   "id": "fc692a09-ed8a-4cb7-9432-5a241abc75e3",
   "metadata": {},
   "outputs": [
    {
     "data": {
      "text/plain": [
       "(10.0, '10', [10], {10})"
      ]
     },
     "execution_count": 20,
     "metadata": {},
     "output_type": "execute_result"
    }
   ],
   "source": [
    "a[1:5:1]"
   ]
  },
  {
   "cell_type": "code",
   "execution_count": 21,
   "id": "e9237631-63dc-4713-811c-04b955a9acae",
   "metadata": {},
   "outputs": [
    {
     "data": {
      "text/plain": [
       "'10'"
      ]
     },
     "execution_count": 21,
     "metadata": {},
     "output_type": "execute_result"
    }
   ],
   "source": [
    "a[-4]"
   ]
  },
  {
   "cell_type": "code",
   "execution_count": 22,
   "id": "fec9901e-ae11-4b38-ba3e-1271fcb379ca",
   "metadata": {},
   "outputs": [
    {
     "data": {
      "text/plain": [
       "((10,), {10}, [10], '10', 10.0, 10)"
      ]
     },
     "execution_count": 22,
     "metadata": {},
     "output_type": "execute_result"
    }
   ],
   "source": [
    "a[-1:-7:-1]"
   ]
  },
  {
   "cell_type": "code",
   "execution_count": 23,
   "id": "c49dbc4d-cbad-4ff5-9313-8b5c7576529c",
   "metadata": {},
   "outputs": [
    {
     "data": {
      "text/plain": [
       "((10,), {10}, [10], '10', 10.0, 10)"
      ]
     },
     "execution_count": 23,
     "metadata": {},
     "output_type": "execute_result"
    }
   ],
   "source": [
    "a[-1::-1]"
   ]
  },
  {
   "cell_type": "code",
   "execution_count": 24,
   "id": "94a2210a-8587-4376-a444-a4c8ebcd413b",
   "metadata": {},
   "outputs": [
    {
     "data": {
      "text/plain": [
       "((10,), {10}, [10], '10', 10.0, 10)"
      ]
     },
     "execution_count": 24,
     "metadata": {},
     "output_type": "execute_result"
    }
   ],
   "source": [
    "a[::-1]"
   ]
  },
  {
   "cell_type": "code",
   "execution_count": 25,
   "id": "5b443d42-a8bc-481f-8a41-6afd0e884041",
   "metadata": {},
   "outputs": [
    {
     "data": {
      "text/plain": [
       "(10, 10.0, '10', [10], {10}, (10,))"
      ]
     },
     "execution_count": 25,
     "metadata": {},
     "output_type": "execute_result"
    }
   ],
   "source": [
    "a[0:6:1]"
   ]
  },
  {
   "cell_type": "code",
   "execution_count": 26,
   "id": "866162df-7fa5-4c3e-9680-a3e6dca57b7f",
   "metadata": {},
   "outputs": [
    {
     "data": {
      "text/plain": [
       "(10, 10.0, '10', [10], {10}, (10,))"
      ]
     },
     "execution_count": 26,
     "metadata": {},
     "output_type": "execute_result"
    }
   ],
   "source": [
    "a[0::1]"
   ]
  },
  {
   "cell_type": "code",
   "execution_count": 27,
   "id": "c93521ca-7b94-42b6-a2d0-b629d3f9dedf",
   "metadata": {},
   "outputs": [
    {
     "data": {
      "text/plain": [
       "(10, 10.0, '10', [10], {10}, (10,))"
      ]
     },
     "execution_count": 27,
     "metadata": {},
     "output_type": "execute_result"
    }
   ],
   "source": [
    "a[::1]"
   ]
  },
  {
   "cell_type": "code",
   "execution_count": 28,
   "id": "e360da86-44e9-4f99-b02f-8e6f71368add",
   "metadata": {},
   "outputs": [
    {
     "data": {
      "text/plain": [
       "(10, 10.0, '10', [10], {10}, (10,))"
      ]
     },
     "execution_count": 28,
     "metadata": {},
     "output_type": "execute_result"
    }
   ],
   "source": [
    "a[::]"
   ]
  },
  {
   "cell_type": "code",
   "execution_count": 29,
   "id": "617927eb-5bf9-4ddf-a00d-d7773370a35c",
   "metadata": {},
   "outputs": [
    {
     "data": {
      "text/plain": [
       "(10, 10.0, '10', [10], {10}, (10,))"
      ]
     },
     "execution_count": 29,
     "metadata": {},
     "output_type": "execute_result"
    }
   ],
   "source": [
    "a[:]"
   ]
  },
  {
   "cell_type": "code",
   "execution_count": 32,
   "id": "684ed99a-4f9e-4106-9222-7c1187f753d2",
   "metadata": {},
   "outputs": [],
   "source": [
    "a=(10,(2,2,3,4,5,6),1,2,3,4)"
   ]
  },
  {
   "cell_type": "code",
   "execution_count": 33,
   "id": "b8c72af2-914a-4a01-8724-3055469d60b4",
   "metadata": {},
   "outputs": [
    {
     "data": {
      "text/plain": [
       "(10, (2, 2, 3, 4, 5, 6), 1, 2, 3, 4)"
      ]
     },
     "execution_count": 33,
     "metadata": {},
     "output_type": "execute_result"
    }
   ],
   "source": [
    "a"
   ]
  },
  {
   "cell_type": "code",
   "execution_count": 34,
   "id": "8c21e2af-7410-4759-97e1-41db45a41252",
   "metadata": {},
   "outputs": [
    {
     "data": {
      "text/plain": [
       "6"
      ]
     },
     "execution_count": 34,
     "metadata": {},
     "output_type": "execute_result"
    }
   ],
   "source": [
    "len(a)"
   ]
  },
  {
   "cell_type": "code",
   "execution_count": 36,
   "id": "e292f70b-f4ec-48a5-8ffb-8cb81ca9ed1e",
   "metadata": {},
   "outputs": [
    {
     "data": {
      "text/plain": [
       "4"
      ]
     },
     "execution_count": 36,
     "metadata": {},
     "output_type": "execute_result"
    }
   ],
   "source": [
    "a[1][3]   # indexing on nested tuple"
   ]
  },
  {
   "cell_type": "code",
   "execution_count": 37,
   "id": "9a1994e1-d174-4384-8257-df245caa0582",
   "metadata": {},
   "outputs": [],
   "source": [
    "#slicing on nested tuple"
   ]
  },
  {
   "cell_type": "code",
   "execution_count": 41,
   "id": "7720e5c2-c869-4d51-93bd-b5659495cc3a",
   "metadata": {},
   "outputs": [],
   "source": [
    "v=(10, (2, 2, 3, 4, 5, 6), 1, 2, 3, 4)"
   ]
  },
  {
   "cell_type": "code",
   "execution_count": 42,
   "id": "5832f134-9e12-453d-8260-8c59de68c092",
   "metadata": {},
   "outputs": [
    {
     "data": {
      "text/plain": [
       "(2, 3, 4, 5)"
      ]
     },
     "execution_count": 42,
     "metadata": {},
     "output_type": "execute_result"
    }
   ],
   "source": [
    "v[1][1:5:1]"
   ]
  },
  {
   "cell_type": "code",
   "execution_count": 43,
   "id": "877a8eb7-d5de-4046-86cc-40bb44006e40",
   "metadata": {},
   "outputs": [],
   "source": [
    "# concatination"
   ]
  },
  {
   "cell_type": "code",
   "execution_count": 45,
   "id": "1db469b5-10cb-4ecc-bf68-94abfbbc2e8d",
   "metadata": {},
   "outputs": [
    {
     "data": {
      "text/plain": [
       "(1, 2, 3, 4, 4, 5, 6, 7)"
      ]
     },
     "execution_count": 45,
     "metadata": {},
     "output_type": "execute_result"
    }
   ],
   "source": [
    "(1,2,3,4)+(4,5,6,7)+()"
   ]
  },
  {
   "cell_type": "code",
   "execution_count": 46,
   "id": "9db88855-ac82-4969-b93f-2910b844125b",
   "metadata": {},
   "outputs": [
    {
     "name": "stdout",
     "output_type": "stream",
     "text": [
      "(0, 0.0, '', [], set(), ())\n"
     ]
    }
   ],
   "source": [
    "d=(int(),float(),str(),list(),set(),tuple())\n",
    "print(d)"
   ]
  },
  {
   "cell_type": "code",
   "execution_count": 47,
   "id": "d0803e1c-9a8e-4244-a718-7655d2c7c8d4",
   "metadata": {},
   "outputs": [
    {
     "data": {
      "text/plain": [
       "(0, 0.0, '', [], set(), ())"
      ]
     },
     "execution_count": 47,
     "metadata": {},
     "output_type": "execute_result"
    }
   ],
   "source": [
    "f=(0,0.0,'',[],set(),())\n",
    "f"
   ]
  },
  {
   "cell_type": "code",
   "execution_count": 48,
   "id": "f467fecb-f4e7-4747-8ffa-fc412b41a7c0",
   "metadata": {},
   "outputs": [
    {
     "data": {
      "text/plain": [
       "(int, float, str, list, set, tuple)"
      ]
     },
     "execution_count": 48,
     "metadata": {},
     "output_type": "execute_result"
    }
   ],
   "source": [
    "g=(type(0),type(0.0),type(''),type([]),type(set()),type(()))\n",
    "g"
   ]
  },
  {
   "cell_type": "code",
   "execution_count": 49,
   "id": "2b0f2c9a-5bd3-404b-a532-b98d3b2cf2bd",
   "metadata": {},
   "outputs": [
    {
     "name": "stdout",
     "output_type": "stream",
     "text": [
      "(<class 'int'>, <class 'float'>, <class 'str'>, <class 'list'>, <class 'set'>, <class 'tuple'>)\n"
     ]
    }
   ],
   "source": [
    "print(g)"
   ]
  },
  {
   "cell_type": "code",
   "execution_count": 29,
   "id": "5bca7dbb-5544-4bcc-b8c4-7e074cadeb91",
   "metadata": {},
   "outputs": [],
   "source": [
    "a=(2,3,4,5,1,0,5,1,2,3,4,4,3,2,2,1,2,3,34,4,4,4,5,5,6,6,6)"
   ]
  },
  {
   "cell_type": "code",
   "execution_count": 30,
   "id": "008e0b57-f3bd-4673-89d9-a884435d60b8",
   "metadata": {},
   "outputs": [
    {
     "data": {
      "text/plain": [
       "6"
      ]
     },
     "execution_count": 30,
     "metadata": {},
     "output_type": "execute_result"
    }
   ],
   "source": [
    "a.count(4)"
   ]
  },
  {
   "cell_type": "code",
   "execution_count": 32,
   "id": "1207f7d8-5695-4d55-9a91-d01afcff8abf",
   "metadata": {},
   "outputs": [
    {
     "data": {
      "text/plain": [
       "7"
      ]
     },
     "execution_count": 32,
     "metadata": {},
     "output_type": "execute_result"
    }
   ],
   "source": [
    "a.index(1,5,1000)"
   ]
  },
  {
   "cell_type": "code",
   "execution_count": 33,
   "id": "f1e3f9a5-f03b-447b-8abc-3df7d6088d04",
   "metadata": {},
   "outputs": [
    {
     "data": {
      "text/plain": [
       "15"
      ]
     },
     "execution_count": 33,
     "metadata": {},
     "output_type": "execute_result"
    }
   ],
   "source": [
    "a.index(1,8,1000000000000)"
   ]
  },
  {
   "cell_type": "code",
   "execution_count": 24,
   "id": "197bb9ea-4287-4811-b413-e31c9d02df25",
   "metadata": {},
   "outputs": [],
   "source": [
    "a=\"krishnakumar\""
   ]
  },
  {
   "cell_type": "code",
   "execution_count": 26,
   "id": "af7eecd1-22d4-4021-9783-9188e73fef02",
   "metadata": {},
   "outputs": [
    {
     "ename": "TypeError",
     "evalue": "slice indices must be integers or None or have an __index__ method",
     "output_type": "error",
     "traceback": [
      "\u001b[1;31m---------------------------------------------------------------------------\u001b[0m",
      "\u001b[1;31mTypeError\u001b[0m                                 Traceback (most recent call last)",
      "Cell \u001b[1;32mIn[26], line 1\u001b[0m\n\u001b[1;32m----> 1\u001b[0m \u001b[43ma\u001b[49m\u001b[38;5;241;43m.\u001b[39;49m\u001b[43mindex\u001b[49m\u001b[43m(\u001b[49m\u001b[38;5;124;43m\"\u001b[39;49m\u001b[38;5;124;43mk\u001b[39;49m\u001b[38;5;124;43m\"\u001b[39;49m\u001b[43m,\u001b[49m\u001b[38;5;124;43m\"\u001b[39;49m\u001b[38;5;124;43mk\u001b[39;49m\u001b[38;5;124;43m\"\u001b[39;49m\u001b[43m)\u001b[49m\n",
      "\u001b[1;31mTypeError\u001b[0m: slice indices must be integers or None or have an __index__ method"
     ]
    }
   ],
   "source": [
    "a.index(\"k\",\"k\")"
   ]
  },
  {
   "cell_type": "code",
   "execution_count": 34,
   "id": "43a30188-a516-46d8-bb29-ace21115903e",
   "metadata": {},
   "outputs": [],
   "source": [
    "a=23123123124325235425235234523452345234523452345234"
   ]
  },
  {
   "cell_type": "code",
   "execution_count": 35,
   "id": "fac5edc3-1cd3-4672-8d8f-2d7bd4d195ca",
   "metadata": {},
   "outputs": [],
   "source": [
    "b=3243254235423874628736958726348752639847659827356987234"
   ]
  },
  {
   "cell_type": "code",
   "execution_count": 36,
   "id": "e3beaae7-3c22-4612-bb48-a952423598da",
   "metadata": {},
   "outputs": [
    {
     "name": "stdout",
     "output_type": "stream",
     "text": [
      "3243277358546998953972383961583276092192894350809332468\n"
     ]
    }
   ],
   "source": [
    "print(a+b)"
   ]
  },
  {
   "cell_type": "code",
   "execution_count": null,
   "id": "72da6405-0820-499c-bcaf-b49c8c349e30",
   "metadata": {},
   "outputs": [],
   "source": []
  }
 ],
 "metadata": {
  "kernelspec": {
   "display_name": "Python 3 (ipykernel)",
   "language": "python",
   "name": "python3"
  },
  "language_info": {
   "codemirror_mode": {
    "name": "ipython",
    "version": 3
   },
   "file_extension": ".py",
   "mimetype": "text/x-python",
   "name": "python",
   "nbconvert_exporter": "python",
   "pygments_lexer": "ipython3",
   "version": "3.11.4"
  }
 },
 "nbformat": 4,
 "nbformat_minor": 5
}
