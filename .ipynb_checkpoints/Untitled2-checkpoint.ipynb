{
 "cells": [
  {
   "cell_type": "raw",
   "id": "a6f04b02-925f-4c61-96cb-249d56c11658",
   "metadata": {},
   "source": [
    "#> Loop\n",
    "    > for loop\n",
    "        > nested for loop\n",
    "        > single for loop with pattern\n",
    "        > nested for loop with pattern\n",
    "        > list comprehension\n",
    "        > set comprehension\n",
    "        > dictionary comprehension\n",
    "        > tuple comprehension(generator)\n",
    "    > while loop\n",
    "        > simple while loop\n",
    "        > nested while loop \n",
    "        > pattern using simple while loop\n",
    "        > pattern using nested while loop\n"
   ]
  },
  {
   "cell_type": "code",
   "execution_count": 1,
   "id": "4f2aa033-0db9-41bb-ba60-f0914abe3142",
   "metadata": {},
   "outputs": [
    {
     "name": "stdout",
     "output_type": "stream",
     "text": [
      "hello world\n",
      "hello world\n",
      "hello world\n",
      "hello world\n",
      "hello world\n"
     ]
    }
   ],
   "source": [
    "print(\"hello world\")\n",
    "print(\"hello world\")\n",
    "print(\"hello world\")\n",
    "print(\"hello world\")\n",
    "print(\"hello world\")\n"
   ]
  },
  {
   "cell_type": "markdown",
   "id": "4d33a47d-ac37-4472-8646-8c194cde50f5",
   "metadata": {},
   "source": [
    "> for loop: when you know the number of iterations\n",
    "\n",
    "> while loop : when you don't know the number of iterations."
   ]
  },
  {
   "cell_type": "raw",
   "id": "5116d379-ca9d-42ca-87ef-f8ee28bc7f79",
   "metadata": {},
   "source": [
    "> iterable: a datatype which contain def __iter__() called iterable datatype.\n",
    "\n",
    "examples: str, list , tuple, set , dictionary, frozenset"
   ]
  },
  {
   "cell_type": "code",
   "execution_count": 19,
   "id": "8e636465-2298-4e46-99d0-36018a5a4cbe",
   "metadata": {},
   "outputs": [],
   "source": [
    "a=list()"
   ]
  },
  {
   "cell_type": "code",
   "execution_count": 21,
   "id": "9f83d6da-51f9-45b7-bdb8-cdcca4285777",
   "metadata": {},
   "outputs": [
    {
     "name": "stdout",
     "output_type": "stream",
     "text": [
      "['__add__', '__class__', '__class_getitem__', '__contains__', '__delattr__', '__delitem__', '__dir__', '__doc__', '__eq__', '__format__', '__ge__', '__getattribute__', '__getitem__', '__getstate__', '__gt__', '__hash__', '__iadd__', '__imul__', '__init__', '__init_subclass__', '__iter__', '__le__', '__len__', '__lt__', '__mul__', '__ne__', '__new__', '__reduce__', '__reduce_ex__', '__repr__', '__reversed__', '__rmul__', '__setattr__', '__setitem__', '__sizeof__', '__str__', '__subclasshook__', 'append', 'clear', 'copy', 'count', 'extend', 'index', 'insert', 'pop', 'remove', 'reverse', 'sort']\n"
     ]
    }
   ],
   "source": [
    "print(dir(a))"
   ]
  },
  {
   "cell_type": "code",
   "execution_count": 22,
   "id": "f02fdce8-d5c6-4bdf-b3f9-88d0fdb8f500",
   "metadata": {},
   "outputs": [
    {
     "data": {
      "text/plain": [
       "range(0, 10)"
      ]
     },
     "execution_count": 22,
     "metadata": {},
     "output_type": "execute_result"
    }
   ],
   "source": [
    "range(10)"
   ]
  },
  {
   "cell_type": "code",
   "execution_count": 23,
   "id": "c5407e4f-13d4-406f-a043-d1f6f9a3da6e",
   "metadata": {},
   "outputs": [],
   "source": [
    "a=[1,2,3,4,5,6,7,8,9]\n",
    "    "
   ]
  },
  {
   "cell_type": "code",
   "execution_count": 25,
   "id": "15bcba82-3ac9-4cf5-8c94-defe3523ebbe",
   "metadata": {},
   "outputs": [
    {
     "name": "stdout",
     "output_type": "stream",
     "text": [
      "1\n",
      "2\n",
      "3\n",
      "4\n",
      "5\n",
      "6\n",
      "7\n",
      "8\n",
      "9\n"
     ]
    }
   ],
   "source": [
    "for i in [1,2,3,4,5,6,7,8,9]:\n",
    "    print(i)"
   ]
  },
  {
   "cell_type": "code",
   "execution_count": 30,
   "id": "c5c92b97-0f90-4967-b283-e74ca393c273",
   "metadata": {},
   "outputs": [
    {
     "name": "stdout",
     "output_type": "stream",
     "text": [
      "0\n",
      "2\n",
      "4\n",
      "6\n",
      "8\n"
     ]
    }
   ],
   "source": [
    "for i in range(0,10,2):\n",
    "    print(i)"
   ]
  },
  {
   "cell_type": "code",
   "execution_count": 29,
   "id": "0a541cc6-1b8c-4d4d-b52d-fa79d264c261",
   "metadata": {},
   "outputs": [
    {
     "data": {
      "text/plain": [
       "range(0, 10, 2)"
      ]
     },
     "execution_count": 29,
     "metadata": {},
     "output_type": "execute_result"
    }
   ],
   "source": [
    "range(0,10,2)"
   ]
  },
  {
   "cell_type": "code",
   "execution_count": 32,
   "id": "563ff754-5e7c-4303-a70b-7064bc4a6d4a",
   "metadata": {},
   "outputs": [
    {
     "name": "stdout",
     "output_type": "stream",
     "text": [
      "0$hello world 2$hello world 4$hello world 6$hello world 8$hello world "
     ]
    }
   ],
   "source": [
    "for i in range(0,10,2):\n",
    "    print(i,\"hello world\",sep=\"$\",end=\" \")"
   ]
  },
  {
   "cell_type": "code",
   "execution_count": 33,
   "id": "f9cfcab3-6020-4dd2-ad63-b89e30728b43",
   "metadata": {},
   "outputs": [
    {
     "name": "stdout",
     "output_type": "stream",
     "text": [
      "0$hello world\n",
      "2$hello world\n",
      "4$hello world\n",
      "6$hello world\n",
      "8$hello world\n"
     ]
    }
   ],
   "source": [
    "for i in range(0,10,2):\n",
    "    print(i,\"hello world\",sep=\"$\")"
   ]
  },
  {
   "cell_type": "code",
   "execution_count": 34,
   "id": "f47f06c9-4937-412a-92f9-7b009a1ca302",
   "metadata": {},
   "outputs": [
    {
     "name": "stdout",
     "output_type": "stream",
     "text": [
      "0 hello world\n",
      "2 hello world\n",
      "4 hello world\n",
      "6 hello world\n",
      "8 hello world\n"
     ]
    }
   ],
   "source": [
    "for i in range(0,10,2):\n",
    "    print(i,\"hello world\")"
   ]
  },
  {
   "cell_type": "code",
   "execution_count": 36,
   "id": "17ea42fb-110c-40d0-b59c-01c2f66dbbb5",
   "metadata": {},
   "outputs": [
    {
     "name": "stdout",
     "output_type": "stream",
     "text": [
      "1 hello world\n",
      "2 hello world\n",
      "3 hello world\n",
      "4 hello world\n",
      "5 hello world\n"
     ]
    }
   ],
   "source": [
    "for i in range(1,6):\n",
    "    print(i,\"hello world\")"
   ]
  },
  {
   "cell_type": "code",
   "execution_count": 41,
   "id": "0080856d-3f50-4695-bffb-c64bb8da4090",
   "metadata": {},
   "outputs": [
    {
     "ename": "SyntaxError",
     "evalue": "invalid syntax (3958219758.py, line 1)",
     "output_type": "error",
     "traceback": [
      "\u001b[1;36m  Cell \u001b[1;32mIn[41], line 1\u001b[1;36m\u001b[0m\n\u001b[1;33m    for i in range(-1,,1):\u001b[0m\n\u001b[1;37m                      ^\u001b[0m\n\u001b[1;31mSyntaxError\u001b[0m\u001b[1;31m:\u001b[0m invalid syntax\n"
     ]
    }
   ],
   "source": [
    "for i in range(-1,,1):\n",
    "    print(i,\"hello world\")"
   ]
  },
  {
   "cell_type": "code",
   "execution_count": 38,
   "id": "d805a369-f316-4238-97ed-cd6c720ebb06",
   "metadata": {},
   "outputs": [
    {
     "name": "stdout",
     "output_type": "stream",
     "text": [
      "5 hello world\n",
      "4 hello world\n",
      "3 hello world\n",
      "2 hello world\n",
      "1 hello world\n"
     ]
    }
   ],
   "source": [
    "for i in range(1,6):\n",
    "    print((6-i),\"hello world\")"
   ]
  },
  {
   "cell_type": "code",
   "execution_count": 43,
   "id": "62adb133-cf45-4acd-901c-4e81fb37fc8d",
   "metadata": {},
   "outputs": [
    {
     "ename": "SyntaxError",
     "evalue": "invalid syntax (1728722812.py, line 1)",
     "output_type": "error",
     "traceback": [
      "\u001b[1;36m  Cell \u001b[1;32mIn[43], line 1\u001b[1;36m\u001b[0m\n\u001b[1;33m    range(0,,1)\u001b[0m\n\u001b[1;37m            ^\u001b[0m\n\u001b[1;31mSyntaxError\u001b[0m\u001b[1;31m:\u001b[0m invalid syntax\n"
     ]
    }
   ],
   "source": [
    "range(0,,1)"
   ]
  },
  {
   "cell_type": "code",
   "execution_count": null,
   "id": "0c2e15f5-561c-4b2f-9d7c-cdd0cc0e4440",
   "metadata": {},
   "outputs": [],
   "source": []
  }
 ],
 "metadata": {
  "kernelspec": {
   "display_name": "Python 3 (ipykernel)",
   "language": "python",
   "name": "python3"
  },
  "language_info": {
   "codemirror_mode": {
    "name": "ipython",
    "version": 3
   },
   "file_extension": ".py",
   "mimetype": "text/x-python",
   "name": "python",
   "nbconvert_exporter": "python",
   "pygments_lexer": "ipython3",
   "version": "3.11.4"
  }
 },
 "nbformat": 4,
 "nbformat_minor": 5
}
