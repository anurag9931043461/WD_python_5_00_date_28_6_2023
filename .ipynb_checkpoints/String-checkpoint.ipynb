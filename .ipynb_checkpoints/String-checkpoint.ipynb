{
 "cells": [
  {
   "cell_type": "markdown",
   "id": "ca48cf6a-0be6-4051-aa92-105bc95830ed",
   "metadata": {},
   "source": [
    "# String\n",
    "\n",
    "> String constructor is str()\n",
    "\n",
    "> string literal '',\"\",\"\"\"\"\"\",''''''\n",
    "\n",
    "> string is a set of sequence of character\n",
    "\n",
    "> string support concatination \n",
    "\n",
    "> string support indexing \n",
    "\n",
    "> string support slicing\n",
    "\n",
    "> string is immutable(hashable)\n",
    "\n",
    "> string methods"
   ]
  },
  {
   "cell_type": "code",
   "execution_count": 3,
   "id": "d19889c6-cc0e-43d6-a649-c1b34d2ef113",
   "metadata": {},
   "outputs": [],
   "source": [
    "a=\"KRISHNA\""
   ]
  },
  {
   "cell_type": "code",
   "execution_count": 7,
   "id": "10ad0a1e-1f21-4c5b-a94a-38e351c437d3",
   "metadata": {},
   "outputs": [
    {
     "name": "stdout",
     "output_type": "stream",
     "text": [
      "KRISHNA\n"
     ]
    }
   ],
   "source": [
    "print(a)"
   ]
  },
  {
   "cell_type": "code",
   "execution_count": 16,
   "id": "850fd853-bceb-4d20-8e87-e2f22af86b1e",
   "metadata": {},
   "outputs": [
    {
     "ename": "SyntaxError",
     "evalue": "unterminated string literal (detected at line 2) (615399331.py, line 2)",
     "output_type": "error",
     "traceback": [
      "\u001b[1;36m  Cell \u001b[1;32mIn[16], line 2\u001b[1;36m\u001b[0m\n\u001b[1;33m    print('hello\u001b[0m\n\u001b[1;37m          ^\u001b[0m\n\u001b[1;31mSyntaxError\u001b[0m\u001b[1;31m:\u001b[0m unterminated string literal (detected at line 2)\n"
     ]
    }
   ],
   "source": [
    "print(\"hello world\")\n",
    "print('hello \n",
    "      world')"
   ]
  },
  {
   "cell_type": "code",
   "execution_count": 13,
   "id": "2bed1264-7cd7-4b8b-bfd6-4b8f2314ce51",
   "metadata": {},
   "outputs": [
    {
     "name": "stdout",
     "output_type": "stream",
     "text": [
      "hello world\n",
      "hello world\n"
     ]
    }
   ],
   "source": [
    "print(\"\"\"hello world\"\"\")\n",
    "print('''hello world''')"
   ]
  },
  {
   "cell_type": "code",
   "execution_count": 11,
   "id": "0895faa1-e64e-4cd0-9e3f-42aeba3b870e",
   "metadata": {},
   "outputs": [
    {
     "name": "stdout",
     "output_type": "stream",
     "text": [
      "hello world\n"
     ]
    }
   ],
   "source": []
  },
  {
   "cell_type": "code",
   "execution_count": 18,
   "id": "b88657c2-6276-4b42-8642-b844289b5880",
   "metadata": {},
   "outputs": [
    {
     "name": "stdout",
     "output_type": "stream",
     "text": [
      "0\n"
     ]
    }
   ],
   "source": [
    "print(0)"
   ]
  },
  {
   "cell_type": "code",
   "execution_count": 25,
   "id": "3d095d15-8d19-43a2-a4a7-323b1c55c567",
   "metadata": {},
   "outputs": [
    {
     "name": "stdout",
     "output_type": "stream",
     "text": [
      "♞\n"
     ]
    }
   ],
   "source": [
    "print(\"\\u265E\")"
   ]
  },
  {
   "cell_type": "code",
   "execution_count": 26,
   "id": "91b0e208-da90-40e7-b7b5-bc4e7facd950",
   "metadata": {},
   "outputs": [],
   "source": [
    "a=\"KRISHNA\""
   ]
  },
  {
   "cell_type": "code",
   "execution_count": 27,
   "id": "75112f00-dc9b-4206-8036-3b706c65e40e",
   "metadata": {},
   "outputs": [
    {
     "name": "stdout",
     "output_type": "stream",
     "text": [
      "K\n"
     ]
    }
   ],
   "source": [
    "print(a[0])"
   ]
  },
  {
   "cell_type": "code",
   "execution_count": 28,
   "id": "dbe68952-99f7-48c3-84b9-22a35969fa3f",
   "metadata": {},
   "outputs": [
    {
     "name": "stdout",
     "output_type": "stream",
     "text": [
      "K\n"
     ]
    }
   ],
   "source": [
    "print(a[-7])"
   ]
  },
  {
   "cell_type": "code",
   "execution_count": 29,
   "id": "76f95be7-e088-47b7-915e-b445b1554f9e",
   "metadata": {},
   "outputs": [],
   "source": [
    "a=\"PRIYA\""
   ]
  },
  {
   "cell_type": "code",
   "execution_count": 35,
   "id": "feff9e66-3a9e-4f65-a096-f02745914b85",
   "metadata": {},
   "outputs": [
    {
     "name": "stdout",
     "output_type": "stream",
     "text": [
      "RIYA\n"
     ]
    }
   ],
   "source": [
    "print(a[1::1])"
   ]
  },
  {
   "cell_type": "code",
   "execution_count": 33,
   "id": "bb73658b-078d-4382-b290-66de033fe84e",
   "metadata": {},
   "outputs": [
    {
     "name": "stdout",
     "output_type": "stream",
     "text": [
      "RY\n"
     ]
    }
   ],
   "source": [
    "print(a[1:10:2])"
   ]
  },
  {
   "cell_type": "code",
   "execution_count": 34,
   "id": "17cdc0d8-c9c6-4431-bf4c-6fd51bbde93f",
   "metadata": {},
   "outputs": [
    {
     "name": "stdout",
     "output_type": "stream",
     "text": [
      "RA\n"
     ]
    }
   ],
   "source": [
    "print(a[1:10:3])"
   ]
  },
  {
   "cell_type": "code",
   "execution_count": 36,
   "id": "66c7649c-e05c-42ab-8b83-d51c0edbfe3b",
   "metadata": {},
   "outputs": [
    {
     "name": "stdout",
     "output_type": "stream",
     "text": [
      "PRIYA\n"
     ]
    }
   ],
   "source": [
    "print(a)"
   ]
  },
  {
   "cell_type": "code",
   "execution_count": 37,
   "id": "c1c23c4d-fad6-40f3-ab91-c5314fa053ba",
   "metadata": {},
   "outputs": [
    {
     "data": {
      "text/plain": [
       "'AYIR'"
      ]
     },
     "execution_count": 37,
     "metadata": {},
     "output_type": "execute_result"
    }
   ],
   "source": [
    "a[4:0:-1]"
   ]
  },
  {
   "cell_type": "code",
   "execution_count": 38,
   "id": "8e01da22-f594-4851-89a7-156c5e4228a4",
   "metadata": {},
   "outputs": [
    {
     "data": {
      "text/plain": [
       "'AYIRP'"
      ]
     },
     "execution_count": 38,
     "metadata": {},
     "output_type": "execute_result"
    }
   ],
   "source": [
    "a[4::-1]"
   ]
  },
  {
   "cell_type": "code",
   "execution_count": 40,
   "id": "af9228ad-73ac-440e-b7fc-143119854c63",
   "metadata": {},
   "outputs": [
    {
     "data": {
      "text/plain": [
       "'AYIRP'"
      ]
     },
     "execution_count": 40,
     "metadata": {},
     "output_type": "execute_result"
    }
   ],
   "source": [
    "a[-1:-7:-1]"
   ]
  },
  {
   "cell_type": "code",
   "execution_count": 41,
   "id": "fbc7d81f-c3bd-4218-9dcd-be901fcf3cd5",
   "metadata": {},
   "outputs": [
    {
     "data": {
      "text/plain": [
       "'AYIRP'"
      ]
     },
     "execution_count": 41,
     "metadata": {},
     "output_type": "execute_result"
    }
   ],
   "source": [
    "a[-1::-1]"
   ]
  },
  {
   "cell_type": "code",
   "execution_count": 42,
   "id": "fb5c7dd2-4375-4ee1-be6e-52f899eb3466",
   "metadata": {},
   "outputs": [
    {
     "name": "stdout",
     "output_type": "stream",
     "text": [
      "PRIYA\n"
     ]
    }
   ],
   "source": [
    "print(a)"
   ]
  },
  {
   "cell_type": "code",
   "execution_count": 43,
   "id": "19bfb292-a708-4372-8523-f1673efc2d92",
   "metadata": {},
   "outputs": [
    {
     "data": {
      "text/plain": [
       "'PRIYA'"
      ]
     },
     "execution_count": 43,
     "metadata": {},
     "output_type": "execute_result"
    }
   ],
   "source": [
    "a[0:5:1]"
   ]
  },
  {
   "cell_type": "code",
   "execution_count": 44,
   "id": "05f7b1b0-3e86-4728-877d-f76da1e50772",
   "metadata": {},
   "outputs": [
    {
     "data": {
      "text/plain": [
       "'PRIYA'"
      ]
     },
     "execution_count": 44,
     "metadata": {},
     "output_type": "execute_result"
    }
   ],
   "source": [
    "a[0::1]"
   ]
  },
  {
   "cell_type": "code",
   "execution_count": 45,
   "id": "bac4f699-d2fe-4729-8427-b179b49e9a23",
   "metadata": {},
   "outputs": [
    {
     "data": {
      "text/plain": [
       "'PRIYA'"
      ]
     },
     "execution_count": 45,
     "metadata": {},
     "output_type": "execute_result"
    }
   ],
   "source": [
    "a[::1]"
   ]
  },
  {
   "cell_type": "code",
   "execution_count": 46,
   "id": "dfe088a8-37c0-49c2-9799-b6dcb631bc77",
   "metadata": {},
   "outputs": [
    {
     "data": {
      "text/plain": [
       "'PRIYA'"
      ]
     },
     "execution_count": 46,
     "metadata": {},
     "output_type": "execute_result"
    }
   ],
   "source": [
    "a[::]"
   ]
  },
  {
   "cell_type": "code",
   "execution_count": 47,
   "id": "3d3a018e-f36c-4b64-a468-455104327f78",
   "metadata": {},
   "outputs": [
    {
     "data": {
      "text/plain": [
       "'PRIYA'"
      ]
     },
     "execution_count": 47,
     "metadata": {},
     "output_type": "execute_result"
    }
   ],
   "source": [
    "a[:]"
   ]
  },
  {
   "cell_type": "code",
   "execution_count": 49,
   "id": "6a29549b-9962-4546-985a-8fd661d19127",
   "metadata": {},
   "outputs": [],
   "source": [
    "b=\"Radha\""
   ]
  },
  {
   "cell_type": "code",
   "execution_count": 51,
   "id": "3928c331-5443-413f-a5d3-3e503f04a3ce",
   "metadata": {},
   "outputs": [
    {
     "data": {
      "text/plain": [
       "''"
      ]
     },
     "execution_count": 51,
     "metadata": {},
     "output_type": "execute_result"
    }
   ],
   "source": [
    "a=str()\n",
    "a"
   ]
  },
  {
   "cell_type": "code",
   "execution_count": 53,
   "id": "ef09e324-d71f-4d29-b4e5-172369e378ae",
   "metadata": {},
   "outputs": [
    {
     "data": {
      "text/plain": [
       "''"
      ]
     },
     "execution_count": 53,
     "metadata": {},
     "output_type": "execute_result"
    }
   ],
   "source": [
    "b=''\n",
    "b"
   ]
  },
  {
   "cell_type": "code",
   "execution_count": 54,
   "id": "a9a40284-91dc-4e27-9ee5-f05de3b2817d",
   "metadata": {},
   "outputs": [
    {
     "data": {
      "text/plain": [
       "''"
      ]
     },
     "execution_count": 54,
     "metadata": {},
     "output_type": "execute_result"
    }
   ],
   "source": [
    "c=\"\"\n",
    "c"
   ]
  },
  {
   "cell_type": "code",
   "execution_count": 56,
   "id": "640d0efc-d6be-40df-96ea-e9387c740201",
   "metadata": {},
   "outputs": [
    {
     "data": {
      "text/plain": [
       "''"
      ]
     },
     "execution_count": 56,
     "metadata": {},
     "output_type": "execute_result"
    }
   ],
   "source": [
    "d=\"\"\"\"\"\"\n",
    "d"
   ]
  },
  {
   "cell_type": "code",
   "execution_count": 57,
   "id": "ac2b392c-4b25-4810-80c6-1be9b4f34340",
   "metadata": {},
   "outputs": [
    {
     "data": {
      "text/plain": [
       "''"
      ]
     },
     "execution_count": 57,
     "metadata": {},
     "output_type": "execute_result"
    }
   ],
   "source": [
    "e=''''''\n",
    "e"
   ]
  },
  {
   "cell_type": "code",
   "execution_count": 61,
   "id": "7b3f0afb-aea0-4c2e-ad89-a6f54737bb37",
   "metadata": {},
   "outputs": [
    {
     "name": "stdout",
     "output_type": "stream",
     "text": [
      "hello world\n",
      "hello world\n"
     ]
    }
   ],
   "source": [
    "print(\"hello world\")\n",
    "print('hello world')\n"
   ]
  },
  {
   "cell_type": "code",
   "execution_count": 64,
   "id": "78d70468-ad60-41f7-bfa9-fcccaedf1660",
   "metadata": {},
   "outputs": [
    {
     "name": "stdout",
     "output_type": "stream",
     "text": [
      "Twinkle Twinkle little star\n",
      "    nahi pata hai mujhe\n",
      "                    app log tej hai \n",
      "                    \n",
      "    aap ko kuchh nahi aata \n",
      "\n",
      "     world\n",
      "hello \n",
      "\n",
      "\n",
      "    world\n"
     ]
    }
   ],
   "source": [
    "print(\"\"\"Twinkle Twinkle little star\n",
    "    nahi pata hai mujhe\n",
    "                    app log tej hai \n",
    "                    \n",
    "    aap ko kuchh nahi aata \n",
    "\n",
    "     world\"\"\")\n",
    "print('''hello \n",
    "\n",
    "\n",
    "    world''')"
   ]
  },
  {
   "cell_type": "code",
   "execution_count": 65,
   "id": "3eec407d-17df-4c93-87f0-e2c4ddbea530",
   "metadata": {},
   "outputs": [],
   "source": [
    "# string support concatination"
   ]
  },
  {
   "cell_type": "code",
   "execution_count": 66,
   "id": "31727662-19da-4f5a-99bf-ea2d82cc302a",
   "metadata": {},
   "outputs": [
    {
     "data": {
      "text/plain": [
       "'TanuManu'"
      ]
     },
     "execution_count": 66,
     "metadata": {},
     "output_type": "execute_result"
    }
   ],
   "source": [
    "\"Tanu\" + \"Manu\""
   ]
  },
  {
   "cell_type": "code",
   "execution_count": 69,
   "id": "2d92c0bd-c67b-44e8-b9b0-95ac20b3165c",
   "metadata": {},
   "outputs": [
    {
     "data": {
      "text/plain": [
       "'TanuManu'"
      ]
     },
     "execution_count": 69,
     "metadata": {},
     "output_type": "execute_result"
    }
   ],
   "source": [
    "\"Tanu\"+\"Manu\""
   ]
  },
  {
   "cell_type": "code",
   "execution_count": 70,
   "id": "d526bc30-879e-4781-b873-f9790362c07f",
   "metadata": {},
   "outputs": [],
   "source": [
    "# methods"
   ]
  },
  {
   "cell_type": "code",
   "execution_count": 72,
   "id": "bf92955d-55ac-4c78-b5ec-104404638f12",
   "metadata": {},
   "outputs": [],
   "source": [
    "a=\"krishna\""
   ]
  },
  {
   "cell_type": "code",
   "execution_count": 73,
   "id": "66724d76-ca8e-447a-ab58-1998b0a92e70",
   "metadata": {},
   "outputs": [
    {
     "data": {
      "text/plain": [
       "'KRISHNA'"
      ]
     },
     "execution_count": 73,
     "metadata": {},
     "output_type": "execute_result"
    }
   ],
   "source": [
    "a.upper()"
   ]
  },
  {
   "cell_type": "code",
   "execution_count": 74,
   "id": "81e61c2e-6ae5-4c8a-825f-27dd3311b3e7",
   "metadata": {},
   "outputs": [
    {
     "name": "stdout",
     "output_type": "stream",
     "text": [
      "krishna\n"
     ]
    }
   ],
   "source": [
    "print(a)"
   ]
  },
  {
   "cell_type": "code",
   "execution_count": 75,
   "id": "1fe96a09-f1f7-4803-a6bf-e4c49bfd7998",
   "metadata": {},
   "outputs": [],
   "source": [
    "a=\"nNkrishn714@GmaIl.com\""
   ]
  },
  {
   "cell_type": "code",
   "execution_count": 76,
   "id": "61e972fd-bee0-4425-9d93-63cbb7585b20",
   "metadata": {},
   "outputs": [
    {
     "data": {
      "text/plain": [
       "'nnkrishn714@gmail.com'"
      ]
     },
     "execution_count": 76,
     "metadata": {},
     "output_type": "execute_result"
    }
   ],
   "source": [
    "a.lower()"
   ]
  },
  {
   "cell_type": "code",
   "execution_count": null,
   "id": "b36110bd-ee95-405d-8bae-c570d04b69ed",
   "metadata": {},
   "outputs": [],
   "source": [
    "https://www.w3schools.com/python/python_strings_methods.asp"
   ]
  }
 ],
 "metadata": {
  "kernelspec": {
   "display_name": "Python 3 (ipykernel)",
   "language": "python",
   "name": "python3"
  },
  "language_info": {
   "codemirror_mode": {
    "name": "ipython",
    "version": 3
   },
   "file_extension": ".py",
   "mimetype": "text/x-python",
   "name": "python",
   "nbconvert_exporter": "python",
   "pygments_lexer": "ipython3",
   "version": "3.11.4"
  }
 },
 "nbformat": 4,
 "nbformat_minor": 5
}
