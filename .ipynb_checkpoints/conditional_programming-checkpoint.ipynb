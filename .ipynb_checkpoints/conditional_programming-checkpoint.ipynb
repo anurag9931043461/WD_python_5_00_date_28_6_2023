{
 "cells": [
  {
   "cell_type": "code",
   "execution_count": 1,
   "id": "77ec05ea-72e2-4a9b-a3f5-ef7db48c2012",
   "metadata": {},
   "outputs": [
    {
     "name": "stdin",
     "output_type": "stream",
     "text": [
      "Enter your destination : Lucknow\n"
     ]
    }
   ],
   "source": [
    "user=input(\"Enter your destination :\")"
   ]
  },
  {
   "cell_type": "code",
   "execution_count": 7,
   "id": "619514e8-59e7-42bc-84af-0c315995ad38",
   "metadata": {},
   "outputs": [
    {
     "name": "stdout",
     "output_type": "stream",
     "text": [
      "I am going to Lucknow\n"
     ]
    }
   ],
   "source": [
    "if user==\"Lucknow\":\n",
    "    print(\"I am going to Lucknow\")\n",
    "else:\n",
    "    print(\"Going to hell\")"
   ]
  },
  {
   "cell_type": "code",
   "execution_count": 5,
   "id": "56f03d03-d021-4465-bac7-f9aafad1f3a2",
   "metadata": {},
   "outputs": [
    {
     "name": "stdout",
     "output_type": "stream",
     "text": [
      "hello world\n",
      "hello world\n",
      "hello world\n",
      "Kitani baar likhoge yaar\n"
     ]
    }
   ],
   "source": [
    "print(\"hello world\")\n",
    "print(\"hello world\")\n",
    "print(\"hello world\")\n",
    "print(\"Kitani baar likhoge yaar\")"
   ]
  },
  {
   "cell_type": "code",
   "execution_count": 8,
   "id": "e376af1c-bf49-475a-b928-2a6f7d12120d",
   "metadata": {},
   "outputs": [
    {
     "name": "stdin",
     "output_type": "stream",
     "text": [
      "Enter your destination : Lucknow\n"
     ]
    },
    {
     "name": "stdout",
     "output_type": "stream",
     "text": [
      "I am going to Lucknow\n"
     ]
    }
   ],
   "source": [
    "user=input(\"Enter your destination :\")\n",
    "if user==\"Lucknow\":\n",
    "    print(\"I am going to Lucknow\")\n",
    "else:\n",
    "    print(\"Going to hell\")"
   ]
  },
  {
   "cell_type": "code",
   "execution_count": 9,
   "id": "27c0ce3a-1f71-459d-ab2b-5143a8d44be3",
   "metadata": {},
   "outputs": [
    {
     "name": "stdin",
     "output_type": "stream",
     "text": [
      "Enter your destination : Hydrabad\n"
     ]
    },
    {
     "name": "stdout",
     "output_type": "stream",
     "text": [
      "Going to hell\n"
     ]
    }
   ],
   "source": [
    "user=input(\"Enter your destination :\")\n",
    "if user==\"Lucknow\":\n",
    "    print(\"I am going to Lucknow\")\n",
    "else:\n",
    "    print(\"Going to hell\")"
   ]
  },
  {
   "cell_type": "code",
   "execution_count": 15,
   "id": "d078d769-1956-44ea-bc65-01a05cfaeb8c",
   "metadata": {},
   "outputs": [
    {
     "name": "stdin",
     "output_type": "stream",
     "text": [
      "Enter a number: 6\n"
     ]
    },
    {
     "name": "stdout",
     "output_type": "stream",
     "text": [
      "number is even\n",
      "number is positive\n"
     ]
    }
   ],
   "source": [
    "num1=int(input(\"Enter a number:\"))\n",
    "if num1%2==0:\n",
    "    print(\"number is even\")\n",
    "    if num1<0:\n",
    "        print(\"number is negative\")\n",
    "    else:\n",
    "        print(\"number is positive\")\n",
    "else:\n",
    "    print(\"number is odd\")"
   ]
  },
  {
   "cell_type": "code",
   "execution_count": 14,
   "id": "88ddc73c-07b8-45a3-9c66-9fdf2d535d6f",
   "metadata": {},
   "outputs": [
    {
     "data": {
      "text/plain": [
       "1"
      ]
     },
     "execution_count": 14,
     "metadata": {},
     "output_type": "execute_result"
    }
   ],
   "source": [
    "3%2\n"
   ]
  },
  {
   "cell_type": "code",
   "execution_count": 16,
   "id": "bb39d936-08dd-46bb-beed-54c8d7d056fc",
   "metadata": {},
   "outputs": [
    {
     "name": "stdin",
     "output_type": "stream",
     "text": [
      "Enter a number: 7\n"
     ]
    },
    {
     "name": "stdout",
     "output_type": "stream",
     "text": [
      "number is odd\n"
     ]
    }
   ],
   "source": [
    "num1=int(input(\"Enter a number:\"))\n",
    "if num1%2==0:\n",
    "    print(\"number is even\")\n",
    "    if num1<0:\n",
    "        print(\"number is negative\")\n",
    "    else:\n",
    "        print(\"number is positive\")\n",
    "else:\n",
    "    print(\"number is odd\")\n",
    "    "
   ]
  },
  {
   "cell_type": "code",
   "execution_count": 17,
   "id": "91e6d26e-b221-46be-b002-0a87a007c767",
   "metadata": {},
   "outputs": [
    {
     "name": "stdin",
     "output_type": "stream",
     "text": [
      "Enter a number: -7\n"
     ]
    },
    {
     "name": "stdout",
     "output_type": "stream",
     "text": [
      "number is odd\n",
      "Number is negative\n"
     ]
    }
   ],
   "source": [
    "num1=int(input(\"Enter a number:\"))\n",
    "if num1%2==0:\n",
    "    print(\"number is even\")\n",
    "    if num1<0:\n",
    "        print(\"number is negative\")\n",
    "    else:\n",
    "        print(\"number is positive\")\n",
    "else:\n",
    "    print(\"number is odd\")\n",
    "    if num1<0:\n",
    "        print(\"Number is negative\")\n",
    "    else:\n",
    "        print(\"Number is positive\")\n",
    "    "
   ]
  },
  {
   "cell_type": "code",
   "execution_count": null,
   "id": "d9d3d64c-8085-4b87-a8c6-ef6c88ae23f8",
   "metadata": {},
   "outputs": [],
   "source": [
    "num1=int(input(\"Enter a number:\"))\n",
    "if num1%2==0:\n",
    "    print(\"number is even\")\n",
    "    if num1<0:\n",
    "        print(\"number is negative\")\n",
    "    else:\n",
    "        print(\"number is positive\")\n",
    "else:\n",
    "    print(\"number is odd\")\n",
    "    if num1<0:\n",
    "        print(\"Number is negative\")\n",
    "    else:\n",
    "        print(\"Number is positive\")"
   ]
  },
  {
   "cell_type": "code",
   "execution_count": 21,
   "id": "1fe3c2e0-1d70-44e5-8a60-9a12e812f09f",
   "metadata": {},
   "outputs": [],
   "source": [
    "name=\"krishna\"\n",
    "contact=123456789"
   ]
  },
  {
   "cell_type": "code",
   "execution_count": 23,
   "id": "af35abc2-79a4-4ac6-8451-8c224ac7fb04",
   "metadata": {},
   "outputs": [
    {
     "name": "stdin",
     "output_type": "stream",
     "text": [
      "enter your name: Nicky\n",
      "ENter your number: 9068094705\n"
     ]
    },
    {
     "name": "stdout",
     "output_type": "stream",
     "text": [
      "I am Nicky and contact number is 9068094705\n"
     ]
    }
   ],
   "source": [
    "name=input(\"enter your name:\")\n",
    "contact=input(\"ENter your number:\")\n",
    "print(f\"I am {name} and contact number is {contact}\")"
   ]
  },
  {
   "cell_type": "code",
   "execution_count": 24,
   "id": "9704edf9-1ce0-4013-a5c7-9331c8bf343c",
   "metadata": {},
   "outputs": [
    {
     "name": "stdin",
     "output_type": "stream",
     "text": [
      "enter your name: Krishna\n",
      "ENter your number: 123456789\n"
     ]
    },
    {
     "name": "stdout",
     "output_type": "stream",
     "text": [
      "I am Krishna and contact number is 123456789\n"
     ]
    }
   ],
   "source": [
    "name=input(\"enter your name:\")\n",
    "contact=input(\"ENter your number:\")\n",
    "print(F\"I am {name} and contact number is {contact}\")"
   ]
  },
  {
   "cell_type": "code",
   "execution_count": 25,
   "id": "548b15b5-2d80-4742-9db1-251fa70e2224",
   "metadata": {},
   "outputs": [
    {
     "name": "stdin",
     "output_type": "stream",
     "text": [
      "enter your name: Krishna\n",
      "ENter your number: 123456789\n"
     ]
    },
    {
     "name": "stdout",
     "output_type": "stream",
     "text": [
      "I am Krishna and contact number is 123456789\n"
     ]
    }
   ],
   "source": [
    "name=input(\"enter your name:\")\n",
    "contact=input(\"ENter your number:\")\n",
    "print(\"I am {} and contact number is {}\".format(name,contact))"
   ]
  },
  {
   "cell_type": "code",
   "execution_count": 26,
   "id": "8567f758-1a23-45ca-8628-93a18697a1df",
   "metadata": {},
   "outputs": [
    {
     "name": "stdin",
     "output_type": "stream",
     "text": [
      "enter your name: krishna\n",
      "ENter your number: 123456789\n"
     ]
    },
    {
     "name": "stdout",
     "output_type": "stream",
     "text": [
      "I am krishna and contact number is 123456789\n"
     ]
    }
   ],
   "source": [
    "name=input(\"enter your name:\")\n",
    "contact=input(\"ENter your number:\")\n",
    "print(\"I am {0} and contact number is {1}\".format(name,contact))"
   ]
  },
  {
   "cell_type": "code",
   "execution_count": 27,
   "id": "f1e874c5-b03e-408e-8c5b-9d0439b08ce5",
   "metadata": {},
   "outputs": [
    {
     "name": "stdin",
     "output_type": "stream",
     "text": [
      "enter your name: krishna\n",
      "ENter your number: 123456789\n"
     ]
    },
    {
     "name": "stdout",
     "output_type": "stream",
     "text": [
      "I am 123456789 and contact number is krishna\n"
     ]
    }
   ],
   "source": [
    "name=input(\"enter your name:\")\n",
    "contact=input(\"ENter your number:\")\n",
    "print(\"I am {1} and contact number is {0}\".format(name,contact))"
   ]
  },
  {
   "cell_type": "code",
   "execution_count": 28,
   "id": "83ece86e-f0f8-4e10-85c5-572336ff8b9d",
   "metadata": {},
   "outputs": [
    {
     "name": "stdin",
     "output_type": "stream",
     "text": [
      "enter your name: krishna\n",
      "ENter your number: 123456789\n"
     ]
    },
    {
     "name": "stdout",
     "output_type": "stream",
     "text": [
      "I am krishna and contact number is 123456789\n"
     ]
    }
   ],
   "source": [
    "name=input(\"enter your name:\")\n",
    "contact=input(\"ENter your number:\")\n",
    "print(\"I am {1} and contact number is {0}\".format(contact,name))"
   ]
  },
  {
   "cell_type": "markdown",
   "id": "a1c32c10-8635-4b90-bf39-180e586c0976",
   "metadata": {},
   "source": [
    "# if elif else"
   ]
  },
  {
   "cell_type": "code",
   "execution_count": 1,
   "id": "ad9b4092-9083-4471-abde-baa79d7d6d7e",
   "metadata": {},
   "outputs": [
    {
     "name": "stdin",
     "output_type": "stream",
     "text": [
      " dfasfd\n"
     ]
    }
   ],
   "source": [
    "user=input() "
   ]
  },
  {
   "cell_type": "code",
   "execution_count": 2,
   "id": "3591e805-4a24-4672-a9f9-d314f6c857d4",
   "metadata": {},
   "outputs": [
    {
     "data": {
      "text/plain": [
       "'dfasfd'"
      ]
     },
     "execution_count": 2,
     "metadata": {},
     "output_type": "execute_result"
    }
   ],
   "source": [
    "user"
   ]
  },
  {
   "cell_type": "code",
   "execution_count": 3,
   "id": "582dbbf8-1fb2-47be-bac5-e2af96bed979",
   "metadata": {},
   "outputs": [
    {
     "name": "stdin",
     "output_type": "stream",
     "text": [
      "choose option: A\n"
     ]
    }
   ],
   "source": [
    "user=input(\"choose option:\") "
   ]
  },
  {
   "cell_type": "code",
   "execution_count": 4,
   "id": "a6722738-7740-4fbc-89d6-07d67a285a51",
   "metadata": {},
   "outputs": [
    {
     "data": {
      "text/plain": [
       "'A'"
      ]
     },
     "execution_count": 4,
     "metadata": {},
     "output_type": "execute_result"
    }
   ],
   "source": [
    "user"
   ]
  },
  {
   "cell_type": "code",
   "execution_count": 8,
   "id": "667ea4fb-9234-4729-ad6c-aded97fc680e",
   "metadata": {},
   "outputs": [
    {
     "name": "stdout",
     "output_type": "stream",
     "text": [
      "You choose option A\n"
     ]
    }
   ],
   "source": [
    "if user==\"A\":\n",
    "    print(\"You choose option A\")\n",
    "elif user==\"B\":\n",
    "    print(\"You choose option B\")\n",
    "elif user==\"C\":\n",
    "    print(\"You choose option C\")\n",
    "elif user==\"D\":\n",
    "    print(\"You choose option D\")\n",
    "else:\n",
    "    print(\"Kindly choose a valid option\")"
   ]
  },
  {
   "cell_type": "code",
   "execution_count": 9,
   "id": "c5a90298-fabd-4bd3-b5d7-6c038e9ab95f",
   "metadata": {},
   "outputs": [
    {
     "data": {
      "text/plain": [
       "'A'"
      ]
     },
     "execution_count": 9,
     "metadata": {},
     "output_type": "execute_result"
    }
   ],
   "source": [
    "user"
   ]
  },
  {
   "cell_type": "code",
   "execution_count": 10,
   "id": "63f9bd5e-3c63-4e1c-82c3-7cf9ac4e4267",
   "metadata": {},
   "outputs": [
    {
     "name": "stdin",
     "output_type": "stream",
     "text": [
      "choose option: B\n"
     ]
    },
    {
     "name": "stdout",
     "output_type": "stream",
     "text": [
      "You choose option B\n"
     ]
    }
   ],
   "source": [
    "user=input(\"choose option:\") \n",
    "if user==\"A\":\n",
    "    print(\"You choose option A\")\n",
    "elif user==\"B\":\n",
    "    print(\"You choose option B\")\n",
    "elif user==\"C\":\n",
    "    print(\"You choose option C\")\n",
    "elif user==\"D\":\n",
    "    print(\"You choose option D\")\n",
    "else:\n",
    "    print(\"Kindly choose a valid option\")"
   ]
  },
  {
   "cell_type": "code",
   "execution_count": 14,
   "id": "e8650af3-1fb2-4497-914c-f92c7dc7b6c0",
   "metadata": {},
   "outputs": [
    {
     "name": "stdin",
     "output_type": "stream",
     "text": [
      "choose option: a\n"
     ]
    },
    {
     "name": "stdout",
     "output_type": "stream",
     "text": [
      "You choose option A\n"
     ]
    }
   ],
   "source": [
    "user=input(\"choose option:\").capitalize() \n",
    "if user==\"A\":\n",
    "    print(\"You choose option A\")\n",
    "elif user==\"B\":\n",
    "    print(\"You choose option B\")\n",
    "elif user==\"C\":\n",
    "    print(\"You choose option C\")\n",
    "elif user==\"D\":\n",
    "    print(\"You choose option D\")\n",
    "else:\n",
    "    print(\"Kindly choose a valid option\")"
   ]
  },
  {
   "cell_type": "markdown",
   "id": "5b621c60-8eff-44b4-919f-b69589e983d8",
   "metadata": {},
   "source": [
    "# nested if elif else:"
   ]
  },
  {
   "cell_type": "code",
   "execution_count": 20,
   "id": "02fb1a7c-9544-4455-ac00-1468853ea55e",
   "metadata": {},
   "outputs": [
    {
     "name": "stdin",
     "output_type": "stream",
     "text": [
      "Enter your age: 28\n"
     ]
    }
   ],
   "source": [
    "age=int(input(\"Enter your age:\"))"
   ]
  },
  {
   "cell_type": "code",
   "execution_count": 21,
   "id": "8b5506f5-1d9d-48ba-92a2-b05931757334",
   "metadata": {},
   "outputs": [
    {
     "data": {
      "text/plain": [
       "28"
      ]
     },
     "execution_count": 21,
     "metadata": {},
     "output_type": "execute_result"
    }
   ],
   "source": [
    "age"
   ]
  },
  {
   "cell_type": "code",
   "execution_count": 26,
   "id": "0645bfa0-f189-4ab8-bcb4-1971523da0fc",
   "metadata": {},
   "outputs": [
    {
     "name": "stdout",
     "output_type": "stream",
     "text": [
      "I will give you vehicle\n"
     ]
    }
   ],
   "source": [
    "if age>0 and age<=18:\n",
    "    print(\"I will give you book\")\n",
    "elif age>18 and age<=60:\n",
    "    print(\"I will give you vehicle\")\n",
    "elif age>60 and age<=108:\n",
    "    print(\"I will give you pension\")\n",
    "else:\n",
    "    print(\"I will give you poison\")"
   ]
  },
  {
   "cell_type": "code",
   "execution_count": 30,
   "id": "bda09aa0-dafc-4682-861f-dc0b8e94cc22",
   "metadata": {},
   "outputs": [
    {
     "name": "stdin",
     "output_type": "stream",
     "text": [
      "Enter your age: 2000\n"
     ]
    },
    {
     "name": "stdout",
     "output_type": "stream",
     "text": [
      "I will give you poison\n"
     ]
    }
   ],
   "source": [
    "age=int(input(\"Enter your age:\"))\n",
    "if age>0 and age<=18:\n",
    "    print(\"I will give you book\")\n",
    "elif age>18 and age<=60:\n",
    "    print(\"I will give you vehicle\")\n",
    "elif age>60 and age<=108:\n",
    "    print(\"I will give you pension\")\n",
    "else:\n",
    "    print(\"I will give you poison\")"
   ]
  },
  {
   "cell_type": "code",
   "execution_count": 35,
   "id": "8ba38870-8a02-4eae-805f-213d342124a1",
   "metadata": {},
   "outputs": [
    {
     "name": "stdin",
     "output_type": "stream",
     "text": [
      "Enter your age: 19\n"
     ]
    },
    {
     "name": "stdout",
     "output_type": "stream",
     "text": [
      "I will give you vehicle\n"
     ]
    }
   ],
   "source": [
    "age=int(input(\"Enter your age:\"))\n",
    "if age>0 and age<=18:\n",
    "    if age>0 and age<=5:\n",
    "        print(\"I will give you chocolate\")\n",
    "    elif age>5 and age<=15:\n",
    "        print(\"I will give you cycle\")\n",
    "    else:\n",
    "        print(\"I will give you book\")\n",
    "elif age>18 and age<=60:\n",
    "    print(\"I will give you vehicle\")\n",
    "elif age>60 and age<=108:\n",
    "    print(\"I will give you pension\")\n",
    "else:\n",
    "    print(\"I will give you poison\")"
   ]
  },
  {
   "cell_type": "code",
   "execution_count": 37,
   "id": "82160fe3-5fc2-4cef-bce1-c5fbde7261e9",
   "metadata": {},
   "outputs": [
    {
     "name": "stdin",
     "output_type": "stream",
     "text": [
      "Enter your age: 31\n"
     ]
    },
    {
     "name": "stdout",
     "output_type": "stream",
     "text": [
      "I will give you Rolls Royce\n"
     ]
    }
   ],
   "source": [
    "age=int(input(\"Enter your age:\"))\n",
    "if age>0 and age<=18:\n",
    "    if age>0 and age<=5:\n",
    "        print(\"I will give you chocolate\")\n",
    "    elif age>5 and age<=15:\n",
    "        print(\"I will give you cycle\")\n",
    "    else:\n",
    "        print(\"I will give you book\")\n",
    "elif age>18 and age<=60:\n",
    "    if age>18 and age<=30:\n",
    "        print(\"I will give you Harley\")\n",
    "    else:\n",
    "        print(\"I will give you Rolls Royce\")\n",
    "elif age>60 and age<=108:\n",
    "    print(\"I will give you pension\")\n",
    "else:\n",
    "    print(\"I will give you poison\")"
   ]
  },
  {
   "cell_type": "code",
   "execution_count": 39,
   "id": "adcb80d6-a106-4f4a-83a1-3adca900989c",
   "metadata": {},
   "outputs": [
    {
     "name": "stdin",
     "output_type": "stream",
     "text": [
      "Enter your age: 10.25\n"
     ]
    },
    {
     "name": "stdout",
     "output_type": "stream",
     "text": [
      "I will give you cycle\n"
     ]
    }
   ],
   "source": [
    "age=eval(input(\"Enter your age:\"))\n",
    "if age>0 and age<=18:\n",
    "    if age>0 and age<=5:\n",
    "        print(\"I will give you chocolate\")\n",
    "    elif age>5 and age<=15:\n",
    "        print(\"I will give you cycle\")\n",
    "    else:\n",
    "        print(\"I will give you book\")\n",
    "elif age>18.27 and age<=60:\n",
    "    if age>18 and age<=30:\n",
    "        print(\"I will give you Harley\")\n",
    "    else:\n",
    "        print(\"I will give you Rolls Royce\")\n",
    "elif age>60 and age<=108:\n",
    "    print(\"I will give you pension\")\n",
    "else:\n",
    "    print(\"I will give you poison\")"
   ]
  },
  {
   "cell_type": "code",
   "execution_count": 40,
   "id": "6a78d471-4ada-451f-abf6-2cc34477bce2",
   "metadata": {},
   "outputs": [],
   "source": [
    "a=10"
   ]
  },
  {
   "cell_type": "code",
   "execution_count": 49,
   "id": "1c938f59-08f0-442f-8fad-a182386847b4",
   "metadata": {},
   "outputs": [],
   "source": [
    "a+=1         #a=a+1"
   ]
  },
  {
   "cell_type": "code",
   "execution_count": 50,
   "id": "3e0101ef-a008-4d95-88e6-8d93419d4aa2",
   "metadata": {},
   "outputs": [
    {
     "name": "stdout",
     "output_type": "stream",
     "text": [
      "15\n"
     ]
    }
   ],
   "source": [
    "print(a)"
   ]
  },
  {
   "cell_type": "markdown",
   "id": "cf2ebddf-edce-4d4a-9fef-c3a9f195b328",
   "metadata": {},
   "source": [
    "# teranary operator"
   ]
  },
  {
   "cell_type": "code",
   "execution_count": 53,
   "id": "346a7bf9-8cb6-4cd9-ab96-daec509a0ab6",
   "metadata": {},
   "outputs": [
    {
     "name": "stdin",
     "output_type": "stream",
     "text": [
      "Enter your destination : goa\n"
     ]
    },
    {
     "name": "stdout",
     "output_type": "stream",
     "text": [
      "I am going to goa\n"
     ]
    }
   ],
   "source": [
    "user=input(\"Enter your destination :\")\n",
    "if user==\"goa\":\n",
    "    print(\"I am going to goa\")\n",
    "else:\n",
    "    print(\"Going to hell\")"
   ]
  },
  {
   "cell_type": "code",
   "execution_count": 55,
   "id": "8c24b092-7d49-4778-aea3-3852165fad99",
   "metadata": {},
   "outputs": [
    {
     "name": "stdin",
     "output_type": "stream",
     "text": [
      "Enter your destination : jhhsdfjhksjhfkjsfkjsd\n"
     ]
    },
    {
     "name": "stdout",
     "output_type": "stream",
     "text": [
      "Going to hell\n"
     ]
    }
   ],
   "source": [
    "user=input(\"Enter your destination :\")\n",
    "print(\"I am going to goa\") if user==\"goa\" else print(\"Going to hell\")"
   ]
  },
  {
   "cell_type": "code",
   "execution_count": null,
   "id": "73a1b8ab-e7fd-41db-9dc9-96008173e936",
   "metadata": {},
   "outputs": [],
   "source": [
    "num1=i   nt(input(\"Enter a number:\"))\n",
    "if num1%2==0:\n",
    "    if num1<0:\n",
    "        print(\"number is negative\")\n",
    "    else:\n",
    "        print(\"number is positive\")\n",
    "else:\n",
    "    if num1<0:\n",
    "        print(\"Number is negative\")\n",
    "    else:\n",
    "        print(\"Number is positive\")"
   ]
  },
  {
   "cell_type": "code",
   "execution_count": 57,
   "id": "357eb964-4552-4f9a-a039-c909ce9eff27",
   "metadata": {},
   "outputs": [
    {
     "name": "stdin",
     "output_type": "stream",
     "text": [
      "Enter a number: 10\n"
     ]
    },
    {
     "name": "stdout",
     "output_type": "stream",
     "text": [
      "number is positive\n"
     ]
    }
   ],
   "source": [
    "num1=int(input(\"Enter a number:\"))\n",
    "(print(\"number is negative\") if num1<0 else print(\"number is positive\")) if num1%2==0 else (print(\"Number is negative\") if num1<0 else print(\"Number is positive\"))"
   ]
  },
  {
   "cell_type": "code",
   "execution_count": null,
   "id": "f3466fab-4cb0-4f38-9d30-eb9849d09763",
   "metadata": {},
   "outputs": [],
   "source": []
  }
 ],
 "metadata": {
  "kernelspec": {
   "display_name": "Python 3 (ipykernel)",
   "language": "python",
   "name": "python3"
  },
  "language_info": {
   "codemirror_mode": {
    "name": "ipython",
    "version": 3
   },
   "file_extension": ".py",
   "mimetype": "text/x-python",
   "name": "python",
   "nbconvert_exporter": "python",
   "pygments_lexer": "ipython3",
   "version": "3.11.4"
  }
 },
 "nbformat": 4,
 "nbformat_minor": 5
}
