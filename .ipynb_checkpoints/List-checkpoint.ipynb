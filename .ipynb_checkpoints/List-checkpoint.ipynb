{
 "cells": [
  {
   "cell_type": "markdown",
   "id": "a621c888-712a-422a-b442-e1994b98be0c",
   "metadata": {},
   "source": [
    "#List \n",
    "\n",
    "> List constructor is list()\n",
    "\n",
    "> list literal is []\n",
    "\n",
    "> list is a set of sequence of elements\n",
    "\n",
    "> list support indexing \n",
    "\n",
    "> list support slicing \n",
    "\n",
    "> list support concatination\n",
    "\n",
    "> list is mutable(unhashable)\n",
    "\n",
    "> list support nested list(means list inside list)\n",
    "\n",
    "> list methods."
   ]
  },
  {
   "cell_type": "code",
   "execution_count": 1,
   "id": "bd8a556d-f308-46f6-90f4-ac9aae2448a7",
   "metadata": {},
   "outputs": [],
   "source": [
    "a=[10,10.0,'10']"
   ]
  },
  {
   "cell_type": "code",
   "execution_count": 2,
   "id": "5344556a-e57f-4f8d-8abd-f4b495e40d67",
   "metadata": {},
   "outputs": [
    {
     "name": "stdout",
     "output_type": "stream",
     "text": [
      "[10, 10.0, '10']\n"
     ]
    }
   ],
   "source": [
    "print(a)"
   ]
  },
  {
   "cell_type": "markdown",
   "id": "29606870-7c12-46b8-b96d-1856d39cc545",
   "metadata": {},
   "source": [
    "# indexing"
   ]
  },
  {
   "cell_type": "code",
   "execution_count": 3,
   "id": "83553902-b57c-430a-a1de-1de5a4d34d0b",
   "metadata": {},
   "outputs": [
    {
     "name": "stdout",
     "output_type": "stream",
     "text": [
      "10.0\n"
     ]
    }
   ],
   "source": [
    "print(a[1])"
   ]
  },
  {
   "cell_type": "code",
   "execution_count": 4,
   "id": "38335b39-856c-42f4-9f34-a62484ab1519",
   "metadata": {},
   "outputs": [
    {
     "name": "stdout",
     "output_type": "stream",
     "text": [
      "10\n"
     ]
    }
   ],
   "source": [
    "print(a[0])"
   ]
  },
  {
   "cell_type": "code",
   "execution_count": 5,
   "id": "125a7162-4dba-4c1a-9a4f-59050cb7936a",
   "metadata": {},
   "outputs": [
    {
     "name": "stdout",
     "output_type": "stream",
     "text": [
      "10.0\n"
     ]
    }
   ],
   "source": [
    "print(a[-2])"
   ]
  },
  {
   "cell_type": "markdown",
   "id": "8e744c02-b1ad-4b38-a0a1-814547bc3342",
   "metadata": {},
   "source": [
    "# slicing"
   ]
  },
  {
   "cell_type": "code",
   "execution_count": 6,
   "id": "eb35285c-90a4-471a-84cd-9c87a678151b",
   "metadata": {},
   "outputs": [],
   "source": [
    "c=[3,4,2,5,6,8]"
   ]
  },
  {
   "cell_type": "code",
   "execution_count": 7,
   "id": "f8ec6f38-497e-41e5-b5a5-80d31bc2913d",
   "metadata": {},
   "outputs": [
    {
     "name": "stdout",
     "output_type": "stream",
     "text": [
      "[4, 2, 5, 6]\n"
     ]
    }
   ],
   "source": [
    "print(c[1:5])"
   ]
  },
  {
   "cell_type": "code",
   "execution_count": 8,
   "id": "0edd781b-9838-49e2-b5ae-ab1a412befde",
   "metadata": {},
   "outputs": [
    {
     "name": "stdout",
     "output_type": "stream",
     "text": [
      "[4, 2, 5, 6]\n"
     ]
    }
   ],
   "source": [
    "print(c[1:5:1])"
   ]
  },
  {
   "cell_type": "code",
   "execution_count": 9,
   "id": "217ab463-728c-4d34-a482-d9f89ed0448b",
   "metadata": {},
   "outputs": [
    {
     "name": "stdout",
     "output_type": "stream",
     "text": [
      "[4, 5]\n"
     ]
    }
   ],
   "source": [
    "print(c[1:5:2])"
   ]
  },
  {
   "cell_type": "code",
   "execution_count": 10,
   "id": "b9083719-4422-4df5-b37f-b5736eb82cc0",
   "metadata": {},
   "outputs": [
    {
     "name": "stdout",
     "output_type": "stream",
     "text": [
      "[3, 4, 2, 5, 6, 8]\n"
     ]
    }
   ],
   "source": [
    "print(c)"
   ]
  },
  {
   "cell_type": "code",
   "execution_count": 11,
   "id": "c31ac1a8-12c4-4206-acfc-6977a8e4e7d1",
   "metadata": {},
   "outputs": [
    {
     "name": "stdout",
     "output_type": "stream",
     "text": [
      "[8, 6, 5, 2, 4, 3]\n"
     ]
    }
   ],
   "source": [
    "print(c[-1:-7:-1])"
   ]
  },
  {
   "cell_type": "code",
   "execution_count": 12,
   "id": "5b323408-5723-40da-9e0f-8d0edb949b13",
   "metadata": {},
   "outputs": [
    {
     "name": "stdout",
     "output_type": "stream",
     "text": [
      "[8, 6, 5, 2, 4, 3]\n"
     ]
    }
   ],
   "source": [
    "print(c[:-7:-1])"
   ]
  },
  {
   "cell_type": "code",
   "execution_count": 13,
   "id": "6bf1cea1-702c-4beb-8752-ba44acf5831d",
   "metadata": {},
   "outputs": [
    {
     "name": "stdout",
     "output_type": "stream",
     "text": [
      "[8, 6, 5, 2, 4, 3]\n"
     ]
    }
   ],
   "source": [
    "print(c[::-1])"
   ]
  },
  {
   "cell_type": "code",
   "execution_count": 14,
   "id": "7ff92bc4-5f7d-4043-b73f-9d172c37985f",
   "metadata": {},
   "outputs": [
    {
     "data": {
      "text/plain": [
       "[3, 4, 2, 5, 6, 8]"
      ]
     },
     "execution_count": 14,
     "metadata": {},
     "output_type": "execute_result"
    }
   ],
   "source": [
    "c"
   ]
  },
  {
   "cell_type": "code",
   "execution_count": 15,
   "id": "515d61dc-d005-4b93-abca-f12bc45fda2a",
   "metadata": {},
   "outputs": [
    {
     "data": {
      "text/plain": [
       "[10, 10.0, '10']"
      ]
     },
     "execution_count": 15,
     "metadata": {},
     "output_type": "execute_result"
    }
   ],
   "source": [
    "a"
   ]
  },
  {
   "cell_type": "code",
   "execution_count": 17,
   "id": "93ec4874-a0fc-4bc7-8e21-88f7ec7a0895",
   "metadata": {},
   "outputs": [
    {
     "name": "stdout",
     "output_type": "stream",
     "text": [
      "[3, 4, 2, 5, 6, 8, 10, 10.0, '10']\n"
     ]
    }
   ],
   "source": [
    "print(c+a)  # concatination of list"
   ]
  },
  {
   "cell_type": "code",
   "execution_count": 29,
   "id": "c3dc1da4-9023-4c57-a971-e698b0bc9a41",
   "metadata": {},
   "outputs": [],
   "source": [
    "d=[1,2,3,4,[1,2,3,4,5]]"
   ]
  },
  {
   "cell_type": "code",
   "execution_count": 30,
   "id": "1bdab5d8-ee5e-4a6a-9e30-87f6940591b3",
   "metadata": {},
   "outputs": [
    {
     "name": "stdout",
     "output_type": "stream",
     "text": [
      "[1, 2, 3, 4, [1, 2, 3, 4, 5]]\n"
     ]
    }
   ],
   "source": [
    "print(d)"
   ]
  },
  {
   "cell_type": "code",
   "execution_count": 31,
   "id": "fda4a994-1187-4b39-9f87-234b90059852",
   "metadata": {},
   "outputs": [
    {
     "data": {
      "text/plain": [
       "[1, 2, 3, 4, 5]"
      ]
     },
     "execution_count": 31,
     "metadata": {},
     "output_type": "execute_result"
    }
   ],
   "source": [
    "e=d[4]\n",
    "e"
   ]
  },
  {
   "cell_type": "code",
   "execution_count": 32,
   "id": "46c3db81-035c-41b6-9d95-b174839861b6",
   "metadata": {},
   "outputs": [
    {
     "data": {
      "text/plain": [
       "3"
      ]
     },
     "execution_count": 32,
     "metadata": {},
     "output_type": "execute_result"
    }
   ],
   "source": [
    "e[2]"
   ]
  },
  {
   "cell_type": "code",
   "execution_count": 33,
   "id": "76a86994-4266-4651-b160-f055d727b1c0",
   "metadata": {},
   "outputs": [
    {
     "data": {
      "text/plain": [
       "3"
      ]
     },
     "execution_count": 33,
     "metadata": {},
     "output_type": "execute_result"
    }
   ],
   "source": [
    "d[4][2]"
   ]
  },
  {
   "cell_type": "code",
   "execution_count": 34,
   "id": "78eb2c1b-2987-40af-bd3b-77ea618bc831",
   "metadata": {},
   "outputs": [
    {
     "name": "stdout",
     "output_type": "stream",
     "text": [
      "[1, 2, 3, 4, [1, 2, 3, 4, 5]]\n"
     ]
    }
   ],
   "source": [
    "print(d)"
   ]
  },
  {
   "cell_type": "code",
   "execution_count": 36,
   "id": "0b247244-70c6-4d0a-9609-3c4bd456902f",
   "metadata": {},
   "outputs": [
    {
     "data": {
      "text/plain": [
       "3"
      ]
     },
     "execution_count": 36,
     "metadata": {},
     "output_type": "execute_result"
    }
   ],
   "source": [
    "d[4][1:4][1]"
   ]
  },
  {
   "cell_type": "markdown",
   "id": "bc83e5b9-445f-4e05-96d6-f26a17219d81",
   "metadata": {},
   "source": [
    "# methods of list"
   ]
  },
  {
   "cell_type": "code",
   "execution_count": 37,
   "id": "23cb94d7-1fe3-49a0-b80f-bf9621c746dc",
   "metadata": {},
   "outputs": [],
   "source": [
    "a=list()"
   ]
  },
  {
   "cell_type": "code",
   "execution_count": 38,
   "id": "0dc4b2af-82cb-4a39-b5e2-58b5a586af35",
   "metadata": {},
   "outputs": [
    {
     "name": "stdout",
     "output_type": "stream",
     "text": [
      "[]\n"
     ]
    }
   ],
   "source": [
    "print(a)"
   ]
  },
  {
   "cell_type": "code",
   "execution_count": 40,
   "id": "5795f726-d7d7-4515-95d9-ff85698bbe39",
   "metadata": {},
   "outputs": [],
   "source": [
    "a.append(10)"
   ]
  },
  {
   "cell_type": "code",
   "execution_count": 41,
   "id": "1ef2d0b9-04f8-444a-aa48-adc1bdcabf99",
   "metadata": {},
   "outputs": [
    {
     "name": "stdout",
     "output_type": "stream",
     "text": [
      "[10]\n"
     ]
    }
   ],
   "source": [
    "print(a)"
   ]
  },
  {
   "cell_type": "code",
   "execution_count": 42,
   "id": "c7f37fcf-e011-420f-9577-79900db6d90e",
   "metadata": {},
   "outputs": [],
   "source": [
    "b=10.0"
   ]
  },
  {
   "cell_type": "code",
   "execution_count": 43,
   "id": "372264a5-9e74-467a-adcc-65a29df6c534",
   "metadata": {},
   "outputs": [],
   "source": [
    "a.append(b)"
   ]
  },
  {
   "cell_type": "code",
   "execution_count": 44,
   "id": "188fc8aa-fe90-4d01-96d5-963c70f345f7",
   "metadata": {},
   "outputs": [
    {
     "name": "stdout",
     "output_type": "stream",
     "text": [
      "[10, 10.0]\n"
     ]
    }
   ],
   "source": [
    "print(a)"
   ]
  },
  {
   "cell_type": "code",
   "execution_count": 45,
   "id": "7d26d4fe-c4e3-4d98-ba8e-1d179e8d7d47",
   "metadata": {},
   "outputs": [],
   "source": [
    "a.clear()"
   ]
  },
  {
   "cell_type": "code",
   "execution_count": 46,
   "id": "a7fa169c-d4c7-4ccd-a944-ec9114e193f1",
   "metadata": {},
   "outputs": [
    {
     "name": "stdout",
     "output_type": "stream",
     "text": [
      "[]\n"
     ]
    }
   ],
   "source": [
    "print(a)"
   ]
  },
  {
   "cell_type": "code",
   "execution_count": 47,
   "id": "0b4a0e48-290f-4e7d-a721-105efb775c1e",
   "metadata": {},
   "outputs": [],
   "source": [
    "a.extend(\"krishna\")"
   ]
  },
  {
   "cell_type": "code",
   "execution_count": 48,
   "id": "2d9c0bbc-0244-4faa-ab2e-c84902ce98b3",
   "metadata": {},
   "outputs": [
    {
     "name": "stdout",
     "output_type": "stream",
     "text": [
      "['k', 'r', 'i', 's', 'h', 'n', 'a']\n"
     ]
    }
   ],
   "source": [
    "print(a)"
   ]
  },
  {
   "cell_type": "code",
   "execution_count": 49,
   "id": "89ec2bd8-528e-4f0a-aa6c-5e73808a90dc",
   "metadata": {},
   "outputs": [],
   "source": [
    "a.extend([1,2,3,4,5])"
   ]
  },
  {
   "cell_type": "code",
   "execution_count": 50,
   "id": "307ede08-bea5-4d9b-a3f4-1d6578e3c68e",
   "metadata": {},
   "outputs": [
    {
     "name": "stdout",
     "output_type": "stream",
     "text": [
      "['k', 'r', 'i', 's', 'h', 'n', 'a', 1, 2, 3, 4, 5]\n"
     ]
    }
   ],
   "source": [
    "print(a)"
   ]
  },
  {
   "cell_type": "code",
   "execution_count": 51,
   "id": "ff1b4906-aa67-4a7f-8148-9aa195a6b2fe",
   "metadata": {},
   "outputs": [],
   "source": [
    "a.extend('b')"
   ]
  },
  {
   "cell_type": "code",
   "execution_count": 52,
   "id": "f73dcc12-4fee-435d-a2fe-724086acdedf",
   "metadata": {},
   "outputs": [
    {
     "name": "stdout",
     "output_type": "stream",
     "text": [
      "['k', 'r', 'i', 's', 'h', 'n', 'a', 1, 2, 3, 4, 5, 'b']\n"
     ]
    }
   ],
   "source": [
    "print(a)"
   ]
  },
  {
   "cell_type": "code",
   "execution_count": 53,
   "id": "0248ca43-f3b9-4d07-be7c-45267477cb92",
   "metadata": {},
   "outputs": [],
   "source": [
    "b=a"
   ]
  },
  {
   "cell_type": "code",
   "execution_count": 54,
   "id": "6d7b5948-eff4-4148-8b67-c78712e52fb2",
   "metadata": {},
   "outputs": [
    {
     "name": "stdout",
     "output_type": "stream",
     "text": [
      "['k', 'r', 'i', 's', 'h', 'n', 'a', 1, 2, 3, 4, 5, 'b']\n"
     ]
    }
   ],
   "source": [
    "print(b)"
   ]
  },
  {
   "cell_type": "code",
   "execution_count": 55,
   "id": "8d78cda7-6f69-4426-b249-f41b1dbb5d9a",
   "metadata": {},
   "outputs": [],
   "source": [
    "a.append(999)"
   ]
  },
  {
   "cell_type": "code",
   "execution_count": 56,
   "id": "042f97ab-e4a5-49c4-930a-e96b075bb373",
   "metadata": {},
   "outputs": [
    {
     "name": "stdout",
     "output_type": "stream",
     "text": [
      "['k', 'r', 'i', 's', 'h', 'n', 'a', 1, 2, 3, 4, 5, 'b', 999]\n"
     ]
    }
   ],
   "source": [
    "print(a)"
   ]
  },
  {
   "cell_type": "code",
   "execution_count": 57,
   "id": "8eeebad6-c9e2-4a7c-851a-52591d1c0ccb",
   "metadata": {},
   "outputs": [
    {
     "name": "stdout",
     "output_type": "stream",
     "text": [
      "['k', 'r', 'i', 's', 'h', 'n', 'a', 1, 2, 3, 4, 5, 'b', 999]\n"
     ]
    }
   ],
   "source": [
    "print(b)"
   ]
  },
  {
   "cell_type": "code",
   "execution_count": 58,
   "id": "bc9e3ad5-b5ee-439c-9c42-7885e0838b24",
   "metadata": {},
   "outputs": [],
   "source": [
    "b.append(1000)"
   ]
  },
  {
   "cell_type": "code",
   "execution_count": 59,
   "id": "5efbabea-0a94-4b3a-b000-1c6228d7445e",
   "metadata": {},
   "outputs": [
    {
     "name": "stdout",
     "output_type": "stream",
     "text": [
      "['k', 'r', 'i', 's', 'h', 'n', 'a', 1, 2, 3, 4, 5, 'b', 999, 1000]\n"
     ]
    }
   ],
   "source": [
    "print(b)"
   ]
  },
  {
   "cell_type": "code",
   "execution_count": 60,
   "id": "6613971a-5abe-41c7-bd10-2b81e2f42b16",
   "metadata": {},
   "outputs": [
    {
     "name": "stdout",
     "output_type": "stream",
     "text": [
      "['k', 'r', 'i', 's', 'h', 'n', 'a', 1, 2, 3, 4, 5, 'b', 999, 1000]\n"
     ]
    }
   ],
   "source": [
    "print(a)"
   ]
  },
  {
   "cell_type": "code",
   "execution_count": 69,
   "id": "fcdac150-a9cb-4d8d-8f94-4b413bb3af57",
   "metadata": {},
   "outputs": [
    {
     "data": {
      "text/plain": [
       "'a'"
      ]
     },
     "execution_count": 69,
     "metadata": {},
     "output_type": "execute_result"
    }
   ],
   "source": [
    "a.pop()"
   ]
  },
  {
   "cell_type": "code",
   "execution_count": 73,
   "id": "6befd50e-2bbb-4d44-98b6-e9b7447c606d",
   "metadata": {},
   "outputs": [
    {
     "name": "stdout",
     "output_type": "stream",
     "text": [
      "['k', 'r', 'i', 's', 'h', 'n']\n",
      "1954564072512\n"
     ]
    }
   ],
   "source": [
    "print(a)\n",
    "print(id(a))"
   ]
  },
  {
   "cell_type": "code",
   "execution_count": 75,
   "id": "edc8e47a-d9ff-477a-884f-e7a0985bfd48",
   "metadata": {},
   "outputs": [
    {
     "name": "stdout",
     "output_type": "stream",
     "text": [
      "['k', 'r', 'i', 's', 'h', 'n']\n",
      "1954564072512\n"
     ]
    }
   ],
   "source": [
    "print(b)\n",
    "print(id(b))"
   ]
  },
  {
   "cell_type": "code",
   "execution_count": 76,
   "id": "53fe9b54-ec4d-4654-9808-b981a6487cf0",
   "metadata": {},
   "outputs": [],
   "source": [
    "c=a.copy()"
   ]
  },
  {
   "cell_type": "code",
   "execution_count": 77,
   "id": "2fcb3140-8465-4004-aada-1459d4ceb5da",
   "metadata": {},
   "outputs": [
    {
     "name": "stdout",
     "output_type": "stream",
     "text": [
      "['k', 'r', 'i', 's', 'h', 'n']\n"
     ]
    }
   ],
   "source": [
    "print(c)"
   ]
  },
  {
   "cell_type": "code",
   "execution_count": 78,
   "id": "46a05bb1-e9de-4040-aa30-10a9382dbb64",
   "metadata": {},
   "outputs": [
    {
     "name": "stdout",
     "output_type": "stream",
     "text": [
      "1954584938816\n"
     ]
    }
   ],
   "source": [
    "print(id(c))"
   ]
  },
  {
   "cell_type": "code",
   "execution_count": 79,
   "id": "495b8136-b540-4a0d-b9dd-479becf8a1b7",
   "metadata": {},
   "outputs": [],
   "source": [
    "c.append(1000)"
   ]
  },
  {
   "cell_type": "code",
   "execution_count": 80,
   "id": "55e08bd1-d0d4-4381-954c-390ac163d6c4",
   "metadata": {},
   "outputs": [
    {
     "name": "stdout",
     "output_type": "stream",
     "text": [
      "['k', 'r', 'i', 's', 'h', 'n', 1000]\n"
     ]
    }
   ],
   "source": [
    "print(c)"
   ]
  },
  {
   "cell_type": "code",
   "execution_count": 81,
   "id": "d992a721-1e1c-4173-a987-4c61d684e1d9",
   "metadata": {},
   "outputs": [
    {
     "name": "stdout",
     "output_type": "stream",
     "text": [
      "['k', 'r', 'i', 's', 'h', 'n']\n"
     ]
    }
   ],
   "source": [
    "print(a)"
   ]
  },
  {
   "cell_type": "code",
   "execution_count": 82,
   "id": "453deafb-b8a3-4292-ac98-bd7679e30cf6",
   "metadata": {},
   "outputs": [
    {
     "name": "stdout",
     "output_type": "stream",
     "text": [
      "['k', 'r', 'i', 's', 'h', 'n']\n"
     ]
    }
   ],
   "source": [
    "print(b)"
   ]
  },
  {
   "cell_type": "code",
   "execution_count": 83,
   "id": "987c3f2d-3b9c-425f-843d-3377abbc9e69",
   "metadata": {},
   "outputs": [
    {
     "data": {
      "text/plain": [
       "3"
      ]
     },
     "execution_count": 83,
     "metadata": {},
     "output_type": "execute_result"
    }
   ],
   "source": [
    "c.index('s')"
   ]
  },
  {
   "cell_type": "code",
   "execution_count": 84,
   "id": "7adac4f9-f87b-4ea5-8ef2-17c58daf1156",
   "metadata": {},
   "outputs": [],
   "source": [
    "c.remove('s')"
   ]
  },
  {
   "cell_type": "code",
   "execution_count": 85,
   "id": "8efd4383-d9ee-4bfb-90d8-fe8b8b44eeb6",
   "metadata": {},
   "outputs": [
    {
     "name": "stdout",
     "output_type": "stream",
     "text": [
      "['k', 'r', 'i', 'h', 'n', 1000]\n"
     ]
    }
   ],
   "source": [
    "print(c)"
   ]
  },
  {
   "cell_type": "code",
   "execution_count": 86,
   "id": "804c2ac4-7266-4787-a969-8bd5f6e99700",
   "metadata": {},
   "outputs": [
    {
     "data": {
      "text/plain": [
       "'h'"
      ]
     },
     "execution_count": 86,
     "metadata": {},
     "output_type": "execute_result"
    }
   ],
   "source": [
    "c.pop(3)"
   ]
  },
  {
   "cell_type": "code",
   "execution_count": 87,
   "id": "8eb55477-18fd-4c20-8a55-b4f54c234a49",
   "metadata": {},
   "outputs": [
    {
     "name": "stdout",
     "output_type": "stream",
     "text": [
      "['k', 'r', 'i', 'n', 1000]\n"
     ]
    }
   ],
   "source": [
    "print(c)"
   ]
  },
  {
   "cell_type": "code",
   "execution_count": 88,
   "id": "f104bac6-eeaf-4dfa-8c21-e36b8986f83a",
   "metadata": {},
   "outputs": [
    {
     "data": {
      "text/plain": [
       "1000"
      ]
     },
     "execution_count": 88,
     "metadata": {},
     "output_type": "execute_result"
    }
   ],
   "source": [
    "c.pop()"
   ]
  },
  {
   "cell_type": "code",
   "execution_count": 89,
   "id": "b0aab370-e976-4fc1-85fa-3454b7e40f3d",
   "metadata": {},
   "outputs": [
    {
     "name": "stdout",
     "output_type": "stream",
     "text": [
      "['k', 'r', 'i', 'n']\n"
     ]
    }
   ],
   "source": [
    "print(c)"
   ]
  },
  {
   "cell_type": "code",
   "execution_count": 90,
   "id": "b199dea2-1fbb-415a-97e1-ad2f716e89bd",
   "metadata": {},
   "outputs": [
    {
     "data": {
      "text/plain": [
       "1"
      ]
     },
     "execution_count": 90,
     "metadata": {},
     "output_type": "execute_result"
    }
   ],
   "source": [
    "c.count('r')"
   ]
  },
  {
   "cell_type": "code",
   "execution_count": 91,
   "id": "be5c5763-eca0-4482-9fd0-75a97c4c3688",
   "metadata": {},
   "outputs": [],
   "source": [
    "c.insert(1,\"krishna\")"
   ]
  },
  {
   "cell_type": "code",
   "execution_count": 92,
   "id": "44fe51e3-5aad-40d0-b93a-20745e0137c8",
   "metadata": {},
   "outputs": [
    {
     "name": "stdout",
     "output_type": "stream",
     "text": [
      "['k', 'krishna', 'r', 'i', 'n']\n"
     ]
    }
   ],
   "source": [
    "print(c)"
   ]
  },
  {
   "cell_type": "code",
   "execution_count": 93,
   "id": "7a974bb2-9db9-4b63-b4e5-a47541eb9d6b",
   "metadata": {},
   "outputs": [],
   "source": [
    "c.reverse()"
   ]
  },
  {
   "cell_type": "code",
   "execution_count": 94,
   "id": "32eb1b32-bf02-46fc-b1cd-62e876e00f1a",
   "metadata": {},
   "outputs": [
    {
     "name": "stdout",
     "output_type": "stream",
     "text": [
      "['n', 'i', 'r', 'krishna', 'k']\n"
     ]
    }
   ],
   "source": [
    "print(c)"
   ]
  },
  {
   "cell_type": "code",
   "execution_count": 96,
   "id": "c8ce19e3-25bb-4173-a67a-314e84bcef3c",
   "metadata": {},
   "outputs": [],
   "source": [
    "c.reverse()"
   ]
  },
  {
   "cell_type": "code",
   "execution_count": 97,
   "id": "659114e5-5388-4637-b6cd-b502fb0c5c3e",
   "metadata": {},
   "outputs": [
    {
     "name": "stdout",
     "output_type": "stream",
     "text": [
      "['k', 'krishna', 'r', 'i', 'n']\n"
     ]
    }
   ],
   "source": [
    "print(c)"
   ]
  },
  {
   "cell_type": "code",
   "execution_count": 98,
   "id": "7b140f10-2550-4f95-9065-8bc8bdbdd654",
   "metadata": {},
   "outputs": [],
   "source": [
    "c.sort()"
   ]
  },
  {
   "cell_type": "code",
   "execution_count": 99,
   "id": "72c3a54f-d2b6-4a2d-8ff0-596f0f3aca01",
   "metadata": {},
   "outputs": [
    {
     "name": "stdout",
     "output_type": "stream",
     "text": [
      "['i', 'k', 'krishna', 'n', 'r']\n"
     ]
    }
   ],
   "source": [
    "print(c)"
   ]
  },
  {
   "cell_type": "code",
   "execution_count": 100,
   "id": "aafe9c3b-5cfb-47b1-8e66-efa2563fef14",
   "metadata": {},
   "outputs": [],
   "source": [
    "c.append(10)"
   ]
  },
  {
   "cell_type": "code",
   "execution_count": 101,
   "id": "30b50ee9-66f9-481a-bde5-9aaf3637efc8",
   "metadata": {},
   "outputs": [
    {
     "name": "stdout",
     "output_type": "stream",
     "text": [
      "['i', 'k', 'krishna', 'n', 'r', 10]\n"
     ]
    }
   ],
   "source": [
    "print(c)"
   ]
  },
  {
   "cell_type": "code",
   "execution_count": 102,
   "id": "7f3fb162-9f1e-43af-bfcc-1e6661b46cd0",
   "metadata": {},
   "outputs": [
    {
     "ename": "TypeError",
     "evalue": "'<' not supported between instances of 'int' and 'str'",
     "output_type": "error",
     "traceback": [
      "\u001b[1;31m---------------------------------------------------------------------------\u001b[0m",
      "\u001b[1;31mTypeError\u001b[0m                                 Traceback (most recent call last)",
      "Cell \u001b[1;32mIn[102], line 1\u001b[0m\n\u001b[1;32m----> 1\u001b[0m \u001b[43mc\u001b[49m\u001b[38;5;241;43m.\u001b[39;49m\u001b[43msort\u001b[49m\u001b[43m(\u001b[49m\u001b[43m)\u001b[49m\n",
      "\u001b[1;31mTypeError\u001b[0m: '<' not supported between instances of 'int' and 'str'"
     ]
    }
   ],
   "source": [
    "c.sort()"
   ]
  },
  {
   "cell_type": "code",
   "execution_count": 103,
   "id": "a5f4b3eb-2d4d-499d-aaa6-88ae180b699e",
   "metadata": {},
   "outputs": [],
   "source": [
    "c.clear()"
   ]
  },
  {
   "cell_type": "code",
   "execution_count": 104,
   "id": "0da4989e-cd33-4ad5-81ae-fd3547955243",
   "metadata": {},
   "outputs": [
    {
     "name": "stdout",
     "output_type": "stream",
     "text": [
      "[]\n"
     ]
    }
   ],
   "source": [
    "print(c)"
   ]
  },
  {
   "cell_type": "code",
   "execution_count": 105,
   "id": "4d08bd5b-c757-4d59-91d7-4a1d90e83e63",
   "metadata": {},
   "outputs": [],
   "source": [
    "c.extend([323,4,23,3234,213])"
   ]
  },
  {
   "cell_type": "code",
   "execution_count": 106,
   "id": "41aa894a-1078-46de-8edb-1b47722f473a",
   "metadata": {},
   "outputs": [
    {
     "name": "stdout",
     "output_type": "stream",
     "text": [
      "[323, 4, 23, 3234, 213]\n"
     ]
    }
   ],
   "source": [
    "print(c)"
   ]
  },
  {
   "cell_type": "code",
   "execution_count": 107,
   "id": "a9b861c8-f2a4-4f1c-b9af-84f870b7bdf2",
   "metadata": {},
   "outputs": [],
   "source": [
    "c.sort()"
   ]
  },
  {
   "cell_type": "code",
   "execution_count": 108,
   "id": "dcb01ea1-1ad5-40f0-858e-018d0a364faf",
   "metadata": {},
   "outputs": [
    {
     "name": "stdout",
     "output_type": "stream",
     "text": [
      "[4, 23, 213, 323, 3234]\n"
     ]
    }
   ],
   "source": [
    "print(c)"
   ]
  },
  {
   "cell_type": "code",
   "execution_count": 109,
   "id": "d890259f-a9af-4b7d-bbcd-7afe92c14af9",
   "metadata": {},
   "outputs": [],
   "source": [
    "c.sort(reverse=True)"
   ]
  },
  {
   "cell_type": "code",
   "execution_count": 110,
   "id": "a878f2a6-842d-4c83-a373-48571b72c89a",
   "metadata": {},
   "outputs": [
    {
     "name": "stdout",
     "output_type": "stream",
     "text": [
      "[3234, 323, 213, 23, 4]\n"
     ]
    }
   ],
   "source": [
    "print(c)"
   ]
  },
  {
   "cell_type": "code",
   "execution_count": 111,
   "id": "3d0b4e99-6adb-49ab-8403-86f0a06badcf",
   "metadata": {},
   "outputs": [],
   "source": [
    "c.sort(reverse=False)"
   ]
  },
  {
   "cell_type": "code",
   "execution_count": 112,
   "id": "54089f7d-0275-4bc8-baa4-a14fc0a0297f",
   "metadata": {},
   "outputs": [
    {
     "name": "stdout",
     "output_type": "stream",
     "text": [
      "[4, 23, 213, 323, 3234]\n"
     ]
    }
   ],
   "source": [
    "print(c)"
   ]
  },
  {
   "cell_type": "code",
   "execution_count": 115,
   "id": "e7696873-e916-4840-b6e0-583c350ae95d",
   "metadata": {},
   "outputs": [],
   "source": [
    "c.sort(reverse=True)"
   ]
  },
  {
   "cell_type": "code",
   "execution_count": 116,
   "id": "56d4cedb-0f2a-4c53-bb31-fc004926c032",
   "metadata": {},
   "outputs": [
    {
     "name": "stdout",
     "output_type": "stream",
     "text": [
      "[3234, 323, 213, 23, 4]\n"
     ]
    }
   ],
   "source": [
    "print(c)"
   ]
  },
  {
   "cell_type": "code",
   "execution_count": null,
   "id": "92bb5388-bf12-4ad0-acd6-cdfe8f78ebe5",
   "metadata": {},
   "outputs": [],
   "source": []
  }
 ],
 "metadata": {
  "kernelspec": {
   "display_name": "Python 3 (ipykernel)",
   "language": "python",
   "name": "python3"
  },
  "language_info": {
   "codemirror_mode": {
    "name": "ipython",
    "version": 3
   },
   "file_extension": ".py",
   "mimetype": "text/x-python",
   "name": "python",
   "nbconvert_exporter": "python",
   "pygments_lexer": "ipython3",
   "version": "3.11.4"
  }
 },
 "nbformat": 4,
 "nbformat_minor": 5
}
