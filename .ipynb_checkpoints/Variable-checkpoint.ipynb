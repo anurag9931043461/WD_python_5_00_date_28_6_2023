{
 "cells": [
  {
   "cell_type": "markdown",
   "id": "1f3fc145-8774-4702-9567-dd0a8e237497",
   "metadata": {},
   "source": [
    "# Variable/ Container/identifier/argument/object\n",
    "> Rule1: Variable name never start with a number.\n",
    "\n",
    "> Rule2: Variable never contain special character except underscore(_) ; \n",
    "\n",
    "> Rule3: Variable must be readable.\n"
   ]
  },
  {
   "cell_type": "code",
   "execution_count": 3,
   "id": "ea42d7ad-303d-4cdc-85fd-fae2926e1277",
   "metadata": {},
   "outputs": [
    {
     "data": {
      "text/plain": [
       "'!\"#$%&\\'()*+,-./:;<=>?@[\\\\]^_`{|}~'"
      ]
     },
     "execution_count": 3,
     "metadata": {},
     "output_type": "execute_result"
    }
   ],
   "source": [
    "import string\n",
    "string.punctuation"
   ]
  },
  {
   "cell_type": "code",
   "execution_count": 4,
   "id": "11143de7-ffe6-42aa-ab8b-47d363627e5a",
   "metadata": {},
   "outputs": [],
   "source": [
    "a=10"
   ]
  },
  {
   "cell_type": "code",
   "execution_count": 5,
   "id": "59f2da42-49aa-49e4-9d90-e9dbc97e684e",
   "metadata": {},
   "outputs": [],
   "source": [
    "b=20"
   ]
  },
  {
   "cell_type": "code",
   "execution_count": 6,
   "id": "3a4cb8c1-6bbf-44ff-be4b-ab3dd5ac930f",
   "metadata": {},
   "outputs": [
    {
     "name": "stdout",
     "output_type": "stream",
     "text": [
      "30\n"
     ]
    }
   ],
   "source": [
    "print(a+b)"
   ]
  },
  {
   "cell_type": "code",
   "execution_count": 7,
   "id": "eb7cee96-1cd4-45bd-ac7a-417a60008bb7",
   "metadata": {},
   "outputs": [],
   "source": [
    "a=20"
   ]
  },
  {
   "cell_type": "code",
   "execution_count": 8,
   "id": "5bf6cfd9-baf1-4c9a-b3ef-cf01baea7711",
   "metadata": {},
   "outputs": [
    {
     "name": "stdout",
     "output_type": "stream",
     "text": [
      "20\n"
     ]
    }
   ],
   "source": [
    "print(a)"
   ]
  },
  {
   "cell_type": "code",
   "execution_count": 9,
   "id": "eb8382dd-4fed-45c9-a8c2-fef56bc4204e",
   "metadata": {},
   "outputs": [
    {
     "ename": "SyntaxError",
     "evalue": "invalid decimal literal (3782790406.py, line 1)",
     "output_type": "error",
     "traceback": [
      "\u001b[1;36m  Cell \u001b[1;32mIn[9], line 1\u001b[1;36m\u001b[0m\n\u001b[1;33m    1a=10\u001b[0m\n\u001b[1;37m    ^\u001b[0m\n\u001b[1;31mSyntaxError\u001b[0m\u001b[1;31m:\u001b[0m invalid decimal literal\n"
     ]
    }
   ],
   "source": [
    "1a=10   # variable name never start with a number"
   ]
  },
  {
   "cell_type": "code",
   "execution_count": 10,
   "id": "1f9ea7c9-eeff-4355-a6ab-a5ddea5be449",
   "metadata": {},
   "outputs": [],
   "source": [
    "krishna1=10"
   ]
  },
  {
   "cell_type": "code",
   "execution_count": 11,
   "id": "758f003b-1ad4-49e3-a92b-9825acde666a",
   "metadata": {},
   "outputs": [],
   "source": [
    "krishna1kumar=10"
   ]
  },
  {
   "cell_type": "code",
   "execution_count": 12,
   "id": "db5ed3ad-3883-4e36-bef1-07152a23fb37",
   "metadata": {},
   "outputs": [
    {
     "ename": "SyntaxError",
     "evalue": "cannot assign to expression here. Maybe you meant '==' instead of '='? (1039879702.py, line 1)",
     "output_type": "error",
     "traceback": [
      "\u001b[1;36m  Cell \u001b[1;32mIn[12], line 1\u001b[1;36m\u001b[0m\n\u001b[1;33m    krishna@kumar=10\u001b[0m\n\u001b[1;37m    ^\u001b[0m\n\u001b[1;31mSyntaxError\u001b[0m\u001b[1;31m:\u001b[0m cannot assign to expression here. Maybe you meant '==' instead of '='?\n"
     ]
    }
   ],
   "source": [
    "krishna@kumar=10"
   ]
  },
  {
   "cell_type": "code",
   "execution_count": 13,
   "id": "e27b4f22-c8da-459c-8a52-23ce34f3251f",
   "metadata": {},
   "outputs": [
    {
     "ename": "SyntaxError",
     "evalue": "invalid syntax (3828915167.py, line 1)",
     "output_type": "error",
     "traceback": [
      "\u001b[1;36m  Cell \u001b[1;32mIn[13], line 1\u001b[1;36m\u001b[0m\n\u001b[1;33m    krishna!kumar=10\u001b[0m\n\u001b[1;37m           ^\u001b[0m\n\u001b[1;31mSyntaxError\u001b[0m\u001b[1;31m:\u001b[0m invalid syntax\n"
     ]
    }
   ],
   "source": [
    "krishna!kumar=10"
   ]
  },
  {
   "cell_type": "code",
   "execution_count": 14,
   "id": "5eb00d84-0a11-40ac-94de-219d0582595e",
   "metadata": {},
   "outputs": [],
   "source": [
    "krishna_kumar=10"
   ]
  },
  {
   "cell_type": "code",
   "execution_count": 15,
   "id": "e111285e-674d-40e2-afdd-d4d38b5700a9",
   "metadata": {},
   "outputs": [],
   "source": [
    "#snake case\n",
    "krishna_weight=72    \n",
    "kartik_weight=60\n",
    "satender_weight=70"
   ]
  },
  {
   "cell_type": "code",
   "execution_count": 16,
   "id": "20474d1c-c8d7-48dd-a589-149ddef07778",
   "metadata": {},
   "outputs": [],
   "source": [
    "_age=99"
   ]
  },
  {
   "cell_type": "code",
   "execution_count": 17,
   "id": "feed6c6e-309f-4374-9303-5fb68f3a4c0f",
   "metadata": {},
   "outputs": [
    {
     "name": "stdout",
     "output_type": "stream",
     "text": [
      "99\n"
     ]
    }
   ],
   "source": [
    "print(_age)"
   ]
  },
  {
   "cell_type": "code",
   "execution_count": 18,
   "id": "158706a6-d64d-4d27-bf30-64c43d467689",
   "metadata": {},
   "outputs": [],
   "source": [
    "_=20"
   ]
  },
  {
   "cell_type": "code",
   "execution_count": 20,
   "id": "18c437f1-fb6b-4c2a-a6db-8fc6cb95637a",
   "metadata": {},
   "outputs": [
    {
     "name": "stdout",
     "output_type": "stream",
     "text": [
      "20\n"
     ]
    }
   ],
   "source": [
    "print(_)"
   ]
  },
  {
   "cell_type": "code",
   "execution_count": 21,
   "id": "5fad96f2-489e-4c8f-a2c2-a51fb08c3190",
   "metadata": {},
   "outputs": [],
   "source": [
    "#camel case\n",
    "krishnaWeight=72    \n",
    "kartikWeight=60\n",
    "satenderWeight=70"
   ]
  },
  {
   "cell_type": "code",
   "execution_count": 22,
   "id": "679f2b83-f4de-43a7-99d7-b94d4e719957",
   "metadata": {},
   "outputs": [],
   "source": [
    "#pascal case\n",
    "KrishnaWeight=72    \n",
    "KartikWeight=60\n",
    "SatenderWeight=70"
   ]
  },
  {
   "cell_type": "code",
   "execution_count": 25,
   "id": "aa363c74-822a-44fe-a167-e1b3fcd7a1e0",
   "metadata": {},
   "outputs": [
    {
     "name": "stdout",
     "output_type": "stream",
     "text": [
      "1856952140304\n"
     ]
    }
   ],
   "source": [
    "a=10\n",
    "print(id(a))"
   ]
  },
  {
   "cell_type": "code",
   "execution_count": 26,
   "id": "0d38a088-6c6a-4a0f-b770-adc4c08733c8",
   "metadata": {},
   "outputs": [
    {
     "name": "stdout",
     "output_type": "stream",
     "text": [
      "1856952140304\n"
     ]
    }
   ],
   "source": [
    "b=10\n",
    "print(id(b))"
   ]
  },
  {
   "cell_type": "code",
   "execution_count": 27,
   "id": "250426e4-af77-4faf-a676-4a042656329c",
   "metadata": {},
   "outputs": [],
   "source": [
    "a=10\n",
    "b=20"
   ]
  },
  {
   "cell_type": "code",
   "execution_count": 28,
   "id": "24c2370e-f681-481b-abc4-fbbdc8cce85d",
   "metadata": {},
   "outputs": [
    {
     "name": "stdout",
     "output_type": "stream",
     "text": [
      "30\n"
     ]
    }
   ],
   "source": [
    "print(a+b)"
   ]
  },
  {
   "cell_type": "code",
   "execution_count": 29,
   "id": "2f7f572d-0038-4a7c-81e4-e03968b4b3bc",
   "metadata": {},
   "outputs": [],
   "source": [
    "c=a+b"
   ]
  },
  {
   "cell_type": "code",
   "execution_count": 30,
   "id": "0a1704d0-cfb0-4b34-9671-c09d763bdf84",
   "metadata": {},
   "outputs": [
    {
     "name": "stdout",
     "output_type": "stream",
     "text": [
      "1856952140944\n"
     ]
    }
   ],
   "source": [
    "print(id(c))"
   ]
  },
  {
   "cell_type": "code",
   "execution_count": 31,
   "id": "526c86f4-305e-4eeb-bf66-77ad2bf15a03",
   "metadata": {},
   "outputs": [
    {
     "name": "stdout",
     "output_type": "stream",
     "text": [
      "30\n"
     ]
    }
   ],
   "source": [
    "print(c)"
   ]
  },
  {
   "cell_type": "code",
   "execution_count": null,
   "id": "3dcd593c-e95b-4650-a333-6a3415266734",
   "metadata": {},
   "outputs": [],
   "source": []
  }
 ],
 "metadata": {
  "kernelspec": {
   "display_name": "Python 3 (ipykernel)",
   "language": "python",
   "name": "python3"
  },
  "language_info": {
   "codemirror_mode": {
    "name": "ipython",
    "version": 3
   },
   "file_extension": ".py",
   "mimetype": "text/x-python",
   "name": "python",
   "nbconvert_exporter": "python",
   "pygments_lexer": "ipython3",
   "version": "3.11.4"
  }
 },
 "nbformat": 4,
 "nbformat_minor": 5
}
