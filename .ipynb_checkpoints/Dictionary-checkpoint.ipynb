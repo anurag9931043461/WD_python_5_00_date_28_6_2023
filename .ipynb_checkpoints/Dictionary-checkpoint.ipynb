{
 "cells": [
  {
   "cell_type": "markdown",
   "id": "17a4bd64-8f3b-4718-8738-5a66a9d86e0d",
   "metadata": {},
   "source": [
    "# Dictionary\n",
    "\n",
    "> dictionary constructor is dict()\n",
    "\n",
    "> dictionary literal is {}\n",
    "\n",
    "> dicationary is a combination of key and value pair\n",
    "\n",
    "> dictionary support indexing \n",
    "\n",
    "> dictionary doesnot support slicing \n",
    "\n",
    "> dictionary is mutable \n",
    "\n",
    "> dictionary support nested dictionary.\n",
    "\n",
    "> dictionary key must be immutable datatype(int, float ,string , tuple, frozenset)\n",
    "\n",
    "> dictionary values may or maynot be immutable.\n",
    "\n",
    "> dictionary methods."
   ]
  },
  {
   "cell_type": "code",
   "execution_count": 9,
   "id": "ca5c0294-05bc-4a60-9c7d-7672b178ee13",
   "metadata": {},
   "outputs": [],
   "source": [
    "a={1:\"krishna\",2:\"Rohan\",3:\"Sohan\"}"
   ]
  },
  {
   "cell_type": "code",
   "execution_count": 4,
   "id": "9891bec3-765c-49d3-9436-508609b7cac3",
   "metadata": {},
   "outputs": [
    {
     "name": "stdout",
     "output_type": "stream",
     "text": [
      "{1: 'krishna', 2: 'Rohan', 3: 'Sohan'}\n"
     ]
    }
   ],
   "source": [
    "print(a)"
   ]
  },
  {
   "cell_type": "code",
   "execution_count": 10,
   "id": "e80290a9-ee8c-40fb-9f03-c647aada63a2",
   "metadata": {},
   "outputs": [],
   "source": [
    "b=dict()  # dictionary constructor is dict() to create empty dictionary"
   ]
  },
  {
   "cell_type": "code",
   "execution_count": 11,
   "id": "812cd12b-04ca-42d5-b6b2-5ffe2700c726",
   "metadata": {},
   "outputs": [
    {
     "name": "stdout",
     "output_type": "stream",
     "text": [
      "{}\n"
     ]
    }
   ],
   "source": [
    "print(b)  # literal of dictionary is {}"
   ]
  },
  {
   "cell_type": "code",
   "execution_count": 12,
   "id": "842ff05d-11f0-4203-9e5f-d1de95ff7115",
   "metadata": {},
   "outputs": [
    {
     "name": "stdout",
     "output_type": "stream",
     "text": [
      "Rohan\n"
     ]
    }
   ],
   "source": [
    "print(a[2])"
   ]
  },
  {
   "cell_type": "code",
   "execution_count": 13,
   "id": "5265c87d-baad-4b0e-b90a-038412889d3e",
   "metadata": {},
   "outputs": [
    {
     "name": "stdout",
     "output_type": "stream",
     "text": [
      "krishna\n"
     ]
    }
   ],
   "source": [
    "print(a[1])"
   ]
  },
  {
   "cell_type": "code",
   "execution_count": 16,
   "id": "73f62c79-2b1c-457e-9100-7b85edbf0549",
   "metadata": {},
   "outputs": [
    {
     "data": {
      "text/plain": [
       "dict_items([(1, 'krishna'), (2, 'Rohan'), (3, 'Sohan')])"
      ]
     },
     "execution_count": 16,
     "metadata": {},
     "output_type": "execute_result"
    }
   ],
   "source": [
    "c=a.items()\n",
    "c"
   ]
  },
  {
   "cell_type": "code",
   "execution_count": 17,
   "id": "67e0b7e1-821c-4012-90e7-92a8bd6a6188",
   "metadata": {},
   "outputs": [
    {
     "data": {
      "text/plain": [
       "3"
      ]
     },
     "execution_count": 17,
     "metadata": {},
     "output_type": "execute_result"
    }
   ],
   "source": [
    "len(c)"
   ]
  },
  {
   "cell_type": "code",
   "execution_count": 18,
   "id": "7b526103-6974-4d72-b6fc-5e37abb96f86",
   "metadata": {},
   "outputs": [
    {
     "data": {
      "text/plain": [
       "dict_keys([1, 2, 3])"
      ]
     },
     "execution_count": 18,
     "metadata": {},
     "output_type": "execute_result"
    }
   ],
   "source": [
    "a.keys()"
   ]
  },
  {
   "cell_type": "code",
   "execution_count": 19,
   "id": "d7deaeda-3df9-45e3-bb11-e891e79ba7be",
   "metadata": {},
   "outputs": [
    {
     "data": {
      "text/plain": [
       "dict_values(['krishna', 'Rohan', 'Sohan'])"
      ]
     },
     "execution_count": 19,
     "metadata": {},
     "output_type": "execute_result"
    }
   ],
   "source": [
    "a.values()"
   ]
  },
  {
   "cell_type": "code",
   "execution_count": 20,
   "id": "e0fa5e1d-4e23-493a-93a8-979af6d8a60c",
   "metadata": {},
   "outputs": [
    {
     "data": {
      "text/plain": [
       "'krishna'"
      ]
     },
     "execution_count": 20,
     "metadata": {},
     "output_type": "execute_result"
    }
   ],
   "source": [
    "a[1]"
   ]
  },
  {
   "cell_type": "code",
   "execution_count": 21,
   "id": "2e117594-6c72-4491-8e1b-183a2786d376",
   "metadata": {},
   "outputs": [
    {
     "ename": "KeyError",
     "evalue": "10",
     "output_type": "error",
     "traceback": [
      "\u001b[1;31m---------------------------------------------------------------------------\u001b[0m",
      "\u001b[1;31mKeyError\u001b[0m                                  Traceback (most recent call last)",
      "Cell \u001b[1;32mIn[21], line 1\u001b[0m\n\u001b[1;32m----> 1\u001b[0m \u001b[43ma\u001b[49m\u001b[43m[\u001b[49m\u001b[38;5;241;43m10\u001b[39;49m\u001b[43m]\u001b[49m\n",
      "\u001b[1;31mKeyError\u001b[0m: 10"
     ]
    }
   ],
   "source": [
    "a[10]"
   ]
  },
  {
   "cell_type": "code",
   "execution_count": 22,
   "id": "19db6322-d983-4817-97d4-00bca22ac825",
   "metadata": {},
   "outputs": [
    {
     "data": {
      "text/plain": [
       "'krishna'"
      ]
     },
     "execution_count": 22,
     "metadata": {},
     "output_type": "execute_result"
    }
   ],
   "source": [
    "a.get(1)"
   ]
  },
  {
   "cell_type": "code",
   "execution_count": 24,
   "id": "68a53f03-417e-416b-b047-491dbd080dd6",
   "metadata": {},
   "outputs": [
    {
     "data": {
      "text/plain": [
       "'values is not available'"
      ]
     },
     "execution_count": 24,
     "metadata": {},
     "output_type": "execute_result"
    }
   ],
   "source": [
    "a.get(10,\"values is not available\")"
   ]
  },
  {
   "cell_type": "code",
   "execution_count": 25,
   "id": "cc6ff096-8724-48c5-b272-3160eaa61a5c",
   "metadata": {},
   "outputs": [
    {
     "data": {
      "text/plain": [
       "'Rohan'"
      ]
     },
     "execution_count": 25,
     "metadata": {},
     "output_type": "execute_result"
    }
   ],
   "source": [
    "a.get(2,\"values is not available\")"
   ]
  },
  {
   "cell_type": "code",
   "execution_count": 27,
   "id": "5d4c9b52-2809-44c5-9fcd-85a14a94cbdf",
   "metadata": {},
   "outputs": [
    {
     "data": {
      "text/plain": [
       "'krishna'"
      ]
     },
     "execution_count": 27,
     "metadata": {},
     "output_type": "execute_result"
    }
   ],
   "source": [
    "a.pop(1)"
   ]
  },
  {
   "cell_type": "code",
   "execution_count": 28,
   "id": "09d49125-639e-47c5-a27e-9b8863e92f3f",
   "metadata": {},
   "outputs": [
    {
     "name": "stdout",
     "output_type": "stream",
     "text": [
      "{2: 'Rohan', 3: 'Sohan'}\n"
     ]
    }
   ],
   "source": [
    "print(a)"
   ]
  },
  {
   "cell_type": "code",
   "execution_count": 29,
   "id": "25418133-6cb8-4243-8b57-d64af373dc6c",
   "metadata": {},
   "outputs": [
    {
     "ename": "KeyError",
     "evalue": "10",
     "output_type": "error",
     "traceback": [
      "\u001b[1;31m---------------------------------------------------------------------------\u001b[0m",
      "\u001b[1;31mKeyError\u001b[0m                                  Traceback (most recent call last)",
      "Cell \u001b[1;32mIn[29], line 1\u001b[0m\n\u001b[1;32m----> 1\u001b[0m \u001b[43ma\u001b[49m\u001b[38;5;241;43m.\u001b[39;49m\u001b[43mpop\u001b[49m\u001b[43m(\u001b[49m\u001b[38;5;241;43m10\u001b[39;49m\u001b[43m)\u001b[49m\n",
      "\u001b[1;31mKeyError\u001b[0m: 10"
     ]
    }
   ],
   "source": [
    "a.pop(10)"
   ]
  },
  {
   "cell_type": "code",
   "execution_count": 30,
   "id": "4e2d44df-f765-4faf-aa87-2305dcaaf88f",
   "metadata": {},
   "outputs": [
    {
     "data": {
      "text/plain": [
       "(3, 'Sohan')"
      ]
     },
     "execution_count": 30,
     "metadata": {},
     "output_type": "execute_result"
    }
   ],
   "source": [
    "a.popitem()"
   ]
  },
  {
   "cell_type": "code",
   "execution_count": 31,
   "id": "60ae335f-0bce-42a2-a995-86ed2cc4fe6b",
   "metadata": {},
   "outputs": [
    {
     "name": "stdout",
     "output_type": "stream",
     "text": [
      "{2: 'Rohan'}\n"
     ]
    }
   ],
   "source": [
    "print(a)"
   ]
  },
  {
   "cell_type": "code",
   "execution_count": 32,
   "id": "131a8086-7e80-4ad3-a0b2-3910c69749d3",
   "metadata": {},
   "outputs": [
    {
     "ename": "ValueError",
     "evalue": "dictionary update sequence element #0 has length 1; 2 is required",
     "output_type": "error",
     "traceback": [
      "\u001b[1;31m---------------------------------------------------------------------------\u001b[0m",
      "\u001b[1;31mValueError\u001b[0m                                Traceback (most recent call last)",
      "Cell \u001b[1;32mIn[32], line 1\u001b[0m\n\u001b[1;32m----> 1\u001b[0m \u001b[43ma\u001b[49m\u001b[38;5;241;43m.\u001b[39;49m\u001b[43mupdate\u001b[49m\u001b[43m(\u001b[49m\u001b[38;5;124;43m\"\u001b[39;49m\u001b[38;5;124;43mkrishna\u001b[39;49m\u001b[38;5;124;43m\"\u001b[39;49m\u001b[43m)\u001b[49m\n",
      "\u001b[1;31mValueError\u001b[0m: dictionary update sequence element #0 has length 1; 2 is required"
     ]
    }
   ],
   "source": [
    "a.update(\"krishna\")"
   ]
  },
  {
   "cell_type": "code",
   "execution_count": 33,
   "id": "5ea7876c-a05b-4f16-9fb5-8d495b413758",
   "metadata": {},
   "outputs": [],
   "source": [
    "a.update({1:\"krishna\",3:\"Nicky\",4:\"Moni\"})"
   ]
  },
  {
   "cell_type": "code",
   "execution_count": 34,
   "id": "40210aa8-70fc-4e39-9d79-a8d952baace5",
   "metadata": {},
   "outputs": [
    {
     "name": "stdout",
     "output_type": "stream",
     "text": [
      "{2: 'Rohan', 1: 'krishna', 3: 'Nicky', 4: 'Moni'}\n"
     ]
    }
   ],
   "source": [
    "print(a)"
   ]
  },
  {
   "cell_type": "code",
   "execution_count": 35,
   "id": "2df8f8a6-7ec3-47d8-863d-9bb79c0aaff8",
   "metadata": {},
   "outputs": [],
   "source": [
    "d=a.copy()"
   ]
  },
  {
   "cell_type": "code",
   "execution_count": 36,
   "id": "ab761fd3-d0b1-44e3-892f-3f4ee24df602",
   "metadata": {},
   "outputs": [
    {
     "name": "stdout",
     "output_type": "stream",
     "text": [
      "{2: 'Rohan', 1: 'krishna', 3: 'Nicky', 4: 'Moni'}\n"
     ]
    }
   ],
   "source": [
    "print(d)"
   ]
  },
  {
   "cell_type": "code",
   "execution_count": 37,
   "id": "5d2aa463-3c5d-4dd3-9d39-65b1ed7dfe0a",
   "metadata": {},
   "outputs": [
    {
     "name": "stdout",
     "output_type": "stream",
     "text": [
      "1637010320896\n"
     ]
    }
   ],
   "source": [
    "print(id(d))"
   ]
  },
  {
   "cell_type": "code",
   "execution_count": 38,
   "id": "ae041692-7cdb-4bf8-8232-bfb3a0b80a68",
   "metadata": {},
   "outputs": [
    {
     "name": "stdout",
     "output_type": "stream",
     "text": [
      "1637006209600\n"
     ]
    }
   ],
   "source": [
    "print(id(a))"
   ]
  },
  {
   "cell_type": "code",
   "execution_count": 39,
   "id": "e11a97c3-9e64-42e0-8add-a96e12100e36",
   "metadata": {},
   "outputs": [
    {
     "data": {
      "text/plain": [
       "(4, 'Moni')"
      ]
     },
     "execution_count": 39,
     "metadata": {},
     "output_type": "execute_result"
    }
   ],
   "source": [
    "a.popitem()"
   ]
  },
  {
   "cell_type": "code",
   "execution_count": 40,
   "id": "50802125-a210-4051-a596-74cfe8e3b508",
   "metadata": {},
   "outputs": [
    {
     "name": "stdout",
     "output_type": "stream",
     "text": [
      "{2: 'Rohan', 1: 'krishna', 3: 'Nicky'}\n"
     ]
    }
   ],
   "source": [
    "print(a)"
   ]
  },
  {
   "cell_type": "code",
   "execution_count": 41,
   "id": "b1d68376-2813-492f-9aef-3e543c76cf58",
   "metadata": {},
   "outputs": [
    {
     "name": "stdout",
     "output_type": "stream",
     "text": [
      "{2: 'Rohan', 1: 'krishna', 3: 'Nicky', 4: 'Moni'}\n"
     ]
    }
   ],
   "source": [
    "print(d)"
   ]
  },
  {
   "cell_type": "code",
   "execution_count": 42,
   "id": "38770af5-6e5a-471e-91e6-9f7ff03b7482",
   "metadata": {},
   "outputs": [],
   "source": [
    "a.clear()"
   ]
  },
  {
   "cell_type": "code",
   "execution_count": 43,
   "id": "d2a9911c-e60f-42d9-8315-ae3c468ea85a",
   "metadata": {},
   "outputs": [
    {
     "name": "stdout",
     "output_type": "stream",
     "text": [
      "{}\n"
     ]
    }
   ],
   "source": [
    "print(a)"
   ]
  },
  {
   "cell_type": "code",
   "execution_count": 44,
   "id": "bfef3e8e-a037-4580-806d-6efb0718c71d",
   "metadata": {},
   "outputs": [
    {
     "name": "stdout",
     "output_type": "stream",
     "text": [
      "{2: 'Rohan', 1: 'krishna', 3: 'Nicky', 4: 'Moni'}\n"
     ]
    }
   ],
   "source": [
    "print(d)"
   ]
  },
  {
   "cell_type": "code",
   "execution_count": 46,
   "id": "5d1e5c46-fdda-44b6-832f-15312b974342",
   "metadata": {},
   "outputs": [
    {
     "name": "stdout",
     "output_type": "stream",
     "text": [
      "{}\n",
      "<class 'dict'>\n"
     ]
    }
   ],
   "source": [
    "print(a)\n",
    "print(type(a))"
   ]
  },
  {
   "cell_type": "code",
   "execution_count": 51,
   "id": "c1d68116-09ef-4325-9a1e-d4fa0ef9ca74",
   "metadata": {},
   "outputs": [],
   "source": [
    "f=a.fromkeys([1,2,3,4,5,6,7,8,9,10],\"available\")"
   ]
  },
  {
   "cell_type": "code",
   "execution_count": 52,
   "id": "0a4a8411-a701-4246-9ecf-d0dcb77bce8a",
   "metadata": {},
   "outputs": [
    {
     "data": {
      "text/plain": [
       "{1: 'available',\n",
       " 2: 'available',\n",
       " 3: 'available',\n",
       " 4: 'available',\n",
       " 5: 'available',\n",
       " 6: 'available',\n",
       " 7: 'available',\n",
       " 8: 'available',\n",
       " 9: 'available',\n",
       " 10: 'available'}"
      ]
     },
     "execution_count": 52,
     "metadata": {},
     "output_type": "execute_result"
    }
   ],
   "source": [
    "f"
   ]
  },
  {
   "cell_type": "code",
   "execution_count": 53,
   "id": "7d1e0d8c-622b-4267-8c76-f8347bf5652c",
   "metadata": {},
   "outputs": [],
   "source": [
    "f[1]=\"krishna\""
   ]
  },
  {
   "cell_type": "code",
   "execution_count": 54,
   "id": "2c7bdf7b-b8ad-49a8-9aa8-71f442f73241",
   "metadata": {},
   "outputs": [
    {
     "name": "stdout",
     "output_type": "stream",
     "text": [
      "{1: 'krishna', 2: 'available', 3: 'available', 4: 'available', 5: 'available', 6: 'available', 7: 'available', 8: 'available', 9: 'available', 10: 'available'}\n"
     ]
    }
   ],
   "source": [
    "print(f)"
   ]
  },
  {
   "cell_type": "code",
   "execution_count": 60,
   "id": "0718ca88-5465-4cae-b738-91f38b624f7f",
   "metadata": {},
   "outputs": [
    {
     "data": {
      "text/plain": [
       "'available'"
      ]
     },
     "execution_count": 60,
     "metadata": {},
     "output_type": "execute_result"
    }
   ],
   "source": [
    "f.setdefault(11,\"available\")"
   ]
  },
  {
   "cell_type": "code",
   "execution_count": 61,
   "id": "dad269a5-d3a7-45d4-8d7a-cd4e9813c3ac",
   "metadata": {},
   "outputs": [
    {
     "name": "stdout",
     "output_type": "stream",
     "text": [
      "{1: 'krishna', 2: 'available', 3: 'available', 4: 'available', 5: 'available', 6: 'available', 7: 'available', 8: 'available', 9: 'available', 10: 'available', 11: 'available'}\n"
     ]
    }
   ],
   "source": [
    "print(f)"
   ]
  },
  {
   "cell_type": "code",
   "execution_count": 62,
   "id": "7b7eec73-1583-4c1b-95f4-d2389882ad9f",
   "metadata": {},
   "outputs": [
    {
     "data": {
      "text/plain": [
       "'available'"
      ]
     },
     "execution_count": 62,
     "metadata": {},
     "output_type": "execute_result"
    }
   ],
   "source": [
    "f.setdefault(2,\"krishna\")"
   ]
  },
  {
   "cell_type": "code",
   "execution_count": 63,
   "id": "5df87849-03ea-42a0-a1a5-26977f87c7db",
   "metadata": {},
   "outputs": [
    {
     "data": {
      "text/plain": [
       "'krishna'"
      ]
     },
     "execution_count": 63,
     "metadata": {},
     "output_type": "execute_result"
    }
   ],
   "source": [
    "f.setdefault(1)"
   ]
  },
  {
   "cell_type": "code",
   "execution_count": 64,
   "id": "e1247543-48ae-4642-b235-1ad0c21aaf54",
   "metadata": {},
   "outputs": [],
   "source": [
    "f.setdefault(12)"
   ]
  },
  {
   "cell_type": "code",
   "execution_count": 65,
   "id": "c2fbe008-97c0-4265-83f5-57c8034559b2",
   "metadata": {},
   "outputs": [
    {
     "name": "stdout",
     "output_type": "stream",
     "text": [
      "{1: 'krishna', 2: 'available', 3: 'available', 4: 'available', 5: 'available', 6: 'available', 7: 'available', 8: 'available', 9: 'available', 10: 'available', 11: 'available', 12: None}\n"
     ]
    }
   ],
   "source": [
    "print(f)"
   ]
  },
  {
   "cell_type": "code",
   "execution_count": 83,
   "id": "f2eefbf8-ce44-4bd1-a28d-367751b0d3b2",
   "metadata": {},
   "outputs": [],
   "source": [
    "d={\"krishna\":\"Sunil\",(1,2,3):\"Suman\",10.0:\"Vicky\",10.99:\"Nicky\",frozenset({1,2}):\"Movies\"}"
   ]
  },
  {
   "cell_type": "code",
   "execution_count": 84,
   "id": "0f231609-2c32-4943-bf7c-f2b9fbfb2fbe",
   "metadata": {},
   "outputs": [
    {
     "name": "stdout",
     "output_type": "stream",
     "text": [
      "{'krishna': 'Sunil', (1, 2, 3): 'Suman', 10.0: 'Vicky', 10.99: 'Nicky', frozenset({1, 2}): 'Movies'}\n"
     ]
    }
   ],
   "source": [
    "print(d)"
   ]
  },
  {
   "cell_type": "code",
   "execution_count": 85,
   "id": "39d08050-39ee-4d06-aa10-498d09e631c8",
   "metadata": {},
   "outputs": [
    {
     "data": {
      "text/plain": [
       "dict_keys(['krishna', (1, 2, 3), 10.0, 10.99, frozenset({1, 2})])"
      ]
     },
     "execution_count": 85,
     "metadata": {},
     "output_type": "execute_result"
    }
   ],
   "source": [
    "d.keys()"
   ]
  },
  {
   "cell_type": "code",
   "execution_count": 86,
   "id": "bfdbf023-0c0a-4a9a-a615-719b41c3a02a",
   "metadata": {},
   "outputs": [
    {
     "data": {
      "text/plain": [
       "dict_values(['Sunil', 'Suman', 'Vicky', 'Nicky', 'Movies'])"
      ]
     },
     "execution_count": 86,
     "metadata": {},
     "output_type": "execute_result"
    }
   ],
   "source": [
    "d.values()"
   ]
  },
  {
   "cell_type": "code",
   "execution_count": 87,
   "id": "5e443045-7549-4a19-9d26-239b6eed2fbc",
   "metadata": {},
   "outputs": [
    {
     "data": {
      "text/plain": [
       "'Suman'"
      ]
     },
     "execution_count": 87,
     "metadata": {},
     "output_type": "execute_result"
    }
   ],
   "source": [
    "d[(1,2,3)]"
   ]
  },
  {
   "cell_type": "code",
   "execution_count": 88,
   "id": "a2297e6c-e3d9-4fca-adae-33330f526977",
   "metadata": {},
   "outputs": [
    {
     "ename": "KeyError",
     "evalue": "'Suman'",
     "output_type": "error",
     "traceback": [
      "\u001b[1;31m---------------------------------------------------------------------------\u001b[0m",
      "\u001b[1;31mKeyError\u001b[0m                                  Traceback (most recent call last)",
      "Cell \u001b[1;32mIn[88], line 1\u001b[0m\n\u001b[1;32m----> 1\u001b[0m \u001b[43md\u001b[49m\u001b[43m[\u001b[49m\u001b[38;5;124;43m'\u001b[39;49m\u001b[38;5;124;43mSuman\u001b[39;49m\u001b[38;5;124;43m'\u001b[39;49m\u001b[43m]\u001b[49m\n",
      "\u001b[1;31mKeyError\u001b[0m: 'Suman'"
     ]
    }
   ],
   "source": [
    "d['Suman']"
   ]
  },
  {
   "cell_type": "code",
   "execution_count": 89,
   "id": "aaaf3fd6-ed6b-4657-9623-1d8f0f9461da",
   "metadata": {},
   "outputs": [],
   "source": [
    "a={1:{\"student\":\"Krishna\",\"mother\":\"Suman\",\"father\":\"Sunil\"},\n",
    "  2:{\"student\":\"Vicky\",\"mother\":\"Suman\",\"father\":\"Sunil\"}}"
   ]
  },
  {
   "cell_type": "code",
   "execution_count": 90,
   "id": "ccdecae4-6498-417a-9fb2-b7780b685067",
   "metadata": {},
   "outputs": [
    {
     "data": {
      "text/plain": [
       "{1: {'student': 'Krishna', 'mother': 'Suman', 'father': 'Sunil'},\n",
       " 2: {'student': 'Vicky', 'mother': 'Suman', 'father': 'Sunil'}}"
      ]
     },
     "execution_count": 90,
     "metadata": {},
     "output_type": "execute_result"
    }
   ],
   "source": [
    "a"
   ]
  },
  {
   "cell_type": "code",
   "execution_count": 91,
   "id": "0c266cd1-7fa2-4903-9d7c-64205c10bb2e",
   "metadata": {},
   "outputs": [
    {
     "data": {
      "text/plain": [
       "dict_keys([1, 2])"
      ]
     },
     "execution_count": 91,
     "metadata": {},
     "output_type": "execute_result"
    }
   ],
   "source": [
    "a.keys()"
   ]
  },
  {
   "cell_type": "code",
   "execution_count": 92,
   "id": "2be1a8ec-9edc-4a92-98fa-7047c727ecea",
   "metadata": {},
   "outputs": [
    {
     "data": {
      "text/plain": [
       "dict_values([{'student': 'Krishna', 'mother': 'Suman', 'father': 'Sunil'}, {'student': 'Vicky', 'mother': 'Suman', 'father': 'Sunil'}])"
      ]
     },
     "execution_count": 92,
     "metadata": {},
     "output_type": "execute_result"
    }
   ],
   "source": [
    "a.values()"
   ]
  },
  {
   "cell_type": "code",
   "execution_count": 93,
   "id": "ff2d1689-7958-4618-aaaa-fca52e795870",
   "metadata": {},
   "outputs": [
    {
     "data": {
      "text/plain": [
       "{'student': 'Krishna', 'mother': 'Suman', 'father': 'Sunil'}"
      ]
     },
     "execution_count": 93,
     "metadata": {},
     "output_type": "execute_result"
    }
   ],
   "source": [
    "a[1]"
   ]
  },
  {
   "cell_type": "code",
   "execution_count": 94,
   "id": "c5a46333-ad85-49d9-a1fb-adb7479bd20e",
   "metadata": {},
   "outputs": [
    {
     "data": {
      "text/plain": [
       "'Krishna'"
      ]
     },
     "execution_count": 94,
     "metadata": {},
     "output_type": "execute_result"
    }
   ],
   "source": [
    "a[1]['student']"
   ]
  },
  {
   "cell_type": "code",
   "execution_count": 95,
   "id": "cbfe9717-ab8d-4c1e-a463-e69a94f502b0",
   "metadata": {},
   "outputs": [
    {
     "data": {
      "text/plain": [
       "'Sunil'"
      ]
     },
     "execution_count": 95,
     "metadata": {},
     "output_type": "execute_result"
    }
   ],
   "source": [
    "a[1]['father']"
   ]
  },
  {
   "cell_type": "code",
   "execution_count": 96,
   "id": "614df1a3-c41c-4676-885f-14f612dbf323",
   "metadata": {},
   "outputs": [
    {
     "data": {
      "text/plain": [
       "'Suman'"
      ]
     },
     "execution_count": 96,
     "metadata": {},
     "output_type": "execute_result"
    }
   ],
   "source": [
    "a[1]['mother']"
   ]
  },
  {
   "cell_type": "code",
   "execution_count": 97,
   "id": "51f58c5c-8a8e-4f1d-804d-8ae909166c28",
   "metadata": {},
   "outputs": [
    {
     "data": {
      "text/plain": [
       "{'student': 'Vicky', 'mother': 'Suman', 'father': 'Sunil'}"
      ]
     },
     "execution_count": 97,
     "metadata": {},
     "output_type": "execute_result"
    }
   ],
   "source": [
    "a[2]"
   ]
  },
  {
   "cell_type": "code",
   "execution_count": 98,
   "id": "4045290c-e9b2-4b12-a7cd-394f1135b1cb",
   "metadata": {},
   "outputs": [
    {
     "data": {
      "text/plain": [
       "'Sunil'"
      ]
     },
     "execution_count": 98,
     "metadata": {},
     "output_type": "execute_result"
    }
   ],
   "source": [
    "a[2]['father']"
   ]
  },
  {
   "cell_type": "code",
   "execution_count": 104,
   "id": "4d751ef7-d562-4d19-8389-379fff65eadb",
   "metadata": {},
   "outputs": [],
   "source": [
    "b={1:{\"student\":\"Krishna\",\"mother\":\"Suman\",\"father\":\"Sunil\"},\n",
    "  2:{\"student\":\"Vicky\",\"mother\":\"Suman\",\"father\":\"Sunil\"},\n",
    "  3:{\"Nicky\",\"Sukanya\",\"Raj\"},\n",
    "  4:[\"Mohan\",\"Radha\",\"Krishna\"],\n",
    "  5:(\"Shyam\",\"Lukshmi\",\"Vishnu\"),\n",
    "  6:frozenset([\"abc\",\"beta\",\"alpha\"])}"
   ]
  },
  {
   "cell_type": "code",
   "execution_count": 105,
   "id": "0a67a2e5-6a70-467d-9ef2-acf816f2b156",
   "metadata": {},
   "outputs": [
    {
     "data": {
      "text/plain": [
       "{1: {'student': 'Krishna', 'mother': 'Suman', 'father': 'Sunil'},\n",
       " 2: {'student': 'Vicky', 'mother': 'Suman', 'father': 'Sunil'},\n",
       " 3: {'Nicky', 'Raj', 'Sukanya'},\n",
       " 4: ['Mohan', 'Radha', 'Krishna'],\n",
       " 5: ('Shyam', 'Lukshmi', 'Vishnu'),\n",
       " 6: frozenset({'abc', 'alpha', 'beta'})}"
      ]
     },
     "execution_count": 105,
     "metadata": {},
     "output_type": "execute_result"
    }
   ],
   "source": [
    "b"
   ]
  },
  {
   "cell_type": "code",
   "execution_count": null,
   "id": "4580c3ba-9f15-481d-8620-fd33ae9814df",
   "metadata": {},
   "outputs": [],
   "source": []
  }
 ],
 "metadata": {
  "kernelspec": {
   "display_name": "Python 3 (ipykernel)",
   "language": "python",
   "name": "python3"
  },
  "language_info": {
   "codemirror_mode": {
    "name": "ipython",
    "version": 3
   },
   "file_extension": ".py",
   "mimetype": "text/x-python",
   "name": "python",
   "nbconvert_exporter": "python",
   "pygments_lexer": "ipython3",
   "version": "3.10.9"
  }
 },
 "nbformat": 4,
 "nbformat_minor": 5
}
