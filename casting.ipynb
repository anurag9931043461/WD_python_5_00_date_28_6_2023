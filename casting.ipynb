{
 "cells": [
  {
   "cell_type": "markdown",
   "id": "798b37d8-2bff-4af9-801e-4fc3270dd926",
   "metadata": {},
   "source": [
    "# casting\n",
    "\n",
    "> conversion of one datatype into another datatype."
   ]
  },
  {
   "cell_type": "code",
   "execution_count": 1,
   "id": "4e12a7bd-c613-4b96-a302-63402c0d6a58",
   "metadata": {},
   "outputs": [],
   "source": [
    "# integer to string and float"
   ]
  },
  {
   "cell_type": "code",
   "execution_count": 3,
   "id": "82b58f67-2f54-4d4c-9c5b-c6aef47fabcb",
   "metadata": {},
   "outputs": [
    {
     "name": "stdout",
     "output_type": "stream",
     "text": [
      "<class 'int'> 10\n"
     ]
    }
   ],
   "source": [
    "a=10\n",
    "print(type(a),a)"
   ]
  },
  {
   "cell_type": "code",
   "execution_count": 6,
   "id": "63cfd79e-8098-4818-89ae-58ca456b2eed",
   "metadata": {},
   "outputs": [
    {
     "name": "stdout",
     "output_type": "stream",
     "text": [
      "<class 'float'> 10.0\n"
     ]
    }
   ],
   "source": [
    "b=float(a)\n",
    "print(type(b),b)"
   ]
  },
  {
   "cell_type": "code",
   "execution_count": 7,
   "id": "70f14ba3-7186-44aa-89b9-dd523aceadae",
   "metadata": {},
   "outputs": [
    {
     "name": "stdout",
     "output_type": "stream",
     "text": [
      "10\n"
     ]
    }
   ],
   "source": [
    "print(a)"
   ]
  },
  {
   "cell_type": "code",
   "execution_count": 10,
   "id": "627a4fd8-a4ae-4a5a-b9d2-a732af8966bd",
   "metadata": {},
   "outputs": [
    {
     "data": {
      "text/plain": [
       "'10'"
      ]
     },
     "execution_count": 10,
     "metadata": {},
     "output_type": "execute_result"
    }
   ],
   "source": [
    "c=str(a)\n",
    "c"
   ]
  },
  {
   "cell_type": "code",
   "execution_count": 9,
   "id": "17e2542d-8e78-4d95-a5ff-8f60353a3439",
   "metadata": {},
   "outputs": [
    {
     "name": "stdout",
     "output_type": "stream",
     "text": [
      "10\n"
     ]
    }
   ],
   "source": [
    "print(a)"
   ]
  },
  {
   "cell_type": "code",
   "execution_count": 11,
   "id": "64a280ae-2dbb-4515-91d4-97411287b36c",
   "metadata": {},
   "outputs": [],
   "source": [
    "# float to integer and  string "
   ]
  },
  {
   "cell_type": "code",
   "execution_count": 13,
   "id": "e8d83361-6c12-4c8a-aec9-a76c4433819a",
   "metadata": {},
   "outputs": [
    {
     "name": "stdout",
     "output_type": "stream",
     "text": [
      "<class 'float'> 10.99\n"
     ]
    }
   ],
   "source": [
    "a=10.99\n",
    "print(type(a),a)\n"
   ]
  },
  {
   "cell_type": "code",
   "execution_count": 15,
   "id": "c7aede12-6d19-4ff5-9c56-ee9680c453b7",
   "metadata": {},
   "outputs": [
    {
     "data": {
      "text/plain": [
       "10"
      ]
     },
     "execution_count": 15,
     "metadata": {},
     "output_type": "execute_result"
    }
   ],
   "source": [
    "b=int(a)\n",
    "b"
   ]
  },
  {
   "cell_type": "code",
   "execution_count": 16,
   "id": "8abd3107-e875-4bd2-8828-c5cb2bb3291f",
   "metadata": {},
   "outputs": [
    {
     "name": "stdout",
     "output_type": "stream",
     "text": [
      "10.99\n"
     ]
    }
   ],
   "source": [
    "print(a)"
   ]
  },
  {
   "cell_type": "code",
   "execution_count": 18,
   "id": "1938bd49-d226-47ce-9efd-8035de28c4bd",
   "metadata": {},
   "outputs": [
    {
     "data": {
      "text/plain": [
       "'10.99'"
      ]
     },
     "execution_count": 18,
     "metadata": {},
     "output_type": "execute_result"
    }
   ],
   "source": [
    "c=str(a)\n",
    "c"
   ]
  },
  {
   "cell_type": "code",
   "execution_count": 19,
   "id": "004e0c34-8375-4c8d-8b88-bbf2b81f8004",
   "metadata": {},
   "outputs": [],
   "source": [
    "# string to integer and float"
   ]
  },
  {
   "cell_type": "code",
   "execution_count": 20,
   "id": "3beaa38a-69c0-4a18-8f65-031e0748b11b",
   "metadata": {},
   "outputs": [],
   "source": [
    "a=\"krishna\"  # cannot cast alphabate into int and float"
   ]
  },
  {
   "cell_type": "code",
   "execution_count": 21,
   "id": "5b5adcaa-70e3-4a0f-a229-2b7df08e543e",
   "metadata": {},
   "outputs": [],
   "source": [
    "a=\"10.99\""
   ]
  },
  {
   "cell_type": "code",
   "execution_count": 23,
   "id": "1e3e0897-54c5-453e-970d-cb5d11d36e41",
   "metadata": {},
   "outputs": [
    {
     "name": "stdout",
     "output_type": "stream",
     "text": [
      "<class 'str'> 10.99\n"
     ]
    }
   ],
   "source": [
    "print(type(a),a)"
   ]
  },
  {
   "cell_type": "code",
   "execution_count": 24,
   "id": "34519015-2f9f-4231-8f01-1eeb930eec9b",
   "metadata": {},
   "outputs": [
    {
     "data": {
      "text/plain": [
       "10.99"
      ]
     },
     "execution_count": 24,
     "metadata": {},
     "output_type": "execute_result"
    }
   ],
   "source": [
    "float(a)"
   ]
  },
  {
   "cell_type": "code",
   "execution_count": 25,
   "id": "aed52680-490d-4ec3-b1c7-6f2b8e4f69b5",
   "metadata": {},
   "outputs": [],
   "source": [
    "# 0,1,2,3,4,5,6,7,8,9"
   ]
  },
  {
   "cell_type": "code",
   "execution_count": 26,
   "id": "f1044846-f057-49cf-87b2-546396985853",
   "metadata": {},
   "outputs": [
    {
     "data": {
      "text/plain": [
       "'10.99'"
      ]
     },
     "execution_count": 26,
     "metadata": {},
     "output_type": "execute_result"
    }
   ],
   "source": [
    "a"
   ]
  },
  {
   "cell_type": "code",
   "execution_count": 27,
   "id": "83cace8a-c23b-4693-9d23-80a8ce565bfc",
   "metadata": {},
   "outputs": [
    {
     "ename": "ValueError",
     "evalue": "invalid literal for int() with base 10: '10.99'",
     "output_type": "error",
     "traceback": [
      "\u001b[1;31m---------------------------------------------------------------------------\u001b[0m",
      "\u001b[1;31mValueError\u001b[0m                                Traceback (most recent call last)",
      "Cell \u001b[1;32mIn[27], line 1\u001b[0m\n\u001b[1;32m----> 1\u001b[0m \u001b[38;5;28;43mint\u001b[39;49m\u001b[43m(\u001b[49m\u001b[43ma\u001b[49m\u001b[43m)\u001b[49m\n",
      "\u001b[1;31mValueError\u001b[0m: invalid literal for int() with base 10: '10.99'"
     ]
    }
   ],
   "source": [
    "int(a)"
   ]
  },
  {
   "cell_type": "code",
   "execution_count": 30,
   "id": "a495dc0e-4d10-4b99-b8fd-3b72f1a0af6a",
   "metadata": {},
   "outputs": [],
   "source": [
    "a=int(float(a))"
   ]
  },
  {
   "cell_type": "code",
   "execution_count": 33,
   "id": "ae2de4dd-edf1-4889-8897-23c09f27e87e",
   "metadata": {},
   "outputs": [],
   "source": [
    "z=\"10.\""
   ]
  },
  {
   "cell_type": "code",
   "execution_count": 34,
   "id": "9a4c3d7d-3e5a-46fe-9dd2-32429a9feb79",
   "metadata": {},
   "outputs": [
    {
     "ename": "ValueError",
     "evalue": "invalid literal for int() with base 10: '10.'",
     "output_type": "error",
     "traceback": [
      "\u001b[1;31m---------------------------------------------------------------------------\u001b[0m",
      "\u001b[1;31mValueError\u001b[0m                                Traceback (most recent call last)",
      "Cell \u001b[1;32mIn[34], line 1\u001b[0m\n\u001b[1;32m----> 1\u001b[0m \u001b[38;5;28;43mint\u001b[39;49m\u001b[43m(\u001b[49m\u001b[43mz\u001b[49m\u001b[43m)\u001b[49m\n",
      "\u001b[1;31mValueError\u001b[0m: invalid literal for int() with base 10: '10.'"
     ]
    }
   ],
   "source": [
    "int(z)"
   ]
  },
  {
   "cell_type": "code",
   "execution_count": 35,
   "id": "643453fe-66b1-41ae-a91d-0c66930d4728",
   "metadata": {},
   "outputs": [],
   "source": [
    "# list to tuple, set,frozenset"
   ]
  },
  {
   "cell_type": "code",
   "execution_count": 36,
   "id": "49fa3ca2-c72d-40ca-90bc-fcf336c3b99e",
   "metadata": {},
   "outputs": [],
   "source": [
    "a=[1,2,3,4,5]"
   ]
  },
  {
   "cell_type": "code",
   "execution_count": 37,
   "id": "ffaf73b4-6829-44ba-8d61-da6188c43168",
   "metadata": {},
   "outputs": [
    {
     "data": {
      "text/plain": [
       "(1, 2, 3, 4, 5)"
      ]
     },
     "execution_count": 37,
     "metadata": {},
     "output_type": "execute_result"
    }
   ],
   "source": [
    "tuple(a)"
   ]
  },
  {
   "cell_type": "code",
   "execution_count": 38,
   "id": "d77904ad-b4f8-4af9-ae4d-25485c1ae65e",
   "metadata": {},
   "outputs": [
    {
     "data": {
      "text/plain": [
       "{1, 2, 3, 4, 5}"
      ]
     },
     "execution_count": 38,
     "metadata": {},
     "output_type": "execute_result"
    }
   ],
   "source": [
    "set(a)"
   ]
  },
  {
   "cell_type": "code",
   "execution_count": 39,
   "id": "f441c1e9-f9d3-49c0-b3e4-db0c72f740a7",
   "metadata": {},
   "outputs": [
    {
     "data": {
      "text/plain": [
       "frozenset({1, 2, 3, 4, 5})"
      ]
     },
     "execution_count": 39,
     "metadata": {},
     "output_type": "execute_result"
    }
   ],
   "source": [
    "frozenset(a)"
   ]
  },
  {
   "cell_type": "code",
   "execution_count": 40,
   "id": "38847fe3-7c0d-4237-a6e2-ddb9d00cccb6",
   "metadata": {},
   "outputs": [
    {
     "name": "stdout",
     "output_type": "stream",
     "text": [
      "[1, 2, 3, 4, 5]\n"
     ]
    }
   ],
   "source": [
    "print(a)"
   ]
  },
  {
   "cell_type": "code",
   "execution_count": 41,
   "id": "df5e548a-97c6-4c44-bcfa-f02e20119c8d",
   "metadata": {},
   "outputs": [],
   "source": [
    "a=[1,2,3,4,5,6,7]"
   ]
  },
  {
   "cell_type": "code",
   "execution_count": 42,
   "id": "faab8354-6cba-410e-a6f3-4dd4e952a1cc",
   "metadata": {},
   "outputs": [
    {
     "name": "stdout",
     "output_type": "stream",
     "text": [
      "[1, 2, 3, 4, 5, 6, 7]\n"
     ]
    }
   ],
   "source": [
    "print(a)"
   ]
  },
  {
   "cell_type": "code",
   "execution_count": 44,
   "id": "7d1050b5-946d-4560-a6d8-cb9071c5f162",
   "metadata": {},
   "outputs": [],
   "source": [
    "b=tuple(a)"
   ]
  },
  {
   "cell_type": "code",
   "execution_count": 45,
   "id": "46981dea-62c9-42bf-9210-56eed24ce7de",
   "metadata": {},
   "outputs": [
    {
     "data": {
      "text/plain": [
       "(1, 2, 3, 4, 5, 6, 7)"
      ]
     },
     "execution_count": 45,
     "metadata": {},
     "output_type": "execute_result"
    }
   ],
   "source": [
    "b"
   ]
  },
  {
   "cell_type": "code",
   "execution_count": 47,
   "id": "d3058c56-8f83-4c11-9ec7-bc76fa5b427a",
   "metadata": {},
   "outputs": [],
   "source": [
    "c=list(b)"
   ]
  },
  {
   "cell_type": "code",
   "execution_count": 48,
   "id": "91d010b9-5556-4d22-9ab5-869d0cc99a37",
   "metadata": {},
   "outputs": [],
   "source": [
    "c.append(9)"
   ]
  },
  {
   "cell_type": "code",
   "execution_count": 49,
   "id": "a119ae9c-eb69-435b-a069-51ef01838088",
   "metadata": {},
   "outputs": [
    {
     "name": "stdout",
     "output_type": "stream",
     "text": [
      "[1, 2, 3, 4, 5, 6, 7, 9]\n"
     ]
    }
   ],
   "source": [
    "print(c)"
   ]
  },
  {
   "cell_type": "code",
   "execution_count": 50,
   "id": "45d42d54-da42-460e-a0e1-eccfc4be5144",
   "metadata": {},
   "outputs": [],
   "source": [
    "a=tuple(c)"
   ]
  },
  {
   "cell_type": "code",
   "execution_count": 51,
   "id": "bc5e9e4e-bef9-4178-8c3e-e4608a596385",
   "metadata": {},
   "outputs": [
    {
     "name": "stdout",
     "output_type": "stream",
     "text": [
      "(1, 2, 3, 4, 5, 6, 7, 9)\n"
     ]
    }
   ],
   "source": [
    "print(a)"
   ]
  },
  {
   "cell_type": "code",
   "execution_count": 53,
   "id": "019a510e-1a4e-4955-b7e1-8d77b86b0650",
   "metadata": {},
   "outputs": [],
   "source": [
    "a=(\"krishna\",\"krishna\",\"mohan\",\"Shyam\")"
   ]
  },
  {
   "cell_type": "code",
   "execution_count": 55,
   "id": "d7277fcb-9211-4948-85fe-c04687256a0e",
   "metadata": {},
   "outputs": [],
   "source": [
    "b=list(a)"
   ]
  },
  {
   "cell_type": "code",
   "execution_count": 56,
   "id": "724ff9bd-ac46-4325-a484-fc6a5a3b4cc6",
   "metadata": {},
   "outputs": [],
   "source": [
    "b.append(\"mohan\")"
   ]
  },
  {
   "cell_type": "code",
   "execution_count": 57,
   "id": "caf5d547-972d-4fe1-b240-cc614c156b14",
   "metadata": {},
   "outputs": [
    {
     "name": "stdout",
     "output_type": "stream",
     "text": [
      "['krishna', 'krishna', 'mohan', 'Shyam', 'mohan']\n"
     ]
    }
   ],
   "source": [
    "print(b)"
   ]
  },
  {
   "cell_type": "code",
   "execution_count": 58,
   "id": "7814fb64-c3f9-4339-83ae-8c46a9760e99",
   "metadata": {},
   "outputs": [],
   "source": [
    "a=tuple(b)"
   ]
  },
  {
   "cell_type": "code",
   "execution_count": 59,
   "id": "dcbb7af5-8071-46d5-b144-713b09890b2d",
   "metadata": {},
   "outputs": [
    {
     "name": "stdout",
     "output_type": "stream",
     "text": [
      "('krishna', 'krishna', 'mohan', 'Shyam', 'mohan')\n"
     ]
    }
   ],
   "source": [
    "print(a)"
   ]
  },
  {
   "cell_type": "code",
   "execution_count": null,
   "id": "0f133d37-a887-4da9-b7c1-67cfbe8180cb",
   "metadata": {},
   "outputs": [],
   "source": []
  }
 ],
 "metadata": {
  "kernelspec": {
   "display_name": "Python 3 (ipykernel)",
   "language": "python",
   "name": "python3"
  },
  "language_info": {
   "codemirror_mode": {
    "name": "ipython",
    "version": 3
   },
   "file_extension": ".py",
   "mimetype": "text/x-python",
   "name": "python",
   "nbconvert_exporter": "python",
   "pygments_lexer": "ipython3",
   "version": "3.11.4"
  }
 },
 "nbformat": 4,
 "nbformat_minor": 5
}
