{
 "cells": [
  {
   "cell_type": "code",
   "execution_count": 1,
   "id": "8c443b7c-e7f8-477c-998c-933e6d58a237",
   "metadata": {},
   "outputs": [
    {
     "name": "stdout",
     "output_type": "stream",
     "text": [
      "hello world\n"
     ]
    }
   ],
   "source": [
    "print(\"hello world\")"
   ]
  },
  {
   "cell_type": "markdown",
   "id": "7b7b18c5-1eea-4c2e-90bc-ecdfd454c419",
   "metadata": {},
   "source": [
    "x: is used to create a file\n",
    "\n",
    "r: is used to read a file content\n",
    "\n",
    "w: is used to write something on a file\n",
    "\n",
    "a: is used to add somthing on a file without removing previous content\n"
   ]
  },
  {
   "cell_type": "code",
   "execution_count": 13,
   "id": "1502ddb9-7206-4b41-bf48-35b1dc603071",
   "metadata": {},
   "outputs": [],
   "source": [
    "f1=open(\"xyz.txt\",'x')\n",
    "f1.close()"
   ]
  },
  {
   "cell_type": "code",
   "execution_count": 2,
   "id": "ffa09f9a-bcc4-4b88-a47e-29b841fa5416",
   "metadata": {},
   "outputs": [],
   "source": [
    "f2=open(\"xyz.txt\",'r')"
   ]
  },
  {
   "cell_type": "code",
   "execution_count": 3,
   "id": "035a7e41-7f8c-46dd-8730-a222a8d20cb3",
   "metadata": {},
   "outputs": [
    {
     "data": {
      "text/plain": [
       "'this is kr'"
      ]
     },
     "execution_count": 3,
     "metadata": {},
     "output_type": "execute_result"
    }
   ],
   "source": [
    "f2.read(10)"
   ]
  },
  {
   "cell_type": "code",
   "execution_count": 4,
   "id": "34b7408e-a3bc-4542-bf42-9cc844c7eb5f",
   "metadata": {},
   "outputs": [
    {
     "data": {
      "text/plain": [
       "'ishna'"
      ]
     },
     "execution_count": 4,
     "metadata": {},
     "output_type": "execute_result"
    }
   ],
   "source": [
    "f2.read(20)"
   ]
  },
  {
   "cell_type": "code",
   "execution_count": 5,
   "id": "d7c38c07-9884-4704-ab78-12c4c7df7b20",
   "metadata": {},
   "outputs": [
    {
     "data": {
      "text/plain": [
       "''"
      ]
     },
     "execution_count": 5,
     "metadata": {},
     "output_type": "execute_result"
    }
   ],
   "source": [
    "f2.read(10)"
   ]
  },
  {
   "cell_type": "code",
   "execution_count": 6,
   "id": "30e3883e-0a55-40fa-94e8-fa80e602527c",
   "metadata": {},
   "outputs": [
    {
     "data": {
      "text/plain": [
       "0"
      ]
     },
     "execution_count": 6,
     "metadata": {},
     "output_type": "execute_result"
    }
   ],
   "source": [
    "f2.seek(0)"
   ]
  },
  {
   "cell_type": "code",
   "execution_count": 7,
   "id": "0f79dc00-11d4-4be9-ab51-140ccdfe25bc",
   "metadata": {},
   "outputs": [
    {
     "data": {
      "text/plain": [
       "'this is krishna'"
      ]
     },
     "execution_count": 7,
     "metadata": {},
     "output_type": "execute_result"
    }
   ],
   "source": [
    "f2.readline()"
   ]
  },
  {
   "cell_type": "code",
   "execution_count": 8,
   "id": "40d8504e-1197-42f9-8a72-883bfe375211",
   "metadata": {},
   "outputs": [
    {
     "name": "stdout",
     "output_type": "stream",
     "text": [
      "\n"
     ]
    }
   ],
   "source": [
    "print(f2.readline())"
   ]
  },
  {
   "cell_type": "code",
   "execution_count": 9,
   "id": "17ad227c-7ff1-4794-8d1b-666ebbf46640",
   "metadata": {},
   "outputs": [
    {
     "name": "stdout",
     "output_type": "stream",
     "text": [
      "\n"
     ]
    }
   ],
   "source": [
    "print(f2.readline())"
   ]
  },
  {
   "cell_type": "code",
   "execution_count": 10,
   "id": "3911fcec-7326-4fec-a649-0c38d80bd975",
   "metadata": {},
   "outputs": [
    {
     "data": {
      "text/plain": [
       "''"
      ]
     },
     "execution_count": 10,
     "metadata": {},
     "output_type": "execute_result"
    }
   ],
   "source": [
    "f2.readline()"
   ]
  },
  {
   "cell_type": "code",
   "execution_count": 11,
   "id": "b2534336-e721-4ee2-956c-416a5ae42cfa",
   "metadata": {},
   "outputs": [],
   "source": [
    "f2.close()"
   ]
  },
  {
   "cell_type": "code",
   "execution_count": 15,
   "id": "474caee1-0b82-4fed-aa39-5c1d4ad36835",
   "metadata": {},
   "outputs": [],
   "source": [
    "f3=open(\"xyz.txt\",\"w\")"
   ]
  },
  {
   "cell_type": "code",
   "execution_count": 16,
   "id": "b0874382-9b13-4762-8295-d7ee04741ace",
   "metadata": {},
   "outputs": [],
   "source": [
    "f3.writelines(\"This is krishna\")"
   ]
  },
  {
   "cell_type": "code",
   "execution_count": 17,
   "id": "eca7629f-0d19-4f1c-9aef-7ff4c1dc84d1",
   "metadata": {},
   "outputs": [],
   "source": [
    "f3.close()"
   ]
  },
  {
   "cell_type": "code",
   "execution_count": 18,
   "id": "46ed110c-6f66-43b6-bd00-c58d82fdb2ea",
   "metadata": {},
   "outputs": [],
   "source": [
    "f4=open(\"xyz.txt\",\"a\")"
   ]
  },
  {
   "cell_type": "code",
   "execution_count": 19,
   "id": "22f00721-99d8-4b02-80be-ef445e945ed9",
   "metadata": {},
   "outputs": [
    {
     "data": {
      "text/plain": [
       "15"
      ]
     },
     "execution_count": 19,
     "metadata": {},
     "output_type": "execute_result"
    }
   ],
   "source": [
    "f4.write(\"This is krishna\")"
   ]
  },
  {
   "cell_type": "code",
   "execution_count": 20,
   "id": "2832984c-424a-4ab2-a896-069dad0c7cd6",
   "metadata": {},
   "outputs": [],
   "source": [
    "f4.close()"
   ]
  },
  {
   "cell_type": "code",
   "execution_count": 21,
   "id": "984e1a4c-4169-45cf-822c-8d56c72218ee",
   "metadata": {},
   "outputs": [],
   "source": [
    "f5=open(\"xyz.txt\",\"a\")"
   ]
  },
  {
   "cell_type": "code",
   "execution_count": 22,
   "id": "b5d3d05c-0a19-4886-90c0-9da59a6f0e65",
   "metadata": {},
   "outputs": [
    {
     "data": {
      "text/plain": [
       "22"
      ]
     },
     "execution_count": 22,
     "metadata": {},
     "output_type": "execute_result"
    }
   ],
   "source": [
    "f5.write(\"\\n this is python class\")"
   ]
  },
  {
   "cell_type": "code",
   "execution_count": 23,
   "id": "dd1a41f7-a948-4e55-a91b-0b82008af73a",
   "metadata": {},
   "outputs": [],
   "source": [
    "f5.close()"
   ]
  },
  {
   "cell_type": "code",
   "execution_count": 5,
   "id": "c7d47b39-ef61-4c84-95a1-aa9c38834aa5",
   "metadata": {},
   "outputs": [],
   "source": [
    "f5=open(\"xyz.txt\",\"a\")"
   ]
  },
  {
   "cell_type": "code",
   "execution_count": 6,
   "id": "4bd08793-1ef1-4180-a9d7-eb86cb9d1f93",
   "metadata": {},
   "outputs": [
    {
     "data": {
      "text/plain": [
       "10"
      ]
     },
     "execution_count": 6,
     "metadata": {},
     "output_type": "execute_result"
    }
   ],
   "source": [
    "f5.truncate(10)"
   ]
  },
  {
   "cell_type": "code",
   "execution_count": 7,
   "id": "6ab98dcc-691d-45cf-99d8-73bedaa48c5f",
   "metadata": {},
   "outputs": [],
   "source": [
    "f5.close()"
   ]
  },
  {
   "cell_type": "code",
   "execution_count": 12,
   "id": "6174a56f-5786-4523-9e6c-cc21ea556b23",
   "metadata": {},
   "outputs": [
    {
     "name": "stdout",
     "output_type": "stream",
     "text": [
      "Th npt cnsst f  strng\n"
     ]
    }
   ],
   "source": [
    "cont=\"\"\n",
    "for i in \"The input consiste of a string\":\n",
    "    if i not in list(\"AEIOUaeiou\"):\n",
    "       cont=cont+i\n",
    "print(cont)"
   ]
  },
  {
   "cell_type": "code",
   "execution_count": 11,
   "id": "7d08e0af-955d-4d6f-a357-75aea152eb28",
   "metadata": {},
   "outputs": [
    {
     "data": {
      "text/plain": [
       "['A', 'E', 'I', 'O', 'U', 'a', 'e', 'i', 'o', 'u']"
      ]
     },
     "execution_count": 11,
     "metadata": {},
     "output_type": "execute_result"
    }
   ],
   "source": [
    "list(\"AEIOUaeiou\")"
   ]
  },
  {
   "cell_type": "code",
   "execution_count": null,
   "id": "1dc28f21-7261-4b30-895e-c07a69621a8d",
   "metadata": {},
   "outputs": [],
   "source": []
  }
 ],
 "metadata": {
  "kernelspec": {
   "display_name": "Python 3 (ipykernel)",
   "language": "python",
   "name": "python3"
  },
  "language_info": {
   "codemirror_mode": {
    "name": "ipython",
    "version": 3
   },
   "file_extension": ".py",
   "mimetype": "text/x-python",
   "name": "python",
   "nbconvert_exporter": "python",
   "pygments_lexer": "ipython3",
   "version": "3.11.5"
  }
 },
 "nbformat": 4,
 "nbformat_minor": 5
}
